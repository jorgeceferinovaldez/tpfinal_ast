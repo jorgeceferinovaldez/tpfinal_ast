{
 "cells": [
  {
   "cell_type": "code",
   "execution_count": 1,
   "id": "16496135",
   "metadata": {},
   "outputs": [],
   "source": [
    "import pandas as pd\n",
    "import numpy as np"
   ]
  },
  {
   "cell_type": "code",
   "execution_count": 2,
   "id": "afb04d1e",
   "metadata": {},
   "outputs": [],
   "source": [
    "#Cargar los datos\n",
    "df = pd.read_csv('data/precios-eess-2024.csv')"
   ]
  },
  {
   "cell_type": "code",
   "execution_count": 3,
   "id": "a16487cc",
   "metadata": {},
   "outputs": [],
   "source": [
    "# Crear la columna 'fecha' combinando 'anio' y 'mes' como una cadena\n",
    "df['fecha'] = pd.to_datetime(df['anio'].astype(str) + '-' + df['mes'].astype(str) + '-01')\n"
   ]
  },
  {
   "cell_type": "code",
   "execution_count": 4,
   "id": "a09b057e",
   "metadata": {},
   "outputs": [
    {
     "data": {
      "text/html": [
       "<div>\n",
       "<style scoped>\n",
       "    .dataframe tbody tr th:only-of-type {\n",
       "        vertical-align: middle;\n",
       "    }\n",
       "\n",
       "    .dataframe tbody tr th {\n",
       "        vertical-align: top;\n",
       "    }\n",
       "\n",
       "    .dataframe thead th {\n",
       "        text-align: right;\n",
       "    }\n",
       "</style>\n",
       "<table border=\"1\" class=\"dataframe\">\n",
       "  <thead>\n",
       "    <tr style=\"text-align: right;\">\n",
       "      <th></th>\n",
       "      <th>anio</th>\n",
       "      <th>mes</th>\n",
       "      <th>operador</th>\n",
       "      <th>nro_inscripcion</th>\n",
       "      <th>bandera</th>\n",
       "      <th>fecha_de_baja</th>\n",
       "      <th>cuit</th>\n",
       "      <th>tipo_negocio</th>\n",
       "      <th>direccion</th>\n",
       "      <th>localidad</th>\n",
       "      <th>provincia</th>\n",
       "      <th>producto</th>\n",
       "      <th>canal_de_comercializacion</th>\n",
       "      <th>precio_sin_impuestos</th>\n",
       "      <th>precio_con_impuestos</th>\n",
       "      <th>volumen</th>\n",
       "      <th>precio_surtidor</th>\n",
       "      <th>no_novimientos</th>\n",
       "      <th>exentos</th>\n",
       "      <th>fecha</th>\n",
       "    </tr>\n",
       "  </thead>\n",
       "  <tbody>\n",
       "    <tr>\n",
       "      <th>0</th>\n",
       "      <td>2024</td>\n",
       "      <td>1</td>\n",
       "      <td>10 DE SETIEMBRE S.A.</td>\n",
       "      <td>1376</td>\n",
       "      <td>PUMA</td>\n",
       "      <td>NaN</td>\n",
       "      <td>33-64337382-9</td>\n",
       "      <td>Bocas de expendio (venta por menor) Duales (lí...</td>\n",
       "      <td>Av. Mosconi 299</td>\n",
       "      <td>LOMAS DEL MIRADOR</td>\n",
       "      <td>BUENOS AIRES</td>\n",
       "      <td>Nafta (súper) entre 92 y 95 Ron</td>\n",
       "      <td>Al público</td>\n",
       "      <td>609.967</td>\n",
       "      <td>762.401</td>\n",
       "      <td>10.52</td>\n",
       "      <td>803.9</td>\n",
       "      <td>NO</td>\n",
       "      <td>f</td>\n",
       "      <td>2024-01-01</td>\n",
       "    </tr>\n",
       "    <tr>\n",
       "      <th>1</th>\n",
       "      <td>2024</td>\n",
       "      <td>1</td>\n",
       "      <td>10 DE SETIEMBRE S.A.</td>\n",
       "      <td>1376</td>\n",
       "      <td>PUMA</td>\n",
       "      <td>NaN</td>\n",
       "      <td>33-64337382-9</td>\n",
       "      <td>Bocas de expendio (venta por menor) Duales (lí...</td>\n",
       "      <td>Av. Mosconi 299</td>\n",
       "      <td>LOMAS DEL MIRADOR</td>\n",
       "      <td>BUENOS AIRES</td>\n",
       "      <td>Nafta (premium) de más de 95 Ron</td>\n",
       "      <td>Al público</td>\n",
       "      <td>771.619</td>\n",
       "      <td>958.000</td>\n",
       "      <td>2.00</td>\n",
       "      <td>958.0</td>\n",
       "      <td>NO</td>\n",
       "      <td>f</td>\n",
       "      <td>2024-01-01</td>\n",
       "    </tr>\n",
       "    <tr>\n",
       "      <th>2</th>\n",
       "      <td>2024</td>\n",
       "      <td>1</td>\n",
       "      <td>10 DE SETIEMBRE S.A.</td>\n",
       "      <td>1376</td>\n",
       "      <td>PUMA</td>\n",
       "      <td>NaN</td>\n",
       "      <td>33-64337382-9</td>\n",
       "      <td>Bocas de expendio (venta por menor) Duales (lí...</td>\n",
       "      <td>Av. Mosconi 299</td>\n",
       "      <td>LOMAS DEL MIRADOR</td>\n",
       "      <td>BUENOS AIRES</td>\n",
       "      <td>Gas Oil Grado 2</td>\n",
       "      <td>Al público</td>\n",
       "      <td>667.542</td>\n",
       "      <td>824.199</td>\n",
       "      <td>5.66</td>\n",
       "      <td>891.0</td>\n",
       "      <td>NO</td>\n",
       "      <td>f</td>\n",
       "      <td>2024-01-01</td>\n",
       "    </tr>\n",
       "    <tr>\n",
       "      <th>3</th>\n",
       "      <td>2024</td>\n",
       "      <td>1</td>\n",
       "      <td>10 DE SETIEMBRE S.A.</td>\n",
       "      <td>1376</td>\n",
       "      <td>PUMA</td>\n",
       "      <td>NaN</td>\n",
       "      <td>33-64337382-9</td>\n",
       "      <td>Bocas de expendio (venta por menor) Duales (lí...</td>\n",
       "      <td>Av. Mosconi 299</td>\n",
       "      <td>LOMAS DEL MIRADOR</td>\n",
       "      <td>BUENOS AIRES</td>\n",
       "      <td>Gas Oil Grado 3</td>\n",
       "      <td>Al público</td>\n",
       "      <td>787.014</td>\n",
       "      <td>969.297</td>\n",
       "      <td>3.93</td>\n",
       "      <td>980.9</td>\n",
       "      <td>NO</td>\n",
       "      <td>f</td>\n",
       "      <td>2024-01-01</td>\n",
       "    </tr>\n",
       "    <tr>\n",
       "      <th>4</th>\n",
       "      <td>2024</td>\n",
       "      <td>1</td>\n",
       "      <td>10 DE SETIEMBRE S.A.</td>\n",
       "      <td>1376</td>\n",
       "      <td>PUMA</td>\n",
       "      <td>NaN</td>\n",
       "      <td>33-64337382-9</td>\n",
       "      <td>Bocas de expendio (venta por menor) Duales (lí...</td>\n",
       "      <td>Av. Mosconi 299</td>\n",
       "      <td>LOMAS DEL MIRADOR</td>\n",
       "      <td>BUENOS AIRES</td>\n",
       "      <td>GNC</td>\n",
       "      <td>Al público</td>\n",
       "      <td>196.726</td>\n",
       "      <td>239.008</td>\n",
       "      <td>30403.60</td>\n",
       "      <td>249.9</td>\n",
       "      <td>NO</td>\n",
       "      <td>f</td>\n",
       "      <td>2024-01-01</td>\n",
       "    </tr>\n",
       "  </tbody>\n",
       "</table>\n",
       "</div>"
      ],
      "text/plain": [
       "   anio  mes              operador  nro_inscripcion bandera fecha_de_baja  \\\n",
       "0  2024    1  10 DE SETIEMBRE S.A.             1376    PUMA           NaN   \n",
       "1  2024    1  10 DE SETIEMBRE S.A.             1376    PUMA           NaN   \n",
       "2  2024    1  10 DE SETIEMBRE S.A.             1376    PUMA           NaN   \n",
       "3  2024    1  10 DE SETIEMBRE S.A.             1376    PUMA           NaN   \n",
       "4  2024    1  10 DE SETIEMBRE S.A.             1376    PUMA           NaN   \n",
       "\n",
       "            cuit                                       tipo_negocio  \\\n",
       "0  33-64337382-9  Bocas de expendio (venta por menor) Duales (lí...   \n",
       "1  33-64337382-9  Bocas de expendio (venta por menor) Duales (lí...   \n",
       "2  33-64337382-9  Bocas de expendio (venta por menor) Duales (lí...   \n",
       "3  33-64337382-9  Bocas de expendio (venta por menor) Duales (lí...   \n",
       "4  33-64337382-9  Bocas de expendio (venta por menor) Duales (lí...   \n",
       "\n",
       "         direccion          localidad     provincia  \\\n",
       "0  Av. Mosconi 299  LOMAS DEL MIRADOR  BUENOS AIRES   \n",
       "1  Av. Mosconi 299  LOMAS DEL MIRADOR  BUENOS AIRES   \n",
       "2  Av. Mosconi 299  LOMAS DEL MIRADOR  BUENOS AIRES   \n",
       "3  Av. Mosconi 299  LOMAS DEL MIRADOR  BUENOS AIRES   \n",
       "4  Av. Mosconi 299  LOMAS DEL MIRADOR  BUENOS AIRES   \n",
       "\n",
       "                           producto canal_de_comercializacion  \\\n",
       "0   Nafta (súper) entre 92 y 95 Ron                Al público   \n",
       "1  Nafta (premium) de más de 95 Ron                Al público   \n",
       "2                   Gas Oil Grado 2                Al público   \n",
       "3                   Gas Oil Grado 3                Al público   \n",
       "4                               GNC                Al público   \n",
       "\n",
       "   precio_sin_impuestos  precio_con_impuestos   volumen  precio_surtidor  \\\n",
       "0               609.967               762.401     10.52            803.9   \n",
       "1               771.619               958.000      2.00            958.0   \n",
       "2               667.542               824.199      5.66            891.0   \n",
       "3               787.014               969.297      3.93            980.9   \n",
       "4               196.726               239.008  30403.60            249.9   \n",
       "\n",
       "  no_novimientos exentos      fecha  \n",
       "0             NO       f 2024-01-01  \n",
       "1             NO       f 2024-01-01  \n",
       "2             NO       f 2024-01-01  \n",
       "3             NO       f 2024-01-01  \n",
       "4             NO       f 2024-01-01  "
      ]
     },
     "execution_count": 4,
     "metadata": {},
     "output_type": "execute_result"
    }
   ],
   "source": [
    "df.head()"
   ]
  },
  {
   "cell_type": "code",
   "execution_count": 5,
   "id": "0624f065",
   "metadata": {},
   "outputs": [],
   "source": [
    "# Establecer la columna 'fecha' como índice\n",
    "df.set_index('fecha', inplace=True)"
   ]
  },
  {
   "cell_type": "code",
   "execution_count": 6,
   "id": "f8103871",
   "metadata": {},
   "outputs": [
    {
     "data": {
      "text/html": [
       "<div>\n",
       "<style scoped>\n",
       "    .dataframe tbody tr th:only-of-type {\n",
       "        vertical-align: middle;\n",
       "    }\n",
       "\n",
       "    .dataframe tbody tr th {\n",
       "        vertical-align: top;\n",
       "    }\n",
       "\n",
       "    .dataframe thead th {\n",
       "        text-align: right;\n",
       "    }\n",
       "</style>\n",
       "<table border=\"1\" class=\"dataframe\">\n",
       "  <thead>\n",
       "    <tr style=\"text-align: right;\">\n",
       "      <th></th>\n",
       "      <th>anio</th>\n",
       "      <th>mes</th>\n",
       "      <th>operador</th>\n",
       "      <th>nro_inscripcion</th>\n",
       "      <th>bandera</th>\n",
       "      <th>fecha_de_baja</th>\n",
       "      <th>cuit</th>\n",
       "      <th>tipo_negocio</th>\n",
       "      <th>direccion</th>\n",
       "      <th>localidad</th>\n",
       "      <th>provincia</th>\n",
       "      <th>producto</th>\n",
       "      <th>canal_de_comercializacion</th>\n",
       "      <th>precio_sin_impuestos</th>\n",
       "      <th>precio_con_impuestos</th>\n",
       "      <th>volumen</th>\n",
       "      <th>precio_surtidor</th>\n",
       "      <th>no_novimientos</th>\n",
       "      <th>exentos</th>\n",
       "    </tr>\n",
       "    <tr>\n",
       "      <th>fecha</th>\n",
       "      <th></th>\n",
       "      <th></th>\n",
       "      <th></th>\n",
       "      <th></th>\n",
       "      <th></th>\n",
       "      <th></th>\n",
       "      <th></th>\n",
       "      <th></th>\n",
       "      <th></th>\n",
       "      <th></th>\n",
       "      <th></th>\n",
       "      <th></th>\n",
       "      <th></th>\n",
       "      <th></th>\n",
       "      <th></th>\n",
       "      <th></th>\n",
       "      <th></th>\n",
       "      <th></th>\n",
       "      <th></th>\n",
       "    </tr>\n",
       "  </thead>\n",
       "  <tbody>\n",
       "    <tr>\n",
       "      <th>2024-01-01</th>\n",
       "      <td>2024</td>\n",
       "      <td>1</td>\n",
       "      <td>10 DE SETIEMBRE S.A.</td>\n",
       "      <td>1376</td>\n",
       "      <td>PUMA</td>\n",
       "      <td>NaN</td>\n",
       "      <td>33-64337382-9</td>\n",
       "      <td>Bocas de expendio (venta por menor) Duales (lí...</td>\n",
       "      <td>Av. Mosconi 299</td>\n",
       "      <td>LOMAS DEL MIRADOR</td>\n",
       "      <td>BUENOS AIRES</td>\n",
       "      <td>Nafta (súper) entre 92 y 95 Ron</td>\n",
       "      <td>Al público</td>\n",
       "      <td>609.967</td>\n",
       "      <td>762.401</td>\n",
       "      <td>10.52</td>\n",
       "      <td>803.9</td>\n",
       "      <td>NO</td>\n",
       "      <td>f</td>\n",
       "    </tr>\n",
       "    <tr>\n",
       "      <th>2024-01-01</th>\n",
       "      <td>2024</td>\n",
       "      <td>1</td>\n",
       "      <td>10 DE SETIEMBRE S.A.</td>\n",
       "      <td>1376</td>\n",
       "      <td>PUMA</td>\n",
       "      <td>NaN</td>\n",
       "      <td>33-64337382-9</td>\n",
       "      <td>Bocas de expendio (venta por menor) Duales (lí...</td>\n",
       "      <td>Av. Mosconi 299</td>\n",
       "      <td>LOMAS DEL MIRADOR</td>\n",
       "      <td>BUENOS AIRES</td>\n",
       "      <td>Nafta (premium) de más de 95 Ron</td>\n",
       "      <td>Al público</td>\n",
       "      <td>771.619</td>\n",
       "      <td>958.000</td>\n",
       "      <td>2.00</td>\n",
       "      <td>958.0</td>\n",
       "      <td>NO</td>\n",
       "      <td>f</td>\n",
       "    </tr>\n",
       "    <tr>\n",
       "      <th>2024-01-01</th>\n",
       "      <td>2024</td>\n",
       "      <td>1</td>\n",
       "      <td>10 DE SETIEMBRE S.A.</td>\n",
       "      <td>1376</td>\n",
       "      <td>PUMA</td>\n",
       "      <td>NaN</td>\n",
       "      <td>33-64337382-9</td>\n",
       "      <td>Bocas de expendio (venta por menor) Duales (lí...</td>\n",
       "      <td>Av. Mosconi 299</td>\n",
       "      <td>LOMAS DEL MIRADOR</td>\n",
       "      <td>BUENOS AIRES</td>\n",
       "      <td>Gas Oil Grado 2</td>\n",
       "      <td>Al público</td>\n",
       "      <td>667.542</td>\n",
       "      <td>824.199</td>\n",
       "      <td>5.66</td>\n",
       "      <td>891.0</td>\n",
       "      <td>NO</td>\n",
       "      <td>f</td>\n",
       "    </tr>\n",
       "    <tr>\n",
       "      <th>2024-01-01</th>\n",
       "      <td>2024</td>\n",
       "      <td>1</td>\n",
       "      <td>10 DE SETIEMBRE S.A.</td>\n",
       "      <td>1376</td>\n",
       "      <td>PUMA</td>\n",
       "      <td>NaN</td>\n",
       "      <td>33-64337382-9</td>\n",
       "      <td>Bocas de expendio (venta por menor) Duales (lí...</td>\n",
       "      <td>Av. Mosconi 299</td>\n",
       "      <td>LOMAS DEL MIRADOR</td>\n",
       "      <td>BUENOS AIRES</td>\n",
       "      <td>Gas Oil Grado 3</td>\n",
       "      <td>Al público</td>\n",
       "      <td>787.014</td>\n",
       "      <td>969.297</td>\n",
       "      <td>3.93</td>\n",
       "      <td>980.9</td>\n",
       "      <td>NO</td>\n",
       "      <td>f</td>\n",
       "    </tr>\n",
       "    <tr>\n",
       "      <th>2024-01-01</th>\n",
       "      <td>2024</td>\n",
       "      <td>1</td>\n",
       "      <td>10 DE SETIEMBRE S.A.</td>\n",
       "      <td>1376</td>\n",
       "      <td>PUMA</td>\n",
       "      <td>NaN</td>\n",
       "      <td>33-64337382-9</td>\n",
       "      <td>Bocas de expendio (venta por menor) Duales (lí...</td>\n",
       "      <td>Av. Mosconi 299</td>\n",
       "      <td>LOMAS DEL MIRADOR</td>\n",
       "      <td>BUENOS AIRES</td>\n",
       "      <td>GNC</td>\n",
       "      <td>Al público</td>\n",
       "      <td>196.726</td>\n",
       "      <td>239.008</td>\n",
       "      <td>30403.60</td>\n",
       "      <td>249.9</td>\n",
       "      <td>NO</td>\n",
       "      <td>f</td>\n",
       "    </tr>\n",
       "  </tbody>\n",
       "</table>\n",
       "</div>"
      ],
      "text/plain": [
       "            anio  mes              operador  nro_inscripcion bandera  \\\n",
       "fecha                                                                  \n",
       "2024-01-01  2024    1  10 DE SETIEMBRE S.A.             1376    PUMA   \n",
       "2024-01-01  2024    1  10 DE SETIEMBRE S.A.             1376    PUMA   \n",
       "2024-01-01  2024    1  10 DE SETIEMBRE S.A.             1376    PUMA   \n",
       "2024-01-01  2024    1  10 DE SETIEMBRE S.A.             1376    PUMA   \n",
       "2024-01-01  2024    1  10 DE SETIEMBRE S.A.             1376    PUMA   \n",
       "\n",
       "           fecha_de_baja           cuit  \\\n",
       "fecha                                     \n",
       "2024-01-01           NaN  33-64337382-9   \n",
       "2024-01-01           NaN  33-64337382-9   \n",
       "2024-01-01           NaN  33-64337382-9   \n",
       "2024-01-01           NaN  33-64337382-9   \n",
       "2024-01-01           NaN  33-64337382-9   \n",
       "\n",
       "                                                 tipo_negocio  \\\n",
       "fecha                                                           \n",
       "2024-01-01  Bocas de expendio (venta por menor) Duales (lí...   \n",
       "2024-01-01  Bocas de expendio (venta por menor) Duales (lí...   \n",
       "2024-01-01  Bocas de expendio (venta por menor) Duales (lí...   \n",
       "2024-01-01  Bocas de expendio (venta por menor) Duales (lí...   \n",
       "2024-01-01  Bocas de expendio (venta por menor) Duales (lí...   \n",
       "\n",
       "                  direccion          localidad     provincia  \\\n",
       "fecha                                                          \n",
       "2024-01-01  Av. Mosconi 299  LOMAS DEL MIRADOR  BUENOS AIRES   \n",
       "2024-01-01  Av. Mosconi 299  LOMAS DEL MIRADOR  BUENOS AIRES   \n",
       "2024-01-01  Av. Mosconi 299  LOMAS DEL MIRADOR  BUENOS AIRES   \n",
       "2024-01-01  Av. Mosconi 299  LOMAS DEL MIRADOR  BUENOS AIRES   \n",
       "2024-01-01  Av. Mosconi 299  LOMAS DEL MIRADOR  BUENOS AIRES   \n",
       "\n",
       "                                    producto canal_de_comercializacion  \\\n",
       "fecha                                                                    \n",
       "2024-01-01   Nafta (súper) entre 92 y 95 Ron                Al público   \n",
       "2024-01-01  Nafta (premium) de más de 95 Ron                Al público   \n",
       "2024-01-01                   Gas Oil Grado 2                Al público   \n",
       "2024-01-01                   Gas Oil Grado 3                Al público   \n",
       "2024-01-01                               GNC                Al público   \n",
       "\n",
       "            precio_sin_impuestos  precio_con_impuestos   volumen  \\\n",
       "fecha                                                              \n",
       "2024-01-01               609.967               762.401     10.52   \n",
       "2024-01-01               771.619               958.000      2.00   \n",
       "2024-01-01               667.542               824.199      5.66   \n",
       "2024-01-01               787.014               969.297      3.93   \n",
       "2024-01-01               196.726               239.008  30403.60   \n",
       "\n",
       "            precio_surtidor no_novimientos exentos  \n",
       "fecha                                               \n",
       "2024-01-01            803.9             NO       f  \n",
       "2024-01-01            958.0             NO       f  \n",
       "2024-01-01            891.0             NO       f  \n",
       "2024-01-01            980.9             NO       f  \n",
       "2024-01-01            249.9             NO       f  "
      ]
     },
     "execution_count": 6,
     "metadata": {},
     "output_type": "execute_result"
    }
   ],
   "source": [
    "df.head()"
   ]
  },
  {
   "cell_type": "code",
   "execution_count": 7,
   "id": "7a5795de",
   "metadata": {},
   "outputs": [],
   "source": [
    "# Elimino las columnas anio y mes\n",
    "df.drop(columns=['anio', 'mes'], inplace=True)"
   ]
  },
  {
   "cell_type": "code",
   "execution_count": 8,
   "id": "ed025533",
   "metadata": {},
   "outputs": [
    {
     "data": {
      "text/html": [
       "<div>\n",
       "<style scoped>\n",
       "    .dataframe tbody tr th:only-of-type {\n",
       "        vertical-align: middle;\n",
       "    }\n",
       "\n",
       "    .dataframe tbody tr th {\n",
       "        vertical-align: top;\n",
       "    }\n",
       "\n",
       "    .dataframe thead th {\n",
       "        text-align: right;\n",
       "    }\n",
       "</style>\n",
       "<table border=\"1\" class=\"dataframe\">\n",
       "  <thead>\n",
       "    <tr style=\"text-align: right;\">\n",
       "      <th></th>\n",
       "      <th>operador</th>\n",
       "      <th>nro_inscripcion</th>\n",
       "      <th>bandera</th>\n",
       "      <th>fecha_de_baja</th>\n",
       "      <th>cuit</th>\n",
       "      <th>tipo_negocio</th>\n",
       "      <th>direccion</th>\n",
       "      <th>localidad</th>\n",
       "      <th>provincia</th>\n",
       "      <th>producto</th>\n",
       "      <th>canal_de_comercializacion</th>\n",
       "      <th>precio_sin_impuestos</th>\n",
       "      <th>precio_con_impuestos</th>\n",
       "      <th>volumen</th>\n",
       "      <th>precio_surtidor</th>\n",
       "      <th>no_novimientos</th>\n",
       "      <th>exentos</th>\n",
       "    </tr>\n",
       "    <tr>\n",
       "      <th>fecha</th>\n",
       "      <th></th>\n",
       "      <th></th>\n",
       "      <th></th>\n",
       "      <th></th>\n",
       "      <th></th>\n",
       "      <th></th>\n",
       "      <th></th>\n",
       "      <th></th>\n",
       "      <th></th>\n",
       "      <th></th>\n",
       "      <th></th>\n",
       "      <th></th>\n",
       "      <th></th>\n",
       "      <th></th>\n",
       "      <th></th>\n",
       "      <th></th>\n",
       "      <th></th>\n",
       "    </tr>\n",
       "  </thead>\n",
       "  <tbody>\n",
       "    <tr>\n",
       "      <th>2024-01-01</th>\n",
       "      <td>10 DE SETIEMBRE S.A.</td>\n",
       "      <td>1376</td>\n",
       "      <td>PUMA</td>\n",
       "      <td>NaN</td>\n",
       "      <td>33-64337382-9</td>\n",
       "      <td>Bocas de expendio (venta por menor) Duales (lí...</td>\n",
       "      <td>Av. Mosconi 299</td>\n",
       "      <td>LOMAS DEL MIRADOR</td>\n",
       "      <td>BUENOS AIRES</td>\n",
       "      <td>Nafta (súper) entre 92 y 95 Ron</td>\n",
       "      <td>Al público</td>\n",
       "      <td>609.967</td>\n",
       "      <td>762.401</td>\n",
       "      <td>10.52</td>\n",
       "      <td>803.9</td>\n",
       "      <td>NO</td>\n",
       "      <td>f</td>\n",
       "    </tr>\n",
       "    <tr>\n",
       "      <th>2024-01-01</th>\n",
       "      <td>10 DE SETIEMBRE S.A.</td>\n",
       "      <td>1376</td>\n",
       "      <td>PUMA</td>\n",
       "      <td>NaN</td>\n",
       "      <td>33-64337382-9</td>\n",
       "      <td>Bocas de expendio (venta por menor) Duales (lí...</td>\n",
       "      <td>Av. Mosconi 299</td>\n",
       "      <td>LOMAS DEL MIRADOR</td>\n",
       "      <td>BUENOS AIRES</td>\n",
       "      <td>Nafta (premium) de más de 95 Ron</td>\n",
       "      <td>Al público</td>\n",
       "      <td>771.619</td>\n",
       "      <td>958.000</td>\n",
       "      <td>2.00</td>\n",
       "      <td>958.0</td>\n",
       "      <td>NO</td>\n",
       "      <td>f</td>\n",
       "    </tr>\n",
       "    <tr>\n",
       "      <th>2024-01-01</th>\n",
       "      <td>10 DE SETIEMBRE S.A.</td>\n",
       "      <td>1376</td>\n",
       "      <td>PUMA</td>\n",
       "      <td>NaN</td>\n",
       "      <td>33-64337382-9</td>\n",
       "      <td>Bocas de expendio (venta por menor) Duales (lí...</td>\n",
       "      <td>Av. Mosconi 299</td>\n",
       "      <td>LOMAS DEL MIRADOR</td>\n",
       "      <td>BUENOS AIRES</td>\n",
       "      <td>Gas Oil Grado 2</td>\n",
       "      <td>Al público</td>\n",
       "      <td>667.542</td>\n",
       "      <td>824.199</td>\n",
       "      <td>5.66</td>\n",
       "      <td>891.0</td>\n",
       "      <td>NO</td>\n",
       "      <td>f</td>\n",
       "    </tr>\n",
       "    <tr>\n",
       "      <th>2024-01-01</th>\n",
       "      <td>10 DE SETIEMBRE S.A.</td>\n",
       "      <td>1376</td>\n",
       "      <td>PUMA</td>\n",
       "      <td>NaN</td>\n",
       "      <td>33-64337382-9</td>\n",
       "      <td>Bocas de expendio (venta por menor) Duales (lí...</td>\n",
       "      <td>Av. Mosconi 299</td>\n",
       "      <td>LOMAS DEL MIRADOR</td>\n",
       "      <td>BUENOS AIRES</td>\n",
       "      <td>Gas Oil Grado 3</td>\n",
       "      <td>Al público</td>\n",
       "      <td>787.014</td>\n",
       "      <td>969.297</td>\n",
       "      <td>3.93</td>\n",
       "      <td>980.9</td>\n",
       "      <td>NO</td>\n",
       "      <td>f</td>\n",
       "    </tr>\n",
       "    <tr>\n",
       "      <th>2024-01-01</th>\n",
       "      <td>10 DE SETIEMBRE S.A.</td>\n",
       "      <td>1376</td>\n",
       "      <td>PUMA</td>\n",
       "      <td>NaN</td>\n",
       "      <td>33-64337382-9</td>\n",
       "      <td>Bocas de expendio (venta por menor) Duales (lí...</td>\n",
       "      <td>Av. Mosconi 299</td>\n",
       "      <td>LOMAS DEL MIRADOR</td>\n",
       "      <td>BUENOS AIRES</td>\n",
       "      <td>GNC</td>\n",
       "      <td>Al público</td>\n",
       "      <td>196.726</td>\n",
       "      <td>239.008</td>\n",
       "      <td>30403.60</td>\n",
       "      <td>249.9</td>\n",
       "      <td>NO</td>\n",
       "      <td>f</td>\n",
       "    </tr>\n",
       "  </tbody>\n",
       "</table>\n",
       "</div>"
      ],
      "text/plain": [
       "                        operador  nro_inscripcion bandera fecha_de_baja  \\\n",
       "fecha                                                                     \n",
       "2024-01-01  10 DE SETIEMBRE S.A.             1376    PUMA           NaN   \n",
       "2024-01-01  10 DE SETIEMBRE S.A.             1376    PUMA           NaN   \n",
       "2024-01-01  10 DE SETIEMBRE S.A.             1376    PUMA           NaN   \n",
       "2024-01-01  10 DE SETIEMBRE S.A.             1376    PUMA           NaN   \n",
       "2024-01-01  10 DE SETIEMBRE S.A.             1376    PUMA           NaN   \n",
       "\n",
       "                     cuit                                       tipo_negocio  \\\n",
       "fecha                                                                          \n",
       "2024-01-01  33-64337382-9  Bocas de expendio (venta por menor) Duales (lí...   \n",
       "2024-01-01  33-64337382-9  Bocas de expendio (venta por menor) Duales (lí...   \n",
       "2024-01-01  33-64337382-9  Bocas de expendio (venta por menor) Duales (lí...   \n",
       "2024-01-01  33-64337382-9  Bocas de expendio (venta por menor) Duales (lí...   \n",
       "2024-01-01  33-64337382-9  Bocas de expendio (venta por menor) Duales (lí...   \n",
       "\n",
       "                  direccion          localidad     provincia  \\\n",
       "fecha                                                          \n",
       "2024-01-01  Av. Mosconi 299  LOMAS DEL MIRADOR  BUENOS AIRES   \n",
       "2024-01-01  Av. Mosconi 299  LOMAS DEL MIRADOR  BUENOS AIRES   \n",
       "2024-01-01  Av. Mosconi 299  LOMAS DEL MIRADOR  BUENOS AIRES   \n",
       "2024-01-01  Av. Mosconi 299  LOMAS DEL MIRADOR  BUENOS AIRES   \n",
       "2024-01-01  Av. Mosconi 299  LOMAS DEL MIRADOR  BUENOS AIRES   \n",
       "\n",
       "                                    producto canal_de_comercializacion  \\\n",
       "fecha                                                                    \n",
       "2024-01-01   Nafta (súper) entre 92 y 95 Ron                Al público   \n",
       "2024-01-01  Nafta (premium) de más de 95 Ron                Al público   \n",
       "2024-01-01                   Gas Oil Grado 2                Al público   \n",
       "2024-01-01                   Gas Oil Grado 3                Al público   \n",
       "2024-01-01                               GNC                Al público   \n",
       "\n",
       "            precio_sin_impuestos  precio_con_impuestos   volumen  \\\n",
       "fecha                                                              \n",
       "2024-01-01               609.967               762.401     10.52   \n",
       "2024-01-01               771.619               958.000      2.00   \n",
       "2024-01-01               667.542               824.199      5.66   \n",
       "2024-01-01               787.014               969.297      3.93   \n",
       "2024-01-01               196.726               239.008  30403.60   \n",
       "\n",
       "            precio_surtidor no_novimientos exentos  \n",
       "fecha                                               \n",
       "2024-01-01            803.9             NO       f  \n",
       "2024-01-01            958.0             NO       f  \n",
       "2024-01-01            891.0             NO       f  \n",
       "2024-01-01            980.9             NO       f  \n",
       "2024-01-01            249.9             NO       f  "
      ]
     },
     "execution_count": 8,
     "metadata": {},
     "output_type": "execute_result"
    }
   ],
   "source": [
    "df.head()"
   ]
  },
  {
   "cell_type": "code",
   "execution_count": 9,
   "id": "24a13fff",
   "metadata": {},
   "outputs": [
    {
     "data": {
      "text/plain": [
       "operador                          0\n",
       "nro_inscripcion                   0\n",
       "bandera                           0\n",
       "fecha_de_baja                251935\n",
       "cuit                              0\n",
       "tipo_negocio                      0\n",
       "direccion                         0\n",
       "localidad                         0\n",
       "provincia                         0\n",
       "producto                          0\n",
       "canal_de_comercializacion         0\n",
       "precio_sin_impuestos              0\n",
       "precio_con_impuestos              0\n",
       "volumen                           0\n",
       "precio_surtidor                   0\n",
       "no_novimientos                    0\n",
       "exentos                        2202\n",
       "dtype: int64"
      ]
     },
     "execution_count": 9,
     "metadata": {},
     "output_type": "execute_result"
    }
   ],
   "source": [
    "# Vemos si hay valores nulos\n",
    "df.isnull().sum()"
   ]
  },
  {
   "cell_type": "code",
   "execution_count": 10,
   "id": "26d4538a",
   "metadata": {},
   "outputs": [],
   "source": [
    "# Elimino la columna fecha_de_baja\n",
    "df.drop(columns=['fecha_de_baja'], inplace=True)\n"
   ]
  },
  {
   "cell_type": "code",
   "execution_count": 11,
   "id": "7c02df8b",
   "metadata": {},
   "outputs": [],
   "source": [
    "# Elimino la columna exentos\n",
    "df.drop(columns=['exentos'], inplace=True)"
   ]
  },
  {
   "cell_type": "code",
   "execution_count": 12,
   "id": "6a06a387",
   "metadata": {},
   "outputs": [],
   "source": [
    "# Elimino la cloumna cuit\n",
    "df.drop(columns=['cuit'], inplace=True)"
   ]
  },
  {
   "cell_type": "code",
   "execution_count": 13,
   "id": "d7e533d2",
   "metadata": {},
   "outputs": [],
   "source": [
    "# Elimino no_movimientos\n",
    "df.drop(columns=['no_novimientos'], inplace=True)"
   ]
  },
  {
   "cell_type": "code",
   "execution_count": 14,
   "id": "8cf63f3d",
   "metadata": {},
   "outputs": [
    {
     "data": {
      "text/html": [
       "<div>\n",
       "<style scoped>\n",
       "    .dataframe tbody tr th:only-of-type {\n",
       "        vertical-align: middle;\n",
       "    }\n",
       "\n",
       "    .dataframe tbody tr th {\n",
       "        vertical-align: top;\n",
       "    }\n",
       "\n",
       "    .dataframe thead th {\n",
       "        text-align: right;\n",
       "    }\n",
       "</style>\n",
       "<table border=\"1\" class=\"dataframe\">\n",
       "  <thead>\n",
       "    <tr style=\"text-align: right;\">\n",
       "      <th></th>\n",
       "      <th>operador</th>\n",
       "      <th>nro_inscripcion</th>\n",
       "      <th>bandera</th>\n",
       "      <th>tipo_negocio</th>\n",
       "      <th>direccion</th>\n",
       "      <th>localidad</th>\n",
       "      <th>provincia</th>\n",
       "      <th>producto</th>\n",
       "      <th>canal_de_comercializacion</th>\n",
       "      <th>precio_sin_impuestos</th>\n",
       "      <th>precio_con_impuestos</th>\n",
       "      <th>volumen</th>\n",
       "      <th>precio_surtidor</th>\n",
       "    </tr>\n",
       "    <tr>\n",
       "      <th>fecha</th>\n",
       "      <th></th>\n",
       "      <th></th>\n",
       "      <th></th>\n",
       "      <th></th>\n",
       "      <th></th>\n",
       "      <th></th>\n",
       "      <th></th>\n",
       "      <th></th>\n",
       "      <th></th>\n",
       "      <th></th>\n",
       "      <th></th>\n",
       "      <th></th>\n",
       "      <th></th>\n",
       "    </tr>\n",
       "  </thead>\n",
       "  <tbody>\n",
       "    <tr>\n",
       "      <th>2024-01-01</th>\n",
       "      <td>10 DE SETIEMBRE S.A.</td>\n",
       "      <td>1376</td>\n",
       "      <td>PUMA</td>\n",
       "      <td>Bocas de expendio (venta por menor) Duales (lí...</td>\n",
       "      <td>Av. Mosconi 299</td>\n",
       "      <td>LOMAS DEL MIRADOR</td>\n",
       "      <td>BUENOS AIRES</td>\n",
       "      <td>Nafta (súper) entre 92 y 95 Ron</td>\n",
       "      <td>Al público</td>\n",
       "      <td>609.967</td>\n",
       "      <td>762.401</td>\n",
       "      <td>10.52</td>\n",
       "      <td>803.9</td>\n",
       "    </tr>\n",
       "    <tr>\n",
       "      <th>2024-01-01</th>\n",
       "      <td>10 DE SETIEMBRE S.A.</td>\n",
       "      <td>1376</td>\n",
       "      <td>PUMA</td>\n",
       "      <td>Bocas de expendio (venta por menor) Duales (lí...</td>\n",
       "      <td>Av. Mosconi 299</td>\n",
       "      <td>LOMAS DEL MIRADOR</td>\n",
       "      <td>BUENOS AIRES</td>\n",
       "      <td>Nafta (premium) de más de 95 Ron</td>\n",
       "      <td>Al público</td>\n",
       "      <td>771.619</td>\n",
       "      <td>958.000</td>\n",
       "      <td>2.00</td>\n",
       "      <td>958.0</td>\n",
       "    </tr>\n",
       "    <tr>\n",
       "      <th>2024-01-01</th>\n",
       "      <td>10 DE SETIEMBRE S.A.</td>\n",
       "      <td>1376</td>\n",
       "      <td>PUMA</td>\n",
       "      <td>Bocas de expendio (venta por menor) Duales (lí...</td>\n",
       "      <td>Av. Mosconi 299</td>\n",
       "      <td>LOMAS DEL MIRADOR</td>\n",
       "      <td>BUENOS AIRES</td>\n",
       "      <td>Gas Oil Grado 2</td>\n",
       "      <td>Al público</td>\n",
       "      <td>667.542</td>\n",
       "      <td>824.199</td>\n",
       "      <td>5.66</td>\n",
       "      <td>891.0</td>\n",
       "    </tr>\n",
       "    <tr>\n",
       "      <th>2024-01-01</th>\n",
       "      <td>10 DE SETIEMBRE S.A.</td>\n",
       "      <td>1376</td>\n",
       "      <td>PUMA</td>\n",
       "      <td>Bocas de expendio (venta por menor) Duales (lí...</td>\n",
       "      <td>Av. Mosconi 299</td>\n",
       "      <td>LOMAS DEL MIRADOR</td>\n",
       "      <td>BUENOS AIRES</td>\n",
       "      <td>Gas Oil Grado 3</td>\n",
       "      <td>Al público</td>\n",
       "      <td>787.014</td>\n",
       "      <td>969.297</td>\n",
       "      <td>3.93</td>\n",
       "      <td>980.9</td>\n",
       "    </tr>\n",
       "    <tr>\n",
       "      <th>2024-01-01</th>\n",
       "      <td>10 DE SETIEMBRE S.A.</td>\n",
       "      <td>1376</td>\n",
       "      <td>PUMA</td>\n",
       "      <td>Bocas de expendio (venta por menor) Duales (lí...</td>\n",
       "      <td>Av. Mosconi 299</td>\n",
       "      <td>LOMAS DEL MIRADOR</td>\n",
       "      <td>BUENOS AIRES</td>\n",
       "      <td>GNC</td>\n",
       "      <td>Al público</td>\n",
       "      <td>196.726</td>\n",
       "      <td>239.008</td>\n",
       "      <td>30403.60</td>\n",
       "      <td>249.9</td>\n",
       "    </tr>\n",
       "  </tbody>\n",
       "</table>\n",
       "</div>"
      ],
      "text/plain": [
       "                        operador  nro_inscripcion bandera  \\\n",
       "fecha                                                       \n",
       "2024-01-01  10 DE SETIEMBRE S.A.             1376    PUMA   \n",
       "2024-01-01  10 DE SETIEMBRE S.A.             1376    PUMA   \n",
       "2024-01-01  10 DE SETIEMBRE S.A.             1376    PUMA   \n",
       "2024-01-01  10 DE SETIEMBRE S.A.             1376    PUMA   \n",
       "2024-01-01  10 DE SETIEMBRE S.A.             1376    PUMA   \n",
       "\n",
       "                                                 tipo_negocio  \\\n",
       "fecha                                                           \n",
       "2024-01-01  Bocas de expendio (venta por menor) Duales (lí...   \n",
       "2024-01-01  Bocas de expendio (venta por menor) Duales (lí...   \n",
       "2024-01-01  Bocas de expendio (venta por menor) Duales (lí...   \n",
       "2024-01-01  Bocas de expendio (venta por menor) Duales (lí...   \n",
       "2024-01-01  Bocas de expendio (venta por menor) Duales (lí...   \n",
       "\n",
       "                  direccion          localidad     provincia  \\\n",
       "fecha                                                          \n",
       "2024-01-01  Av. Mosconi 299  LOMAS DEL MIRADOR  BUENOS AIRES   \n",
       "2024-01-01  Av. Mosconi 299  LOMAS DEL MIRADOR  BUENOS AIRES   \n",
       "2024-01-01  Av. Mosconi 299  LOMAS DEL MIRADOR  BUENOS AIRES   \n",
       "2024-01-01  Av. Mosconi 299  LOMAS DEL MIRADOR  BUENOS AIRES   \n",
       "2024-01-01  Av. Mosconi 299  LOMAS DEL MIRADOR  BUENOS AIRES   \n",
       "\n",
       "                                    producto canal_de_comercializacion  \\\n",
       "fecha                                                                    \n",
       "2024-01-01   Nafta (súper) entre 92 y 95 Ron                Al público   \n",
       "2024-01-01  Nafta (premium) de más de 95 Ron                Al público   \n",
       "2024-01-01                   Gas Oil Grado 2                Al público   \n",
       "2024-01-01                   Gas Oil Grado 3                Al público   \n",
       "2024-01-01                               GNC                Al público   \n",
       "\n",
       "            precio_sin_impuestos  precio_con_impuestos   volumen  \\\n",
       "fecha                                                              \n",
       "2024-01-01               609.967               762.401     10.52   \n",
       "2024-01-01               771.619               958.000      2.00   \n",
       "2024-01-01               667.542               824.199      5.66   \n",
       "2024-01-01               787.014               969.297      3.93   \n",
       "2024-01-01               196.726               239.008  30403.60   \n",
       "\n",
       "            precio_surtidor  \n",
       "fecha                        \n",
       "2024-01-01            803.9  \n",
       "2024-01-01            958.0  \n",
       "2024-01-01            891.0  \n",
       "2024-01-01            980.9  \n",
       "2024-01-01            249.9  "
      ]
     },
     "execution_count": 14,
     "metadata": {},
     "output_type": "execute_result"
    }
   ],
   "source": [
    "df.head()"
   ]
  },
  {
   "cell_type": "code",
   "execution_count": 15,
   "id": "06e1926a",
   "metadata": {},
   "outputs": [
    {
     "data": {
      "text/plain": [
       "operador                     0\n",
       "nro_inscripcion              0\n",
       "bandera                      0\n",
       "tipo_negocio                 0\n",
       "direccion                    0\n",
       "localidad                    0\n",
       "provincia                    0\n",
       "producto                     0\n",
       "canal_de_comercializacion    0\n",
       "precio_sin_impuestos         0\n",
       "precio_con_impuestos         0\n",
       "volumen                      0\n",
       "precio_surtidor              0\n",
       "dtype: int64"
      ]
     },
     "execution_count": 15,
     "metadata": {},
     "output_type": "execute_result"
    }
   ],
   "source": [
    "# Vemos si hay valores nulos\n",
    "df.isnull().sum()"
   ]
  },
  {
   "cell_type": "code",
   "execution_count": 16,
   "id": "72038f59",
   "metadata": {},
   "outputs": [
    {
     "data": {
      "text/plain": [
       "array(['10 DE SETIEMBRE S.A.', '1263 S.R.L.', '1913 SRL', ...,\n",
       "       'OTAMENDI Y CIA. SRL', 'PARAISOS DEL CHIRIPA S.A.',\n",
       "       'RESISTENCIA COMBUSTIBLES SAS'], dtype=object)"
      ]
     },
     "execution_count": 16,
     "metadata": {},
     "output_type": "execute_result"
    }
   ],
   "source": [
    "# Muestro los valores unicos de la columna operador\n",
    "df['operador'].unique()"
   ]
  },
  {
   "cell_type": "code",
   "execution_count": 17,
   "id": "84d9096e",
   "metadata": {},
   "outputs": [
    {
     "data": {
      "text/plain": [
       "(3994,)"
      ]
     },
     "execution_count": 17,
     "metadata": {},
     "output_type": "execute_result"
    }
   ],
   "source": [
    "df['operador'].unique().shape"
   ]
  },
  {
   "cell_type": "code",
   "execution_count": 18,
   "id": "f73e030b",
   "metadata": {},
   "outputs": [
    {
     "data": {
      "text/plain": [
       "(5441,)"
      ]
     },
     "execution_count": 18,
     "metadata": {},
     "output_type": "execute_result"
    }
   ],
   "source": [
    "# Muestro los valores unicos de la columna nro_inscripcion\n",
    "df['nro_inscripcion'].unique().shape"
   ]
  },
  {
   "cell_type": "code",
   "execution_count": 19,
   "id": "8749bd3f",
   "metadata": {},
   "outputs": [],
   "source": [
    "# Elimino la columna operador\n",
    "df.drop(columns=['operador'], inplace=True)"
   ]
  },
  {
   "cell_type": "code",
   "execution_count": 20,
   "id": "86ce59f1",
   "metadata": {},
   "outputs": [
    {
     "data": {
      "text/plain": [
       "array(['PUMA', 'SHELL C.A.P.S.A.', 'YPF', 'BLANCA', 'AXION', 'GULF',\n",
       "       'REFINOR', 'DAPSA S.A.', 'VOY', 'SIN EMPRESA BANDERA',\n",
       "       'OIL COMBUSTIBLES S.A.'], dtype=object)"
      ]
     },
     "execution_count": 20,
     "metadata": {},
     "output_type": "execute_result"
    }
   ],
   "source": [
    "# Muestro los valores unicos de la columna bandera\n",
    "df['bandera'].unique()\n"
   ]
  },
  {
   "cell_type": "code",
   "execution_count": 21,
   "id": "a9aaeeac",
   "metadata": {},
   "outputs": [
    {
     "data": {
      "text/plain": [
       "(11,)"
      ]
     },
     "execution_count": 21,
     "metadata": {},
     "output_type": "execute_result"
    }
   ],
   "source": [
    "df['bandera'].unique().shape"
   ]
  },
  {
   "cell_type": "code",
   "execution_count": 22,
   "id": "b3632e90",
   "metadata": {},
   "outputs": [
    {
     "data": {
      "text/plain": [
       "array(['Bocas de expendio (venta por menor) Duales (líquidos + GNC)',\n",
       "       'Bocas de expendio (venta por menor) Combustibles líquidos únicamente',\n",
       "       'Distribuidor (con camiones)',\n",
       "       'Revendedor general (venta a granel mayorista, incluye tambores)',\n",
       "       'Bocas de expendio (venta por menor) Sólo GNC',\n",
       "       'Bocas de expendio (venta por menor) Duales (líquidos + GLPA)',\n",
       "       'Bocas de expendio (venta por menor) Combustibles Líquidos + PRVE',\n",
       "       'N/D', 'Comercializador (venta a granel mayorista)',\n",
       "       'Boca de expendio de sólo GLPA'], dtype=object)"
      ]
     },
     "execution_count": 22,
     "metadata": {},
     "output_type": "execute_result"
    }
   ],
   "source": [
    "# Muestro los valores unicos de la columna tipo_negocio\n",
    "df['tipo_negocio'].unique()"
   ]
  },
  {
   "cell_type": "code",
   "execution_count": 23,
   "id": "ce469b8e",
   "metadata": {},
   "outputs": [
    {
     "data": {
      "text/plain": [
       "(10,)"
      ]
     },
     "execution_count": 23,
     "metadata": {},
     "output_type": "execute_result"
    }
   ],
   "source": [
    "df['tipo_negocio'].unique().shape"
   ]
  },
  {
   "cell_type": "code",
   "execution_count": 24,
   "id": "b0cb1ee4",
   "metadata": {},
   "outputs": [
    {
     "data": {
      "text/plain": [
       "array(['Al público', 'Agro', 'Otros sectores', 'Transporte de cargas',\n",
       "       'N/D', 'Reventa a otras estaciones de servicio',\n",
       "       'Transporte público de pasajeros',\n",
       "       'Vehículos con placa identificatoria extranjera'], dtype=object)"
      ]
     },
     "execution_count": 24,
     "metadata": {},
     "output_type": "execute_result"
    }
   ],
   "source": [
    "# Muestro los valores unicos de canal_de_comercializacion\n",
    "df['canal_de_comercializacion'].unique()"
   ]
  },
  {
   "cell_type": "code",
   "execution_count": 25,
   "id": "444d80f2",
   "metadata": {},
   "outputs": [
    {
     "data": {
      "text/plain": [
       "(8,)"
      ]
     },
     "execution_count": 25,
     "metadata": {},
     "output_type": "execute_result"
    }
   ],
   "source": [
    "df['canal_de_comercializacion'].unique().shape"
   ]
  },
  {
   "cell_type": "code",
   "execution_count": 26,
   "id": "b0225ee4",
   "metadata": {},
   "outputs": [],
   "source": [
    "# Elimino la columna precio_sin_impuestos\n",
    "df.drop(columns=['precio_sin_impuestos'], inplace=True)"
   ]
  },
  {
   "cell_type": "code",
   "execution_count": 27,
   "id": "7b021c00",
   "metadata": {},
   "outputs": [],
   "source": [
    "# Elimino la columna precio_surtidor\n",
    "df.drop(columns=['precio_surtidor'], inplace=True)"
   ]
  },
  {
   "cell_type": "code",
   "execution_count": 28,
   "id": "d0561e9e",
   "metadata": {},
   "outputs": [],
   "source": [
    "# Elimino la columna nro_inscripcion\n",
    "df.drop(columns=['nro_inscripcion'], inplace=True)"
   ]
  },
  {
   "cell_type": "code",
   "execution_count": 29,
   "id": "e62d5732",
   "metadata": {},
   "outputs": [],
   "source": [
    "# Elimino la columna direccion y localidad\n",
    "df.drop(columns=['direccion', 'localidad'], inplace=True)"
   ]
  },
  {
   "cell_type": "code",
   "execution_count": 30,
   "id": "0660d509",
   "metadata": {},
   "outputs": [
    {
     "name": "stdout",
     "output_type": "stream",
     "text": [
      "<class 'pandas.core.frame.DataFrame'>\n",
      "DatetimeIndex: 256798 entries, 2024-01-01 to 2024-12-01\n",
      "Data columns (total 7 columns):\n",
      " #   Column                     Non-Null Count   Dtype  \n",
      "---  ------                     --------------   -----  \n",
      " 0   bandera                    256798 non-null  object \n",
      " 1   tipo_negocio               256798 non-null  object \n",
      " 2   provincia                  256798 non-null  object \n",
      " 3   producto                   256798 non-null  object \n",
      " 4   canal_de_comercializacion  256798 non-null  object \n",
      " 5   precio_con_impuestos       256798 non-null  float64\n",
      " 6   volumen                    256798 non-null  float64\n",
      "dtypes: float64(2), object(5)\n",
      "memory usage: 15.7+ MB\n"
     ]
    }
   ],
   "source": [
    "df.info()"
   ]
  },
  {
   "cell_type": "code",
   "execution_count": 31,
   "id": "8af632a5",
   "metadata": {},
   "outputs": [
    {
     "data": {
      "text/html": [
       "<div>\n",
       "<style scoped>\n",
       "    .dataframe tbody tr th:only-of-type {\n",
       "        vertical-align: middle;\n",
       "    }\n",
       "\n",
       "    .dataframe tbody tr th {\n",
       "        vertical-align: top;\n",
       "    }\n",
       "\n",
       "    .dataframe thead th {\n",
       "        text-align: right;\n",
       "    }\n",
       "</style>\n",
       "<table border=\"1\" class=\"dataframe\">\n",
       "  <thead>\n",
       "    <tr style=\"text-align: right;\">\n",
       "      <th></th>\n",
       "      <th>bandera</th>\n",
       "      <th>tipo_negocio</th>\n",
       "      <th>provincia</th>\n",
       "      <th>producto</th>\n",
       "      <th>canal_de_comercializacion</th>\n",
       "      <th>precio_con_impuestos</th>\n",
       "      <th>volumen</th>\n",
       "    </tr>\n",
       "    <tr>\n",
       "      <th>fecha</th>\n",
       "      <th></th>\n",
       "      <th></th>\n",
       "      <th></th>\n",
       "      <th></th>\n",
       "      <th></th>\n",
       "      <th></th>\n",
       "      <th></th>\n",
       "    </tr>\n",
       "  </thead>\n",
       "  <tbody>\n",
       "    <tr>\n",
       "      <th>2024-01-01</th>\n",
       "      <td>PUMA</td>\n",
       "      <td>Bocas de expendio (venta por menor) Duales (lí...</td>\n",
       "      <td>BUENOS AIRES</td>\n",
       "      <td>Nafta (súper) entre 92 y 95 Ron</td>\n",
       "      <td>Al público</td>\n",
       "      <td>762.401</td>\n",
       "      <td>10.52</td>\n",
       "    </tr>\n",
       "    <tr>\n",
       "      <th>2024-01-01</th>\n",
       "      <td>PUMA</td>\n",
       "      <td>Bocas de expendio (venta por menor) Duales (lí...</td>\n",
       "      <td>BUENOS AIRES</td>\n",
       "      <td>Nafta (premium) de más de 95 Ron</td>\n",
       "      <td>Al público</td>\n",
       "      <td>958.000</td>\n",
       "      <td>2.00</td>\n",
       "    </tr>\n",
       "    <tr>\n",
       "      <th>2024-01-01</th>\n",
       "      <td>PUMA</td>\n",
       "      <td>Bocas de expendio (venta por menor) Duales (lí...</td>\n",
       "      <td>BUENOS AIRES</td>\n",
       "      <td>Gas Oil Grado 2</td>\n",
       "      <td>Al público</td>\n",
       "      <td>824.199</td>\n",
       "      <td>5.66</td>\n",
       "    </tr>\n",
       "    <tr>\n",
       "      <th>2024-01-01</th>\n",
       "      <td>PUMA</td>\n",
       "      <td>Bocas de expendio (venta por menor) Duales (lí...</td>\n",
       "      <td>BUENOS AIRES</td>\n",
       "      <td>Gas Oil Grado 3</td>\n",
       "      <td>Al público</td>\n",
       "      <td>969.297</td>\n",
       "      <td>3.93</td>\n",
       "    </tr>\n",
       "    <tr>\n",
       "      <th>2024-01-01</th>\n",
       "      <td>PUMA</td>\n",
       "      <td>Bocas de expendio (venta por menor) Duales (lí...</td>\n",
       "      <td>BUENOS AIRES</td>\n",
       "      <td>GNC</td>\n",
       "      <td>Al público</td>\n",
       "      <td>239.008</td>\n",
       "      <td>30403.60</td>\n",
       "    </tr>\n",
       "  </tbody>\n",
       "</table>\n",
       "</div>"
      ],
      "text/plain": [
       "           bandera                                       tipo_negocio  \\\n",
       "fecha                                                                   \n",
       "2024-01-01    PUMA  Bocas de expendio (venta por menor) Duales (lí...   \n",
       "2024-01-01    PUMA  Bocas de expendio (venta por menor) Duales (lí...   \n",
       "2024-01-01    PUMA  Bocas de expendio (venta por menor) Duales (lí...   \n",
       "2024-01-01    PUMA  Bocas de expendio (venta por menor) Duales (lí...   \n",
       "2024-01-01    PUMA  Bocas de expendio (venta por menor) Duales (lí...   \n",
       "\n",
       "               provincia                          producto  \\\n",
       "fecha                                                        \n",
       "2024-01-01  BUENOS AIRES   Nafta (súper) entre 92 y 95 Ron   \n",
       "2024-01-01  BUENOS AIRES  Nafta (premium) de más de 95 Ron   \n",
       "2024-01-01  BUENOS AIRES                   Gas Oil Grado 2   \n",
       "2024-01-01  BUENOS AIRES                   Gas Oil Grado 3   \n",
       "2024-01-01  BUENOS AIRES                               GNC   \n",
       "\n",
       "           canal_de_comercializacion  precio_con_impuestos   volumen  \n",
       "fecha                                                                 \n",
       "2024-01-01                Al público               762.401     10.52  \n",
       "2024-01-01                Al público               958.000      2.00  \n",
       "2024-01-01                Al público               824.199      5.66  \n",
       "2024-01-01                Al público               969.297      3.93  \n",
       "2024-01-01                Al público               239.008  30403.60  "
      ]
     },
     "execution_count": 31,
     "metadata": {},
     "output_type": "execute_result"
    }
   ],
   "source": [
    "df.head()"
   ]
  },
  {
   "cell_type": "code",
   "execution_count": 32,
   "id": "6c35745c",
   "metadata": {},
   "outputs": [
    {
     "data": {
      "text/plain": [
       "DatetimeIndex(['2024-01-01', '2024-01-01', '2024-01-01', '2024-01-01',\n",
       "               '2024-01-01', '2024-01-01', '2024-01-01', '2024-01-01',\n",
       "               '2024-01-01', '2024-01-01',\n",
       "               ...\n",
       "               '2024-12-01', '2024-12-01', '2024-12-01', '2024-12-01',\n",
       "               '2024-12-01', '2024-12-01', '2024-12-01', '2024-12-01',\n",
       "               '2024-12-01', '2024-12-01'],\n",
       "              dtype='datetime64[ns]', name='fecha', length=256798, freq=None)"
      ]
     },
     "execution_count": 32,
     "metadata": {},
     "output_type": "execute_result"
    }
   ],
   "source": [
    "df.index"
   ]
  },
  {
   "cell_type": "code",
   "execution_count": 33,
   "id": "167345d4",
   "metadata": {},
   "outputs": [
    {
     "data": {
      "text/plain": [
       "(54845, 7)"
      ]
     },
     "execution_count": 33,
     "metadata": {},
     "output_type": "execute_result"
    }
   ],
   "source": [
    "# Filtro solo los productos = 'Nafta (súper) entre 92 y 95 Ron'\n",
    "df_super = df[df['producto'] == 'Nafta (súper) entre 92 y 95 Ron']\n",
    "df_super.shape\n",
    "\n"
   ]
  },
  {
   "cell_type": "code",
   "execution_count": 34,
   "id": "26c4a5d2",
   "metadata": {},
   "outputs": [
    {
     "data": {
      "text/html": [
       "<div>\n",
       "<style scoped>\n",
       "    .dataframe tbody tr th:only-of-type {\n",
       "        vertical-align: middle;\n",
       "    }\n",
       "\n",
       "    .dataframe tbody tr th {\n",
       "        vertical-align: top;\n",
       "    }\n",
       "\n",
       "    .dataframe thead th {\n",
       "        text-align: right;\n",
       "    }\n",
       "</style>\n",
       "<table border=\"1\" class=\"dataframe\">\n",
       "  <thead>\n",
       "    <tr style=\"text-align: right;\">\n",
       "      <th></th>\n",
       "      <th>bandera</th>\n",
       "      <th>tipo_negocio</th>\n",
       "      <th>provincia</th>\n",
       "      <th>producto</th>\n",
       "      <th>canal_de_comercializacion</th>\n",
       "      <th>precio_con_impuestos</th>\n",
       "      <th>volumen</th>\n",
       "    </tr>\n",
       "    <tr>\n",
       "      <th>fecha</th>\n",
       "      <th></th>\n",
       "      <th></th>\n",
       "      <th></th>\n",
       "      <th></th>\n",
       "      <th></th>\n",
       "      <th></th>\n",
       "      <th></th>\n",
       "    </tr>\n",
       "  </thead>\n",
       "  <tbody>\n",
       "    <tr>\n",
       "      <th>2024-01-01</th>\n",
       "      <td>PUMA</td>\n",
       "      <td>Bocas de expendio (venta por menor) Duales (lí...</td>\n",
       "      <td>BUENOS AIRES</td>\n",
       "      <td>Nafta (súper) entre 92 y 95 Ron</td>\n",
       "      <td>Al público</td>\n",
       "      <td>762.401</td>\n",
       "      <td>10.5200</td>\n",
       "    </tr>\n",
       "    <tr>\n",
       "      <th>2024-01-01</th>\n",
       "      <td>PUMA</td>\n",
       "      <td>Bocas de expendio (venta por menor) Combustibl...</td>\n",
       "      <td>RIO NEGRO</td>\n",
       "      <td>Nafta (súper) entre 92 y 95 Ron</td>\n",
       "      <td>Al público</td>\n",
       "      <td>631.340</td>\n",
       "      <td>84.9557</td>\n",
       "    </tr>\n",
       "    <tr>\n",
       "      <th>2024-01-01</th>\n",
       "      <td>PUMA</td>\n",
       "      <td>Bocas de expendio (venta por menor) Combustibl...</td>\n",
       "      <td>CHUBUT</td>\n",
       "      <td>Nafta (súper) entre 92 y 95 Ron</td>\n",
       "      <td>Al público</td>\n",
       "      <td>629.740</td>\n",
       "      <td>129.7150</td>\n",
       "    </tr>\n",
       "    <tr>\n",
       "      <th>2024-01-01</th>\n",
       "      <td>SHELL C.A.P.S.A.</td>\n",
       "      <td>Bocas de expendio (venta por menor) Combustibl...</td>\n",
       "      <td>BUENOS AIRES</td>\n",
       "      <td>Nafta (súper) entre 92 y 95 Ron</td>\n",
       "      <td>Al público</td>\n",
       "      <td>828.000</td>\n",
       "      <td>124.3000</td>\n",
       "    </tr>\n",
       "    <tr>\n",
       "      <th>2024-01-01</th>\n",
       "      <td>YPF</td>\n",
       "      <td>Bocas de expendio (venta por menor) Duales (lí...</td>\n",
       "      <td>SAN LUIS</td>\n",
       "      <td>Nafta (súper) entre 92 y 95 Ron</td>\n",
       "      <td>Agro</td>\n",
       "      <td>784.358</td>\n",
       "      <td>4.5510</td>\n",
       "    </tr>\n",
       "  </tbody>\n",
       "</table>\n",
       "</div>"
      ],
      "text/plain": [
       "                     bandera  \\\n",
       "fecha                          \n",
       "2024-01-01              PUMA   \n",
       "2024-01-01              PUMA   \n",
       "2024-01-01              PUMA   \n",
       "2024-01-01  SHELL C.A.P.S.A.   \n",
       "2024-01-01               YPF   \n",
       "\n",
       "                                                 tipo_negocio     provincia  \\\n",
       "fecha                                                                         \n",
       "2024-01-01  Bocas de expendio (venta por menor) Duales (lí...  BUENOS AIRES   \n",
       "2024-01-01  Bocas de expendio (venta por menor) Combustibl...     RIO NEGRO   \n",
       "2024-01-01  Bocas de expendio (venta por menor) Combustibl...        CHUBUT   \n",
       "2024-01-01  Bocas de expendio (venta por menor) Combustibl...  BUENOS AIRES   \n",
       "2024-01-01  Bocas de expendio (venta por menor) Duales (lí...      SAN LUIS   \n",
       "\n",
       "                                   producto canal_de_comercializacion  \\\n",
       "fecha                                                                   \n",
       "2024-01-01  Nafta (súper) entre 92 y 95 Ron                Al público   \n",
       "2024-01-01  Nafta (súper) entre 92 y 95 Ron                Al público   \n",
       "2024-01-01  Nafta (súper) entre 92 y 95 Ron                Al público   \n",
       "2024-01-01  Nafta (súper) entre 92 y 95 Ron                Al público   \n",
       "2024-01-01  Nafta (súper) entre 92 y 95 Ron                      Agro   \n",
       "\n",
       "            precio_con_impuestos   volumen  \n",
       "fecha                                       \n",
       "2024-01-01               762.401   10.5200  \n",
       "2024-01-01               631.340   84.9557  \n",
       "2024-01-01               629.740  129.7150  \n",
       "2024-01-01               828.000  124.3000  \n",
       "2024-01-01               784.358    4.5510  "
      ]
     },
     "execution_count": 34,
     "metadata": {},
     "output_type": "execute_result"
    }
   ],
   "source": [
    "df_super.head()"
   ]
  },
  {
   "cell_type": "code",
   "execution_count": 35,
   "id": "e8b14201",
   "metadata": {},
   "outputs": [
    {
     "data": {
      "text/plain": [
       "(50003, 7)"
      ]
     },
     "execution_count": 35,
     "metadata": {},
     "output_type": "execute_result"
    }
   ],
   "source": [
    "# Filtro canal_de_comercializacion = 'Al público'\n",
    "df_super_al_publico = df_super[df_super['canal_de_comercializacion'] == 'Al público']\n",
    "df_super_al_publico.shape\n"
   ]
  },
  {
   "cell_type": "code",
   "execution_count": 36,
   "id": "f79960b9",
   "metadata": {},
   "outputs": [
    {
     "data": {
      "text/html": [
       "<div>\n",
       "<style scoped>\n",
       "    .dataframe tbody tr th:only-of-type {\n",
       "        vertical-align: middle;\n",
       "    }\n",
       "\n",
       "    .dataframe tbody tr th {\n",
       "        vertical-align: top;\n",
       "    }\n",
       "\n",
       "    .dataframe thead th {\n",
       "        text-align: right;\n",
       "    }\n",
       "</style>\n",
       "<table border=\"1\" class=\"dataframe\">\n",
       "  <thead>\n",
       "    <tr style=\"text-align: right;\">\n",
       "      <th></th>\n",
       "      <th>bandera</th>\n",
       "      <th>tipo_negocio</th>\n",
       "      <th>provincia</th>\n",
       "      <th>producto</th>\n",
       "      <th>canal_de_comercializacion</th>\n",
       "      <th>precio_con_impuestos</th>\n",
       "      <th>volumen</th>\n",
       "    </tr>\n",
       "    <tr>\n",
       "      <th>fecha</th>\n",
       "      <th></th>\n",
       "      <th></th>\n",
       "      <th></th>\n",
       "      <th></th>\n",
       "      <th></th>\n",
       "      <th></th>\n",
       "      <th></th>\n",
       "    </tr>\n",
       "  </thead>\n",
       "  <tbody>\n",
       "    <tr>\n",
       "      <th>2024-01-01</th>\n",
       "      <td>PUMA</td>\n",
       "      <td>Bocas de expendio (venta por menor) Duales (lí...</td>\n",
       "      <td>BUENOS AIRES</td>\n",
       "      <td>Nafta (súper) entre 92 y 95 Ron</td>\n",
       "      <td>Al público</td>\n",
       "      <td>762.401</td>\n",
       "      <td>10.5200</td>\n",
       "    </tr>\n",
       "    <tr>\n",
       "      <th>2024-01-01</th>\n",
       "      <td>PUMA</td>\n",
       "      <td>Bocas de expendio (venta por menor) Combustibl...</td>\n",
       "      <td>RIO NEGRO</td>\n",
       "      <td>Nafta (súper) entre 92 y 95 Ron</td>\n",
       "      <td>Al público</td>\n",
       "      <td>631.340</td>\n",
       "      <td>84.9557</td>\n",
       "    </tr>\n",
       "    <tr>\n",
       "      <th>2024-01-01</th>\n",
       "      <td>PUMA</td>\n",
       "      <td>Bocas de expendio (venta por menor) Combustibl...</td>\n",
       "      <td>CHUBUT</td>\n",
       "      <td>Nafta (súper) entre 92 y 95 Ron</td>\n",
       "      <td>Al público</td>\n",
       "      <td>629.740</td>\n",
       "      <td>129.7150</td>\n",
       "    </tr>\n",
       "    <tr>\n",
       "      <th>2024-01-01</th>\n",
       "      <td>SHELL C.A.P.S.A.</td>\n",
       "      <td>Bocas de expendio (venta por menor) Combustibl...</td>\n",
       "      <td>BUENOS AIRES</td>\n",
       "      <td>Nafta (súper) entre 92 y 95 Ron</td>\n",
       "      <td>Al público</td>\n",
       "      <td>828.000</td>\n",
       "      <td>124.3000</td>\n",
       "    </tr>\n",
       "    <tr>\n",
       "      <th>2024-01-01</th>\n",
       "      <td>YPF</td>\n",
       "      <td>Bocas de expendio (venta por menor) Duales (lí...</td>\n",
       "      <td>SAN LUIS</td>\n",
       "      <td>Nafta (súper) entre 92 y 95 Ron</td>\n",
       "      <td>Al público</td>\n",
       "      <td>773.881</td>\n",
       "      <td>310.6950</td>\n",
       "    </tr>\n",
       "  </tbody>\n",
       "</table>\n",
       "</div>"
      ],
      "text/plain": [
       "                     bandera  \\\n",
       "fecha                          \n",
       "2024-01-01              PUMA   \n",
       "2024-01-01              PUMA   \n",
       "2024-01-01              PUMA   \n",
       "2024-01-01  SHELL C.A.P.S.A.   \n",
       "2024-01-01               YPF   \n",
       "\n",
       "                                                 tipo_negocio     provincia  \\\n",
       "fecha                                                                         \n",
       "2024-01-01  Bocas de expendio (venta por menor) Duales (lí...  BUENOS AIRES   \n",
       "2024-01-01  Bocas de expendio (venta por menor) Combustibl...     RIO NEGRO   \n",
       "2024-01-01  Bocas de expendio (venta por menor) Combustibl...        CHUBUT   \n",
       "2024-01-01  Bocas de expendio (venta por menor) Combustibl...  BUENOS AIRES   \n",
       "2024-01-01  Bocas de expendio (venta por menor) Duales (lí...      SAN LUIS   \n",
       "\n",
       "                                   producto canal_de_comercializacion  \\\n",
       "fecha                                                                   \n",
       "2024-01-01  Nafta (súper) entre 92 y 95 Ron                Al público   \n",
       "2024-01-01  Nafta (súper) entre 92 y 95 Ron                Al público   \n",
       "2024-01-01  Nafta (súper) entre 92 y 95 Ron                Al público   \n",
       "2024-01-01  Nafta (súper) entre 92 y 95 Ron                Al público   \n",
       "2024-01-01  Nafta (súper) entre 92 y 95 Ron                Al público   \n",
       "\n",
       "            precio_con_impuestos   volumen  \n",
       "fecha                                       \n",
       "2024-01-01               762.401   10.5200  \n",
       "2024-01-01               631.340   84.9557  \n",
       "2024-01-01               629.740  129.7150  \n",
       "2024-01-01               828.000  124.3000  \n",
       "2024-01-01               773.881  310.6950  "
      ]
     },
     "execution_count": 36,
     "metadata": {},
     "output_type": "execute_result"
    }
   ],
   "source": [
    "df_super_al_publico.head()"
   ]
  },
  {
   "cell_type": "code",
   "execution_count": 37,
   "id": "124df7d4",
   "metadata": {},
   "outputs": [
    {
     "name": "stderr",
     "output_type": "stream",
     "text": [
      "/tmp/ipykernel_79256/232196095.py:2: SettingWithCopyWarning: \n",
      "A value is trying to be set on a copy of a slice from a DataFrame\n",
      "\n",
      "See the caveats in the documentation: https://pandas.pydata.org/pandas-docs/stable/user_guide/indexing.html#returning-a-view-versus-a-copy\n",
      "  df_super_al_publico.drop(columns=['bandera'], inplace=True)\n",
      "/tmp/ipykernel_79256/232196095.py:3: SettingWithCopyWarning: \n",
      "A value is trying to be set on a copy of a slice from a DataFrame\n",
      "\n",
      "See the caveats in the documentation: https://pandas.pydata.org/pandas-docs/stable/user_guide/indexing.html#returning-a-view-versus-a-copy\n",
      "  df_super_al_publico.drop(columns=['tipo_negocio'], inplace=True)\n",
      "/tmp/ipykernel_79256/232196095.py:4: SettingWithCopyWarning: \n",
      "A value is trying to be set on a copy of a slice from a DataFrame\n",
      "\n",
      "See the caveats in the documentation: https://pandas.pydata.org/pandas-docs/stable/user_guide/indexing.html#returning-a-view-versus-a-copy\n",
      "  df_super_al_publico.drop(columns=['provincia', ], inplace=True)\n",
      "/tmp/ipykernel_79256/232196095.py:5: SettingWithCopyWarning: \n",
      "A value is trying to be set on a copy of a slice from a DataFrame\n",
      "\n",
      "See the caveats in the documentation: https://pandas.pydata.org/pandas-docs/stable/user_guide/indexing.html#returning-a-view-versus-a-copy\n",
      "  df_super_al_publico.drop(columns=['producto'], inplace=True)\n",
      "/tmp/ipykernel_79256/232196095.py:6: SettingWithCopyWarning: \n",
      "A value is trying to be set on a copy of a slice from a DataFrame\n",
      "\n",
      "See the caveats in the documentation: https://pandas.pydata.org/pandas-docs/stable/user_guide/indexing.html#returning-a-view-versus-a-copy\n",
      "  df_super_al_publico.drop(columns=['canal_de_comercializacion'], inplace=True)\n",
      "/tmp/ipykernel_79256/232196095.py:7: SettingWithCopyWarning: \n",
      "A value is trying to be set on a copy of a slice from a DataFrame\n",
      "\n",
      "See the caveats in the documentation: https://pandas.pydata.org/pandas-docs/stable/user_guide/indexing.html#returning-a-view-versus-a-copy\n",
      "  df_super_al_publico.drop(columns=['volumen'], inplace=True)\n"
     ]
    },
    {
     "data": {
      "text/html": [
       "<div>\n",
       "<style scoped>\n",
       "    .dataframe tbody tr th:only-of-type {\n",
       "        vertical-align: middle;\n",
       "    }\n",
       "\n",
       "    .dataframe tbody tr th {\n",
       "        vertical-align: top;\n",
       "    }\n",
       "\n",
       "    .dataframe thead th {\n",
       "        text-align: right;\n",
       "    }\n",
       "</style>\n",
       "<table border=\"1\" class=\"dataframe\">\n",
       "  <thead>\n",
       "    <tr style=\"text-align: right;\">\n",
       "      <th></th>\n",
       "      <th>precio_con_impuestos</th>\n",
       "    </tr>\n",
       "    <tr>\n",
       "      <th>fecha</th>\n",
       "      <th></th>\n",
       "    </tr>\n",
       "  </thead>\n",
       "  <tbody>\n",
       "    <tr>\n",
       "      <th>2024-01-01</th>\n",
       "      <td>762.401</td>\n",
       "    </tr>\n",
       "    <tr>\n",
       "      <th>2024-01-01</th>\n",
       "      <td>631.340</td>\n",
       "    </tr>\n",
       "    <tr>\n",
       "      <th>2024-01-01</th>\n",
       "      <td>629.740</td>\n",
       "    </tr>\n",
       "    <tr>\n",
       "      <th>2024-01-01</th>\n",
       "      <td>828.000</td>\n",
       "    </tr>\n",
       "    <tr>\n",
       "      <th>2024-01-01</th>\n",
       "      <td>773.881</td>\n",
       "    </tr>\n",
       "  </tbody>\n",
       "</table>\n",
       "</div>"
      ],
      "text/plain": [
       "            precio_con_impuestos\n",
       "fecha                           \n",
       "2024-01-01               762.401\n",
       "2024-01-01               631.340\n",
       "2024-01-01               629.740\n",
       "2024-01-01               828.000\n",
       "2024-01-01               773.881"
      ]
     },
     "execution_count": 37,
     "metadata": {},
     "output_type": "execute_result"
    }
   ],
   "source": [
    "# Elimino las columnas bandera, tipo_negocio, provincia, producto y canal_de_comercializacion\n",
    "df_super_al_publico.drop(columns=['bandera'], inplace=True)\n",
    "df_super_al_publico.drop(columns=['tipo_negocio'], inplace=True)\n",
    "df_super_al_publico.drop(columns=['provincia', ], inplace=True)\n",
    "df_super_al_publico.drop(columns=['producto'], inplace=True)\n",
    "df_super_al_publico.drop(columns=['canal_de_comercializacion'], inplace=True)\n",
    "df_super_al_publico.drop(columns=['volumen'], inplace=True)\n",
    "\n",
    "\n",
    "df_super_al_publico.head()"
   ]
  },
  {
   "cell_type": "code",
   "execution_count": 38,
   "id": "9d3735be",
   "metadata": {},
   "outputs": [
    {
     "data": {
      "text/plain": [
       "<Axes: xlabel='fecha'>"
      ]
     },
     "execution_count": 38,
     "metadata": {},
     "output_type": "execute_result"
    },
    {
     "data": {
      "image/png": "[encoded data removed]",
      "text/plain": [
       "<Figure size 640x480 with 1 Axes>"
      ]
     },
     "metadata": {},
     "output_type": "display_data"
    }
   ],
   "source": [
    "# Grafico el precio con impuestos\n",
    "df_super_al_publico.plot()"
   ]
  },
  {
   "cell_type": "code",
   "execution_count": 39,
   "id": "684afd10",
   "metadata": {},
   "outputs": [
    {
     "name": "stderr",
     "output_type": "stream",
     "text": [
      "/tmp/ipykernel_79256/1397892384.py:2: FutureWarning: 'M' is deprecated and will be removed in a future version, please use 'ME' instead.\n",
      "  df_super_al_publico.resample(rule='M').mean()\n"
     ]
    },
    {
     "data": {
      "text/html": [
       "<div>\n",
       "<style scoped>\n",
       "    .dataframe tbody tr th:only-of-type {\n",
       "        vertical-align: middle;\n",
       "    }\n",
       "\n",
       "    .dataframe tbody tr th {\n",
       "        vertical-align: top;\n",
       "    }\n",
       "\n",
       "    .dataframe thead th {\n",
       "        text-align: right;\n",
       "    }\n",
       "</style>\n",
       "<table border=\"1\" class=\"dataframe\">\n",
       "  <thead>\n",
       "    <tr style=\"text-align: right;\">\n",
       "      <th></th>\n",
       "      <th>precio_con_impuestos</th>\n",
       "    </tr>\n",
       "    <tr>\n",
       "      <th>fecha</th>\n",
       "      <th></th>\n",
       "    </tr>\n",
       "  </thead>\n",
       "  <tbody>\n",
       "    <tr>\n",
       "      <th>2024-01-31</th>\n",
       "      <td>779.825791</td>\n",
       "    </tr>\n",
       "    <tr>\n",
       "      <th>2024-02-29</th>\n",
       "      <td>839.165233</td>\n",
       "    </tr>\n",
       "    <tr>\n",
       "      <th>2024-03-31</th>\n",
       "      <td>893.308315</td>\n",
       "    </tr>\n",
       "    <tr>\n",
       "      <th>2024-04-30</th>\n",
       "      <td>937.181899</td>\n",
       "    </tr>\n",
       "    <tr>\n",
       "      <th>2024-05-31</th>\n",
       "      <td>972.997712</td>\n",
       "    </tr>\n",
       "    <tr>\n",
       "      <th>2024-06-30</th>\n",
       "      <td>1010.915160</td>\n",
       "    </tr>\n",
       "    <tr>\n",
       "      <th>2024-07-31</th>\n",
       "      <td>1043.039967</td>\n",
       "    </tr>\n",
       "    <tr>\n",
       "      <th>2024-08-31</th>\n",
       "      <td>1072.008442</td>\n",
       "    </tr>\n",
       "    <tr>\n",
       "      <th>2024-09-30</th>\n",
       "      <td>1113.473067</td>\n",
       "    </tr>\n",
       "    <tr>\n",
       "      <th>2024-10-31</th>\n",
       "      <td>1105.790828</td>\n",
       "    </tr>\n",
       "    <tr>\n",
       "      <th>2024-11-30</th>\n",
       "      <td>1137.009265</td>\n",
       "    </tr>\n",
       "    <tr>\n",
       "      <th>2024-12-31</th>\n",
       "      <td>1161.533596</td>\n",
       "    </tr>\n",
       "  </tbody>\n",
       "</table>\n",
       "</div>"
      ],
      "text/plain": [
       "            precio_con_impuestos\n",
       "fecha                           \n",
       "2024-01-31            779.825791\n",
       "2024-02-29            839.165233\n",
       "2024-03-31            893.308315\n",
       "2024-04-30            937.181899\n",
       "2024-05-31            972.997712\n",
       "2024-06-30           1010.915160\n",
       "2024-07-31           1043.039967\n",
       "2024-08-31           1072.008442\n",
       "2024-09-30           1113.473067\n",
       "2024-10-31           1105.790828\n",
       "2024-11-30           1137.009265\n",
       "2024-12-31           1161.533596"
      ]
     },
     "execution_count": 39,
     "metadata": {},
     "output_type": "execute_result"
    }
   ],
   "source": [
    "# Cálculo de promedios mensuales\n",
    "df_super_al_publico.resample(rule='M').mean()"
   ]
  },
  {
   "cell_type": "code",
   "execution_count": 40,
   "id": "81b37b07",
   "metadata": {},
   "outputs": [
    {
     "name": "stderr",
     "output_type": "stream",
     "text": [
      "/tmp/ipykernel_79256/2545217667.py:1: FutureWarning: 'M' is deprecated and will be removed in a future version, please use 'ME' instead.\n",
      "  df_super_al_publico.resample('M').mean().plot.bar(title='Ventas promedio por mes en 2023');\n"
     ]
    },
    {
     "data": {
      "image/png": "[encoded data removed]",
      "text/plain": [
       "<Figure size 640x480 with 1 Axes>"
      ]
     },
     "metadata": {},
     "output_type": "display_data"
    }
   ],
   "source": [
    "df_super_al_publico.resample('M').mean().plot.bar(title='Ventas promedio por mes en 2023');"
   ]
  },
  {
   "cell_type": "code",
   "execution_count": 41,
   "id": "b3feef5a",
   "metadata": {},
   "outputs": [],
   "source": [
    "import scipy.stats\n",
    "import pylab\n",
    "import matplotlib.pyplot as plt "
   ]
  },
  {
   "cell_type": "code",
   "execution_count": 42,
   "id": "b041a2a9",
   "metadata": {},
   "outputs": [
    {
     "data": {
      "text/plain": [
       "<function matplotlib.pyplot.show(close=None, block=None)>"
      ]
     },
     "execution_count": 42,
     "metadata": {},
     "output_type": "execute_result"
    },
    {
     "data": {
      "image/png": "[encoded data removed]",
      "text/plain": [
       "<Figure size 640x480 with 1 Axes>"
      ]
     },
     "metadata": {},
     "output_type": "display_data"
    }
   ],
   "source": [
    "# Grafico el qqplot\n",
    "scipy.stats.probplot(df_super_al_publico.precio_con_impuestos, plot=pylab)\n",
    "plt.show"
   ]
  },
  {
   "cell_type": "code",
   "execution_count": 43,
   "id": "18eba420",
   "metadata": {},
   "outputs": [
    {
     "data": {
      "image/png": "[encoded data removed]",
      "text/plain": [
       "<Figure size 640x480 with 1 Axes>"
      ]
     },
     "metadata": {},
     "output_type": "display_data"
    }
   ],
   "source": [
    "df_super_al_publico.plot();"
   ]
  },
  {
   "cell_type": "code",
   "execution_count": 44,
   "id": "24b60e2b",
   "metadata": {},
   "outputs": [
    {
     "data": {
      "image/png": "[encoded data removed]",
      "text/plain": [
       "<Figure size 1200x600 with 1 Axes>"
      ]
     },
     "metadata": {},
     "output_type": "display_data"
    }
   ],
   "source": [
    "title='Comportamiento del precio nafta súper'\n",
    "ylabel='Precio ($AR)'\n",
    "xlabel='Fecha'\n",
    "\n",
    "ax = df_super_al_publico.plot(figsize=(12,6),title=title)\n",
    "ax.autoscale(axis='x',tight=True)\n",
    "ax.set(xlabel=xlabel, ylabel=ylabel);"
   ]
  },
  {
   "cell_type": "code",
   "execution_count": 45,
   "id": "59acddf2",
   "metadata": {},
   "outputs": [],
   "source": [
    "import statsmodels.graphics.tsaplots as sgt \n",
    "import statsmodels.tsa.stattools as sts \n",
    "from statsmodels.tsa.seasonal import seasonal_decompose\n",
    "\n",
    "import statsmodels.graphics.tsaplots as sgt\n",
    "from statsmodels.tsa.arima_model import ARIMA\n",
    "from statsmodels.tsa.arima.model import ARIMA\n",
    "from scipy.stats.distributions import chi2\n",
    "import statsmodels.tsa.stattools as sts "
   ]
  },
  {
   "cell_type": "markdown",
   "id": "26019371",
   "metadata": {},
   "source": [
    "### Prueba de estacionariedad"
   ]
  },
  {
   "cell_type": "markdown",
   "id": "7c8ea495",
   "metadata": {},
   "source": [
    "#### Prueba de Dickey-Fuller aumentada (ADF)"
   ]
  },
  {
   "cell_type": "code",
   "execution_count": 46,
   "id": "126ea6a3",
   "metadata": {},
   "outputs": [
    {
     "data": {
      "text/plain": [
       "(-4.441971101611518,\n",
       " 0.0002499789049247302,\n",
       " 55,\n",
       " 49947,\n",
       " {'1%': -3.4304809315095617,\n",
       "  '5%': -2.8615978690368973,\n",
       "  '10%': -2.5668008017746735},\n",
       " 592245.4864556047)"
      ]
     },
     "execution_count": 46,
     "metadata": {},
     "output_type": "execute_result"
    }
   ],
   "source": [
    "sts.adfuller(df_super_al_publico['precio_con_impuestos'])"
   ]
  },
  {
   "cell_type": "markdown",
   "id": "7c3aa68f",
   "metadata": {},
   "source": [
    "- El estadístico de prueba (-4.44) es más negativo que todos los valores críticos, lo que significa que podemos rechazar la hipótesis nula de raíz unitaria en todos los niveles de significancia.\n",
    "- El valor p es muy pequeño (0.00025), confirmando que debemos rechazar la hipótesis nula.\n",
    "- Por lo tanto, la serie de tiempo 'precio_con_impuestos' es estacionaria, lo que indica que sus propiedades estadísticas como media, varianza y autocorrelación se mantienen constantes a lo largo del tiempo."
   ]
  },
  {
   "cell_type": "markdown",
   "id": "5e73ae15",
   "metadata": {},
   "source": [
    "### Función de Autocorrelación Parcial (PACF)"
   ]
  },
  {
   "cell_type": "code",
   "execution_count": 47,
   "id": "0aa312d0",
   "metadata": {},
   "outputs": [
    {
     "data": {
      "image/png": "[encoded data removed]",
      "text/plain": [
       "<Figure size 640x480 with 1 Axes>"
      ]
     },
     "metadata": {},
     "output_type": "display_data"
    }
   ],
   "source": [
    "sgt.plot_pacf(df_super_al_publico['precio_con_impuestos'], zero = False, lags = 40)\n",
    "plt.title(\"PACF para precio_con_impuestos\", size = 20)\n",
    "plt.show()"
   ]
  },
  {
   "cell_type": "markdown",
   "id": "a0f0ec26",
   "metadata": {},
   "source": [
    "Resultado:\n",
    "- El primer rezago tiene una autocorrelación parcial alta (aproximadamente 0.7), indicando fuerte dependencia directa con el valor anterior\n",
    "- Los siguientes rezagos tienen valores positivos pero decrecientes\n",
    "- A partir del rezago 10 aproximadamente, los valores son pequeños pero continúan siendo ligeramente positivos\n",
    "\n",
    "Esta estructura de PACF, combinada con tu prueba ADF anterior (que indicó que la serie es estacionaria), sugiere que:\n",
    "\n",
    "- La serie temporal tiene una estructura de autocorrelación significativa\n",
    "- Un modelo autoregresivo (AR) probablemente necesitaría varios términos (entre 5-10) para capturar adecuadamente la dinámica de los datos\n",
    "- No hay valores negativos significativos, lo que es información útil para la especificación del modelo"
   ]
  },
  {
   "cell_type": "markdown",
   "id": "2128407b",
   "metadata": {},
   "source": [
    "### Modelo AR(1)"
   ]
  },
  {
   "cell_type": "code",
   "execution_count": 48,
   "id": "6f78fe67",
   "metadata": {},
   "outputs": [
    {
     "data": {
      "text/html": [
       "<div>\n",
       "<style scoped>\n",
       "    .dataframe tbody tr th:only-of-type {\n",
       "        vertical-align: middle;\n",
       "    }\n",
       "\n",
       "    .dataframe tbody tr th {\n",
       "        vertical-align: top;\n",
       "    }\n",
       "\n",
       "    .dataframe thead th {\n",
       "        text-align: right;\n",
       "    }\n",
       "</style>\n",
       "<table border=\"1\" class=\"dataframe\">\n",
       "  <thead>\n",
       "    <tr style=\"text-align: right;\">\n",
       "      <th></th>\n",
       "      <th>precio_con_impuestos</th>\n",
       "    </tr>\n",
       "    <tr>\n",
       "      <th>fecha</th>\n",
       "      <th></th>\n",
       "    </tr>\n",
       "  </thead>\n",
       "  <tbody>\n",
       "    <tr>\n",
       "      <th>2024-01-01</th>\n",
       "      <td>762.401</td>\n",
       "    </tr>\n",
       "    <tr>\n",
       "      <th>2024-01-01</th>\n",
       "      <td>631.340</td>\n",
       "    </tr>\n",
       "    <tr>\n",
       "      <th>2024-01-01</th>\n",
       "      <td>629.740</td>\n",
       "    </tr>\n",
       "    <tr>\n",
       "      <th>2024-01-01</th>\n",
       "      <td>828.000</td>\n",
       "    </tr>\n",
       "    <tr>\n",
       "      <th>2024-01-01</th>\n",
       "      <td>773.881</td>\n",
       "    </tr>\n",
       "  </tbody>\n",
       "</table>\n",
       "</div>"
      ],
      "text/plain": [
       "            precio_con_impuestos\n",
       "fecha                           \n",
       "2024-01-01               762.401\n",
       "2024-01-01               631.340\n",
       "2024-01-01               629.740\n",
       "2024-01-01               828.000\n",
       "2024-01-01               773.881"
      ]
     },
     "execution_count": 48,
     "metadata": {},
     "output_type": "execute_result"
    }
   ],
   "source": [
    "df_super_al_publico.head()"
   ]
  },
  {
   "cell_type": "code",
   "execution_count": 49,
   "id": "eead7f4b",
   "metadata": {},
   "outputs": [
    {
     "name": "stderr",
     "output_type": "stream",
     "text": [
      "/home/jorge/miniconda3/envs/ast-env/lib/python3.10/site-packages/statsmodels/tsa/base/tsa_model.py:473: ValueWarning: A date index has been provided, but it has no associated frequency information and so will be ignored when e.g. forecasting.\n",
      "  self._init_dates(dates, freq)\n",
      "/home/jorge/miniconda3/envs/ast-env/lib/python3.10/site-packages/statsmodels/tsa/base/tsa_model.py:473: ValueWarning: A date index has been provided, but it has no associated frequency information and so will be ignored when e.g. forecasting.\n",
      "  self._init_dates(dates, freq)\n",
      "/home/jorge/miniconda3/envs/ast-env/lib/python3.10/site-packages/statsmodels/tsa/base/tsa_model.py:473: ValueWarning: A date index has been provided, but it has no associated frequency information and so will be ignored when e.g. forecasting.\n",
      "  self._init_dates(dates, freq)\n"
     ]
    }
   ],
   "source": [
    "nafta_super_model_ar_1 = ARIMA(df_super_al_publico['precio_con_impuestos'], order=(1,0,0))"
   ]
  },
  {
   "cell_type": "code",
   "execution_count": 50,
   "id": "53a963d0",
   "metadata": {},
   "outputs": [],
   "source": [
    "nafta_super_results_ar_1 = nafta_super_model_ar_1.fit()"
   ]
  },
  {
   "cell_type": "code",
   "execution_count": 51,
   "id": "ec497151",
   "metadata": {},
   "outputs": [
    {
     "data": {
      "text/html": [
       "<table class=\"simpletable\">\n",
       "<caption>SARIMAX Results</caption>\n",
       "<tr>\n",
       "  <th>Dep. Variable:</th>   <td>precio_con_impuestos</td> <th>  No. Observations:  </th>    <td>50003</td>   \n",
       "</tr>\n",
       "<tr>\n",
       "  <th>Model:</th>              <td>ARIMA(1, 0, 0)</td>    <th>  Log Likelihood     </th> <td>-304265.433</td>\n",
       "</tr>\n",
       "<tr>\n",
       "  <th>Date:</th>              <td>Fri, 18 Apr 2025</td>   <th>  AIC                </th> <td>608536.865</td> \n",
       "</tr>\n",
       "<tr>\n",
       "  <th>Time:</th>                  <td>22:19:28</td>       <th>  BIC                </th> <td>608563.325</td> \n",
       "</tr>\n",
       "<tr>\n",
       "  <th>Sample:</th>                    <td>0</td>          <th>  HQIC               </th> <td>608545.154</td> \n",
       "</tr>\n",
       "<tr>\n",
       "  <th></th>                       <td> - 50003</td>       <th>                     </th>      <td> </td>     \n",
       "</tr>\n",
       "<tr>\n",
       "  <th>Covariance Type:</th>          <td>opg</td>         <th>                     </th>      <td> </td>     \n",
       "</tr>\n",
       "</table>\n",
       "<table class=\"simpletable\">\n",
       "<tr>\n",
       "     <td></td>       <th>coef</th>     <th>std err</th>      <th>z</th>      <th>P>|z|</th>  <th>[0.025</th>    <th>0.975]</th>  \n",
       "</tr>\n",
       "<tr>\n",
       "  <th>const</th>  <td> 1005.2055</td> <td>    1.686</td> <td>  596.157</td> <td> 0.000</td> <td> 1001.901</td> <td> 1008.510</td>\n",
       "</tr>\n",
       "<tr>\n",
       "  <th>ar.L1</th>  <td>    0.7063</td> <td>    0.002</td> <td>  391.413</td> <td> 0.000</td> <td>    0.703</td> <td>    0.710</td>\n",
       "</tr>\n",
       "<tr>\n",
       "  <th>sigma2</th> <td> 1.129e+04</td> <td>   27.020</td> <td>  417.964</td> <td> 0.000</td> <td> 1.12e+04</td> <td> 1.13e+04</td>\n",
       "</tr>\n",
       "</table>\n",
       "<table class=\"simpletable\">\n",
       "<tr>\n",
       "  <th>Ljung-Box (L1) (Q):</th>     <td>2616.38</td> <th>  Jarque-Bera (JB):  </th> <td>597539.18</td>\n",
       "</tr>\n",
       "<tr>\n",
       "  <th>Prob(Q):</th>                 <td>0.00</td>   <th>  Prob(JB):          </th>   <td>0.00</td>   \n",
       "</tr>\n",
       "<tr>\n",
       "  <th>Heteroskedasticity (H):</th>  <td>1.35</td>   <th>  Skew:              </th>   <td>-0.55</td>  \n",
       "</tr>\n",
       "<tr>\n",
       "  <th>Prob(H) (two-sided):</th>     <td>0.00</td>   <th>  Kurtosis:          </th>   <td>19.90</td>  \n",
       "</tr>\n",
       "</table><br/><br/>Warnings:<br/>[1] Covariance matrix calculated using the outer product of gradients (complex-step)."
      ],
      "text/latex": [
       "\\begin{center}\n",
       "\\begin{tabular}{lclc}\n",
       "\\toprule\n",
       "\\textbf{Dep. Variable:}          & precio\\_con\\_impuestos & \\textbf{  No. Observations:  } &    50003     \\\\\n",
       "\\textbf{Model:}                  &     ARIMA(1, 0, 0)     & \\textbf{  Log Likelihood     } & -304265.433  \\\\\n",
       "\\textbf{Date:}                   &    Fri, 18 Apr 2025    & \\textbf{  AIC                } &  608536.865  \\\\\n",
       "\\textbf{Time:}                   &        22:19:28        & \\textbf{  BIC                } &  608563.325  \\\\\n",
       "\\textbf{Sample:}                 &           0            & \\textbf{  HQIC               } &  608545.154  \\\\\n",
       "\\textbf{}                        &         - 50003        & \\textbf{                     } &              \\\\\n",
       "\\textbf{Covariance Type:}        &          opg           & \\textbf{                     } &              \\\\\n",
       "\\bottomrule\n",
       "\\end{tabular}\n",
       "\\begin{tabular}{lcccccc}\n",
       "                & \\textbf{coef} & \\textbf{std err} & \\textbf{z} & \\textbf{P$> |$z$|$} & \\textbf{[0.025} & \\textbf{0.975]}  \\\\\n",
       "\\midrule\n",
       "\\textbf{const}  &    1005.2055  &        1.686     &   596.157  &         0.000        &     1001.901    &     1008.510     \\\\\n",
       "\\textbf{ar.L1}  &       0.7063  &        0.002     &   391.413  &         0.000        &        0.703    &        0.710     \\\\\n",
       "\\textbf{sigma2} &    1.129e+04  &       27.020     &   417.964  &         0.000        &     1.12e+04    &     1.13e+04     \\\\\n",
       "\\bottomrule\n",
       "\\end{tabular}\n",
       "\\begin{tabular}{lclc}\n",
       "\\textbf{Ljung-Box (L1) (Q):}     & 2616.38 & \\textbf{  Jarque-Bera (JB):  } & 597539.18  \\\\\n",
       "\\textbf{Prob(Q):}                &   0.00  & \\textbf{  Prob(JB):          } &    0.00    \\\\\n",
       "\\textbf{Heteroskedasticity (H):} &   1.35  & \\textbf{  Skew:              } &   -0.55    \\\\\n",
       "\\textbf{Prob(H) (two-sided):}    &   0.00  & \\textbf{  Kurtosis:          } &   19.90    \\\\\n",
       "\\bottomrule\n",
       "\\end{tabular}\n",
       "%\\caption{SARIMAX Results}\n",
       "\\end{center}\n",
       "\n",
       "Warnings: \\newline\n",
       " [1] Covariance matrix calculated using the outer product of gradients (complex-step)."
      ],
      "text/plain": [
       "<class 'statsmodels.iolib.summary.Summary'>\n",
       "\"\"\"\n",
       "                                SARIMAX Results                                 \n",
       "================================================================================\n",
       "Dep. Variable:     precio_con_impuestos   No. Observations:                50003\n",
       "Model:                   ARIMA(1, 0, 0)   Log Likelihood             -304265.433\n",
       "Date:                  Fri, 18 Apr 2025   AIC                         608536.865\n",
       "Time:                          22:19:28   BIC                         608563.325\n",
       "Sample:                               0   HQIC                        608545.154\n",
       "                                - 50003                                         \n",
       "Covariance Type:                    opg                                         \n",
       "==============================================================================\n",
       "                 coef    std err          z      P>|z|      [0.025      0.975]\n",
       "------------------------------------------------------------------------------\n",
       "const       1005.2055      1.686    596.157      0.000    1001.901    1008.510\n",
       "ar.L1          0.7063      0.002    391.413      0.000       0.703       0.710\n",
       "sigma2      1.129e+04     27.020    417.964      0.000    1.12e+04    1.13e+04\n",
       "===================================================================================\n",
       "Ljung-Box (L1) (Q):                2616.38   Jarque-Bera (JB):            597539.18\n",
       "Prob(Q):                              0.00   Prob(JB):                         0.00\n",
       "Heteroskedasticity (H):               1.35   Skew:                            -0.55\n",
       "Prob(H) (two-sided):                  0.00   Kurtosis:                        19.90\n",
       "===================================================================================\n",
       "\n",
       "Warnings:\n",
       "[1] Covariance matrix calculated using the outer product of gradients (complex-step).\n",
       "\"\"\""
      ]
     },
     "execution_count": 51,
     "metadata": {},
     "output_type": "execute_result"
    }
   ],
   "source": [
    "nafta_super_results_ar_1.summary()"
   ]
  },
  {
   "cell_type": "markdown",
   "id": "fc76c18d",
   "metadata": {},
   "source": [
    "# Análisis del Modelo ARIMA(1,0,0)\n",
    "\n",
    "El resultado de tu modelo AR(1) muestra lo siguiente:\n",
    "\n",
    "## Parámetros principales:\n",
    "- **Constante (const)**: 1005.2055 (p < 0.001) - Este es el nivel base de los precios\n",
    "- **Coeficiente AR(1)**: 0.7063 (p < 0.001) - Indica una fuerte persistencia de los precios, donde aproximadamente el 70.6% del valor previo influye en el valor actual\n",
    "\n",
    "## Diagnósticos:\n",
    "- **Ljung-Box**: 2616.38 (p = 0.00) - Indica autocorrelación residual significativa\n",
    "- **Jarque-Bera**: 597539.18 (p = 0.00) - Los residuos no siguen una distribución normal\n",
    "- **Heteroscedasticidad**: 1.35 (p = 0.00) - Hay varianza no constante en los residuos\n",
    "- **Asimetría**: -0.55 - Ligera asimetría negativa\n",
    "- **Curtosis**: 19.90 - Distribución con colas muy pesadas\n",
    "\n",
    "## Interpretación:\n",
    "El modelo capta una estructura autorregresiva significativa, pero los diagnósticos sugieren que un AR(1) no es suficiente para modelar completamente la dinámica de los precios.\n",
    "\n",
    "## Recomendaciones:\n",
    "1. Prueba modelos con más términos AR (ARIMA(2,0,0), ARIMA(3,0,0), etc.)\n",
    "2. Considera agregar términos MA (ARIMA(1,0,1), etc.)\n",
    "3. Evalúa si hay patrones estacionales en los datos\n",
    "4. Considera transformaciones logarítmicas para abordar la no normalidad\n",
    "\n",
    "¿Quieres que te ayude a implementar alguna de estas recomendaciones?"
   ]
  },
  {
   "cell_type": "code",
   "execution_count": 53,
   "id": "89462c6d",
   "metadata": {},
   "outputs": [
    {
     "name": "stdout",
     "output_type": "stream",
     "text": [
      "Transformación logarítmica aplicada exitosamente.\n"
     ]
    },
    {
     "data": {
      "image/png": "[encoded data removed]",
      "text/plain": [
       "<Figure size 1200x600 with 2 Axes>"
      ]
     },
     "metadata": {},
     "output_type": "display_data"
    },
    {
     "name": "stderr",
     "output_type": "stream",
     "text": [
      "/home/jorge/miniconda3/envs/ast-env/lib/python3.10/site-packages/statsmodels/tsa/base/tsa_model.py:473: ValueWarning: A date index has been provided, but it has no associated frequency information and so will be ignored when e.g. forecasting.\n",
      "  self._init_dates(dates, freq)\n",
      "/home/jorge/miniconda3/envs/ast-env/lib/python3.10/site-packages/statsmodels/tsa/base/tsa_model.py:473: ValueWarning: A date index has been provided, but it has no associated frequency information and so will be ignored when e.g. forecasting.\n",
      "  self._init_dates(dates, freq)\n",
      "/home/jorge/miniconda3/envs/ast-env/lib/python3.10/site-packages/statsmodels/tsa/base/tsa_model.py:473: ValueWarning: A date index has been provided, but it has no associated frequency information and so will be ignored when e.g. forecasting.\n",
      "  self._init_dates(dates, freq)\n"
     ]
    },
    {
     "name": "stdout",
     "output_type": "stream",
     "text": [
      "\n",
      "Resumen del modelo AR(1) ajustado a los datos transformados logarítmicamente:\n",
      "                                SARIMAX Results                                 \n",
      "================================================================================\n",
      "Dep. Variable:     precio_con_impuestos   No. Observations:                50003\n",
      "Model:                   ARIMA(1, 0, 0)   Log Likelihood               -2575.336\n",
      "Date:                  Fri, 18 Apr 2025   AIC                           5156.672\n",
      "Time:                          22:20:39   BIC                           5183.132\n",
      "Sample:                               0   HQIC                          5164.961\n",
      "                                - 50003                                         \n",
      "Covariance Type:                    opg                                         \n",
      "==============================================================================\n",
      "                 coef    std err          z      P>|z|      [0.025      0.975]\n",
      "------------------------------------------------------------------------------\n",
      "const          6.8951      0.004   1880.098      0.000       6.888       6.902\n",
      "ar.L1          0.3900      0.000    785.868      0.000       0.389       0.391\n",
      "sigma2         0.0649   4.57e-05   1420.662      0.000       0.065       0.065\n",
      "===================================================================================\n",
      "Ljung-Box (L1) (Q):                 282.62   Jarque-Bera (JB):         567304381.70\n",
      "Prob(Q):                              0.00   Prob(JB):                         0.00\n",
      "Heteroskedasticity (H):               3.58   Skew:                           -17.29\n",
      "Prob(H) (two-sided):                  0.00   Kurtosis:                       523.67\n",
      "===================================================================================\n",
      "\n",
      "Warnings:\n",
      "[1] Covariance matrix calculated using the outer product of gradients (complex-step).\n",
      "\n",
      "--- Diagnóstico de Residuos (Modelo Log) ---\n"
     ]
    },
    {
     "data": {
      "image/png": "[encoded data removed]",
      "text/plain": [
       "<Figure size 1200x800 with 4 Axes>"
      ]
     },
     "metadata": {},
     "output_type": "display_data"
    }
   ],
   "source": [
    "import numpy as np\n",
    "import pandas as pd # Asegúrate de tener pandas importado si df_super_al_publico es un DataFrame\n",
    "from statsmodels.tsa.arima.model import ARIMA\n",
    "import matplotlib.pyplot as plt # Útil para diagnósticos\n",
    "import statsmodels.api as sm # Para gráficos de diagnóstico como Q-Q plot\n",
    "\n",
    "# --- Asumiendo que ya tienes tu DataFrame 'df_super_al_publico' cargado ---\n",
    "# Ejemplo de cómo podría ser tu DataFrame (solo para que el código sea ejecutable):\n",
    "# dates = pd.date_range(start='2020-01-01', periods=100, freq='M')\n",
    "# data = np.random.lognormal(mean=np.log(150), sigma=0.1, size=100).cumsum() / 10 + 100\n",
    "# df_super_al_publico = pd.DataFrame({'precio_con_impuestos': data}, index=dates)\n",
    "# --- Fin del ejemplo ---\n",
    "\n",
    "# 1. Extrae la serie de tiempo original\n",
    "serie_original = df_super_al_publico['precio_con_impuestos']\n",
    "\n",
    "# 2. Aplica la transformación logarítmica\n",
    "#    Asegúrate de que todos los precios sean positivos. Si hay ceros o negativos,\n",
    "#    necesitarás manejarlos (ej. sumando una constante pequeña antes del log).\n",
    "#    Para precios, esto usualmente no es un problema.\n",
    "try:\n",
    "    serie_log = np.log(serie_original)\n",
    "    print(\"Transformación logarítmica aplicada exitosamente.\")\n",
    "\n",
    "    # Opcional: Visualiza la serie original y la transformada\n",
    "    plt.figure(figsize=(12, 6))\n",
    "    plt.subplot(1, 2, 1)\n",
    "    plt.plot(serie_original)\n",
    "    plt.title('Serie Original (Precio)')\n",
    "    plt.grid(True)\n",
    "    plt.subplot(1, 2, 2)\n",
    "    plt.plot(serie_log)\n",
    "    plt.title('Serie Transformada (Log(Precio))')\n",
    "    plt.grid(True)\n",
    "    plt.tight_layout()\n",
    "    plt.show()\n",
    "\n",
    "    # 3. Define y ajusta el modelo ARMA(1,0) / AR(1) en la serie transformada\n",
    "    model_log_ar_1 = ARIMA(serie_log, order=(1, 0, 0))\n",
    "    results_log_ar_1 = model_log_ar_1.fit()\n",
    "\n",
    "    # 4. Muestra el resumen del nuevo modelo\n",
    "    print(\"\\nResumen del modelo AR(1) ajustado a los datos transformados logarítmicamente:\")\n",
    "    print(results_log_ar_1.summary())\n",
    "\n",
    "    # 5. (MUY IMPORTANTE) Revisa los diagnósticos del nuevo modelo\n",
    "    #    Verifica si los residuos ahora se parecen más a ruido blanco normal.\n",
    "    print(\"\\n--- Diagnóstico de Residuos (Modelo Log) ---\")\n",
    "    \n",
    "    # Extrae los residuos\n",
    "    residuals_log = results_log_ar_1.resid\n",
    "    \n",
    "    # Gráficos de diagnóstico\n",
    "    fig, ax = plt.subplots(2, 2, figsize=(12, 8))\n",
    "    \n",
    "    # Gráfico de residuos vs tiempo\n",
    "    residuals_log.plot(title=\"Residuos (Log)\", ax=ax[0, 0])\n",
    "    ax[0, 0].grid(True)\n",
    "    \n",
    "    # Histograma de residuos\n",
    "    residuals_log.plot(kind='hist', bins=30, title='Histograma de Residuos (Log)', density=True, ax=ax[0, 1])\n",
    "    residuals_log.plot(kind='kde', title='Histograma de Residuos (Log)', ax=ax[0, 1]) # Curva de densidad\n",
    "    ax[0, 1].grid(True)\n",
    "    \n",
    "    # Gráfico Q-Q\n",
    "    sm.qqplot(residuals_log, line='s', ax=ax[1, 0]) # 's' ajusta línea a los datos\n",
    "    ax[1, 0].set_title('Q-Q Plot (Log)')\n",
    "    ax[1, 0].grid(True)\n",
    "    \n",
    "    # Función de Autocorrelación (ACF) de los residuos\n",
    "    sm.graphics.tsa.plot_acf(residuals_log, lags=30, ax=ax[1, 1])\n",
    "    ax[1, 1].set_title('ACF de Residuos (Log)')\n",
    "    ax[1, 1].grid(True)\n",
    "    \n",
    "    plt.tight_layout()\n",
    "    plt.show()\n",
    "\n",
    "    # Revisa específicamente la prueba de Jarque-Bera (Prob(JB)) en el summary.\n",
    "    # Un valor p > 0.05 sugeriría que no se puede rechazar la hipótesis nula de normalidad.\n",
    "    # Revisa también la prueba de Ljung-Box (Prob(Q)) para autocorrelación en los residuos.\n",
    "    # Un valor p > 0.05 sugeriría que no hay autocorrelación significativa (ruido blanco).\n",
    "\n",
    "except ValueError as e:\n",
    "    print(f\"Error al aplicar el logaritmo: {e}\")\n",
    "    print(\"Verifica si hay valores no positivos (cero o negativos) en tu serie 'precio_con_impuestos'.\")"
   ]
  },
  {
   "cell_type": "markdown",
   "id": "54996e4b",
   "metadata": {},
   "source": [
    "### Modelo AR(2)"
   ]
  },
  {
   "cell_type": "code",
   "execution_count": null,
   "id": "1e19a6e7",
   "metadata": {},
   "outputs": [],
   "source": [
    "nafta_super_model_ar_2 = ARIMA(df_super_al_publico['precio_con_impuestos'], order=(2,0,0))"
   ]
  },
  {
   "cell_type": "code",
   "execution_count": null,
   "id": "13dc3f0a",
   "metadata": {},
   "outputs": [],
   "source": [
    "nafta_super_results_ar_2 = nafta_super_model_ar_2.fit()"
   ]
  },
  {
   "cell_type": "code",
   "execution_count": null,
   "id": "32366524",
   "metadata": {},
   "outputs": [],
   "source": [
    "nafta_super_results_ar_2.summary()"
   ]
  },
  {
   "cell_type": "markdown",
   "id": "1b0967fa",
   "metadata": {},
   "source": [
    "# Análisis del Modelo ARIMA(2,0,0)\n",
    "\n",
    "## Comparación con AR(1):\n",
    "- **Mejora significativa** en AIC: 602997.81 vs 608536.87 (menor es mejor)\n",
    "- **Log Likelihood** mejoró: -301494.90 vs -304265.43\n",
    "- **Ljung-Box** redujo considerablemente: 245.88 vs 2616.38 (aunque sigue siendo significativo)\n",
    "\n",
    "## Parámetros del modelo:\n",
    "- **Constante**: 1005.2055 (igual que en AR(1))\n",
    "- **AR(1)**: 0.4774 - Menor que en el modelo anterior (0.7063)\n",
    "- **AR(2)**: 0.3240 - Estadísticamente significativo, validando la inclusión del segundo rezago\n",
    "- **Sigma2**: 1.011e+04 - Menor varianza residual que AR(1)\n",
    "\n",
    "## Diagnósticos:\n",
    "- La autocorrelación residual mejoró sustancialmente, pero sigue siendo significativa\n",
    "- Los problemas de no normalidad persisten (incluso aumentaron: kurtosis 22.65 vs 19.90)\n",
    "- La heteroscedasticidad empeoró ligeramente (1.45 vs 1.35)\n",
    "\n",
    "## Conclusiones:\n",
    "1. El AR(2) captura mejor la dinámica de los precios, confirmando que el segundo rezago aporta información predictiva importante\n",
    "2. La suma de coeficientes AR (0.4774 + 0.3240 = 0.8014) indica alta persistencia en la serie\n",
    "\n",
    "## Recomendaciones:\n",
    "1. Prueba un modelo AR(3) para ver si continúa la mejora\n",
    "2. Considera agregar términos de media móvil (ARMA)\n",
    "3. Explora transformaciones logarítmicas o diferenciación para abordar la heteroscedasticidad y no normalidad\n",
    "4. Verifica si hay estacionalidad o cambios estructurales en tus datos\n",
    "\n",
    "¿Quieres probar alguna de estas recomendaciones o examinar los residuos del modelo actual?"
   ]
  },
  {
   "cell_type": "markdown",
   "id": "2da6e348",
   "metadata": {},
   "source": [
    "### Modelo AR(3)"
   ]
  },
  {
   "cell_type": "code",
   "execution_count": null,
   "id": "0ff67520",
   "metadata": {},
   "outputs": [],
   "source": [
    "nafta_super_model_ar_3 = ARIMA(df_super_al_publico['precio_con_impuestos'], order=(3,0,0))"
   ]
  },
  {
   "cell_type": "code",
   "execution_count": null,
   "id": "e314dcd6",
   "metadata": {},
   "outputs": [],
   "source": [
    "nafta_super_results_ar_3 = nafta_super_model_ar_3.fit()"
   ]
  },
  {
   "cell_type": "code",
   "execution_count": null,
   "id": "4e7c3517",
   "metadata": {},
   "outputs": [],
   "source": [
    "nafta_super_results_ar_3.summary()"
   ]
  },
  {
   "cell_type": "markdown",
   "id": "38a3a662",
   "metadata": {},
   "source": [
    "# Análisis del Modelo ARIMA(3,0,0)\n",
    "\n",
    "## Progresión de mejora en los modelos:\n",
    "- **AR(1)**: AIC = 608536.87\n",
    "- **AR(2)**: AIC = 602997.81\n",
    "- **AR(3)**: AIC = 600593.81\n",
    "\n",
    "La tendencia de mejora continúa, confirmando que cada término AR adicional captura información relevante de la dinámica de precios.\n",
    "\n",
    "## Parámetros del AR(3):\n",
    "- **Constante**: 1005.2055 (consistente con modelos anteriores)\n",
    "- **AR(1)**: 0.4071 (reducido desde AR(2))\n",
    "- **AR(2)**: 0.2205 (reducido desde AR(2))\n",
    "- **AR(3)**: 0.2169 (nuevo y significativo)\n",
    "- Suma total de coeficientes: 0.8445 (alta persistencia)\n",
    "\n",
    "## Mejoras notables:\n",
    "- **Reducción drástica** en la autocorrelación residual: Ljung-Box Q = 60.57 vs 245.88 en AR(2)\n",
    "- **Menor varianza residual**: 9633.14 vs 10110 en AR(2)\n",
    "- **Log-likelihood mejorado**: -300291.91 vs -301494.90 en AR(2)\n",
    "\n",
    "## Preocupaciones persistentes:\n",
    "- La no normalidad está empeorando (Jarque-Bera: 916020.99, kurtosis: 23.88)\n",
    "- Heteroscedasticidad ligeramente mayor (1.50 vs 1.45)\n",
    "- Asimetría más negativa (-0.95 vs -0.79)\n",
    "\n",
    "## Recomendaciones:\n",
    "1. **Evaluar AR(4)** para ver si continúa la mejora significativa\n",
    "2. **Incorporar términos MA** para abordar la estructura restante en los residuos (probar ARMA(3,1))\n",
    "3. **Transformación logarítmica** de los precios para:\n",
    "   - Estabilizar la varianza (abordar heteroscedasticidad)\n",
    "   - Reducir el impacto de valores extremos (mejorar normalidad)\n",
    "4. **Verificar estructuralmente** los datos buscando:\n",
    "   - Cambios de régimen\n",
    "   - Valores atípicos influyentes\n",
    "\n",
    "¿Te gustaría probar alguna de estas estrategias? La transformación logarítmica podría ser particularmente útil para abordar los problemas de diagnóstico persistentes."
   ]
  },
  {
   "cell_type": "markdown",
   "id": "381a6f46",
   "metadata": {},
   "source": [
    "### Modelo AR(4)"
   ]
  },
  {
   "cell_type": "code",
   "execution_count": null,
   "id": "64e257a0",
   "metadata": {},
   "outputs": [],
   "source": [
    "nafta_super_model_ar_15 = ARIMA(df_super_al_publico['precio_con_impuestos'], order=(15,0,0))"
   ]
  },
  {
   "cell_type": "code",
   "execution_count": null,
   "id": "8fda04fe",
   "metadata": {},
   "outputs": [],
   "source": [
    "nafta_super_results_ar_15 = nafta_super_model_ar_15.fit()"
   ]
  },
  {
   "cell_type": "code",
   "execution_count": null,
   "id": "966428c0",
   "metadata": {},
   "outputs": [],
   "source": [
    "nafta_super_results_ar_15.summary()"
   ]
  },
  {
   "cell_type": "code",
   "execution_count": null,
   "id": "ecfaf8dd",
   "metadata": {},
   "outputs": [],
   "source": [
    "\n",
    "nafta_super_model_arima_301 = ARIMA(df_super_al_publico['precio_con_impuestos'], order=(3,0,1))\n",
    "nafta_super_results_arima_301 = nafta_super_model_arima_301.fit()\n",
    "print(nafta_super_results_arima_301.summary())"
   ]
  },
  {
   "cell_type": "code",
   "execution_count": null,
   "id": "f1398d0a",
   "metadata": {},
   "outputs": [],
   "source": [
    "# 1. Primero, verifica si hay valores negativos o ceros en tu serie\n",
    "min_value = df_super_al_publico['precio_con_impuestos'].min()\n",
    "print(f\"Valor mínimo en la serie: {min_value}\")\n",
    "\n",
    "# 2. Aplica la transformación logarítmica\n",
    "# Si todos los valores son positivos:\n",
    "df_super_al_publico['log_precio'] = np.log(df_super_al_publico['precio_con_impuestos'])\n",
    "\n",
    "# 3. Visualiza la distribución para comparar\n",
    "import matplotlib.pyplot as plt\n",
    "fig, (ax1, ax2) = plt.subplots(1, 2, figsize=(14, 5))\n",
    "\n",
    "# Histograma de los datos originales\n",
    "ax1.hist(df_super_al_publico['precio_con_impuestos'], bins=50, alpha=0.7)\n",
    "ax1.set_title('Distribución Original')\n",
    "ax1.set_xlabel('Precio con Impuestos')\n",
    "\n",
    "# Histograma de los datos transformados\n",
    "ax2.hist(df_super_al_publico['log_precio'], bins=50, alpha=0.7, color='green')\n",
    "ax2.set_title('Distribución Log-transformada')\n",
    "ax2.set_xlabel('Log(Precio con Impuestos)')\n",
    "\n",
    "plt.tight_layout()\n",
    "plt.show()\n",
    "\n",
    "# 4. Ajusta el modelo ARIMA a los datos transformados\n",
    "modelo_log_arima = ARIMA(df_super_al_publico['log_precio'], order=(3, 0, 1))\n",
    "resultados_log_arima = modelo_log_arima.fit()\n",
    "print(resultados_log_arima.summary())"
   ]
  },
  {
   "cell_type": "code",
   "execution_count": null,
   "id": "e4079a78",
   "metadata": {},
   "outputs": [],
   "source": [
    "# Modelo con diferenciación\n",
    "modelo_log_arima_d1 = ARIMA(df_super_al_publico['log_precio'], order=(2, 1, 1))\n",
    "resultados_log_arima_d1 = modelo_log_arima_d1.fit()\n",
    "print(resultados_log_arima_d1.summary())"
   ]
  },
  {
   "cell_type": "code",
   "execution_count": null,
   "id": "58fee9ba",
   "metadata": {},
   "outputs": [],
   "source": []
  }
 ],
 "metadata": {
  "kernelspec": {
   "display_name": "ast-env",
   "language": "python",
   "name": "python3"
  },
  "language_info": {
   "codemirror_mode": {
    "name": "ipython",
    "version": 3
   },
   "file_extension": ".py",
   "mimetype": "text/x-python",
   "name": "python",
   "nbconvert_exporter": "python",
   "pygments_lexer": "ipython3",
   "version": "3.10.16"
  }
 },
 "nbformat": 4,
 "nbformat_minor": 5
}
