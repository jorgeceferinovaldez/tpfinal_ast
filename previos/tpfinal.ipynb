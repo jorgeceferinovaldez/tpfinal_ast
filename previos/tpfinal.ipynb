{
 "cells": [
  {
   "cell_type": "code",
   "execution_count": 2,
   "id": "16496135",
   "metadata": {},
   "outputs": [],
   "source": [
    "import pandas as pd\n",
    "import numpy as np"
   ]
  },
  {
   "cell_type": "code",
   "execution_count": 3,
   "id": "afb04d1e",
   "metadata": {},
   "outputs": [],
   "source": [
    "#Cargar los datos\n",
    "df = pd.read_csv('data/precios-eess-2025-.csv')"
   ]
  },
  {
   "cell_type": "code",
   "execution_count": 4,
   "id": "a09b057e",
   "metadata": {},
   "outputs": [
    {
     "data": {
      "text/html": [
       "<div>\n",
       "<style scoped>\n",
       "    .dataframe tbody tr th:only-of-type {\n",
       "        vertical-align: middle;\n",
       "    }\n",
       "\n",
       "    .dataframe tbody tr th {\n",
       "        vertical-align: top;\n",
       "    }\n",
       "\n",
       "    .dataframe thead th {\n",
       "        text-align: right;\n",
       "    }\n",
       "</style>\n",
       "<table border=\"1\" class=\"dataframe\">\n",
       "  <thead>\n",
       "    <tr style=\"text-align: right;\">\n",
       "      <th></th>\n",
       "      <th>fecha</th>\n",
       "      <th>periodo</th>\n",
       "      <th>operador</th>\n",
       "      <th>nro_inscripcion</th>\n",
       "      <th>bandera</th>\n",
       "      <th>fecha_de_baja</th>\n",
       "      <th>cuit</th>\n",
       "      <th>tipo_negocio</th>\n",
       "      <th>direccion</th>\n",
       "      <th>localidad</th>\n",
       "      <th>...</th>\n",
       "      <th>precio_surtidor</th>\n",
       "      <th>no_movimientos</th>\n",
       "      <th>excentos</th>\n",
       "      <th>impuesto_combustible_liquidos</th>\n",
       "      <th>impuesto_dioxido_carbono</th>\n",
       "      <th>tasa_vial</th>\n",
       "      <th>tasa_municipal</th>\n",
       "      <th>ingresos_brutos</th>\n",
       "      <th>iva</th>\n",
       "      <th>fondo_fiduciario_GNC</th>\n",
       "    </tr>\n",
       "  </thead>\n",
       "  <tbody>\n",
       "    <tr>\n",
       "      <th>0</th>\n",
       "      <td>2024-12-31 00:00:00</td>\n",
       "      <td>2024/12</td>\n",
       "      <td>10 DE SETIEMBRE S.A.</td>\n",
       "      <td>1376</td>\n",
       "      <td>PUMA</td>\n",
       "      <td>NaN</td>\n",
       "      <td>33-64337382-9</td>\n",
       "      <td>Bocas de expendio (venta por menor) Duales (lí...</td>\n",
       "      <td>Av. Mosconi 299</td>\n",
       "      <td>LOMAS DEL MIRADOR</td>\n",
       "      <td>...</td>\n",
       "      <td>464.9</td>\n",
       "      <td>NO</td>\n",
       "      <td>f</td>\n",
       "      <td>0.000</td>\n",
       "      <td>0.000</td>\n",
       "      <td>1.0</td>\n",
       "      <td>0.00</td>\n",
       "      <td>0.000</td>\n",
       "      <td>21.0</td>\n",
       "      <td>0.0357</td>\n",
       "    </tr>\n",
       "    <tr>\n",
       "      <th>1</th>\n",
       "      <td>2024-12-31 00:00:00</td>\n",
       "      <td>2024/12</td>\n",
       "      <td>10 DE SETIEMBRE S.A.</td>\n",
       "      <td>1376</td>\n",
       "      <td>PUMA</td>\n",
       "      <td>NaN</td>\n",
       "      <td>33-64337382-9</td>\n",
       "      <td>Bocas de expendio (venta por menor) Duales (lí...</td>\n",
       "      <td>Av. Mosconi 299</td>\n",
       "      <td>LOMAS DEL MIRADOR</td>\n",
       "      <td>...</td>\n",
       "      <td>1189.0</td>\n",
       "      <td>NO</td>\n",
       "      <td>f</td>\n",
       "      <td>29.589</td>\n",
       "      <td>1.812</td>\n",
       "      <td>1.5</td>\n",
       "      <td>0.01</td>\n",
       "      <td>3.285</td>\n",
       "      <td>21.0</td>\n",
       "      <td>0.0000</td>\n",
       "    </tr>\n",
       "    <tr>\n",
       "      <th>2</th>\n",
       "      <td>2024-12-31 00:00:00</td>\n",
       "      <td>2024/12</td>\n",
       "      <td>10 DE SETIEMBRE S.A.</td>\n",
       "      <td>1376</td>\n",
       "      <td>PUMA</td>\n",
       "      <td>NaN</td>\n",
       "      <td>33-64337382-9</td>\n",
       "      <td>Bocas de expendio (venta por menor) Duales (lí...</td>\n",
       "      <td>Av. Mosconi 299</td>\n",
       "      <td>LOMAS DEL MIRADOR</td>\n",
       "      <td>...</td>\n",
       "      <td>1455.0</td>\n",
       "      <td>NO</td>\n",
       "      <td>f</td>\n",
       "      <td>23.460</td>\n",
       "      <td>1.436</td>\n",
       "      <td>1.5</td>\n",
       "      <td>0.01</td>\n",
       "      <td>3.122</td>\n",
       "      <td>21.0</td>\n",
       "      <td>0.0000</td>\n",
       "    </tr>\n",
       "    <tr>\n",
       "      <th>3</th>\n",
       "      <td>2024-12-31 00:00:00</td>\n",
       "      <td>2024/12</td>\n",
       "      <td>10 DE SETIEMBRE S.A.</td>\n",
       "      <td>1376</td>\n",
       "      <td>PUMA</td>\n",
       "      <td>NaN</td>\n",
       "      <td>33-64337382-9</td>\n",
       "      <td>Bocas de expendio (venta por menor) Duales (lí...</td>\n",
       "      <td>Av. Mosconi 299</td>\n",
       "      <td>LOMAS DEL MIRADOR</td>\n",
       "      <td>...</td>\n",
       "      <td>1427.0</td>\n",
       "      <td>NO</td>\n",
       "      <td>f</td>\n",
       "      <td>16.618</td>\n",
       "      <td>1.894</td>\n",
       "      <td>1.5</td>\n",
       "      <td>0.01</td>\n",
       "      <td>2.960</td>\n",
       "      <td>21.0</td>\n",
       "      <td>0.0000</td>\n",
       "    </tr>\n",
       "    <tr>\n",
       "      <th>4</th>\n",
       "      <td>2024-12-31 00:00:00</td>\n",
       "      <td>2024/12</td>\n",
       "      <td>10 DE SETIEMBRE S.A.</td>\n",
       "      <td>1376</td>\n",
       "      <td>PUMA</td>\n",
       "      <td>NaN</td>\n",
       "      <td>33-64337382-9</td>\n",
       "      <td>Bocas de expendio (venta por menor) Duales (lí...</td>\n",
       "      <td>Av. Mosconi 299</td>\n",
       "      <td>LOMAS DEL MIRADOR</td>\n",
       "      <td>...</td>\n",
       "      <td>1173.0</td>\n",
       "      <td>NO</td>\n",
       "      <td>f</td>\n",
       "      <td>20.122</td>\n",
       "      <td>2.293</td>\n",
       "      <td>1.5</td>\n",
       "      <td>0.01</td>\n",
       "      <td>3.060</td>\n",
       "      <td>21.0</td>\n",
       "      <td>0.0000</td>\n",
       "    </tr>\n",
       "  </tbody>\n",
       "</table>\n",
       "<p>5 rows × 26 columns</p>\n",
       "</div>"
      ],
      "text/plain": [
       "                 fecha  periodo              operador  nro_inscripcion  \\\n",
       "0  2024-12-31 00:00:00  2024/12  10 DE SETIEMBRE S.A.             1376   \n",
       "1  2024-12-31 00:00:00  2024/12  10 DE SETIEMBRE S.A.             1376   \n",
       "2  2024-12-31 00:00:00  2024/12  10 DE SETIEMBRE S.A.             1376   \n",
       "3  2024-12-31 00:00:00  2024/12  10 DE SETIEMBRE S.A.             1376   \n",
       "4  2024-12-31 00:00:00  2024/12  10 DE SETIEMBRE S.A.             1376   \n",
       "\n",
       "  bandera fecha_de_baja           cuit  \\\n",
       "0    PUMA           NaN  33-64337382-9   \n",
       "1    PUMA           NaN  33-64337382-9   \n",
       "2    PUMA           NaN  33-64337382-9   \n",
       "3    PUMA           NaN  33-64337382-9   \n",
       "4    PUMA           NaN  33-64337382-9   \n",
       "\n",
       "                                        tipo_negocio        direccion  \\\n",
       "0  Bocas de expendio (venta por menor) Duales (lí...  Av. Mosconi 299   \n",
       "1  Bocas de expendio (venta por menor) Duales (lí...  Av. Mosconi 299   \n",
       "2  Bocas de expendio (venta por menor) Duales (lí...  Av. Mosconi 299   \n",
       "3  Bocas de expendio (venta por menor) Duales (lí...  Av. Mosconi 299   \n",
       "4  Bocas de expendio (venta por menor) Duales (lí...  Av. Mosconi 299   \n",
       "\n",
       "           localidad  ... precio_surtidor no_movimientos excentos  \\\n",
       "0  LOMAS DEL MIRADOR  ...           464.9             NO        f   \n",
       "1  LOMAS DEL MIRADOR  ...          1189.0             NO        f   \n",
       "2  LOMAS DEL MIRADOR  ...          1455.0             NO        f   \n",
       "3  LOMAS DEL MIRADOR  ...          1427.0             NO        f   \n",
       "4  LOMAS DEL MIRADOR  ...          1173.0             NO        f   \n",
       "\n",
       "   impuesto_combustible_liquidos  impuesto_dioxido_carbono  tasa_vial  \\\n",
       "0                          0.000                     0.000        1.0   \n",
       "1                         29.589                     1.812        1.5   \n",
       "2                         23.460                     1.436        1.5   \n",
       "3                         16.618                     1.894        1.5   \n",
       "4                         20.122                     2.293        1.5   \n",
       "\n",
       "   tasa_municipal ingresos_brutos   iva  fondo_fiduciario_GNC  \n",
       "0            0.00           0.000  21.0                0.0357  \n",
       "1            0.01           3.285  21.0                0.0000  \n",
       "2            0.01           3.122  21.0                0.0000  \n",
       "3            0.01           2.960  21.0                0.0000  \n",
       "4            0.01           3.060  21.0                0.0000  \n",
       "\n",
       "[5 rows x 26 columns]"
      ]
     },
     "execution_count": 4,
     "metadata": {},
     "output_type": "execute_result"
    }
   ],
   "source": [
    "df.head()"
   ]
  },
  {
   "cell_type": "code",
   "execution_count": 5,
   "id": "0624f065",
   "metadata": {},
   "outputs": [
    {
     "name": "stdout",
     "output_type": "stream",
     "text": [
      "<class 'pandas.core.frame.DataFrame'>\n",
      "RangeIndex: 60791 entries, 0 to 60790\n",
      "Data columns (total 26 columns):\n",
      " #   Column                         Non-Null Count  Dtype  \n",
      "---  ------                         --------------  -----  \n",
      " 0   fecha                          60791 non-null  object \n",
      " 1   periodo                        60791 non-null  object \n",
      " 2   operador                       60791 non-null  object \n",
      " 3   nro_inscripcion                60791 non-null  int64  \n",
      " 4   bandera                        60791 non-null  object \n",
      " 5   fecha_de_baja                  739 non-null    object \n",
      " 6   cuit                           60791 non-null  object \n",
      " 7   tipo_negocio                   60791 non-null  object \n",
      " 8   direccion                      60791 non-null  object \n",
      " 9   localidad                      60791 non-null  object \n",
      " 10  provincia                      60791 non-null  object \n",
      " 11  producto                       60791 non-null  object \n",
      " 12  canal_de_comercializacion      60791 non-null  object \n",
      " 13  precio_sin_impuestos           60791 non-null  float64\n",
      " 14  precio_con_impuestos           60791 non-null  float64\n",
      " 15  volumen                        60791 non-null  float64\n",
      " 16  precio_surtidor                60791 non-null  float64\n",
      " 17  no_movimientos                 60791 non-null  object \n",
      " 18  excentos                       60313 non-null  object \n",
      " 19  impuesto_combustible_liquidos  60300 non-null  float64\n",
      " 20  impuesto_dioxido_carbono       60300 non-null  float64\n",
      " 21  tasa_vial                      60300 non-null  float64\n",
      " 22  tasa_municipal                 60300 non-null  float64\n",
      " 23  ingresos_brutos                60300 non-null  float64\n",
      " 24  iva                            59002 non-null  float64\n",
      " 25  fondo_fiduciario_GNC           56784 non-null  float64\n",
      "dtypes: float64(11), int64(1), object(14)\n",
      "memory usage: 12.1+ MB\n"
     ]
    }
   ],
   "source": [
    "df.info()"
   ]
  },
  {
   "cell_type": "code",
   "execution_count": 6,
   "id": "24a13fff",
   "metadata": {},
   "outputs": [
    {
     "data": {
      "text/plain": [
       "fecha                                0\n",
       "periodo                              0\n",
       "operador                             0\n",
       "nro_inscripcion                      0\n",
       "bandera                              0\n",
       "fecha_de_baja                    60052\n",
       "cuit                                 0\n",
       "tipo_negocio                         0\n",
       "direccion                            0\n",
       "localidad                            0\n",
       "provincia                            0\n",
       "producto                             0\n",
       "canal_de_comercializacion            0\n",
       "precio_sin_impuestos                 0\n",
       "precio_con_impuestos                 0\n",
       "volumen                              0\n",
       "precio_surtidor                      0\n",
       "no_movimientos                       0\n",
       "excentos                           478\n",
       "impuesto_combustible_liquidos      491\n",
       "impuesto_dioxido_carbono           491\n",
       "tasa_vial                          491\n",
       "tasa_municipal                     491\n",
       "ingresos_brutos                    491\n",
       "iva                               1789\n",
       "fondo_fiduciario_GNC              4007\n",
       "dtype: int64"
      ]
     },
     "execution_count": 6,
     "metadata": {},
     "output_type": "execute_result"
    }
   ],
   "source": [
    "# Vemos si hay valores nulos\n",
    "df.isnull().sum()"
   ]
  },
  {
   "cell_type": "code",
   "execution_count": 7,
   "id": "26d4538a",
   "metadata": {},
   "outputs": [
    {
     "data": {
      "text/plain": [
       "array(['2024-12-31 00:00:00', '2025-01-31 00:00:00',\n",
       "       '2025-02-28 00:00:00'], dtype=object)"
      ]
     },
     "execution_count": 7,
     "metadata": {},
     "output_type": "execute_result"
    }
   ],
   "source": [
    "# Muestro valores unicos de columna fecha\n",
    "df['fecha'].unique()\n",
    "\n",
    "\n"
   ]
  },
  {
   "cell_type": "code",
   "execution_count": 8,
   "id": "b1f0507a",
   "metadata": {},
   "outputs": [
    {
     "data": {
      "text/plain": [
       "(60791, 26)"
      ]
     },
     "execution_count": 8,
     "metadata": {},
     "output_type": "execute_result"
    }
   ],
   "source": [
    "# Veo cantidad de filas y columnas\n",
    "df.shape"
   ]
  },
  {
   "cell_type": "code",
   "execution_count": 9,
   "id": "c6003df9",
   "metadata": {},
   "outputs": [],
   "source": [
    "# Filtro filas cuya columna Provincia es igual a BUENOS AIRES\n",
    "df_buenos_aires = df[df['provincia'] == 'BUENOS AIRES']"
   ]
  },
  {
   "cell_type": "code",
   "execution_count": 10,
   "id": "b6d25cf3",
   "metadata": {},
   "outputs": [
    {
     "data": {
      "text/plain": [
       "(21669, 26)"
      ]
     },
     "execution_count": 10,
     "metadata": {},
     "output_type": "execute_result"
    }
   ],
   "source": [
    "df_buenos_aires.shape"
   ]
  },
  {
   "cell_type": "code",
   "execution_count": 11,
   "id": "89485e15",
   "metadata": {},
   "outputs": [
    {
     "data": {
      "text/plain": [
       "array(['2024/12', '2025/01', '2025/02'], dtype=object)"
      ]
     },
     "execution_count": 11,
     "metadata": {},
     "output_type": "execute_result"
    }
   ],
   "source": [
    "# Veo en que periodos guarda la fecha\n",
    "df_buenos_aires['periodo'].unique()"
   ]
  },
  {
   "cell_type": "code",
   "execution_count": 12,
   "id": "72038f59",
   "metadata": {},
   "outputs": [
    {
     "data": {
      "text/plain": [
       "array(['BUENOS AIRES', 'RIO NEGRO', 'CHUBUT', 'SAN LUIS', 'SANTA FE',\n",
       "       'ENTRE RIOS', 'CHACO', 'SANTIAGO DEL ESTERO', 'MENDOZA',\n",
       "       'CATAMARCA', 'SALTA', 'CORDOBA', 'MISIONES', 'TUCUMAN',\n",
       "       'CORRIENTES', 'LA PAMPA', 'CAPITAL FEDERAL', 'FORMOSA',\n",
       "       'SANTA CRUZ', 'JUJUY', 'NEUQUEN', 'TIERRA DEL FUEGO', 'SAN JUAN',\n",
       "       'LA RIOJA'], dtype=object)"
      ]
     },
     "execution_count": 12,
     "metadata": {},
     "output_type": "execute_result"
    }
   ],
   "source": [
    "# Muestro los valores unicos de la columna provincia\n",
    "df['provincia'].unique()"
   ]
  },
  {
   "cell_type": "code",
   "execution_count": 13,
   "id": "86ce59f1",
   "metadata": {},
   "outputs": [
    {
     "data": {
      "text/plain": [
       "array(['GNC', 'Nafta (súper) entre 92 y 95 Ron',\n",
       "       'Nafta (premium) de más de 95 Ron', 'Gas Oil Grado 3',\n",
       "       'Gas Oil Grado 2', 'N/D', 'Kerosene', 'Nafta (común) hasta 92 Ron',\n",
       "       'GLPA'], dtype=object)"
      ]
     },
     "execution_count": 13,
     "metadata": {},
     "output_type": "execute_result"
    }
   ],
   "source": [
    "# Muestro los valores unicos de la columna producto\n",
    "df['producto'].unique()"
   ]
  },
  {
   "cell_type": "code",
   "execution_count": 15,
   "id": "aa111a36",
   "metadata": {},
   "outputs": [
    {
     "data": {
      "text/plain": [
       "array(['2024-12-31 00:00:00', '2025-01-31 00:00:00',\n",
       "       '2025-02-28 00:00:00'], dtype=object)"
      ]
     },
     "execution_count": 15,
     "metadata": {},
     "output_type": "execute_result"
    }
   ],
   "source": [
    "# Veo cuanto son los valores unicos de la columna fecha\n",
    "df['fecha'].unique()"
   ]
  },
  {
   "cell_type": "code",
   "execution_count": 16,
   "id": "f0e0c2f9",
   "metadata": {},
   "outputs": [
    {
     "data": {
      "text/plain": [
       "array(['Al público', 'Otros sectores', 'Transporte de cargas', 'Agro',\n",
       "       'N/D', 'Reventa a otras estaciones de servicio',\n",
       "       'Transporte público de pasajeros',\n",
       "       'Vehículos con placa identificatoria extranjera'], dtype=object)"
      ]
     },
     "execution_count": 16,
     "metadata": {},
     "output_type": "execute_result"
    }
   ],
   "source": [
    "# Veo cuales son los valores unicos de la columna canal_de_comercializacion\n",
    "df['canal_de_comercializacion'].unique()"
   ]
  },
  {
   "cell_type": "code",
   "execution_count": 17,
   "id": "1e4f6cf9",
   "metadata": {},
   "outputs": [
    {
     "data": {
      "text/plain": [
       "(51786, 26)"
      ]
     },
     "execution_count": 17,
     "metadata": {},
     "output_type": "execute_result"
    }
   ],
   "source": [
    "# Filtro solo filas cuyo canal_de_comercializacion es igual a \"Al público\"\n",
    "df_filtro_al_publico = df[df['canal_de_comercializacion'] == \"Al público\"]\n",
    "df_filtro_al_publico.shape\n",
    "\n"
   ]
  },
  {
   "cell_type": "code",
   "execution_count": 18,
   "id": "6bf642ef",
   "metadata": {},
   "outputs": [
    {
     "data": {
      "text/html": [
       "<div>\n",
       "<style scoped>\n",
       "    .dataframe tbody tr th:only-of-type {\n",
       "        vertical-align: middle;\n",
       "    }\n",
       "\n",
       "    .dataframe tbody tr th {\n",
       "        vertical-align: top;\n",
       "    }\n",
       "\n",
       "    .dataframe thead th {\n",
       "        text-align: right;\n",
       "    }\n",
       "</style>\n",
       "<table border=\"1\" class=\"dataframe\">\n",
       "  <thead>\n",
       "    <tr style=\"text-align: right;\">\n",
       "      <th></th>\n",
       "      <th>fecha</th>\n",
       "      <th>periodo</th>\n",
       "      <th>operador</th>\n",
       "      <th>nro_inscripcion</th>\n",
       "      <th>bandera</th>\n",
       "      <th>fecha_de_baja</th>\n",
       "      <th>cuit</th>\n",
       "      <th>tipo_negocio</th>\n",
       "      <th>direccion</th>\n",
       "      <th>localidad</th>\n",
       "      <th>...</th>\n",
       "      <th>precio_surtidor</th>\n",
       "      <th>no_movimientos</th>\n",
       "      <th>excentos</th>\n",
       "      <th>impuesto_combustible_liquidos</th>\n",
       "      <th>impuesto_dioxido_carbono</th>\n",
       "      <th>tasa_vial</th>\n",
       "      <th>tasa_municipal</th>\n",
       "      <th>ingresos_brutos</th>\n",
       "      <th>iva</th>\n",
       "      <th>fondo_fiduciario_GNC</th>\n",
       "    </tr>\n",
       "  </thead>\n",
       "  <tbody>\n",
       "    <tr>\n",
       "      <th>0</th>\n",
       "      <td>2024-12-31 00:00:00</td>\n",
       "      <td>2024/12</td>\n",
       "      <td>10 DE SETIEMBRE S.A.</td>\n",
       "      <td>1376</td>\n",
       "      <td>PUMA</td>\n",
       "      <td>NaN</td>\n",
       "      <td>33-64337382-9</td>\n",
       "      <td>Bocas de expendio (venta por menor) Duales (lí...</td>\n",
       "      <td>Av. Mosconi 299</td>\n",
       "      <td>LOMAS DEL MIRADOR</td>\n",
       "      <td>...</td>\n",
       "      <td>464.9</td>\n",
       "      <td>NO</td>\n",
       "      <td>f</td>\n",
       "      <td>0.000</td>\n",
       "      <td>0.000</td>\n",
       "      <td>1.0</td>\n",
       "      <td>0.00</td>\n",
       "      <td>0.000</td>\n",
       "      <td>21.0</td>\n",
       "      <td>0.0357</td>\n",
       "    </tr>\n",
       "    <tr>\n",
       "      <th>1</th>\n",
       "      <td>2024-12-31 00:00:00</td>\n",
       "      <td>2024/12</td>\n",
       "      <td>10 DE SETIEMBRE S.A.</td>\n",
       "      <td>1376</td>\n",
       "      <td>PUMA</td>\n",
       "      <td>NaN</td>\n",
       "      <td>33-64337382-9</td>\n",
       "      <td>Bocas de expendio (venta por menor) Duales (lí...</td>\n",
       "      <td>Av. Mosconi 299</td>\n",
       "      <td>LOMAS DEL MIRADOR</td>\n",
       "      <td>...</td>\n",
       "      <td>1189.0</td>\n",
       "      <td>NO</td>\n",
       "      <td>f</td>\n",
       "      <td>29.589</td>\n",
       "      <td>1.812</td>\n",
       "      <td>1.5</td>\n",
       "      <td>0.01</td>\n",
       "      <td>3.285</td>\n",
       "      <td>21.0</td>\n",
       "      <td>0.0000</td>\n",
       "    </tr>\n",
       "    <tr>\n",
       "      <th>2</th>\n",
       "      <td>2024-12-31 00:00:00</td>\n",
       "      <td>2024/12</td>\n",
       "      <td>10 DE SETIEMBRE S.A.</td>\n",
       "      <td>1376</td>\n",
       "      <td>PUMA</td>\n",
       "      <td>NaN</td>\n",
       "      <td>33-64337382-9</td>\n",
       "      <td>Bocas de expendio (venta por menor) Duales (lí...</td>\n",
       "      <td>Av. Mosconi 299</td>\n",
       "      <td>LOMAS DEL MIRADOR</td>\n",
       "      <td>...</td>\n",
       "      <td>1455.0</td>\n",
       "      <td>NO</td>\n",
       "      <td>f</td>\n",
       "      <td>23.460</td>\n",
       "      <td>1.436</td>\n",
       "      <td>1.5</td>\n",
       "      <td>0.01</td>\n",
       "      <td>3.122</td>\n",
       "      <td>21.0</td>\n",
       "      <td>0.0000</td>\n",
       "    </tr>\n",
       "    <tr>\n",
       "      <th>3</th>\n",
       "      <td>2024-12-31 00:00:00</td>\n",
       "      <td>2024/12</td>\n",
       "      <td>10 DE SETIEMBRE S.A.</td>\n",
       "      <td>1376</td>\n",
       "      <td>PUMA</td>\n",
       "      <td>NaN</td>\n",
       "      <td>33-64337382-9</td>\n",
       "      <td>Bocas de expendio (venta por menor) Duales (lí...</td>\n",
       "      <td>Av. Mosconi 299</td>\n",
       "      <td>LOMAS DEL MIRADOR</td>\n",
       "      <td>...</td>\n",
       "      <td>1427.0</td>\n",
       "      <td>NO</td>\n",
       "      <td>f</td>\n",
       "      <td>16.618</td>\n",
       "      <td>1.894</td>\n",
       "      <td>1.5</td>\n",
       "      <td>0.01</td>\n",
       "      <td>2.960</td>\n",
       "      <td>21.0</td>\n",
       "      <td>0.0000</td>\n",
       "    </tr>\n",
       "    <tr>\n",
       "      <th>4</th>\n",
       "      <td>2024-12-31 00:00:00</td>\n",
       "      <td>2024/12</td>\n",
       "      <td>10 DE SETIEMBRE S.A.</td>\n",
       "      <td>1376</td>\n",
       "      <td>PUMA</td>\n",
       "      <td>NaN</td>\n",
       "      <td>33-64337382-9</td>\n",
       "      <td>Bocas de expendio (venta por menor) Duales (lí...</td>\n",
       "      <td>Av. Mosconi 299</td>\n",
       "      <td>LOMAS DEL MIRADOR</td>\n",
       "      <td>...</td>\n",
       "      <td>1173.0</td>\n",
       "      <td>NO</td>\n",
       "      <td>f</td>\n",
       "      <td>20.122</td>\n",
       "      <td>2.293</td>\n",
       "      <td>1.5</td>\n",
       "      <td>0.01</td>\n",
       "      <td>3.060</td>\n",
       "      <td>21.0</td>\n",
       "      <td>0.0000</td>\n",
       "    </tr>\n",
       "  </tbody>\n",
       "</table>\n",
       "<p>5 rows × 26 columns</p>\n",
       "</div>"
      ],
      "text/plain": [
       "                 fecha  periodo              operador  nro_inscripcion  \\\n",
       "0  2024-12-31 00:00:00  2024/12  10 DE SETIEMBRE S.A.             1376   \n",
       "1  2024-12-31 00:00:00  2024/12  10 DE SETIEMBRE S.A.             1376   \n",
       "2  2024-12-31 00:00:00  2024/12  10 DE SETIEMBRE S.A.             1376   \n",
       "3  2024-12-31 00:00:00  2024/12  10 DE SETIEMBRE S.A.             1376   \n",
       "4  2024-12-31 00:00:00  2024/12  10 DE SETIEMBRE S.A.             1376   \n",
       "\n",
       "  bandera fecha_de_baja           cuit  \\\n",
       "0    PUMA           NaN  33-64337382-9   \n",
       "1    PUMA           NaN  33-64337382-9   \n",
       "2    PUMA           NaN  33-64337382-9   \n",
       "3    PUMA           NaN  33-64337382-9   \n",
       "4    PUMA           NaN  33-64337382-9   \n",
       "\n",
       "                                        tipo_negocio        direccion  \\\n",
       "0  Bocas de expendio (venta por menor) Duales (lí...  Av. Mosconi 299   \n",
       "1  Bocas de expendio (venta por menor) Duales (lí...  Av. Mosconi 299   \n",
       "2  Bocas de expendio (venta por menor) Duales (lí...  Av. Mosconi 299   \n",
       "3  Bocas de expendio (venta por menor) Duales (lí...  Av. Mosconi 299   \n",
       "4  Bocas de expendio (venta por menor) Duales (lí...  Av. Mosconi 299   \n",
       "\n",
       "           localidad  ... precio_surtidor no_movimientos excentos  \\\n",
       "0  LOMAS DEL MIRADOR  ...           464.9             NO        f   \n",
       "1  LOMAS DEL MIRADOR  ...          1189.0             NO        f   \n",
       "2  LOMAS DEL MIRADOR  ...          1455.0             NO        f   \n",
       "3  LOMAS DEL MIRADOR  ...          1427.0             NO        f   \n",
       "4  LOMAS DEL MIRADOR  ...          1173.0             NO        f   \n",
       "\n",
       "   impuesto_combustible_liquidos  impuesto_dioxido_carbono  tasa_vial  \\\n",
       "0                          0.000                     0.000        1.0   \n",
       "1                         29.589                     1.812        1.5   \n",
       "2                         23.460                     1.436        1.5   \n",
       "3                         16.618                     1.894        1.5   \n",
       "4                         20.122                     2.293        1.5   \n",
       "\n",
       "   tasa_municipal ingresos_brutos   iva  fondo_fiduciario_GNC  \n",
       "0            0.00           0.000  21.0                0.0357  \n",
       "1            0.01           3.285  21.0                0.0000  \n",
       "2            0.01           3.122  21.0                0.0000  \n",
       "3            0.01           2.960  21.0                0.0000  \n",
       "4            0.01           3.060  21.0                0.0000  \n",
       "\n",
       "[5 rows x 26 columns]"
      ]
     },
     "execution_count": 18,
     "metadata": {},
     "output_type": "execute_result"
    }
   ],
   "source": [
    "df_filtro_al_publico.head()"
   ]
  },
  {
   "cell_type": "code",
   "execution_count": 24,
   "id": "ddd4a711",
   "metadata": {},
   "outputs": [
    {
     "data": {
      "text/plain": [
       "array(['PUMA', 'SHELL C.A.P.S.A.', 'YPF', 'BLANCA', 'AXION', 'REFINOR',\n",
       "       'DAPSA S.A.', 'GULF', 'VOY', 'OIL COMBUSTIBLES S.A.'], dtype=object)"
      ]
     },
     "execution_count": 24,
     "metadata": {},
     "output_type": "execute_result"
    }
   ],
   "source": [
    "# Valores unicos de la columna bandera\n",
    "df_filtro_al_publico['bandera'].unique()\n"
   ]
  },
  {
   "cell_type": "code",
   "execution_count": null,
   "id": "b3632e90",
   "metadata": {},
   "outputs": [],
   "source": []
  }
 ],
 "metadata": {
  "kernelspec": {
   "display_name": "ast-env",
   "language": "python",
   "name": "python3"
  },
  "language_info": {
   "codemirror_mode": {
    "name": "ipython",
    "version": 3
   },
   "file_extension": ".py",
   "mimetype": "text/x-python",
   "name": "python",
   "nbconvert_exporter": "python",
   "pygments_lexer": "ipython3",
   "version": "3.10.16"
  }
 },
 "nbformat": 4,
 "nbformat_minor": 5
}
