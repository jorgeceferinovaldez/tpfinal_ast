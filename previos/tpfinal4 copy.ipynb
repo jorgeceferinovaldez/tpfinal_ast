{
 "cells": [
  {
   "cell_type": "code",
   "execution_count": 1,
   "id": "16496135",
   "metadata": {},
   "outputs": [],
   "source": [
    "import pandas as pd\n",
    "import numpy as np"
   ]
  },
  {
   "cell_type": "code",
   "execution_count": 2,
   "id": "afb04d1e",
   "metadata": {},
   "outputs": [],
   "source": [
    "#Cargar los datos\n",
    "df = pd.read_csv('data/precios-historicos.csv')"
   ]
  },
  {
   "cell_type": "code",
   "execution_count": 3,
   "id": "5a9e0196",
   "metadata": {},
   "outputs": [
    {
     "data": {
      "application/vnd.microsoft.datawrangler.viewer.v0+json": {
       "columns": [
        {
         "name": "index",
         "rawType": "int64",
         "type": "integer"
        },
        {
         "name": "idempresa",
         "rawType": "int64",
         "type": "integer"
        },
        {
         "name": "empresa",
         "rawType": "object",
         "type": "string"
        },
        {
         "name": "direccion",
         "rawType": "object",
         "type": "string"
        },
        {
         "name": "localidad",
         "rawType": "object",
         "type": "string"
        },
        {
         "name": "provincia",
         "rawType": "object",
         "type": "string"
        },
        {
         "name": "idproducto",
         "rawType": "int64",
         "type": "integer"
        },
        {
         "name": "producto",
         "rawType": "object",
         "type": "string"
        },
        {
         "name": "idtipohorario",
         "rawType": "int64",
         "type": "integer"
        },
        {
         "name": "tipohorario",
         "rawType": "object",
         "type": "string"
        },
        {
         "name": "precio",
         "rawType": "float64",
         "type": "float"
        },
        {
         "name": "fecha_vigencia",
         "rawType": "object",
         "type": "string"
        },
        {
         "name": "idempresabandera",
         "rawType": "int64",
         "type": "integer"
        },
        {
         "name": "empresabandera",
         "rawType": "object",
         "type": "string"
        },
        {
         "name": "latitud",
         "rawType": "float64",
         "type": "float"
        },
        {
         "name": "longitud",
         "rawType": "float64",
         "type": "float"
        },
        {
         "name": "geojson",
         "rawType": "object",
         "type": "string"
        },
        {
         "name": "anio",
         "rawType": "int64",
         "type": "integer"
        },
        {
         "name": "mes",
         "rawType": "int64",
         "type": "integer"
        }
       ],
       "conversionMethod": "pd.DataFrame",
       "ref": "4de72630-ec90-411e-bcfd-df009d26ece5",
       "rows": [
        [
         "0",
         "1376",
         "10 DE SETIEMBRE S.A.",
         "Av. Mosconi 299",
         "LOMAS DEL MIRADOR",
         "BUENOS AIRES",
         "19",
         "Gas Oil Grado 2",
         "2",
         "Diurno",
         "985.0",
         "01/04/2024 10:11",
         "28",
         "PUMA",
         "-34.658476",
         "-58.529443",
         "{\"type\":\"Point\",\"coordinates\":[-58.529443,-34.658476]}",
         "2024",
         "4"
        ],
        [
         "1",
         "1376",
         "10 DE SETIEMBRE S.A.",
         "Av. Mosconi 299",
         "LOMAS DEL MIRADOR",
         "BUENOS AIRES",
         "19",
         "Gas Oil Grado 2",
         "3",
         "Nocturno",
         "985.0",
         "01/04/2024 10:11",
         "28",
         "PUMA",
         "-34.658476",
         "-58.529443",
         "{\"type\":\"Point\",\"coordinates\":[-58.529443,-34.658476]}",
         "2024",
         "4"
        ],
        [
         "2",
         "1376",
         "10 DE SETIEMBRE S.A.",
         "Av. Mosconi 299",
         "LOMAS DEL MIRADOR",
         "BUENOS AIRES",
         "19",
         "Gas Oil Grado 2",
         "2",
         "Diurno",
         "1080.0",
         "01/07/2024 09:43",
         "28",
         "PUMA",
         "-34.658476",
         "-58.529443",
         "{\"type\":\"Point\",\"coordinates\":[-58.529443,-34.658476]}",
         "2024",
         "7"
        ],
        [
         "3",
         "1376",
         "10 DE SETIEMBRE S.A.",
         "Av. Mosconi 299",
         "LOMAS DEL MIRADOR",
         "BUENOS AIRES",
         "19",
         "Gas Oil Grado 2",
         "3",
         "Nocturno",
         "1080.0",
         "01/07/2024 09:43",
         "28",
         "PUMA",
         "-34.658476",
         "-58.529443",
         "{\"type\":\"Point\",\"coordinates\":[-58.529443,-34.658476]}",
         "2024",
         "7"
        ],
        [
         "4",
         "1376",
         "10 DE SETIEMBRE S.A.",
         "Av. Mosconi 299",
         "LOMAS DEL MIRADOR",
         "BUENOS AIRES",
         "19",
         "Gas Oil Grado 2",
         "2",
         "Diurno",
         "1108.0",
         "01/08/2024 13:40",
         "28",
         "PUMA",
         "-34.658476",
         "-58.529443",
         "{\"type\":\"Point\",\"coordinates\":[-58.529443,-34.658476]}",
         "2024",
         "8"
        ]
       ],
       "shape": {
        "columns": 18,
        "rows": 5
       }
      },
      "text/html": [
       "<div>\n",
       "<style scoped>\n",
       "    .dataframe tbody tr th:only-of-type {\n",
       "        vertical-align: middle;\n",
       "    }\n",
       "\n",
       "    .dataframe tbody tr th {\n",
       "        vertical-align: top;\n",
       "    }\n",
       "\n",
       "    .dataframe thead th {\n",
       "        text-align: right;\n",
       "    }\n",
       "</style>\n",
       "<table border=\"1\" class=\"dataframe\">\n",
       "  <thead>\n",
       "    <tr style=\"text-align: right;\">\n",
       "      <th></th>\n",
       "      <th>idempresa</th>\n",
       "      <th>empresa</th>\n",
       "      <th>direccion</th>\n",
       "      <th>localidad</th>\n",
       "      <th>provincia</th>\n",
       "      <th>idproducto</th>\n",
       "      <th>producto</th>\n",
       "      <th>idtipohorario</th>\n",
       "      <th>tipohorario</th>\n",
       "      <th>precio</th>\n",
       "      <th>fecha_vigencia</th>\n",
       "      <th>idempresabandera</th>\n",
       "      <th>empresabandera</th>\n",
       "      <th>latitud</th>\n",
       "      <th>longitud</th>\n",
       "      <th>geojson</th>\n",
       "      <th>anio</th>\n",
       "      <th>mes</th>\n",
       "    </tr>\n",
       "  </thead>\n",
       "  <tbody>\n",
       "    <tr>\n",
       "      <th>0</th>\n",
       "      <td>1376</td>\n",
       "      <td>10 DE SETIEMBRE S.A.</td>\n",
       "      <td>Av. Mosconi 299</td>\n",
       "      <td>LOMAS DEL MIRADOR</td>\n",
       "      <td>BUENOS AIRES</td>\n",
       "      <td>19</td>\n",
       "      <td>Gas Oil Grado 2</td>\n",
       "      <td>2</td>\n",
       "      <td>Diurno</td>\n",
       "      <td>985.0</td>\n",
       "      <td>01/04/2024 10:11</td>\n",
       "      <td>28</td>\n",
       "      <td>PUMA</td>\n",
       "      <td>-34.658476</td>\n",
       "      <td>-58.529443</td>\n",
       "      <td>{\"type\":\"Point\",\"coordinates\":[-58.529443,-34....</td>\n",
       "      <td>2024</td>\n",
       "      <td>4</td>\n",
       "    </tr>\n",
       "    <tr>\n",
       "      <th>1</th>\n",
       "      <td>1376</td>\n",
       "      <td>10 DE SETIEMBRE S.A.</td>\n",
       "      <td>Av. Mosconi 299</td>\n",
       "      <td>LOMAS DEL MIRADOR</td>\n",
       "      <td>BUENOS AIRES</td>\n",
       "      <td>19</td>\n",
       "      <td>Gas Oil Grado 2</td>\n",
       "      <td>3</td>\n",
       "      <td>Nocturno</td>\n",
       "      <td>985.0</td>\n",
       "      <td>01/04/2024 10:11</td>\n",
       "      <td>28</td>\n",
       "      <td>PUMA</td>\n",
       "      <td>-34.658476</td>\n",
       "      <td>-58.529443</td>\n",
       "      <td>{\"type\":\"Point\",\"coordinates\":[-58.529443,-34....</td>\n",
       "      <td>2024</td>\n",
       "      <td>4</td>\n",
       "    </tr>\n",
       "    <tr>\n",
       "      <th>2</th>\n",
       "      <td>1376</td>\n",
       "      <td>10 DE SETIEMBRE S.A.</td>\n",
       "      <td>Av. Mosconi 299</td>\n",
       "      <td>LOMAS DEL MIRADOR</td>\n",
       "      <td>BUENOS AIRES</td>\n",
       "      <td>19</td>\n",
       "      <td>Gas Oil Grado 2</td>\n",
       "      <td>2</td>\n",
       "      <td>Diurno</td>\n",
       "      <td>1080.0</td>\n",
       "      <td>01/07/2024 09:43</td>\n",
       "      <td>28</td>\n",
       "      <td>PUMA</td>\n",
       "      <td>-34.658476</td>\n",
       "      <td>-58.529443</td>\n",
       "      <td>{\"type\":\"Point\",\"coordinates\":[-58.529443,-34....</td>\n",
       "      <td>2024</td>\n",
       "      <td>7</td>\n",
       "    </tr>\n",
       "    <tr>\n",
       "      <th>3</th>\n",
       "      <td>1376</td>\n",
       "      <td>10 DE SETIEMBRE S.A.</td>\n",
       "      <td>Av. Mosconi 299</td>\n",
       "      <td>LOMAS DEL MIRADOR</td>\n",
       "      <td>BUENOS AIRES</td>\n",
       "      <td>19</td>\n",
       "      <td>Gas Oil Grado 2</td>\n",
       "      <td>3</td>\n",
       "      <td>Nocturno</td>\n",
       "      <td>1080.0</td>\n",
       "      <td>01/07/2024 09:43</td>\n",
       "      <td>28</td>\n",
       "      <td>PUMA</td>\n",
       "      <td>-34.658476</td>\n",
       "      <td>-58.529443</td>\n",
       "      <td>{\"type\":\"Point\",\"coordinates\":[-58.529443,-34....</td>\n",
       "      <td>2024</td>\n",
       "      <td>7</td>\n",
       "    </tr>\n",
       "    <tr>\n",
       "      <th>4</th>\n",
       "      <td>1376</td>\n",
       "      <td>10 DE SETIEMBRE S.A.</td>\n",
       "      <td>Av. Mosconi 299</td>\n",
       "      <td>LOMAS DEL MIRADOR</td>\n",
       "      <td>BUENOS AIRES</td>\n",
       "      <td>19</td>\n",
       "      <td>Gas Oil Grado 2</td>\n",
       "      <td>2</td>\n",
       "      <td>Diurno</td>\n",
       "      <td>1108.0</td>\n",
       "      <td>01/08/2024 13:40</td>\n",
       "      <td>28</td>\n",
       "      <td>PUMA</td>\n",
       "      <td>-34.658476</td>\n",
       "      <td>-58.529443</td>\n",
       "      <td>{\"type\":\"Point\",\"coordinates\":[-58.529443,-34....</td>\n",
       "      <td>2024</td>\n",
       "      <td>8</td>\n",
       "    </tr>\n",
       "  </tbody>\n",
       "</table>\n",
       "</div>"
      ],
      "text/plain": [
       "   idempresa               empresa        direccion          localidad  \\\n",
       "0       1376  10 DE SETIEMBRE S.A.  Av. Mosconi 299  LOMAS DEL MIRADOR   \n",
       "1       1376  10 DE SETIEMBRE S.A.  Av. Mosconi 299  LOMAS DEL MIRADOR   \n",
       "2       1376  10 DE SETIEMBRE S.A.  Av. Mosconi 299  LOMAS DEL MIRADOR   \n",
       "3       1376  10 DE SETIEMBRE S.A.  Av. Mosconi 299  LOMAS DEL MIRADOR   \n",
       "4       1376  10 DE SETIEMBRE S.A.  Av. Mosconi 299  LOMAS DEL MIRADOR   \n",
       "\n",
       "      provincia  idproducto         producto  idtipohorario tipohorario  \\\n",
       "0  BUENOS AIRES          19  Gas Oil Grado 2              2      Diurno   \n",
       "1  BUENOS AIRES          19  Gas Oil Grado 2              3    Nocturno   \n",
       "2  BUENOS AIRES          19  Gas Oil Grado 2              2      Diurno   \n",
       "3  BUENOS AIRES          19  Gas Oil Grado 2              3    Nocturno   \n",
       "4  BUENOS AIRES          19  Gas Oil Grado 2              2      Diurno   \n",
       "\n",
       "   precio    fecha_vigencia  idempresabandera empresabandera    latitud  \\\n",
       "0   985.0  01/04/2024 10:11                28           PUMA -34.658476   \n",
       "1   985.0  01/04/2024 10:11                28           PUMA -34.658476   \n",
       "2  1080.0  01/07/2024 09:43                28           PUMA -34.658476   \n",
       "3  1080.0  01/07/2024 09:43                28           PUMA -34.658476   \n",
       "4  1108.0  01/08/2024 13:40                28           PUMA -34.658476   \n",
       "\n",
       "    longitud                                            geojson  anio  mes  \n",
       "0 -58.529443  {\"type\":\"Point\",\"coordinates\":[-58.529443,-34....  2024    4  \n",
       "1 -58.529443  {\"type\":\"Point\",\"coordinates\":[-58.529443,-34....  2024    4  \n",
       "2 -58.529443  {\"type\":\"Point\",\"coordinates\":[-58.529443,-34....  2024    7  \n",
       "3 -58.529443  {\"type\":\"Point\",\"coordinates\":[-58.529443,-34....  2024    7  \n",
       "4 -58.529443  {\"type\":\"Point\",\"coordinates\":[-58.529443,-34....  2024    8  "
      ]
     },
     "execution_count": 3,
     "metadata": {},
     "output_type": "execute_result"
    }
   ],
   "source": [
    "df.head()"
   ]
  },
  {
   "cell_type": "code",
   "execution_count": 4,
   "id": "1ee98d5a",
   "metadata": {},
   "outputs": [
    {
     "name": "stdout",
     "output_type": "stream",
     "text": [
      "[1, 2, 3, 4, 5, 6, 7, 8, 17, 18, 19, 22, 23, 120, 201, 202, 207, 1157, 1218, 2001, 2002, 2003, 2004, 2005, 2006, 2007, 2008, 2009, 2010, 2011, 2012, 2013, 2014, 2015, 2016, 2017, 2018, 2019, 2020, 2021, 2022, 2023, 2024, 2025, 2027, 2028, 2029, 2030, 2031, 2044, 3201, 4201, 6202, 7202, 8202, 9202, 9920]\n"
     ]
    }
   ],
   "source": [
    "# Valores unicos de la columna anio\n",
    "anios = df['anio'].unique().tolist()\n",
    "\n",
    "# Ordenar los anios de menor a mayor\n",
    "anios.sort()\n",
    "\n",
    "# Imprimir los anios\n",
    "print(anios)\n"
   ]
  },
  {
   "cell_type": "code",
   "execution_count": 5,
   "id": "9df9fe96",
   "metadata": {},
   "outputs": [],
   "source": [
    "# Filtro solo los anios comprendidos entre 2001 y 2024\n",
    "df = df[(df['anio'] >= 2001) & (df['anio'] <= 2024)]"
   ]
  },
  {
   "cell_type": "code",
   "execution_count": 6,
   "id": "9b72abac",
   "metadata": {},
   "outputs": [
    {
     "data": {
      "application/vnd.microsoft.datawrangler.viewer.v0+json": {
       "columns": [
        {
         "name": "index",
         "rawType": "int64",
         "type": "integer"
        },
        {
         "name": "idempresa",
         "rawType": "int64",
         "type": "integer"
        },
        {
         "name": "empresa",
         "rawType": "object",
         "type": "string"
        },
        {
         "name": "direccion",
         "rawType": "object",
         "type": "string"
        },
        {
         "name": "localidad",
         "rawType": "object",
         "type": "string"
        },
        {
         "name": "provincia",
         "rawType": "object",
         "type": "string"
        },
        {
         "name": "idproducto",
         "rawType": "int64",
         "type": "integer"
        },
        {
         "name": "producto",
         "rawType": "object",
         "type": "string"
        },
        {
         "name": "idtipohorario",
         "rawType": "int64",
         "type": "integer"
        },
        {
         "name": "tipohorario",
         "rawType": "object",
         "type": "string"
        },
        {
         "name": "precio",
         "rawType": "float64",
         "type": "float"
        },
        {
         "name": "fecha_vigencia",
         "rawType": "object",
         "type": "string"
        },
        {
         "name": "idempresabandera",
         "rawType": "int64",
         "type": "integer"
        },
        {
         "name": "empresabandera",
         "rawType": "object",
         "type": "string"
        },
        {
         "name": "latitud",
         "rawType": "float64",
         "type": "float"
        },
        {
         "name": "longitud",
         "rawType": "float64",
         "type": "float"
        },
        {
         "name": "geojson",
         "rawType": "object",
         "type": "string"
        },
        {
         "name": "anio",
         "rawType": "int64",
         "type": "integer"
        },
        {
         "name": "mes",
         "rawType": "int64",
         "type": "integer"
        }
       ],
       "conversionMethod": "pd.DataFrame",
       "ref": "4dc41095-96c8-4f49-a9b8-be32fa2eb78d",
       "rows": [
        [
         "0",
         "1376",
         "10 DE SETIEMBRE S.A.",
         "Av. Mosconi 299",
         "LOMAS DEL MIRADOR",
         "BUENOS AIRES",
         "19",
         "Gas Oil Grado 2",
         "2",
         "Diurno",
         "985.0",
         "01/04/2024 10:11",
         "28",
         "PUMA",
         "-34.658476",
         "-58.529443",
         "{\"type\":\"Point\",\"coordinates\":[-58.529443,-34.658476]}",
         "2024",
         "4"
        ],
        [
         "1",
         "1376",
         "10 DE SETIEMBRE S.A.",
         "Av. Mosconi 299",
         "LOMAS DEL MIRADOR",
         "BUENOS AIRES",
         "19",
         "Gas Oil Grado 2",
         "3",
         "Nocturno",
         "985.0",
         "01/04/2024 10:11",
         "28",
         "PUMA",
         "-34.658476",
         "-58.529443",
         "{\"type\":\"Point\",\"coordinates\":[-58.529443,-34.658476]}",
         "2024",
         "4"
        ],
        [
         "2",
         "1376",
         "10 DE SETIEMBRE S.A.",
         "Av. Mosconi 299",
         "LOMAS DEL MIRADOR",
         "BUENOS AIRES",
         "19",
         "Gas Oil Grado 2",
         "2",
         "Diurno",
         "1080.0",
         "01/07/2024 09:43",
         "28",
         "PUMA",
         "-34.658476",
         "-58.529443",
         "{\"type\":\"Point\",\"coordinates\":[-58.529443,-34.658476]}",
         "2024",
         "7"
        ],
        [
         "3",
         "1376",
         "10 DE SETIEMBRE S.A.",
         "Av. Mosconi 299",
         "LOMAS DEL MIRADOR",
         "BUENOS AIRES",
         "19",
         "Gas Oil Grado 2",
         "3",
         "Nocturno",
         "1080.0",
         "01/07/2024 09:43",
         "28",
         "PUMA",
         "-34.658476",
         "-58.529443",
         "{\"type\":\"Point\",\"coordinates\":[-58.529443,-34.658476]}",
         "2024",
         "7"
        ],
        [
         "4",
         "1376",
         "10 DE SETIEMBRE S.A.",
         "Av. Mosconi 299",
         "LOMAS DEL MIRADOR",
         "BUENOS AIRES",
         "19",
         "Gas Oil Grado 2",
         "2",
         "Diurno",
         "1108.0",
         "01/08/2024 13:40",
         "28",
         "PUMA",
         "-34.658476",
         "-58.529443",
         "{\"type\":\"Point\",\"coordinates\":[-58.529443,-34.658476]}",
         "2024",
         "8"
        ]
       ],
       "shape": {
        "columns": 18,
        "rows": 5
       }
      },
      "text/html": [
       "<div>\n",
       "<style scoped>\n",
       "    .dataframe tbody tr th:only-of-type {\n",
       "        vertical-align: middle;\n",
       "    }\n",
       "\n",
       "    .dataframe tbody tr th {\n",
       "        vertical-align: top;\n",
       "    }\n",
       "\n",
       "    .dataframe thead th {\n",
       "        text-align: right;\n",
       "    }\n",
       "</style>\n",
       "<table border=\"1\" class=\"dataframe\">\n",
       "  <thead>\n",
       "    <tr style=\"text-align: right;\">\n",
       "      <th></th>\n",
       "      <th>idempresa</th>\n",
       "      <th>empresa</th>\n",
       "      <th>direccion</th>\n",
       "      <th>localidad</th>\n",
       "      <th>provincia</th>\n",
       "      <th>idproducto</th>\n",
       "      <th>producto</th>\n",
       "      <th>idtipohorario</th>\n",
       "      <th>tipohorario</th>\n",
       "      <th>precio</th>\n",
       "      <th>fecha_vigencia</th>\n",
       "      <th>idempresabandera</th>\n",
       "      <th>empresabandera</th>\n",
       "      <th>latitud</th>\n",
       "      <th>longitud</th>\n",
       "      <th>geojson</th>\n",
       "      <th>anio</th>\n",
       "      <th>mes</th>\n",
       "    </tr>\n",
       "  </thead>\n",
       "  <tbody>\n",
       "    <tr>\n",
       "      <th>0</th>\n",
       "      <td>1376</td>\n",
       "      <td>10 DE SETIEMBRE S.A.</td>\n",
       "      <td>Av. Mosconi 299</td>\n",
       "      <td>LOMAS DEL MIRADOR</td>\n",
       "      <td>BUENOS AIRES</td>\n",
       "      <td>19</td>\n",
       "      <td>Gas Oil Grado 2</td>\n",
       "      <td>2</td>\n",
       "      <td>Diurno</td>\n",
       "      <td>985.0</td>\n",
       "      <td>01/04/2024 10:11</td>\n",
       "      <td>28</td>\n",
       "      <td>PUMA</td>\n",
       "      <td>-34.658476</td>\n",
       "      <td>-58.529443</td>\n",
       "      <td>{\"type\":\"Point\",\"coordinates\":[-58.529443,-34....</td>\n",
       "      <td>2024</td>\n",
       "      <td>4</td>\n",
       "    </tr>\n",
       "    <tr>\n",
       "      <th>1</th>\n",
       "      <td>1376</td>\n",
       "      <td>10 DE SETIEMBRE S.A.</td>\n",
       "      <td>Av. Mosconi 299</td>\n",
       "      <td>LOMAS DEL MIRADOR</td>\n",
       "      <td>BUENOS AIRES</td>\n",
       "      <td>19</td>\n",
       "      <td>Gas Oil Grado 2</td>\n",
       "      <td>3</td>\n",
       "      <td>Nocturno</td>\n",
       "      <td>985.0</td>\n",
       "      <td>01/04/2024 10:11</td>\n",
       "      <td>28</td>\n",
       "      <td>PUMA</td>\n",
       "      <td>-34.658476</td>\n",
       "      <td>-58.529443</td>\n",
       "      <td>{\"type\":\"Point\",\"coordinates\":[-58.529443,-34....</td>\n",
       "      <td>2024</td>\n",
       "      <td>4</td>\n",
       "    </tr>\n",
       "    <tr>\n",
       "      <th>2</th>\n",
       "      <td>1376</td>\n",
       "      <td>10 DE SETIEMBRE S.A.</td>\n",
       "      <td>Av. Mosconi 299</td>\n",
       "      <td>LOMAS DEL MIRADOR</td>\n",
       "      <td>BUENOS AIRES</td>\n",
       "      <td>19</td>\n",
       "      <td>Gas Oil Grado 2</td>\n",
       "      <td>2</td>\n",
       "      <td>Diurno</td>\n",
       "      <td>1080.0</td>\n",
       "      <td>01/07/2024 09:43</td>\n",
       "      <td>28</td>\n",
       "      <td>PUMA</td>\n",
       "      <td>-34.658476</td>\n",
       "      <td>-58.529443</td>\n",
       "      <td>{\"type\":\"Point\",\"coordinates\":[-58.529443,-34....</td>\n",
       "      <td>2024</td>\n",
       "      <td>7</td>\n",
       "    </tr>\n",
       "    <tr>\n",
       "      <th>3</th>\n",
       "      <td>1376</td>\n",
       "      <td>10 DE SETIEMBRE S.A.</td>\n",
       "      <td>Av. Mosconi 299</td>\n",
       "      <td>LOMAS DEL MIRADOR</td>\n",
       "      <td>BUENOS AIRES</td>\n",
       "      <td>19</td>\n",
       "      <td>Gas Oil Grado 2</td>\n",
       "      <td>3</td>\n",
       "      <td>Nocturno</td>\n",
       "      <td>1080.0</td>\n",
       "      <td>01/07/2024 09:43</td>\n",
       "      <td>28</td>\n",
       "      <td>PUMA</td>\n",
       "      <td>-34.658476</td>\n",
       "      <td>-58.529443</td>\n",
       "      <td>{\"type\":\"Point\",\"coordinates\":[-58.529443,-34....</td>\n",
       "      <td>2024</td>\n",
       "      <td>7</td>\n",
       "    </tr>\n",
       "    <tr>\n",
       "      <th>4</th>\n",
       "      <td>1376</td>\n",
       "      <td>10 DE SETIEMBRE S.A.</td>\n",
       "      <td>Av. Mosconi 299</td>\n",
       "      <td>LOMAS DEL MIRADOR</td>\n",
       "      <td>BUENOS AIRES</td>\n",
       "      <td>19</td>\n",
       "      <td>Gas Oil Grado 2</td>\n",
       "      <td>2</td>\n",
       "      <td>Diurno</td>\n",
       "      <td>1108.0</td>\n",
       "      <td>01/08/2024 13:40</td>\n",
       "      <td>28</td>\n",
       "      <td>PUMA</td>\n",
       "      <td>-34.658476</td>\n",
       "      <td>-58.529443</td>\n",
       "      <td>{\"type\":\"Point\",\"coordinates\":[-58.529443,-34....</td>\n",
       "      <td>2024</td>\n",
       "      <td>8</td>\n",
       "    </tr>\n",
       "  </tbody>\n",
       "</table>\n",
       "</div>"
      ],
      "text/plain": [
       "   idempresa               empresa        direccion          localidad  \\\n",
       "0       1376  10 DE SETIEMBRE S.A.  Av. Mosconi 299  LOMAS DEL MIRADOR   \n",
       "1       1376  10 DE SETIEMBRE S.A.  Av. Mosconi 299  LOMAS DEL MIRADOR   \n",
       "2       1376  10 DE SETIEMBRE S.A.  Av. Mosconi 299  LOMAS DEL MIRADOR   \n",
       "3       1376  10 DE SETIEMBRE S.A.  Av. Mosconi 299  LOMAS DEL MIRADOR   \n",
       "4       1376  10 DE SETIEMBRE S.A.  Av. Mosconi 299  LOMAS DEL MIRADOR   \n",
       "\n",
       "      provincia  idproducto         producto  idtipohorario tipohorario  \\\n",
       "0  BUENOS AIRES          19  Gas Oil Grado 2              2      Diurno   \n",
       "1  BUENOS AIRES          19  Gas Oil Grado 2              3    Nocturno   \n",
       "2  BUENOS AIRES          19  Gas Oil Grado 2              2      Diurno   \n",
       "3  BUENOS AIRES          19  Gas Oil Grado 2              3    Nocturno   \n",
       "4  BUENOS AIRES          19  Gas Oil Grado 2              2      Diurno   \n",
       "\n",
       "   precio    fecha_vigencia  idempresabandera empresabandera    latitud  \\\n",
       "0   985.0  01/04/2024 10:11                28           PUMA -34.658476   \n",
       "1   985.0  01/04/2024 10:11                28           PUMA -34.658476   \n",
       "2  1080.0  01/07/2024 09:43                28           PUMA -34.658476   \n",
       "3  1080.0  01/07/2024 09:43                28           PUMA -34.658476   \n",
       "4  1108.0  01/08/2024 13:40                28           PUMA -34.658476   \n",
       "\n",
       "    longitud                                            geojson  anio  mes  \n",
       "0 -58.529443  {\"type\":\"Point\",\"coordinates\":[-58.529443,-34....  2024    4  \n",
       "1 -58.529443  {\"type\":\"Point\",\"coordinates\":[-58.529443,-34....  2024    4  \n",
       "2 -58.529443  {\"type\":\"Point\",\"coordinates\":[-58.529443,-34....  2024    7  \n",
       "3 -58.529443  {\"type\":\"Point\",\"coordinates\":[-58.529443,-34....  2024    7  \n",
       "4 -58.529443  {\"type\":\"Point\",\"coordinates\":[-58.529443,-34....  2024    8  "
      ]
     },
     "execution_count": 6,
     "metadata": {},
     "output_type": "execute_result"
    }
   ],
   "source": [
    "df.head()"
   ]
  },
  {
   "cell_type": "code",
   "execution_count": 7,
   "id": "1a7b621e",
   "metadata": {},
   "outputs": [
    {
     "name": "stdout",
     "output_type": "stream",
     "text": [
      "[2001, 2002, 2003, 2004, 2005, 2006, 2007, 2008, 2009, 2010, 2011, 2012, 2013, 2014, 2015, 2016, 2017, 2018, 2019, 2020, 2021, 2022, 2023, 2024]\n"
     ]
    }
   ],
   "source": [
    "# Valores unicos de la columna anio\n",
    "anios = df['anio'].unique().tolist()\n",
    "\n",
    "# Ordenar los anios de menor a mayor\n",
    "anios.sort()\n",
    "\n",
    "# Imprimir los anios\n",
    "print(anios)\n"
   ]
  },
  {
   "cell_type": "code",
   "execution_count": 8,
   "id": "a16487cc",
   "metadata": {},
   "outputs": [],
   "source": [
    "# Crear la columna 'fecha' combinando 'anio' y 'mes' como una cadena\n",
    "df['fecha'] = pd.to_datetime(df['anio'].astype(str) + '-' + df['mes'].astype(str) + '-01')\n"
   ]
  },
  {
   "cell_type": "code",
   "execution_count": 9,
   "id": "a09b057e",
   "metadata": {},
   "outputs": [
    {
     "data": {
      "application/vnd.microsoft.datawrangler.viewer.v0+json": {
       "columns": [
        {
         "name": "index",
         "rawType": "int64",
         "type": "integer"
        },
        {
         "name": "idempresa",
         "rawType": "int64",
         "type": "integer"
        },
        {
         "name": "empresa",
         "rawType": "object",
         "type": "string"
        },
        {
         "name": "direccion",
         "rawType": "object",
         "type": "string"
        },
        {
         "name": "localidad",
         "rawType": "object",
         "type": "string"
        },
        {
         "name": "provincia",
         "rawType": "object",
         "type": "string"
        },
        {
         "name": "idproducto",
         "rawType": "int64",
         "type": "integer"
        },
        {
         "name": "producto",
         "rawType": "object",
         "type": "string"
        },
        {
         "name": "idtipohorario",
         "rawType": "int64",
         "type": "integer"
        },
        {
         "name": "tipohorario",
         "rawType": "object",
         "type": "string"
        },
        {
         "name": "precio",
         "rawType": "float64",
         "type": "float"
        },
        {
         "name": "fecha_vigencia",
         "rawType": "object",
         "type": "string"
        },
        {
         "name": "idempresabandera",
         "rawType": "int64",
         "type": "integer"
        },
        {
         "name": "empresabandera",
         "rawType": "object",
         "type": "string"
        },
        {
         "name": "latitud",
         "rawType": "float64",
         "type": "float"
        },
        {
         "name": "longitud",
         "rawType": "float64",
         "type": "float"
        },
        {
         "name": "geojson",
         "rawType": "object",
         "type": "string"
        },
        {
         "name": "anio",
         "rawType": "int64",
         "type": "integer"
        },
        {
         "name": "mes",
         "rawType": "int64",
         "type": "integer"
        },
        {
         "name": "fecha",
         "rawType": "datetime64[ns]",
         "type": "datetime"
        }
       ],
       "conversionMethod": "pd.DataFrame",
       "ref": "e89cc9bc-1d31-4039-aea5-82ca1427a3b7",
       "rows": [
        [
         "0",
         "1376",
         "10 DE SETIEMBRE S.A.",
         "Av. Mosconi 299",
         "LOMAS DEL MIRADOR",
         "BUENOS AIRES",
         "19",
         "Gas Oil Grado 2",
         "2",
         "Diurno",
         "985.0",
         "01/04/2024 10:11",
         "28",
         "PUMA",
         "-34.658476",
         "-58.529443",
         "{\"type\":\"Point\",\"coordinates\":[-58.529443,-34.658476]}",
         "2024",
         "4",
         "2024-04-01 00:00:00"
        ],
        [
         "1",
         "1376",
         "10 DE SETIEMBRE S.A.",
         "Av. Mosconi 299",
         "LOMAS DEL MIRADOR",
         "BUENOS AIRES",
         "19",
         "Gas Oil Grado 2",
         "3",
         "Nocturno",
         "985.0",
         "01/04/2024 10:11",
         "28",
         "PUMA",
         "-34.658476",
         "-58.529443",
         "{\"type\":\"Point\",\"coordinates\":[-58.529443,-34.658476]}",
         "2024",
         "4",
         "2024-04-01 00:00:00"
        ],
        [
         "2",
         "1376",
         "10 DE SETIEMBRE S.A.",
         "Av. Mosconi 299",
         "LOMAS DEL MIRADOR",
         "BUENOS AIRES",
         "19",
         "Gas Oil Grado 2",
         "2",
         "Diurno",
         "1080.0",
         "01/07/2024 09:43",
         "28",
         "PUMA",
         "-34.658476",
         "-58.529443",
         "{\"type\":\"Point\",\"coordinates\":[-58.529443,-34.658476]}",
         "2024",
         "7",
         "2024-07-01 00:00:00"
        ],
        [
         "3",
         "1376",
         "10 DE SETIEMBRE S.A.",
         "Av. Mosconi 299",
         "LOMAS DEL MIRADOR",
         "BUENOS AIRES",
         "19",
         "Gas Oil Grado 2",
         "3",
         "Nocturno",
         "1080.0",
         "01/07/2024 09:43",
         "28",
         "PUMA",
         "-34.658476",
         "-58.529443",
         "{\"type\":\"Point\",\"coordinates\":[-58.529443,-34.658476]}",
         "2024",
         "7",
         "2024-07-01 00:00:00"
        ],
        [
         "4",
         "1376",
         "10 DE SETIEMBRE S.A.",
         "Av. Mosconi 299",
         "LOMAS DEL MIRADOR",
         "BUENOS AIRES",
         "19",
         "Gas Oil Grado 2",
         "2",
         "Diurno",
         "1108.0",
         "01/08/2024 13:40",
         "28",
         "PUMA",
         "-34.658476",
         "-58.529443",
         "{\"type\":\"Point\",\"coordinates\":[-58.529443,-34.658476]}",
         "2024",
         "8",
         "2024-08-01 00:00:00"
        ]
       ],
       "shape": {
        "columns": 19,
        "rows": 5
       }
      },
      "text/html": [
       "<div>\n",
       "<style scoped>\n",
       "    .dataframe tbody tr th:only-of-type {\n",
       "        vertical-align: middle;\n",
       "    }\n",
       "\n",
       "    .dataframe tbody tr th {\n",
       "        vertical-align: top;\n",
       "    }\n",
       "\n",
       "    .dataframe thead th {\n",
       "        text-align: right;\n",
       "    }\n",
       "</style>\n",
       "<table border=\"1\" class=\"dataframe\">\n",
       "  <thead>\n",
       "    <tr style=\"text-align: right;\">\n",
       "      <th></th>\n",
       "      <th>idempresa</th>\n",
       "      <th>empresa</th>\n",
       "      <th>direccion</th>\n",
       "      <th>localidad</th>\n",
       "      <th>provincia</th>\n",
       "      <th>idproducto</th>\n",
       "      <th>producto</th>\n",
       "      <th>idtipohorario</th>\n",
       "      <th>tipohorario</th>\n",
       "      <th>precio</th>\n",
       "      <th>fecha_vigencia</th>\n",
       "      <th>idempresabandera</th>\n",
       "      <th>empresabandera</th>\n",
       "      <th>latitud</th>\n",
       "      <th>longitud</th>\n",
       "      <th>geojson</th>\n",
       "      <th>anio</th>\n",
       "      <th>mes</th>\n",
       "      <th>fecha</th>\n",
       "    </tr>\n",
       "  </thead>\n",
       "  <tbody>\n",
       "    <tr>\n",
       "      <th>0</th>\n",
       "      <td>1376</td>\n",
       "      <td>10 DE SETIEMBRE S.A.</td>\n",
       "      <td>Av. Mosconi 299</td>\n",
       "      <td>LOMAS DEL MIRADOR</td>\n",
       "      <td>BUENOS AIRES</td>\n",
       "      <td>19</td>\n",
       "      <td>Gas Oil Grado 2</td>\n",
       "      <td>2</td>\n",
       "      <td>Diurno</td>\n",
       "      <td>985.0</td>\n",
       "      <td>01/04/2024 10:11</td>\n",
       "      <td>28</td>\n",
       "      <td>PUMA</td>\n",
       "      <td>-34.658476</td>\n",
       "      <td>-58.529443</td>\n",
       "      <td>{\"type\":\"Point\",\"coordinates\":[-58.529443,-34....</td>\n",
       "      <td>2024</td>\n",
       "      <td>4</td>\n",
       "      <td>2024-04-01</td>\n",
       "    </tr>\n",
       "    <tr>\n",
       "      <th>1</th>\n",
       "      <td>1376</td>\n",
       "      <td>10 DE SETIEMBRE S.A.</td>\n",
       "      <td>Av. Mosconi 299</td>\n",
       "      <td>LOMAS DEL MIRADOR</td>\n",
       "      <td>BUENOS AIRES</td>\n",
       "      <td>19</td>\n",
       "      <td>Gas Oil Grado 2</td>\n",
       "      <td>3</td>\n",
       "      <td>Nocturno</td>\n",
       "      <td>985.0</td>\n",
       "      <td>01/04/2024 10:11</td>\n",
       "      <td>28</td>\n",
       "      <td>PUMA</td>\n",
       "      <td>-34.658476</td>\n",
       "      <td>-58.529443</td>\n",
       "      <td>{\"type\":\"Point\",\"coordinates\":[-58.529443,-34....</td>\n",
       "      <td>2024</td>\n",
       "      <td>4</td>\n",
       "      <td>2024-04-01</td>\n",
       "    </tr>\n",
       "    <tr>\n",
       "      <th>2</th>\n",
       "      <td>1376</td>\n",
       "      <td>10 DE SETIEMBRE S.A.</td>\n",
       "      <td>Av. Mosconi 299</td>\n",
       "      <td>LOMAS DEL MIRADOR</td>\n",
       "      <td>BUENOS AIRES</td>\n",
       "      <td>19</td>\n",
       "      <td>Gas Oil Grado 2</td>\n",
       "      <td>2</td>\n",
       "      <td>Diurno</td>\n",
       "      <td>1080.0</td>\n",
       "      <td>01/07/2024 09:43</td>\n",
       "      <td>28</td>\n",
       "      <td>PUMA</td>\n",
       "      <td>-34.658476</td>\n",
       "      <td>-58.529443</td>\n",
       "      <td>{\"type\":\"Point\",\"coordinates\":[-58.529443,-34....</td>\n",
       "      <td>2024</td>\n",
       "      <td>7</td>\n",
       "      <td>2024-07-01</td>\n",
       "    </tr>\n",
       "    <tr>\n",
       "      <th>3</th>\n",
       "      <td>1376</td>\n",
       "      <td>10 DE SETIEMBRE S.A.</td>\n",
       "      <td>Av. Mosconi 299</td>\n",
       "      <td>LOMAS DEL MIRADOR</td>\n",
       "      <td>BUENOS AIRES</td>\n",
       "      <td>19</td>\n",
       "      <td>Gas Oil Grado 2</td>\n",
       "      <td>3</td>\n",
       "      <td>Nocturno</td>\n",
       "      <td>1080.0</td>\n",
       "      <td>01/07/2024 09:43</td>\n",
       "      <td>28</td>\n",
       "      <td>PUMA</td>\n",
       "      <td>-34.658476</td>\n",
       "      <td>-58.529443</td>\n",
       "      <td>{\"type\":\"Point\",\"coordinates\":[-58.529443,-34....</td>\n",
       "      <td>2024</td>\n",
       "      <td>7</td>\n",
       "      <td>2024-07-01</td>\n",
       "    </tr>\n",
       "    <tr>\n",
       "      <th>4</th>\n",
       "      <td>1376</td>\n",
       "      <td>10 DE SETIEMBRE S.A.</td>\n",
       "      <td>Av. Mosconi 299</td>\n",
       "      <td>LOMAS DEL MIRADOR</td>\n",
       "      <td>BUENOS AIRES</td>\n",
       "      <td>19</td>\n",
       "      <td>Gas Oil Grado 2</td>\n",
       "      <td>2</td>\n",
       "      <td>Diurno</td>\n",
       "      <td>1108.0</td>\n",
       "      <td>01/08/2024 13:40</td>\n",
       "      <td>28</td>\n",
       "      <td>PUMA</td>\n",
       "      <td>-34.658476</td>\n",
       "      <td>-58.529443</td>\n",
       "      <td>{\"type\":\"Point\",\"coordinates\":[-58.529443,-34....</td>\n",
       "      <td>2024</td>\n",
       "      <td>8</td>\n",
       "      <td>2024-08-01</td>\n",
       "    </tr>\n",
       "  </tbody>\n",
       "</table>\n",
       "</div>"
      ],
      "text/plain": [
       "   idempresa               empresa        direccion          localidad  \\\n",
       "0       1376  10 DE SETIEMBRE S.A.  Av. Mosconi 299  LOMAS DEL MIRADOR   \n",
       "1       1376  10 DE SETIEMBRE S.A.  Av. Mosconi 299  LOMAS DEL MIRADOR   \n",
       "2       1376  10 DE SETIEMBRE S.A.  Av. Mosconi 299  LOMAS DEL MIRADOR   \n",
       "3       1376  10 DE SETIEMBRE S.A.  Av. Mosconi 299  LOMAS DEL MIRADOR   \n",
       "4       1376  10 DE SETIEMBRE S.A.  Av. Mosconi 299  LOMAS DEL MIRADOR   \n",
       "\n",
       "      provincia  idproducto         producto  idtipohorario tipohorario  \\\n",
       "0  BUENOS AIRES          19  Gas Oil Grado 2              2      Diurno   \n",
       "1  BUENOS AIRES          19  Gas Oil Grado 2              3    Nocturno   \n",
       "2  BUENOS AIRES          19  Gas Oil Grado 2              2      Diurno   \n",
       "3  BUENOS AIRES          19  Gas Oil Grado 2              3    Nocturno   \n",
       "4  BUENOS AIRES          19  Gas Oil Grado 2              2      Diurno   \n",
       "\n",
       "   precio    fecha_vigencia  idempresabandera empresabandera    latitud  \\\n",
       "0   985.0  01/04/2024 10:11                28           PUMA -34.658476   \n",
       "1   985.0  01/04/2024 10:11                28           PUMA -34.658476   \n",
       "2  1080.0  01/07/2024 09:43                28           PUMA -34.658476   \n",
       "3  1080.0  01/07/2024 09:43                28           PUMA -34.658476   \n",
       "4  1108.0  01/08/2024 13:40                28           PUMA -34.658476   \n",
       "\n",
       "    longitud                                            geojson  anio  mes  \\\n",
       "0 -58.529443  {\"type\":\"Point\",\"coordinates\":[-58.529443,-34....  2024    4   \n",
       "1 -58.529443  {\"type\":\"Point\",\"coordinates\":[-58.529443,-34....  2024    4   \n",
       "2 -58.529443  {\"type\":\"Point\",\"coordinates\":[-58.529443,-34....  2024    7   \n",
       "3 -58.529443  {\"type\":\"Point\",\"coordinates\":[-58.529443,-34....  2024    7   \n",
       "4 -58.529443  {\"type\":\"Point\",\"coordinates\":[-58.529443,-34....  2024    8   \n",
       "\n",
       "       fecha  \n",
       "0 2024-04-01  \n",
       "1 2024-04-01  \n",
       "2 2024-07-01  \n",
       "3 2024-07-01  \n",
       "4 2024-08-01  "
      ]
     },
     "execution_count": 9,
     "metadata": {},
     "output_type": "execute_result"
    }
   ],
   "source": [
    "df.head()"
   ]
  },
  {
   "cell_type": "code",
   "execution_count": 10,
   "id": "0624f065",
   "metadata": {},
   "outputs": [],
   "source": [
    "# Establecer la columna 'fecha' como índice\n",
    "df.set_index('fecha', inplace=True)"
   ]
  },
  {
   "cell_type": "code",
   "execution_count": 11,
   "id": "f8103871",
   "metadata": {},
   "outputs": [
    {
     "data": {
      "application/vnd.microsoft.datawrangler.viewer.v0+json": {
       "columns": [
        {
         "name": "fecha",
         "rawType": "datetime64[ns]",
         "type": "datetime"
        },
        {
         "name": "idempresa",
         "rawType": "int64",
         "type": "integer"
        },
        {
         "name": "empresa",
         "rawType": "object",
         "type": "string"
        },
        {
         "name": "direccion",
         "rawType": "object",
         "type": "string"
        },
        {
         "name": "localidad",
         "rawType": "object",
         "type": "string"
        },
        {
         "name": "provincia",
         "rawType": "object",
         "type": "string"
        },
        {
         "name": "idproducto",
         "rawType": "int64",
         "type": "integer"
        },
        {
         "name": "producto",
         "rawType": "object",
         "type": "string"
        },
        {
         "name": "idtipohorario",
         "rawType": "int64",
         "type": "integer"
        },
        {
         "name": "tipohorario",
         "rawType": "object",
         "type": "string"
        },
        {
         "name": "precio",
         "rawType": "float64",
         "type": "float"
        },
        {
         "name": "fecha_vigencia",
         "rawType": "object",
         "type": "string"
        },
        {
         "name": "idempresabandera",
         "rawType": "int64",
         "type": "integer"
        },
        {
         "name": "empresabandera",
         "rawType": "object",
         "type": "string"
        },
        {
         "name": "latitud",
         "rawType": "float64",
         "type": "float"
        },
        {
         "name": "longitud",
         "rawType": "float64",
         "type": "float"
        },
        {
         "name": "geojson",
         "rawType": "object",
         "type": "string"
        },
        {
         "name": "anio",
         "rawType": "int64",
         "type": "integer"
        },
        {
         "name": "mes",
         "rawType": "int64",
         "type": "integer"
        }
       ],
       "conversionMethod": "pd.DataFrame",
       "ref": "71b6e78d-283e-4320-bca3-aa9ca522cf92",
       "rows": [
        [
         "2024-04-01 00:00:00",
         "1376",
         "10 DE SETIEMBRE S.A.",
         "Av. Mosconi 299",
         "LOMAS DEL MIRADOR",
         "BUENOS AIRES",
         "19",
         "Gas Oil Grado 2",
         "2",
         "Diurno",
         "985.0",
         "01/04/2024 10:11",
         "28",
         "PUMA",
         "-34.658476",
         "-58.529443",
         "{\"type\":\"Point\",\"coordinates\":[-58.529443,-34.658476]}",
         "2024",
         "4"
        ],
        [
         "2024-04-01 00:00:00",
         "1376",
         "10 DE SETIEMBRE S.A.",
         "Av. Mosconi 299",
         "LOMAS DEL MIRADOR",
         "BUENOS AIRES",
         "19",
         "Gas Oil Grado 2",
         "3",
         "Nocturno",
         "985.0",
         "01/04/2024 10:11",
         "28",
         "PUMA",
         "-34.658476",
         "-58.529443",
         "{\"type\":\"Point\",\"coordinates\":[-58.529443,-34.658476]}",
         "2024",
         "4"
        ],
        [
         "2024-07-01 00:00:00",
         "1376",
         "10 DE SETIEMBRE S.A.",
         "Av. Mosconi 299",
         "LOMAS DEL MIRADOR",
         "BUENOS AIRES",
         "19",
         "Gas Oil Grado 2",
         "2",
         "Diurno",
         "1080.0",
         "01/07/2024 09:43",
         "28",
         "PUMA",
         "-34.658476",
         "-58.529443",
         "{\"type\":\"Point\",\"coordinates\":[-58.529443,-34.658476]}",
         "2024",
         "7"
        ],
        [
         "2024-07-01 00:00:00",
         "1376",
         "10 DE SETIEMBRE S.A.",
         "Av. Mosconi 299",
         "LOMAS DEL MIRADOR",
         "BUENOS AIRES",
         "19",
         "Gas Oil Grado 2",
         "3",
         "Nocturno",
         "1080.0",
         "01/07/2024 09:43",
         "28",
         "PUMA",
         "-34.658476",
         "-58.529443",
         "{\"type\":\"Point\",\"coordinates\":[-58.529443,-34.658476]}",
         "2024",
         "7"
        ],
        [
         "2024-08-01 00:00:00",
         "1376",
         "10 DE SETIEMBRE S.A.",
         "Av. Mosconi 299",
         "LOMAS DEL MIRADOR",
         "BUENOS AIRES",
         "19",
         "Gas Oil Grado 2",
         "2",
         "Diurno",
         "1108.0",
         "01/08/2024 13:40",
         "28",
         "PUMA",
         "-34.658476",
         "-58.529443",
         "{\"type\":\"Point\",\"coordinates\":[-58.529443,-34.658476]}",
         "2024",
         "8"
        ]
       ],
       "shape": {
        "columns": 18,
        "rows": 5
       }
      },
      "text/html": [
       "<div>\n",
       "<style scoped>\n",
       "    .dataframe tbody tr th:only-of-type {\n",
       "        vertical-align: middle;\n",
       "    }\n",
       "\n",
       "    .dataframe tbody tr th {\n",
       "        vertical-align: top;\n",
       "    }\n",
       "\n",
       "    .dataframe thead th {\n",
       "        text-align: right;\n",
       "    }\n",
       "</style>\n",
       "<table border=\"1\" class=\"dataframe\">\n",
       "  <thead>\n",
       "    <tr style=\"text-align: right;\">\n",
       "      <th></th>\n",
       "      <th>idempresa</th>\n",
       "      <th>empresa</th>\n",
       "      <th>direccion</th>\n",
       "      <th>localidad</th>\n",
       "      <th>provincia</th>\n",
       "      <th>idproducto</th>\n",
       "      <th>producto</th>\n",
       "      <th>idtipohorario</th>\n",
       "      <th>tipohorario</th>\n",
       "      <th>precio</th>\n",
       "      <th>fecha_vigencia</th>\n",
       "      <th>idempresabandera</th>\n",
       "      <th>empresabandera</th>\n",
       "      <th>latitud</th>\n",
       "      <th>longitud</th>\n",
       "      <th>geojson</th>\n",
       "      <th>anio</th>\n",
       "      <th>mes</th>\n",
       "    </tr>\n",
       "    <tr>\n",
       "      <th>fecha</th>\n",
       "      <th></th>\n",
       "      <th></th>\n",
       "      <th></th>\n",
       "      <th></th>\n",
       "      <th></th>\n",
       "      <th></th>\n",
       "      <th></th>\n",
       "      <th></th>\n",
       "      <th></th>\n",
       "      <th></th>\n",
       "      <th></th>\n",
       "      <th></th>\n",
       "      <th></th>\n",
       "      <th></th>\n",
       "      <th></th>\n",
       "      <th></th>\n",
       "      <th></th>\n",
       "      <th></th>\n",
       "    </tr>\n",
       "  </thead>\n",
       "  <tbody>\n",
       "    <tr>\n",
       "      <th>2024-04-01</th>\n",
       "      <td>1376</td>\n",
       "      <td>10 DE SETIEMBRE S.A.</td>\n",
       "      <td>Av. Mosconi 299</td>\n",
       "      <td>LOMAS DEL MIRADOR</td>\n",
       "      <td>BUENOS AIRES</td>\n",
       "      <td>19</td>\n",
       "      <td>Gas Oil Grado 2</td>\n",
       "      <td>2</td>\n",
       "      <td>Diurno</td>\n",
       "      <td>985.0</td>\n",
       "      <td>01/04/2024 10:11</td>\n",
       "      <td>28</td>\n",
       "      <td>PUMA</td>\n",
       "      <td>-34.658476</td>\n",
       "      <td>-58.529443</td>\n",
       "      <td>{\"type\":\"Point\",\"coordinates\":[-58.529443,-34....</td>\n",
       "      <td>2024</td>\n",
       "      <td>4</td>\n",
       "    </tr>\n",
       "    <tr>\n",
       "      <th>2024-04-01</th>\n",
       "      <td>1376</td>\n",
       "      <td>10 DE SETIEMBRE S.A.</td>\n",
       "      <td>Av. Mosconi 299</td>\n",
       "      <td>LOMAS DEL MIRADOR</td>\n",
       "      <td>BUENOS AIRES</td>\n",
       "      <td>19</td>\n",
       "      <td>Gas Oil Grado 2</td>\n",
       "      <td>3</td>\n",
       "      <td>Nocturno</td>\n",
       "      <td>985.0</td>\n",
       "      <td>01/04/2024 10:11</td>\n",
       "      <td>28</td>\n",
       "      <td>PUMA</td>\n",
       "      <td>-34.658476</td>\n",
       "      <td>-58.529443</td>\n",
       "      <td>{\"type\":\"Point\",\"coordinates\":[-58.529443,-34....</td>\n",
       "      <td>2024</td>\n",
       "      <td>4</td>\n",
       "    </tr>\n",
       "    <tr>\n",
       "      <th>2024-07-01</th>\n",
       "      <td>1376</td>\n",
       "      <td>10 DE SETIEMBRE S.A.</td>\n",
       "      <td>Av. Mosconi 299</td>\n",
       "      <td>LOMAS DEL MIRADOR</td>\n",
       "      <td>BUENOS AIRES</td>\n",
       "      <td>19</td>\n",
       "      <td>Gas Oil Grado 2</td>\n",
       "      <td>2</td>\n",
       "      <td>Diurno</td>\n",
       "      <td>1080.0</td>\n",
       "      <td>01/07/2024 09:43</td>\n",
       "      <td>28</td>\n",
       "      <td>PUMA</td>\n",
       "      <td>-34.658476</td>\n",
       "      <td>-58.529443</td>\n",
       "      <td>{\"type\":\"Point\",\"coordinates\":[-58.529443,-34....</td>\n",
       "      <td>2024</td>\n",
       "      <td>7</td>\n",
       "    </tr>\n",
       "    <tr>\n",
       "      <th>2024-07-01</th>\n",
       "      <td>1376</td>\n",
       "      <td>10 DE SETIEMBRE S.A.</td>\n",
       "      <td>Av. Mosconi 299</td>\n",
       "      <td>LOMAS DEL MIRADOR</td>\n",
       "      <td>BUENOS AIRES</td>\n",
       "      <td>19</td>\n",
       "      <td>Gas Oil Grado 2</td>\n",
       "      <td>3</td>\n",
       "      <td>Nocturno</td>\n",
       "      <td>1080.0</td>\n",
       "      <td>01/07/2024 09:43</td>\n",
       "      <td>28</td>\n",
       "      <td>PUMA</td>\n",
       "      <td>-34.658476</td>\n",
       "      <td>-58.529443</td>\n",
       "      <td>{\"type\":\"Point\",\"coordinates\":[-58.529443,-34....</td>\n",
       "      <td>2024</td>\n",
       "      <td>7</td>\n",
       "    </tr>\n",
       "    <tr>\n",
       "      <th>2024-08-01</th>\n",
       "      <td>1376</td>\n",
       "      <td>10 DE SETIEMBRE S.A.</td>\n",
       "      <td>Av. Mosconi 299</td>\n",
       "      <td>LOMAS DEL MIRADOR</td>\n",
       "      <td>BUENOS AIRES</td>\n",
       "      <td>19</td>\n",
       "      <td>Gas Oil Grado 2</td>\n",
       "      <td>2</td>\n",
       "      <td>Diurno</td>\n",
       "      <td>1108.0</td>\n",
       "      <td>01/08/2024 13:40</td>\n",
       "      <td>28</td>\n",
       "      <td>PUMA</td>\n",
       "      <td>-34.658476</td>\n",
       "      <td>-58.529443</td>\n",
       "      <td>{\"type\":\"Point\",\"coordinates\":[-58.529443,-34....</td>\n",
       "      <td>2024</td>\n",
       "      <td>8</td>\n",
       "    </tr>\n",
       "  </tbody>\n",
       "</table>\n",
       "</div>"
      ],
      "text/plain": [
       "            idempresa               empresa        direccion  \\\n",
       "fecha                                                          \n",
       "2024-04-01       1376  10 DE SETIEMBRE S.A.  Av. Mosconi 299   \n",
       "2024-04-01       1376  10 DE SETIEMBRE S.A.  Av. Mosconi 299   \n",
       "2024-07-01       1376  10 DE SETIEMBRE S.A.  Av. Mosconi 299   \n",
       "2024-07-01       1376  10 DE SETIEMBRE S.A.  Av. Mosconi 299   \n",
       "2024-08-01       1376  10 DE SETIEMBRE S.A.  Av. Mosconi 299   \n",
       "\n",
       "                    localidad     provincia  idproducto         producto  \\\n",
       "fecha                                                                      \n",
       "2024-04-01  LOMAS DEL MIRADOR  BUENOS AIRES          19  Gas Oil Grado 2   \n",
       "2024-04-01  LOMAS DEL MIRADOR  BUENOS AIRES          19  Gas Oil Grado 2   \n",
       "2024-07-01  LOMAS DEL MIRADOR  BUENOS AIRES          19  Gas Oil Grado 2   \n",
       "2024-07-01  LOMAS DEL MIRADOR  BUENOS AIRES          19  Gas Oil Grado 2   \n",
       "2024-08-01  LOMAS DEL MIRADOR  BUENOS AIRES          19  Gas Oil Grado 2   \n",
       "\n",
       "            idtipohorario tipohorario  precio    fecha_vigencia  \\\n",
       "fecha                                                             \n",
       "2024-04-01              2      Diurno   985.0  01/04/2024 10:11   \n",
       "2024-04-01              3    Nocturno   985.0  01/04/2024 10:11   \n",
       "2024-07-01              2      Diurno  1080.0  01/07/2024 09:43   \n",
       "2024-07-01              3    Nocturno  1080.0  01/07/2024 09:43   \n",
       "2024-08-01              2      Diurno  1108.0  01/08/2024 13:40   \n",
       "\n",
       "            idempresabandera empresabandera    latitud   longitud  \\\n",
       "fecha                                                               \n",
       "2024-04-01                28           PUMA -34.658476 -58.529443   \n",
       "2024-04-01                28           PUMA -34.658476 -58.529443   \n",
       "2024-07-01                28           PUMA -34.658476 -58.529443   \n",
       "2024-07-01                28           PUMA -34.658476 -58.529443   \n",
       "2024-08-01                28           PUMA -34.658476 -58.529443   \n",
       "\n",
       "                                                      geojson  anio  mes  \n",
       "fecha                                                                     \n",
       "2024-04-01  {\"type\":\"Point\",\"coordinates\":[-58.529443,-34....  2024    4  \n",
       "2024-04-01  {\"type\":\"Point\",\"coordinates\":[-58.529443,-34....  2024    4  \n",
       "2024-07-01  {\"type\":\"Point\",\"coordinates\":[-58.529443,-34....  2024    7  \n",
       "2024-07-01  {\"type\":\"Point\",\"coordinates\":[-58.529443,-34....  2024    7  \n",
       "2024-08-01  {\"type\":\"Point\",\"coordinates\":[-58.529443,-34....  2024    8  "
      ]
     },
     "execution_count": 11,
     "metadata": {},
     "output_type": "execute_result"
    }
   ],
   "source": [
    "df.head()"
   ]
  },
  {
   "cell_type": "code",
   "execution_count": 12,
   "id": "7a5795de",
   "metadata": {},
   "outputs": [],
   "source": [
    "# Elimino las columnas anio y mes\n",
    "df.drop(columns=['anio', 'mes'], inplace=True)"
   ]
  },
  {
   "cell_type": "code",
   "execution_count": 13,
   "id": "ed025533",
   "metadata": {},
   "outputs": [
    {
     "data": {
      "application/vnd.microsoft.datawrangler.viewer.v0+json": {
       "columns": [
        {
         "name": "fecha",
         "rawType": "datetime64[ns]",
         "type": "datetime"
        },
        {
         "name": "idempresa",
         "rawType": "int64",
         "type": "integer"
        },
        {
         "name": "empresa",
         "rawType": "object",
         "type": "string"
        },
        {
         "name": "direccion",
         "rawType": "object",
         "type": "string"
        },
        {
         "name": "localidad",
         "rawType": "object",
         "type": "string"
        },
        {
         "name": "provincia",
         "rawType": "object",
         "type": "string"
        },
        {
         "name": "idproducto",
         "rawType": "int64",
         "type": "integer"
        },
        {
         "name": "producto",
         "rawType": "object",
         "type": "string"
        },
        {
         "name": "idtipohorario",
         "rawType": "int64",
         "type": "integer"
        },
        {
         "name": "tipohorario",
         "rawType": "object",
         "type": "string"
        },
        {
         "name": "precio",
         "rawType": "float64",
         "type": "float"
        },
        {
         "name": "fecha_vigencia",
         "rawType": "object",
         "type": "string"
        },
        {
         "name": "idempresabandera",
         "rawType": "int64",
         "type": "integer"
        },
        {
         "name": "empresabandera",
         "rawType": "object",
         "type": "string"
        },
        {
         "name": "latitud",
         "rawType": "float64",
         "type": "float"
        },
        {
         "name": "longitud",
         "rawType": "float64",
         "type": "float"
        },
        {
         "name": "geojson",
         "rawType": "object",
         "type": "string"
        }
       ],
       "conversionMethod": "pd.DataFrame",
       "ref": "7e50100f-8ebb-4eef-bc37-4ccc2393779b",
       "rows": [
        [
         "2024-04-01 00:00:00",
         "1376",
         "10 DE SETIEMBRE S.A.",
         "Av. Mosconi 299",
         "LOMAS DEL MIRADOR",
         "BUENOS AIRES",
         "19",
         "Gas Oil Grado 2",
         "2",
         "Diurno",
         "985.0",
         "01/04/2024 10:11",
         "28",
         "PUMA",
         "-34.658476",
         "-58.529443",
         "{\"type\":\"Point\",\"coordinates\":[-58.529443,-34.658476]}"
        ],
        [
         "2024-04-01 00:00:00",
         "1376",
         "10 DE SETIEMBRE S.A.",
         "Av. Mosconi 299",
         "LOMAS DEL MIRADOR",
         "BUENOS AIRES",
         "19",
         "Gas Oil Grado 2",
         "3",
         "Nocturno",
         "985.0",
         "01/04/2024 10:11",
         "28",
         "PUMA",
         "-34.658476",
         "-58.529443",
         "{\"type\":\"Point\",\"coordinates\":[-58.529443,-34.658476]}"
        ],
        [
         "2024-07-01 00:00:00",
         "1376",
         "10 DE SETIEMBRE S.A.",
         "Av. Mosconi 299",
         "LOMAS DEL MIRADOR",
         "BUENOS AIRES",
         "19",
         "Gas Oil Grado 2",
         "2",
         "Diurno",
         "1080.0",
         "01/07/2024 09:43",
         "28",
         "PUMA",
         "-34.658476",
         "-58.529443",
         "{\"type\":\"Point\",\"coordinates\":[-58.529443,-34.658476]}"
        ],
        [
         "2024-07-01 00:00:00",
         "1376",
         "10 DE SETIEMBRE S.A.",
         "Av. Mosconi 299",
         "LOMAS DEL MIRADOR",
         "BUENOS AIRES",
         "19",
         "Gas Oil Grado 2",
         "3",
         "Nocturno",
         "1080.0",
         "01/07/2024 09:43",
         "28",
         "PUMA",
         "-34.658476",
         "-58.529443",
         "{\"type\":\"Point\",\"coordinates\":[-58.529443,-34.658476]}"
        ],
        [
         "2024-08-01 00:00:00",
         "1376",
         "10 DE SETIEMBRE S.A.",
         "Av. Mosconi 299",
         "LOMAS DEL MIRADOR",
         "BUENOS AIRES",
         "19",
         "Gas Oil Grado 2",
         "2",
         "Diurno",
         "1108.0",
         "01/08/2024 13:40",
         "28",
         "PUMA",
         "-34.658476",
         "-58.529443",
         "{\"type\":\"Point\",\"coordinates\":[-58.529443,-34.658476]}"
        ]
       ],
       "shape": {
        "columns": 16,
        "rows": 5
       }
      },
      "text/html": [
       "<div>\n",
       "<style scoped>\n",
       "    .dataframe tbody tr th:only-of-type {\n",
       "        vertical-align: middle;\n",
       "    }\n",
       "\n",
       "    .dataframe tbody tr th {\n",
       "        vertical-align: top;\n",
       "    }\n",
       "\n",
       "    .dataframe thead th {\n",
       "        text-align: right;\n",
       "    }\n",
       "</style>\n",
       "<table border=\"1\" class=\"dataframe\">\n",
       "  <thead>\n",
       "    <tr style=\"text-align: right;\">\n",
       "      <th></th>\n",
       "      <th>idempresa</th>\n",
       "      <th>empresa</th>\n",
       "      <th>direccion</th>\n",
       "      <th>localidad</th>\n",
       "      <th>provincia</th>\n",
       "      <th>idproducto</th>\n",
       "      <th>producto</th>\n",
       "      <th>idtipohorario</th>\n",
       "      <th>tipohorario</th>\n",
       "      <th>precio</th>\n",
       "      <th>fecha_vigencia</th>\n",
       "      <th>idempresabandera</th>\n",
       "      <th>empresabandera</th>\n",
       "      <th>latitud</th>\n",
       "      <th>longitud</th>\n",
       "      <th>geojson</th>\n",
       "    </tr>\n",
       "    <tr>\n",
       "      <th>fecha</th>\n",
       "      <th></th>\n",
       "      <th></th>\n",
       "      <th></th>\n",
       "      <th></th>\n",
       "      <th></th>\n",
       "      <th></th>\n",
       "      <th></th>\n",
       "      <th></th>\n",
       "      <th></th>\n",
       "      <th></th>\n",
       "      <th></th>\n",
       "      <th></th>\n",
       "      <th></th>\n",
       "      <th></th>\n",
       "      <th></th>\n",
       "      <th></th>\n",
       "    </tr>\n",
       "  </thead>\n",
       "  <tbody>\n",
       "    <tr>\n",
       "      <th>2024-04-01</th>\n",
       "      <td>1376</td>\n",
       "      <td>10 DE SETIEMBRE S.A.</td>\n",
       "      <td>Av. Mosconi 299</td>\n",
       "      <td>LOMAS DEL MIRADOR</td>\n",
       "      <td>BUENOS AIRES</td>\n",
       "      <td>19</td>\n",
       "      <td>Gas Oil Grado 2</td>\n",
       "      <td>2</td>\n",
       "      <td>Diurno</td>\n",
       "      <td>985.0</td>\n",
       "      <td>01/04/2024 10:11</td>\n",
       "      <td>28</td>\n",
       "      <td>PUMA</td>\n",
       "      <td>-34.658476</td>\n",
       "      <td>-58.529443</td>\n",
       "      <td>{\"type\":\"Point\",\"coordinates\":[-58.529443,-34....</td>\n",
       "    </tr>\n",
       "    <tr>\n",
       "      <th>2024-04-01</th>\n",
       "      <td>1376</td>\n",
       "      <td>10 DE SETIEMBRE S.A.</td>\n",
       "      <td>Av. Mosconi 299</td>\n",
       "      <td>LOMAS DEL MIRADOR</td>\n",
       "      <td>BUENOS AIRES</td>\n",
       "      <td>19</td>\n",
       "      <td>Gas Oil Grado 2</td>\n",
       "      <td>3</td>\n",
       "      <td>Nocturno</td>\n",
       "      <td>985.0</td>\n",
       "      <td>01/04/2024 10:11</td>\n",
       "      <td>28</td>\n",
       "      <td>PUMA</td>\n",
       "      <td>-34.658476</td>\n",
       "      <td>-58.529443</td>\n",
       "      <td>{\"type\":\"Point\",\"coordinates\":[-58.529443,-34....</td>\n",
       "    </tr>\n",
       "    <tr>\n",
       "      <th>2024-07-01</th>\n",
       "      <td>1376</td>\n",
       "      <td>10 DE SETIEMBRE S.A.</td>\n",
       "      <td>Av. Mosconi 299</td>\n",
       "      <td>LOMAS DEL MIRADOR</td>\n",
       "      <td>BUENOS AIRES</td>\n",
       "      <td>19</td>\n",
       "      <td>Gas Oil Grado 2</td>\n",
       "      <td>2</td>\n",
       "      <td>Diurno</td>\n",
       "      <td>1080.0</td>\n",
       "      <td>01/07/2024 09:43</td>\n",
       "      <td>28</td>\n",
       "      <td>PUMA</td>\n",
       "      <td>-34.658476</td>\n",
       "      <td>-58.529443</td>\n",
       "      <td>{\"type\":\"Point\",\"coordinates\":[-58.529443,-34....</td>\n",
       "    </tr>\n",
       "    <tr>\n",
       "      <th>2024-07-01</th>\n",
       "      <td>1376</td>\n",
       "      <td>10 DE SETIEMBRE S.A.</td>\n",
       "      <td>Av. Mosconi 299</td>\n",
       "      <td>LOMAS DEL MIRADOR</td>\n",
       "      <td>BUENOS AIRES</td>\n",
       "      <td>19</td>\n",
       "      <td>Gas Oil Grado 2</td>\n",
       "      <td>3</td>\n",
       "      <td>Nocturno</td>\n",
       "      <td>1080.0</td>\n",
       "      <td>01/07/2024 09:43</td>\n",
       "      <td>28</td>\n",
       "      <td>PUMA</td>\n",
       "      <td>-34.658476</td>\n",
       "      <td>-58.529443</td>\n",
       "      <td>{\"type\":\"Point\",\"coordinates\":[-58.529443,-34....</td>\n",
       "    </tr>\n",
       "    <tr>\n",
       "      <th>2024-08-01</th>\n",
       "      <td>1376</td>\n",
       "      <td>10 DE SETIEMBRE S.A.</td>\n",
       "      <td>Av. Mosconi 299</td>\n",
       "      <td>LOMAS DEL MIRADOR</td>\n",
       "      <td>BUENOS AIRES</td>\n",
       "      <td>19</td>\n",
       "      <td>Gas Oil Grado 2</td>\n",
       "      <td>2</td>\n",
       "      <td>Diurno</td>\n",
       "      <td>1108.0</td>\n",
       "      <td>01/08/2024 13:40</td>\n",
       "      <td>28</td>\n",
       "      <td>PUMA</td>\n",
       "      <td>-34.658476</td>\n",
       "      <td>-58.529443</td>\n",
       "      <td>{\"type\":\"Point\",\"coordinates\":[-58.529443,-34....</td>\n",
       "    </tr>\n",
       "  </tbody>\n",
       "</table>\n",
       "</div>"
      ],
      "text/plain": [
       "            idempresa               empresa        direccion  \\\n",
       "fecha                                                          \n",
       "2024-04-01       1376  10 DE SETIEMBRE S.A.  Av. Mosconi 299   \n",
       "2024-04-01       1376  10 DE SETIEMBRE S.A.  Av. Mosconi 299   \n",
       "2024-07-01       1376  10 DE SETIEMBRE S.A.  Av. Mosconi 299   \n",
       "2024-07-01       1376  10 DE SETIEMBRE S.A.  Av. Mosconi 299   \n",
       "2024-08-01       1376  10 DE SETIEMBRE S.A.  Av. Mosconi 299   \n",
       "\n",
       "                    localidad     provincia  idproducto         producto  \\\n",
       "fecha                                                                      \n",
       "2024-04-01  LOMAS DEL MIRADOR  BUENOS AIRES          19  Gas Oil Grado 2   \n",
       "2024-04-01  LOMAS DEL MIRADOR  BUENOS AIRES          19  Gas Oil Grado 2   \n",
       "2024-07-01  LOMAS DEL MIRADOR  BUENOS AIRES          19  Gas Oil Grado 2   \n",
       "2024-07-01  LOMAS DEL MIRADOR  BUENOS AIRES          19  Gas Oil Grado 2   \n",
       "2024-08-01  LOMAS DEL MIRADOR  BUENOS AIRES          19  Gas Oil Grado 2   \n",
       "\n",
       "            idtipohorario tipohorario  precio    fecha_vigencia  \\\n",
       "fecha                                                             \n",
       "2024-04-01              2      Diurno   985.0  01/04/2024 10:11   \n",
       "2024-04-01              3    Nocturno   985.0  01/04/2024 10:11   \n",
       "2024-07-01              2      Diurno  1080.0  01/07/2024 09:43   \n",
       "2024-07-01              3    Nocturno  1080.0  01/07/2024 09:43   \n",
       "2024-08-01              2      Diurno  1108.0  01/08/2024 13:40   \n",
       "\n",
       "            idempresabandera empresabandera    latitud   longitud  \\\n",
       "fecha                                                               \n",
       "2024-04-01                28           PUMA -34.658476 -58.529443   \n",
       "2024-04-01                28           PUMA -34.658476 -58.529443   \n",
       "2024-07-01                28           PUMA -34.658476 -58.529443   \n",
       "2024-07-01                28           PUMA -34.658476 -58.529443   \n",
       "2024-08-01                28           PUMA -34.658476 -58.529443   \n",
       "\n",
       "                                                      geojson  \n",
       "fecha                                                          \n",
       "2024-04-01  {\"type\":\"Point\",\"coordinates\":[-58.529443,-34....  \n",
       "2024-04-01  {\"type\":\"Point\",\"coordinates\":[-58.529443,-34....  \n",
       "2024-07-01  {\"type\":\"Point\",\"coordinates\":[-58.529443,-34....  \n",
       "2024-07-01  {\"type\":\"Point\",\"coordinates\":[-58.529443,-34....  \n",
       "2024-08-01  {\"type\":\"Point\",\"coordinates\":[-58.529443,-34....  "
      ]
     },
     "execution_count": 13,
     "metadata": {},
     "output_type": "execute_result"
    }
   ],
   "source": [
    "df.head()"
   ]
  },
  {
   "cell_type": "code",
   "execution_count": 14,
   "id": "24a13fff",
   "metadata": {},
   "outputs": [
    {
     "data": {
      "text/plain": [
       "idempresa              0\n",
       "empresa                0\n",
       "direccion              0\n",
       "localidad              0\n",
       "provincia              0\n",
       "idproducto             0\n",
       "producto               0\n",
       "idtipohorario          0\n",
       "tipohorario            0\n",
       "precio                 0\n",
       "fecha_vigencia         0\n",
       "idempresabandera       0\n",
       "empresabandera         0\n",
       "latitud             1536\n",
       "longitud            1536\n",
       "geojson             1536\n",
       "dtype: int64"
      ]
     },
     "execution_count": 14,
     "metadata": {},
     "output_type": "execute_result"
    }
   ],
   "source": [
    "# Vemos si hay valores nulos\n",
    "df.isnull().sum()"
   ]
  },
  {
   "cell_type": "code",
   "execution_count": 15,
   "id": "217ac4e7",
   "metadata": {},
   "outputs": [],
   "source": [
    "# Elimino la columna idempresa, empresa, direccion, localidad y provincia\n",
    "df.drop(columns=['idempresa', 'empresa', 'direccion', 'localidad', 'provincia'], inplace=True)"
   ]
  },
  {
   "cell_type": "code",
   "execution_count": 16,
   "id": "5ee0eb5f",
   "metadata": {},
   "outputs": [],
   "source": [
    "# Elimino la columna idproducto\n",
    "df.drop(columns=['idproducto'], inplace=True)"
   ]
  },
  {
   "cell_type": "code",
   "execution_count": 17,
   "id": "c57b4259",
   "metadata": {},
   "outputs": [],
   "source": [
    "# Elimino la columna idtipohorario y tipohorario\n",
    "df.drop(columns=['idtipohorario', 'tipohorario'], inplace=True)"
   ]
  },
  {
   "cell_type": "code",
   "execution_count": 18,
   "id": "a4a66433",
   "metadata": {},
   "outputs": [],
   "source": [
    "# Elimino las fecha_vigencia, idempresabandera, empresabandera\n",
    "df.drop(columns=['fecha_vigencia', 'idempresabandera', 'empresabandera'], inplace=True)"
   ]
  },
  {
   "cell_type": "code",
   "execution_count": 19,
   "id": "26d4538a",
   "metadata": {},
   "outputs": [],
   "source": [
    "# Elimino las columnas latitud, longitud y geojson\n",
    "df.drop(columns=['latitud', 'longitud', 'geojson'], inplace=True)\n"
   ]
  },
  {
   "cell_type": "code",
   "execution_count": 20,
   "id": "7c02df8b",
   "metadata": {},
   "outputs": [
    {
     "data": {
      "application/vnd.microsoft.datawrangler.viewer.v0+json": {
       "columns": [
        {
         "name": "fecha",
         "rawType": "datetime64[ns]",
         "type": "datetime"
        },
        {
         "name": "producto",
         "rawType": "object",
         "type": "string"
        },
        {
         "name": "precio",
         "rawType": "float64",
         "type": "float"
        }
       ],
       "conversionMethod": "pd.DataFrame",
       "ref": "120cee3f-a934-4e8c-888b-512252a146cf",
       "rows": [
        [
         "2024-04-01 00:00:00",
         "Gas Oil Grado 2",
         "985.0"
        ],
        [
         "2024-04-01 00:00:00",
         "Gas Oil Grado 2",
         "985.0"
        ],
        [
         "2024-07-01 00:00:00",
         "Gas Oil Grado 2",
         "1080.0"
        ],
        [
         "2024-07-01 00:00:00",
         "Gas Oil Grado 2",
         "1080.0"
        ],
        [
         "2024-08-01 00:00:00",
         "Gas Oil Grado 2",
         "1108.0"
        ]
       ],
       "shape": {
        "columns": 2,
        "rows": 5
       }
      },
      "text/html": [
       "<div>\n",
       "<style scoped>\n",
       "    .dataframe tbody tr th:only-of-type {\n",
       "        vertical-align: middle;\n",
       "    }\n",
       "\n",
       "    .dataframe tbody tr th {\n",
       "        vertical-align: top;\n",
       "    }\n",
       "\n",
       "    .dataframe thead th {\n",
       "        text-align: right;\n",
       "    }\n",
       "</style>\n",
       "<table border=\"1\" class=\"dataframe\">\n",
       "  <thead>\n",
       "    <tr style=\"text-align: right;\">\n",
       "      <th></th>\n",
       "      <th>producto</th>\n",
       "      <th>precio</th>\n",
       "    </tr>\n",
       "    <tr>\n",
       "      <th>fecha</th>\n",
       "      <th></th>\n",
       "      <th></th>\n",
       "    </tr>\n",
       "  </thead>\n",
       "  <tbody>\n",
       "    <tr>\n",
       "      <th>2024-04-01</th>\n",
       "      <td>Gas Oil Grado 2</td>\n",
       "      <td>985.0</td>\n",
       "    </tr>\n",
       "    <tr>\n",
       "      <th>2024-04-01</th>\n",
       "      <td>Gas Oil Grado 2</td>\n",
       "      <td>985.0</td>\n",
       "    </tr>\n",
       "    <tr>\n",
       "      <th>2024-07-01</th>\n",
       "      <td>Gas Oil Grado 2</td>\n",
       "      <td>1080.0</td>\n",
       "    </tr>\n",
       "    <tr>\n",
       "      <th>2024-07-01</th>\n",
       "      <td>Gas Oil Grado 2</td>\n",
       "      <td>1080.0</td>\n",
       "    </tr>\n",
       "    <tr>\n",
       "      <th>2024-08-01</th>\n",
       "      <td>Gas Oil Grado 2</td>\n",
       "      <td>1108.0</td>\n",
       "    </tr>\n",
       "  </tbody>\n",
       "</table>\n",
       "</div>"
      ],
      "text/plain": [
       "                   producto  precio\n",
       "fecha                              \n",
       "2024-04-01  Gas Oil Grado 2   985.0\n",
       "2024-04-01  Gas Oil Grado 2   985.0\n",
       "2024-07-01  Gas Oil Grado 2  1080.0\n",
       "2024-07-01  Gas Oil Grado 2  1080.0\n",
       "2024-08-01  Gas Oil Grado 2  1108.0"
      ]
     },
     "execution_count": 20,
     "metadata": {},
     "output_type": "execute_result"
    }
   ],
   "source": [
    "df.head()"
   ]
  },
  {
   "cell_type": "code",
   "execution_count": 21,
   "id": "2d2297d1",
   "metadata": {},
   "outputs": [
    {
     "data": {
      "text/plain": [
       "array(['Gas Oil Grado 2', 'Gas Oil Grado 3', 'GNC',\n",
       "       'Nafta (premium) de más de 95 Ron',\n",
       "       'Nafta (súper) entre 92 y 95 Ron'], dtype=object)"
      ]
     },
     "execution_count": 21,
     "metadata": {},
     "output_type": "execute_result"
    }
   ],
   "source": [
    "# Extraigo los valores unicos de la columna producto\n",
    "df['producto'].unique()"
   ]
  },
  {
   "cell_type": "code",
   "execution_count": 22,
   "id": "4d485130",
   "metadata": {},
   "outputs": [
    {
     "data": {
      "text/plain": [
       "(672443, 2)"
      ]
     },
     "execution_count": 22,
     "metadata": {},
     "output_type": "execute_result"
    }
   ],
   "source": [
    "# Filtro solo los productos = 'Nafta (premium) de más de 95 Ron'\n",
    "df_nafta_premium = df[df['producto'] == 'Nafta (premium) de más de 95 Ron'].copy()\n",
    "df_nafta_premium.shape\n"
   ]
  },
  {
   "cell_type": "code",
   "execution_count": 23,
   "id": "26c4a5d2",
   "metadata": {},
   "outputs": [
    {
     "data": {
      "application/vnd.microsoft.datawrangler.viewer.v0+json": {
       "columns": [
        {
         "name": "fecha",
         "rawType": "datetime64[ns]",
         "type": "datetime"
        },
        {
         "name": "producto",
         "rawType": "object",
         "type": "string"
        },
        {
         "name": "precio",
         "rawType": "float64",
         "type": "float"
        }
       ],
       "conversionMethod": "pd.DataFrame",
       "ref": "0e6ee451-eb4e-4fd7-b77c-bf5940a42d83",
       "rows": [
        [
         "2024-04-01 00:00:00",
         "Nafta (premium) de más de 95 Ron",
         "1158.0"
        ],
        [
         "2024-04-01 00:00:00",
         "Nafta (premium) de más de 95 Ron",
         "1158.0"
        ],
        [
         "2024-07-01 00:00:00",
         "Nafta (premium) de más de 95 Ron",
         "1289.0"
        ],
        [
         "2024-07-01 00:00:00",
         "Nafta (premium) de más de 95 Ron",
         "1289.0"
        ],
        [
         "2024-08-01 00:00:00",
         "Nafta (premium) de más de 95 Ron",
         "1320.0"
        ]
       ],
       "shape": {
        "columns": 2,
        "rows": 5
       }
      },
      "text/html": [
       "<div>\n",
       "<style scoped>\n",
       "    .dataframe tbody tr th:only-of-type {\n",
       "        vertical-align: middle;\n",
       "    }\n",
       "\n",
       "    .dataframe tbody tr th {\n",
       "        vertical-align: top;\n",
       "    }\n",
       "\n",
       "    .dataframe thead th {\n",
       "        text-align: right;\n",
       "    }\n",
       "</style>\n",
       "<table border=\"1\" class=\"dataframe\">\n",
       "  <thead>\n",
       "    <tr style=\"text-align: right;\">\n",
       "      <th></th>\n",
       "      <th>producto</th>\n",
       "      <th>precio</th>\n",
       "    </tr>\n",
       "    <tr>\n",
       "      <th>fecha</th>\n",
       "      <th></th>\n",
       "      <th></th>\n",
       "    </tr>\n",
       "  </thead>\n",
       "  <tbody>\n",
       "    <tr>\n",
       "      <th>2024-04-01</th>\n",
       "      <td>Nafta (premium) de más de 95 Ron</td>\n",
       "      <td>1158.0</td>\n",
       "    </tr>\n",
       "    <tr>\n",
       "      <th>2024-04-01</th>\n",
       "      <td>Nafta (premium) de más de 95 Ron</td>\n",
       "      <td>1158.0</td>\n",
       "    </tr>\n",
       "    <tr>\n",
       "      <th>2024-07-01</th>\n",
       "      <td>Nafta (premium) de más de 95 Ron</td>\n",
       "      <td>1289.0</td>\n",
       "    </tr>\n",
       "    <tr>\n",
       "      <th>2024-07-01</th>\n",
       "      <td>Nafta (premium) de más de 95 Ron</td>\n",
       "      <td>1289.0</td>\n",
       "    </tr>\n",
       "    <tr>\n",
       "      <th>2024-08-01</th>\n",
       "      <td>Nafta (premium) de más de 95 Ron</td>\n",
       "      <td>1320.0</td>\n",
       "    </tr>\n",
       "  </tbody>\n",
       "</table>\n",
       "</div>"
      ],
      "text/plain": [
       "                                    producto  precio\n",
       "fecha                                               \n",
       "2024-04-01  Nafta (premium) de más de 95 Ron  1158.0\n",
       "2024-04-01  Nafta (premium) de más de 95 Ron  1158.0\n",
       "2024-07-01  Nafta (premium) de más de 95 Ron  1289.0\n",
       "2024-07-01  Nafta (premium) de más de 95 Ron  1289.0\n",
       "2024-08-01  Nafta (premium) de más de 95 Ron  1320.0"
      ]
     },
     "execution_count": 23,
     "metadata": {},
     "output_type": "execute_result"
    }
   ],
   "source": [
    "df_nafta_premium.head()"
   ]
  },
  {
   "cell_type": "code",
   "execution_count": 24,
   "id": "324b92d0",
   "metadata": {},
   "outputs": [],
   "source": [
    "# Elimino la columna producto\n",
    "df_nafta_premium.drop(columns=['producto'], inplace=True)"
   ]
  },
  {
   "cell_type": "code",
   "execution_count": 25,
   "id": "8262293a",
   "metadata": {},
   "outputs": [
    {
     "data": {
      "application/vnd.microsoft.datawrangler.viewer.v0+json": {
       "columns": [
        {
         "name": "fecha",
         "rawType": "datetime64[ns]",
         "type": "datetime"
        },
        {
         "name": "precio",
         "rawType": "float64",
         "type": "float"
        }
       ],
       "conversionMethod": "pd.DataFrame",
       "ref": "8de3bbcf-fa27-45a5-9eda-9ab323594c37",
       "rows": [
        [
         "2024-04-01 00:00:00",
         "1158.0"
        ],
        [
         "2024-04-01 00:00:00",
         "1158.0"
        ],
        [
         "2024-07-01 00:00:00",
         "1289.0"
        ],
        [
         "2024-07-01 00:00:00",
         "1289.0"
        ],
        [
         "2024-08-01 00:00:00",
         "1320.0"
        ]
       ],
       "shape": {
        "columns": 1,
        "rows": 5
       }
      },
      "text/html": [
       "<div>\n",
       "<style scoped>\n",
       "    .dataframe tbody tr th:only-of-type {\n",
       "        vertical-align: middle;\n",
       "    }\n",
       "\n",
       "    .dataframe tbody tr th {\n",
       "        vertical-align: top;\n",
       "    }\n",
       "\n",
       "    .dataframe thead th {\n",
       "        text-align: right;\n",
       "    }\n",
       "</style>\n",
       "<table border=\"1\" class=\"dataframe\">\n",
       "  <thead>\n",
       "    <tr style=\"text-align: right;\">\n",
       "      <th></th>\n",
       "      <th>precio</th>\n",
       "    </tr>\n",
       "    <tr>\n",
       "      <th>fecha</th>\n",
       "      <th></th>\n",
       "    </tr>\n",
       "  </thead>\n",
       "  <tbody>\n",
       "    <tr>\n",
       "      <th>2024-04-01</th>\n",
       "      <td>1158.0</td>\n",
       "    </tr>\n",
       "    <tr>\n",
       "      <th>2024-04-01</th>\n",
       "      <td>1158.0</td>\n",
       "    </tr>\n",
       "    <tr>\n",
       "      <th>2024-07-01</th>\n",
       "      <td>1289.0</td>\n",
       "    </tr>\n",
       "    <tr>\n",
       "      <th>2024-07-01</th>\n",
       "      <td>1289.0</td>\n",
       "    </tr>\n",
       "    <tr>\n",
       "      <th>2024-08-01</th>\n",
       "      <td>1320.0</td>\n",
       "    </tr>\n",
       "  </tbody>\n",
       "</table>\n",
       "</div>"
      ],
      "text/plain": [
       "            precio\n",
       "fecha             \n",
       "2024-04-01  1158.0\n",
       "2024-04-01  1158.0\n",
       "2024-07-01  1289.0\n",
       "2024-07-01  1289.0\n",
       "2024-08-01  1320.0"
      ]
     },
     "execution_count": 25,
     "metadata": {},
     "output_type": "execute_result"
    }
   ],
   "source": [
    "df_nafta_premium.head()"
   ]
  },
  {
   "cell_type": "code",
   "execution_count": 26,
   "id": "dd1d8959",
   "metadata": {},
   "outputs": [
    {
     "data": {
      "text/plain": [
       "(672443, 1)"
      ]
     },
     "execution_count": 26,
     "metadata": {},
     "output_type": "execute_result"
    }
   ],
   "source": [
    "# dimension del dataframe\n",
    "df_nafta_premium.shape\n"
   ]
  },
  {
   "cell_type": "code",
   "execution_count": 27,
   "id": "8eb6fbf2",
   "metadata": {},
   "outputs": [],
   "source": [
    "# Extraigo solo las filas comprendidas entre 2020-01-01 y 2023-12-31\n",
    "#df_nafta_premium = df_nafta_premium[(df_nafta_premium.index >= '2020-01-01') & (df_nafta_premium.index <= '2023-12-31')]\n",
    "#df_nafta_premium = df_nafta_premium[(df_nafta_premium.index >= '2021-01-01') & (df_nafta_premium.index <= '2023-12-31')]\n",
    "df_nafta_premium = df_nafta_premium[(df_nafta_premium.index >= '2003-01-01') & (df_nafta_premium.index <= '2014-12-31')]\n"
   ]
  },
  {
   "cell_type": "code",
   "execution_count": 29,
   "id": "cca548ce",
   "metadata": {},
   "outputs": [
    {
     "data": {
      "text/plain": [
       "(32, 1)"
      ]
     },
     "execution_count": 29,
     "metadata": {},
     "output_type": "execute_result"
    }
   ],
   "source": [
    "df_nafta_premium.shape"
   ]
  },
  {
   "cell_type": "code",
   "execution_count": 33,
   "id": "684afd10",
   "metadata": {},
   "outputs": [
    {
     "data": {
      "application/vnd.microsoft.datawrangler.viewer.v0+json": {
       "columns": [
        {
         "name": "fecha",
         "rawType": "datetime64[ns]",
         "type": "datetime"
        },
        {
         "name": "precio",
         "rawType": "float64",
         "type": "float"
        }
       ],
       "conversionMethod": "pd.DataFrame",
       "ref": "0211f0a0-9aec-4ac6-b7c0-da084d0a9263",
       "rows": [
        [
         "2003-11-01 00:00:00",
         "353.2"
        ],
        [
         "2003-12-01 00:00:00",
         null
        ],
        [
         "2004-01-01 00:00:00",
         null
        ],
        [
         "2004-02-01 00:00:00",
         null
        ],
        [
         "2004-03-01 00:00:00",
         null
        ],
        [
         "2004-04-01 00:00:00",
         null
        ],
        [
         "2004-05-01 00:00:00",
         null
        ],
        [
         "2004-06-01 00:00:00",
         null
        ],
        [
         "2004-07-01 00:00:00",
         null
        ],
        [
         "2004-08-01 00:00:00",
         null
        ],
        [
         "2004-09-01 00:00:00",
         null
        ],
        [
         "2004-10-01 00:00:00",
         null
        ],
        [
         "2004-11-01 00:00:00",
         null
        ],
        [
         "2004-12-01 00:00:00",
         "29.69"
        ],
        [
         "2005-01-01 00:00:00",
         null
        ],
        [
         "2005-02-01 00:00:00",
         null
        ],
        [
         "2005-03-01 00:00:00",
         null
        ],
        [
         "2005-04-01 00:00:00",
         null
        ],
        [
         "2005-05-01 00:00:00",
         null
        ],
        [
         "2005-06-01 00:00:00",
         null
        ],
        [
         "2005-07-01 00:00:00",
         "53.49"
        ],
        [
         "2005-08-01 00:00:00",
         null
        ],
        [
         "2005-09-01 00:00:00",
         null
        ],
        [
         "2005-10-01 00:00:00",
         null
        ],
        [
         "2005-11-01 00:00:00",
         null
        ],
        [
         "2005-12-01 00:00:00",
         null
        ],
        [
         "2006-01-01 00:00:00",
         null
        ],
        [
         "2006-02-01 00:00:00",
         null
        ],
        [
         "2006-03-01 00:00:00",
         null
        ],
        [
         "2006-04-01 00:00:00",
         null
        ],
        [
         "2006-05-01 00:00:00",
         null
        ],
        [
         "2006-06-01 00:00:00",
         null
        ],
        [
         "2006-07-01 00:00:00",
         null
        ],
        [
         "2006-08-01 00:00:00",
         null
        ],
        [
         "2006-09-01 00:00:00",
         null
        ],
        [
         "2006-10-01 00:00:00",
         null
        ],
        [
         "2006-11-01 00:00:00",
         null
        ],
        [
         "2006-12-01 00:00:00",
         null
        ],
        [
         "2007-01-01 00:00:00",
         null
        ],
        [
         "2007-02-01 00:00:00",
         null
        ],
        [
         "2007-03-01 00:00:00",
         null
        ],
        [
         "2007-04-01 00:00:00",
         null
        ],
        [
         "2007-05-01 00:00:00",
         null
        ],
        [
         "2007-06-01 00:00:00",
         null
        ],
        [
         "2007-07-01 00:00:00",
         "36.93"
        ],
        [
         "2007-08-01 00:00:00",
         null
        ],
        [
         "2007-09-01 00:00:00",
         null
        ],
        [
         "2007-10-01 00:00:00",
         null
        ],
        [
         "2007-11-01 00:00:00",
         null
        ],
        [
         "2007-12-01 00:00:00",
         null
        ]
       ],
       "shape": {
        "columns": 1,
        "rows": 122
       }
      },
      "text/html": [
       "<div>\n",
       "<style scoped>\n",
       "    .dataframe tbody tr th:only-of-type {\n",
       "        vertical-align: middle;\n",
       "    }\n",
       "\n",
       "    .dataframe tbody tr th {\n",
       "        vertical-align: top;\n",
       "    }\n",
       "\n",
       "    .dataframe thead th {\n",
       "        text-align: right;\n",
       "    }\n",
       "</style>\n",
       "<table border=\"1\" class=\"dataframe\">\n",
       "  <thead>\n",
       "    <tr style=\"text-align: right;\">\n",
       "      <th></th>\n",
       "      <th>precio</th>\n",
       "    </tr>\n",
       "    <tr>\n",
       "      <th>fecha</th>\n",
       "      <th></th>\n",
       "    </tr>\n",
       "  </thead>\n",
       "  <tbody>\n",
       "    <tr>\n",
       "      <th>2003-11-01</th>\n",
       "      <td>353.20</td>\n",
       "    </tr>\n",
       "    <tr>\n",
       "      <th>2003-12-01</th>\n",
       "      <td>NaN</td>\n",
       "    </tr>\n",
       "    <tr>\n",
       "      <th>2004-01-01</th>\n",
       "      <td>NaN</td>\n",
       "    </tr>\n",
       "    <tr>\n",
       "      <th>2004-02-01</th>\n",
       "      <td>NaN</td>\n",
       "    </tr>\n",
       "    <tr>\n",
       "      <th>2004-03-01</th>\n",
       "      <td>NaN</td>\n",
       "    </tr>\n",
       "    <tr>\n",
       "      <th>...</th>\n",
       "      <td>...</td>\n",
       "    </tr>\n",
       "    <tr>\n",
       "      <th>2013-08-01</th>\n",
       "      <td>NaN</td>\n",
       "    </tr>\n",
       "    <tr>\n",
       "      <th>2013-09-01</th>\n",
       "      <td>NaN</td>\n",
       "    </tr>\n",
       "    <tr>\n",
       "      <th>2013-10-01</th>\n",
       "      <td>NaN</td>\n",
       "    </tr>\n",
       "    <tr>\n",
       "      <th>2013-11-01</th>\n",
       "      <td>9.97</td>\n",
       "    </tr>\n",
       "    <tr>\n",
       "      <th>2013-12-01</th>\n",
       "      <td>10.82</td>\n",
       "    </tr>\n",
       "  </tbody>\n",
       "</table>\n",
       "<p>122 rows × 1 columns</p>\n",
       "</div>"
      ],
      "text/plain": [
       "            precio\n",
       "fecha             \n",
       "2003-11-01  353.20\n",
       "2003-12-01     NaN\n",
       "2004-01-01     NaN\n",
       "2004-02-01     NaN\n",
       "2004-03-01     NaN\n",
       "...            ...\n",
       "2013-08-01     NaN\n",
       "2013-09-01     NaN\n",
       "2013-10-01     NaN\n",
       "2013-11-01    9.97\n",
       "2013-12-01   10.82\n",
       "\n",
       "[122 rows x 1 columns]"
      ]
     },
     "execution_count": 33,
     "metadata": {},
     "output_type": "execute_result"
    }
   ],
   "source": [
    "# Cálculo de promedios mensuales\n",
    "df_nafta_premium.resample(rule='MS').mean()"
   ]
  },
  {
   "cell_type": "code",
   "execution_count": null,
   "id": "81b37b07",
   "metadata": {},
   "outputs": [],
   "source": [
    "df_nafta_premium.resample('ME').mean().plot.bar(title='Ventas promedio por mes en 2020 a 2024');"
   ]
  },
  {
   "cell_type": "code",
   "execution_count": null,
   "id": "cde90b6e",
   "metadata": {},
   "outputs": [],
   "source": [
    "# Cálculo de promedios mensuales en un nuevo dataframe\n",
    "df_promedio_mensual = df_nafta_premium.groupby('fecha')['precio'].mean().reset_index()\n"
   ]
  },
  {
   "cell_type": "code",
   "execution_count": null,
   "id": "dd681bac",
   "metadata": {},
   "outputs": [],
   "source": [
    "# Veo si la fila de la fecha 2001-11-30 existe en el dataframe\n",
    "lista = (df_promedio_mensual['fecha'] == '2001-11-30').to_list()\n",
    "\n"
   ]
  },
  {
   "cell_type": "code",
   "execution_count": null,
   "id": "7386a157",
   "metadata": {},
   "outputs": [],
   "source": [
    "type(df_promedio_mensual)"
   ]
  },
  {
   "cell_type": "code",
   "execution_count": null,
   "id": "955a0b71",
   "metadata": {},
   "outputs": [],
   "source": [
    "# Valores nulos\n",
    "df_promedio_mensual.isnull().sum()"
   ]
  },
  {
   "cell_type": "code",
   "execution_count": null,
   "id": "bfa6504e",
   "metadata": {},
   "outputs": [],
   "source": [
    "df_promedio_mensual.set_index('fecha', inplace=True)\n",
    "# Ordenar el índice cronológicamente (importante para series temporales)\n",
    "df_promedio_mensual.sort_index(inplace=True)"
   ]
  },
  {
   "cell_type": "code",
   "execution_count": null,
   "id": "ff86f336",
   "metadata": {},
   "outputs": [],
   "source": [
    "df_promedio_mensual.plot();"
   ]
  },
  {
   "cell_type": "code",
   "execution_count": null,
   "id": "3c8e2ef0",
   "metadata": {},
   "outputs": [],
   "source": [
    "df_promedio_mensual.head()"
   ]
  },
  {
   "cell_type": "code",
   "execution_count": null,
   "id": "e95be4a5",
   "metadata": {},
   "outputs": [],
   "source": [
    "df_promedio_mensual.shape"
   ]
  },
  {
   "cell_type": "code",
   "execution_count": null,
   "id": "b3feef5a",
   "metadata": {},
   "outputs": [],
   "source": [
    "import scipy.stats\n",
    "import pylab\n",
    "import matplotlib.pyplot as plt "
   ]
  },
  {
   "cell_type": "code",
   "execution_count": null,
   "id": "b041a2a9",
   "metadata": {},
   "outputs": [],
   "source": [
    "# Grafico el qqplot\n",
    "scipy.stats.probplot(df_promedio_mensual.precio, plot=pylab)\n",
    "plt.title(\"QQ Plot\", size = 24)\n",
    "plt.show"
   ]
  },
  {
   "cell_type": "code",
   "execution_count": null,
   "id": "59acddf2",
   "metadata": {},
   "outputs": [],
   "source": [
    "import statsmodels.graphics.tsaplots as sgt \n",
    "import statsmodels.tsa.stattools as sts \n",
    "from statsmodels.tsa.seasonal import seasonal_decompose\n",
    "\n",
    "import statsmodels.graphics.tsaplots as sgt\n",
    "from statsmodels.tsa.arima_model import ARIMA\n",
    "from statsmodels.tsa.arima.model import ARIMA\n",
    "from scipy.stats.distributions import chi2\n",
    "import statsmodels.tsa.stattools as sts "
   ]
  },
  {
   "cell_type": "markdown",
   "id": "26019371",
   "metadata": {},
   "source": [
    "### Prueba de estacionariedad"
   ]
  },
  {
   "cell_type": "markdown",
   "id": "7c8ea495",
   "metadata": {},
   "source": [
    "#### Prueba de Dickey-Fuller aumentada (ADF)"
   ]
  },
  {
   "cell_type": "code",
   "execution_count": null,
   "id": "126ea6a3",
   "metadata": {},
   "outputs": [],
   "source": [
    "sts.adfuller(df_promedio_mensual['precio'])"
   ]
  },
  {
   "cell_type": "markdown",
   "id": "bea8570b",
   "metadata": {},
   "source": [
    "Tatare de hacerla estacionaria"
   ]
  },
  {
   "cell_type": "code",
   "execution_count": null,
   "id": "58fee9ba",
   "metadata": {},
   "outputs": [],
   "source": [
    "import statsmodels.graphics.tsaplots as sgt \n",
    "import statsmodels.tsa.stattools as sts \n",
    "from statsmodels.tsa.seasonal import seasonal_decompose\n",
    "\n",
    "import statsmodels.graphics.tsaplots as sgt\n",
    "from statsmodels.tsa.arima_model import ARIMA\n",
    "from statsmodels.tsa.arima.model import ARIMA\n",
    "from scipy.stats.distributions import chi2\n",
    "import statsmodels.tsa.stattools as sts "
   ]
  },
  {
   "cell_type": "code",
   "execution_count": null,
   "id": "b3e6290b",
   "metadata": {},
   "outputs": [],
   "source": [
    "def check_stationarity(series, name=\"\"):\n",
    "    result = sts.adfuller(series.dropna())\n",
    "    print(f'Prueba ADF para {name}:')\n",
    "    print(f'Estadístico: {result[0]:.4f}')\n",
    "    print(f'p-valor: {result[1]:.4f}')\n",
    "    print(f'Valores críticos:')\n",
    "    for key, value in result[4].items():\n",
    "        print(f'   {key}: {value:.4f}')\n",
    "    \n",
    "    # Interpretar resultado\n",
    "    if result[1] <= 0.05:\n",
    "        print(f\"Conclusión: La serie {name} es estacionaria (p-valor <= 0.05)\")\n",
    "    else:\n",
    "        print(f\"Conclusión: La serie {name} no es estacionaria (p-valor > 0.05)\")\n",
    "    print(\"-\" * 50)\n",
    "    return result[1] <= 0.05"
   ]
  },
  {
   "cell_type": "code",
   "execution_count": null,
   "id": "ce0f3981",
   "metadata": {},
   "outputs": [],
   "source": [
    "# Función para graficar series\n",
    "def plot_series(original, transformed, title=\"Comparación de Series\"):\n",
    "    plt.figure(figsize=(12, 6))\n",
    "    plt.subplot(211)\n",
    "    plt.plot(original)\n",
    "    plt.title(\"Serie Original\")\n",
    "    plt.subplot(212)\n",
    "    plt.plot(transformed, color='red')\n",
    "    plt.title(title)\n",
    "    plt.tight_layout()\n",
    "    plt.show()"
   ]
  },
  {
   "cell_type": "code",
   "execution_count": null,
   "id": "ab22c99d",
   "metadata": {},
   "outputs": [],
   "source": [
    "# Verificar la serie original\n",
    "print(\"ANÁLISIS DE LA SERIE ORIGINAL\")\n",
    "is_stationary = check_stationarity(df_promedio_mensual, \"original\")"
   ]
  },
  {
   "cell_type": "code",
   "execution_count": null,
   "id": "18b4f794",
   "metadata": {},
   "outputs": [],
   "source": [
    "# 1. DIFERENCIACIÓN\n",
    "print(\"\\n1. MÉTODO DE DIFERENCIACIÓN\")\n",
    "# Primera diferencia\n",
    "diff1 = df_promedio_mensual.diff().dropna()\n",
    "is_stationary_diff1 = check_stationarity(diff1, \"primera diferencia\")\n",
    "plot_series(df_promedio_mensual, diff1, \"Primera Diferencia\")"
   ]
  },
  {
   "cell_type": "markdown",
   "id": "503f679d",
   "metadata": {},
   "source": [
    "PACF"
   ]
  },
  {
   "cell_type": "code",
   "execution_count": null,
   "id": "e075ccbb",
   "metadata": {},
   "outputs": [],
   "source": [
    "sgt.plot_pacf(diff1, zero = False, lags = 40)\n",
    "plt.title(\"PACF para precio\", size = 20)\n",
    "plt.show()"
   ]
  },
  {
   "cell_type": "markdown",
   "id": "99390638",
   "metadata": {},
   "source": [
    "Basado en el gráfico PACF (Función de Autocorrelación Parcial) para la serie de precios que has compartido, puedo ofrecer la siguiente interpretación:\n",
    "\n",
    "1. La primera observación (lag 0) muestra una correlación parcial negativa significativa de aproximadamente -0.55. Esto indica una relación inversa fuerte entre el valor actual y el primer rezago.\n",
    "\n",
    "2. Después del primer rezago, las autocorrelaciones parciales son muy cercanas a cero y permanecen dentro de las bandas de confianza (la región sombreada en azul claro).\n",
    "\n",
    "3. No hay otros rezagos que muestren correlaciones parciales estadísticamente significativas, ya que ningún otro punto sobrepasa las bandas de confianza.\n",
    "\n",
    "Esta estructura de PACF sugiere que:\n",
    "\n",
    "- Tu serie de tiempo probablemente sigue un proceso autorregresivo de orden 1 (AR(1)) con un coeficiente negativo.\n",
    "- No hay evidencia de dependencias parciales significativas en rezagos mayores.\n",
    "- La serie parece estar bien explicada considerando solo el primer rezago.\n",
    "\n",
    "Para un modelo de pronóstico, estos resultados indicarían que un modelo ARIMA con componente AR(1) podría ser apropiado, aunque sería necesario examinar también el gráfico ACF para una evaluación completa del modelo adecuado."
   ]
  },
  {
   "cell_type": "code",
   "execution_count": null,
   "id": "05c75eab",
   "metadata": {},
   "outputs": [],
   "source": [
    "from pmdarima import auto_arima\n",
    "from sklearn.metrics import mean_squared_error, mean_absolute_error"
   ]
  },
  {
   "cell_type": "code",
   "execution_count": null,
   "id": "3a9d2a63",
   "metadata": {},
   "outputs": [],
   "source": [
    "# Determinar los índices de división\n",
    "# Si diff1 es un DataFrame con índice de fechas:\n",
    "train = diff1[:'2010-12-31']\n",
    "test = diff1['2011-01-01':]"
   ]
  },
  {
   "cell_type": "code",
   "execution_count": null,
   "id": "d5ce41d1",
   "metadata": {},
   "outputs": [],
   "source": [
    "# Entrenar el modelo con los datos de entrenamiento\n",
    "modelo = auto_arima(train, d=0, seasonal=False, stepwise=True)\n",
    "\n"
   ]
  },
  {
   "cell_type": "code",
   "execution_count": null,
   "id": "e0179f15",
   "metadata": {},
   "outputs": [],
   "source": [
    "print(modelo.summary())"
   ]
  },
  {
   "cell_type": "code",
   "execution_count": null,
   "id": "611345ec",
   "metadata": {},
   "outputs": [],
   "source": [
    "# Hacer predicciones para el período de prueba\n",
    "n_periodos = len(test)\n",
    "predicciones = modelo.predict(n_periods=n_periodos)"
   ]
  },
  {
   "cell_type": "code",
   "execution_count": null,
   "id": "97dd207d",
   "metadata": {},
   "outputs": [],
   "source": [
    "# Evaluar el modelo\n",
    "mse = mean_squared_error(test, predicciones)\n",
    "rmse = np.sqrt(mse)\n",
    "mae = mean_absolute_error(test, predicciones)\n",
    "\n",
    "print(f\"MSE: {mse:.2f}\")\n",
    "print(f\"RMSE: {rmse:.2f}\")\n",
    "print(f\"MAE: {mae:.2f}\")\n",
    "\n",
    "# Visualizar resultados\n",
    "plt.figure(figsize=(12, 6))\n",
    "plt.plot(train, label='Entrenamiento (2001-2015)')\n",
    "plt.plot(test, label='Actual (2016-2024)')\n",
    "plt.plot(test.index, predicciones, label='Predicciones', color='red')\n",
    "plt.legend()\n",
    "plt.title('Evaluación del modelo ARIMA: Predicciones vs Valores reales')\n",
    "plt.show()"
   ]
  },
  {
   "cell_type": "code",
   "execution_count": null,
   "id": "3cd8e75a",
   "metadata": {},
   "outputs": [],
   "source": []
  }
 ],
 "metadata": {
  "kernelspec": {
   "display_name": "ast-env",
   "language": "python",
   "name": "python3"
  },
  "language_info": {
   "codemirror_mode": {
    "name": "ipython",
    "version": 3
   },
   "file_extension": ".py",
   "mimetype": "text/x-python",
   "name": "python",
   "nbconvert_exporter": "python",
   "pygments_lexer": "ipython3",
   "version": "3.10.16"
  }
 },
 "nbformat": 4,
 "nbformat_minor": 5
}
