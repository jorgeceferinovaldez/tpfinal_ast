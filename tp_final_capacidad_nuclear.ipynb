{
 "cells": [
  {
   "cell_type": "markdown",
   "id": "8b1d30f7",
   "metadata": {},
   "source": [
    "# Trabajo Final Análisis de Series de Tiempo I\n",
    "\n",
    "## Sección 1: Procesamiento de los Datos\n",
    "\n",
    "**Alumnos**: Trinidad Monreal y Jorge Ceferino Valdez"
   ]
  },
  {
   "cell_type": "markdown",
   "id": "9989bd7c",
   "metadata": {},
   "source": [
    "### 1. a) Limpieza y Preparación de los Datos"
   ]
  },
  {
   "cell_type": "markdown",
   "id": "a4de7557",
   "metadata": {},
   "source": [
    "#### 📥 Descripción general del dataset\n",
    "\n",
    "Este trabajo analiza la evolución de la **capacidad nuclear instalada en Estados Unidos**, utilizando un conjunto de datos con registros diarios desde el año **2007** hasta **abril de 2021**.\n",
    "\n",
    "##### Fuente de los datos\n",
    "El dataset fue descargado de [Kaggle](https://www.kaggle.com/datasets/gagado/nuclear-capacity/data), pero no incluye referencias explícitas a su origen. No obstante, por su contenido y formato, se infiere que los datos provienen de la U.S. Energy Information Administration (EIA), particularmente de su sección dedicada a energía nuclear.\n",
    "\n",
    "##### Columnas del dataset\n",
    "\n",
    "- `Unnamed: 0`: representa la fecha de cada observación. El formato original es una cadena con información del año, mes, día y hora (por ejemplo, '2007 0101 01'). \n",
    "- `U.S. nuclear capacity, daily (Megawatts)`: indica la capacidad nuclear total instalada y operativa ese día, expresada en megavatios eléctricos (MW).\n",
    "\n",
    "##### Periodicidad de los datos\n",
    "\n",
    "Los datos están registrados **diariamente**, lo que permite analizar variaciones a corto y largo plazo, detectar patrones estacionales y aplicar distintos modelos de series de tiempo con granularidad alta.\n",
    "\n",
    "El período cubierto por la serie va desde el **1 de enero de 2007** hasta el **21 de abril de 2021**, abarcando más de 14 años de observaciones diarias."
   ]
  },
  {
   "cell_type": "markdown",
   "id": "54e76259",
   "metadata": {},
   "source": [
    "#### 🔍 Revisión estructural, formateo temporal y tratamiento de valores faltantes\n",
    "\n",
    "Se comienza inspeccionando la estructura general del dataset utilizando los métodos `head()`, `info()` y `describe()`. Esto permite observar el tipo de datos, la cantidad de registros, la presencia de nulos y las estadísticas básicas de la variable principal."
   ]
  },
  {
   "cell_type": "code",
   "execution_count": null,
   "id": "c21faa2c",
   "metadata": {},
   "outputs": [],
   "source": [
    "import numpy as np\n",
    "import pandas as pd\n",
    "import matplotlib.pyplot as plt\n",
    "import matplotlib.patches as mpatches\n",
    "import scipy.stats as stats\n",
    "import statsmodels.graphics.tsaplots as sgt \n",
    "import statsmodels.tsa.stattools as sts \n",
    "from statsmodels.tsa.arima.model import ARIMA\n",
    "from statsmodels.tsa.statespace.sarimax import SARIMAX\n",
    "from sklearn.metrics import mean_squared_error, mean_absolute_error\n",
    "from prophet import Prophet"
   ]
  },
  {
   "cell_type": "code",
   "execution_count": null,
   "id": "18c5a0a8",
   "metadata": {},
   "outputs": [],
   "source": [
    "df = pd.read_csv('data/Nuclear_Capacity.csv')"
   ]
  },
  {
   "cell_type": "code",
   "execution_count": null,
   "id": "84a0afb1",
   "metadata": {},
   "outputs": [],
   "source": [
    "df.head()"
   ]
  },
  {
   "cell_type": "code",
   "execution_count": null,
   "id": "140396e1",
   "metadata": {},
   "outputs": [],
   "source": [
    "df.info()"
   ]
  },
  {
   "cell_type": "code",
   "execution_count": null,
   "id": "3180ea41",
   "metadata": {},
   "outputs": [],
   "source": [
    "df.describe()"
   ]
  },
  {
   "cell_type": "markdown",
   "id": "d082b9a6",
   "metadata": {},
   "source": [
    "No se detectan valores nulos en las columnas, pero se realiza un chequeo explícito para confirmar:"
   ]
  },
  {
   "cell_type": "code",
   "execution_count": null,
   "id": "6d7c1e87",
   "metadata": {},
   "outputs": [],
   "source": [
    "df.isnull().sum()"
   ]
  },
  {
   "cell_type": "markdown",
   "id": "7318a903",
   "metadata": {},
   "source": [
    "Se realizó una limpieza detallada de la columna de fecha y una validación de la integridad temporal del dataset:\n"
   ]
  },
  {
   "cell_type": "markdown",
   "id": "b6a8d978",
   "metadata": {},
   "source": [
    "En primer lugar, se extrajo de la columna original sólo la parte correspondiente al año y al día (`'YYYY MMDD'`), descartando la tercera parte (número de fila o repetición). Esta cadena se convirtió al tipo `datetime` y se ordenó cronológicamente."
   ]
  },
  {
   "cell_type": "code",
   "execution_count": null,
   "id": "718afc69",
   "metadata": {},
   "outputs": [],
   "source": [
    "# Extraer solo la parte de la fecha (ignorando el número de fila)\n",
    "df['fecha_str'] = df.iloc[:, 0].str.split(' ').str[:2].str.join(' ')\n",
    "\n",
    "# Convertir a datetime\n",
    "df['fecha'] = pd.to_datetime(df['fecha_str'], format='%Y %m%d')\n",
    "\n",
    "# Ordenar el dataframe cronológicamente\n",
    "df = df.sort_values('fecha')"
   ]
  },
  {
   "cell_type": "markdown",
   "id": "64fb34b0",
   "metadata": {},
   "source": [
    "Se generó un rango de fechas diario desde la fecha mínima hasta la máxima del dataset, y se comparó con las fechas disponibles para detectar posibles registros faltantes."
   ]
  },
  {
   "cell_type": "code",
   "execution_count": null,
   "id": "5636b2cf",
   "metadata": {},
   "outputs": [],
   "source": [
    "# Crear un rango completo de fechas y detectar faltantes\n",
    "fecha_min = df['fecha'].min()\n",
    "fecha_max = df['fecha'].max()\n",
    "rango_completo = pd.date_range(start=fecha_min, end=fecha_max, freq='D')\n",
    "\n",
    "print(f'Fecha de inicio: {fecha_min}')\n",
    "print(f'Fecha de fin: {fecha_max}')\n",
    "print(f'Cantidad de fechas esperadas: {len(rango_completo)}')"
   ]
  },
  {
   "cell_type": "markdown",
   "id": "a06f9bf6",
   "metadata": {},
   "source": [
    "Se verificó que no hayan fechas que deberían estar presentes pero no aparecen en el dataset original. Esto es útil para confirmar la continuidad de la serie. En este caso no fue necesario realizar ninguna imputación."
   ]
  },
  {
   "cell_type": "code",
   "execution_count": null,
   "id": "a43f5705",
   "metadata": {},
   "outputs": [],
   "source": [
    "# Identificar fechas faltantes\n",
    "fechas_disponibles = set(df['fecha'].dt.date)\n",
    "fechas_faltantes = [fecha.date() for fecha in rango_completo if fecha.date() not in fechas_disponibles]\n",
    "print(f\"Se encontraron {len(fechas_faltantes)} fechas faltantes\")\n",
    "if fechas_faltantes:\n",
    "    print(\"Primeras 10 fechas faltantes:\", fechas_faltantes[:10])"
   ]
  },
  {
   "cell_type": "markdown",
   "id": "1f57291b",
   "metadata": {},
   "source": [
    "Se reorganizaron las columnas para ubicar primero la fecha y luego la variable de interés. También, se renombró la columna larga por `'Capacidad'` para facilitar su uso posterior y se estableció la columna de fecha como índice.\n"
   ]
  },
  {
   "cell_type": "code",
   "execution_count": null,
   "id": "6fccd7fa",
   "metadata": {},
   "outputs": [],
   "source": [
    "# Reordenar y renombrar columnas\n",
    "df = df[['fecha', 'U.S. nuclear capacity, daily (Megawatts)']]\n",
    "df = df.rename(columns={'U.S. nuclear capacity, daily (Megawatts)': 'Capacidad'})"
   ]
  },
  {
   "cell_type": "code",
   "execution_count": null,
   "id": "55f4e18e",
   "metadata": {},
   "outputs": [],
   "source": [
    "# Definir la fecha como índice\n",
    "df.set_index('fecha', inplace=True)"
   ]
  },
  {
   "cell_type": "code",
   "execution_count": null,
   "id": "a1221f12",
   "metadata": {},
   "outputs": [],
   "source": [
    "df.head(5)"
   ]
  },
  {
   "cell_type": "markdown",
   "id": "aff9c701",
   "metadata": {},
   "source": [
    "#### 📈 Visualización inicial de la serie temporal"
   ]
  },
  {
   "cell_type": "code",
   "execution_count": null,
   "id": "a926ce49",
   "metadata": {},
   "outputs": [],
   "source": [
    "fig, axes = plt.subplots(ncols=2, figsize=(16, 5), sharey=True)\n",
    "\n",
    "axes[0].plot(df.index, df['Capacidad'], color='darkblue')\n",
    "axes[0].set_title('Capacidad nuclear en EE.UU. (2007–2021)')\n",
    "axes[0].set_xlabel('Fecha')\n",
    "axes[0].set_ylabel('Capacidad (MW)')\n",
    "axes[0].grid(True)\n",
    "\n",
    "df_zoom = df[(df.index >= '2020-10-20') & (df.index <= '2020-11-25')]\n",
    "axes[1].plot(df_zoom.index, df_zoom['Capacidad'], color='crimson', marker='o')\n",
    "axes[1].set_title('Zoom: Caída abrupta (noviembre 2020)')\n",
    "axes[1].set_xlabel('Fecha')\n",
    "axes[1].grid(True)\n",
    "\n",
    "for label in axes[1].get_xticklabels():\n",
    "    label.set_rotation(45)\n",
    "\n",
    "plt.tight_layout()\n",
    "plt.show()"
   ]
  },
  {
   "cell_type": "markdown",
   "id": "e0e436e9",
   "metadata": {},
   "source": [
    "Durante el mes de noviembre de 2020 se observa una caída abrupta y temporal en la capacidad nuclear diaria reportada, pasando de ~98.000 MW a ~27.000 MW entre los días 8 y 12. Esta caída representa más del 70% de la capacidad instalada, y se recupera completamente el 13 de noviembre.\n",
    "\n",
    "El comportamiento observado sugiere un evento atípico, posiblemente debido a un error en la carga de datos, mantenimiento masivo o prueba de sistemas. Dada su forma abrupta y la repetición exacta de valores durante varios días, es altamente probable que se trate de una anomalía en la fuente de datos más que de un reflejo del estado real del sistema energético.\n",
    "\n",
    "Este evento será considerado como *outlier* y se analizará si conviene eliminarlo o suavizarlo en la fase de modelado."
   ]
  },
  {
   "cell_type": "code",
   "execution_count": null,
   "id": "5b5724f8",
   "metadata": {},
   "outputs": [],
   "source": [
    "df_resample = df['Capacidad'].resample('ME').mean() # Mensual\n",
    "\n",
    "plt.figure(figsize=(14, 5))\n",
    "plt.plot(df_resample, color='steelblue')\n",
    "plt.title('Capacidad nuclear mensual promedio (2007–2021)')\n",
    "plt.xlabel('Fecha')\n",
    "plt.ylabel('Capacidad (MW)')\n",
    "plt.grid(True)\n",
    "plt.tight_layout()\n",
    "plt.show()"
   ]
  },
  {
   "cell_type": "markdown",
   "id": "85d08b11",
   "metadata": {},
   "source": [
    "El gráfico mensual promedio muestra que la capacidad nuclear de EE.UU. se mantiene bastante estable a lo largo de los años, aunque se sigue observando la caída abrupta a finales de 2020 y recuperación inmediata, indicando un evento atípico o un error en los datos."
   ]
  },
  {
   "cell_type": "code",
   "execution_count": null,
   "id": "d370e565",
   "metadata": {},
   "outputs": [],
   "source": [
    "df_resample = df['Capacidad'].resample('YE').mean() # Anual\n",
    "\n",
    "plt.figure(figsize=(14, 5))\n",
    "plt.plot(df_resample, color='steelblue')\n",
    "plt.title('Capacidad nuclear mensual promedio (2007–2021)')\n",
    "plt.xlabel('Fecha')\n",
    "plt.ylabel('Capacidad (MW)')\n",
    "plt.grid(True)\n",
    "plt.tight_layout()\n",
    "plt.show()"
   ]
  },
  {
   "cell_type": "markdown",
   "id": "a1550b66",
   "metadata": {},
   "source": [
    "El gráfico anual promedio muestra que la capacidad nuclear en EE.UU. se mantuvo prácticamente constante entre 2007 y 2019 (la fluctuación es baja), con una disminución más marcada en 2021, probablemente asociada a cierres de reactores o datos incompletos. Nuevamente, esta estabilidad a lo largo del tiempo sugiere un sistema nuclear consolidado con pocas expansiones o retiros estructurales."
   ]
  },
  {
   "cell_type": "code",
   "execution_count": null,
   "id": "fb2616c8",
   "metadata": {},
   "outputs": [],
   "source": [
    "df['Mes'] = df.index.month\n",
    "plt.figure(figsize=(10, 5))\n",
    "df.boxplot(column='Capacidad', by='Mes', grid=False)\n",
    "plt.title('Distribución mensual de la capacidad nuclear')\n",
    "plt.suptitle('')\n",
    "plt.xlabel('Mes')\n",
    "plt.ylabel('Capacidad (MW)')\n",
    "plt.show()\n"
   ]
  },
  {
   "cell_type": "markdown",
   "id": "27e9b96c",
   "metadata": {},
   "source": [
    "El boxplot mensual revela que la capacidad es muy similar entre meses, pero existen outliers negativos muy marcados en noviembre y diciembre, en coincidencia con la caída antes mencionada."
   ]
  },
  {
   "cell_type": "code",
   "execution_count": null,
   "id": "23d100ec",
   "metadata": {},
   "outputs": [],
   "source": [
    "df['Cambio_diario'] = df['Capacidad'].diff()\n",
    "\n",
    "plt.figure(figsize=(14, 5))\n",
    "plt.plot(df['Cambio_diario'], color='gray')\n",
    "plt.title('Cambios diarios en la capacidad nuclear')\n",
    "plt.xlabel('Fecha')\n",
    "plt.ylabel('Diferencia (MW)')\n",
    "plt.grid(True)\n",
    "plt.tight_layout()\n",
    "plt.show()"
   ]
  },
  {
   "cell_type": "markdown",
   "id": "16595d9e",
   "metadata": {},
   "source": [
    "El gráfico de diferencias diarias evidencia que la variabilidad es generalmente baja, salvo por saltos extremadamente grandes en 2020, lo que refuerza la idea de un evento puntual o anomalía en ese período."
   ]
  },
  {
   "cell_type": "code",
   "execution_count": null,
   "id": "b5514a43",
   "metadata": {},
   "outputs": [],
   "source": [
    "df_2007 = df[df.index.year == 2007]\n",
    "df_2019 = df[df.index.year == 2019]\n",
    "\n",
    "# Calcular promedios mensuales\n",
    "prom_2007 = df_2007['Capacidad'].resample('ME').mean()\n",
    "prom_2019 = df_2019['Capacidad'].resample('ME').mean()\n",
    "\n",
    "meses = ['Enero', 'Febrero', 'Marzo', 'Abril', 'Mayo', 'Junio', \n",
    "         'Julio', 'Agosto', 'Septiembre', 'Octubre', 'Noviembre', 'Diciembre']\n",
    "\n",
    "# Crear gráfico de barras comparativo\n",
    "plt.figure(figsize=(10, 5))\n",
    "plt.bar(range(12), prom_2007.values, width=0.4, label='2007', align='edge', color='#1f77b4')\n",
    "plt.bar([x + 0.4 for x in range(12)], prom_2019.values, width=0.4, label='2019', align='edge', color='#ff7f0e')\n",
    "\n",
    "plt.xticks([x + 0.2 for x in range(12)], meses, rotation=45)\n",
    "plt.xlabel('Mes')\n",
    "plt.ylabel('Capacidad Promedio (MW)')\n",
    "plt.title('Comparación mensual de capacidad nuclear: 2007 vs 2019')\n",
    "plt.legend(loc='upper center', bbox_to_anchor=(0.5, -0.15), ncol=2, frameon=False)\n",
    "plt.tight_layout()\n",
    "plt.show()"
   ]
  },
  {
   "cell_type": "markdown",
   "id": "ae5b2ad6",
   "metadata": {},
   "source": [
    "El gráfico compara la capacidad mensual promedio de dos años representativos: 2007, primer año de la serie, y 2019, el último año completo antes de la pandemia.\n",
    "Permite identificar cambios estructurales o estacionales en la operación del sistema nuclear, y observar si existe una variación sistemática en ciertos meses (por ejemplo, por mantenimientos programados). También sirve como línea base para luego contrastar con años pandémicos (como 2020).\n",
    "\n",
    "En la comparación se nota una leve disminución general en 2019 respecto a 2007, especialmente en los meses de abril a junio, lo que podría indicar un cambio en los patrones operativos o la baja de algunos reactores."
   ]
  },
  {
   "cell_type": "code",
   "execution_count": null,
   "id": "df1637d3",
   "metadata": {},
   "outputs": [],
   "source": [
    "plt.figure(figsize=(12, 5))\n",
    "\n",
    "# Q-Q plot de la serie original\n",
    "plt.subplot(1, 2, 1)\n",
    "stats.probplot(df['Capacidad'], dist=\"norm\", plot=plt)\n",
    "plt.title(\"Q-Q Plot - Serie original\")\n",
    "\n",
    "# Q-Q plot de las diferencias\n",
    "df_diff = df['Capacidad'].diff().dropna()\n",
    "plt.subplot(1, 2, 2)\n",
    "stats.probplot(df_diff, dist=\"norm\", plot=plt)\n",
    "plt.title(\"Q-Q Plot - Diferencias diarias\")\n",
    "\n",
    "plt.tight_layout()\n",
    "plt.show()"
   ]
  },
  {
   "cell_type": "markdown",
   "id": "18070fdf",
   "metadata": {},
   "source": [
    "- Serie original (izquierda): muestra una desviación respecto a la línea recta en los extremos. Esto indica que la distribución de la capacidad nuclear no es normal y tiene colas pesadas, probablemente por la estructura de la serie (tendencia, eventos abruptos como el de 2020, etc.).\n",
    "\n",
    "- Diferencias diarias (derecha): el Q-Q plot se ajusta mucho mejor a la línea recta, lo que sugiere que los cambios diarios en la capacidad se aproximan a una distribución normal, aunque todavía hay cierta asimetría en los extremos."
   ]
  },
  {
   "cell_type": "markdown",
   "id": "60c2cfe4",
   "metadata": {},
   "source": [
    "#### Prueba de estacionariedad\n",
    "\n",
    "##### Prueba de Dickey-Fuller aumentada (ADF)\n",
    "\n",
    "Vamos a aplicar la prueba de Dickey-Fuller aumentada (ADF):\n",
    "\n",
    "- Hipótesis nula ($H_0$): la serie NO es estacionaria.\n",
    "\n",
    "- Hipótesis alternativa ($H_1$): la serie es estacionaria.\n",
    "\n",
    "Si el p-valor ≤ 0.05, rechazamos $H_0 \\rightarrow$ la serie es estacionaria. "
   ]
  },
  {
   "cell_type": "code",
   "execution_count": null,
   "id": "9d83c097",
   "metadata": {},
   "outputs": [],
   "source": [
    "# Función para ejecutar y reportar la prueba de Dickey-Fuller aumentada (ADF)\n",
    "def check_stationarity(series, name=\"\"):\n",
    "    result = sts.adfuller(series.dropna())\n",
    "    print(f'Prueba ADF para {name}:')\n",
    "    print(f'Estadístico ADF: {result[0]:.4f}')\n",
    "    print(f'p-valor: {result[1]:.4f}')\n",
    "    print(f'Valores críticos:')\n",
    "    for key, value in result[4].items():\n",
    "        print(f'   {key}: {value:.4f}')\n",
    "    \n",
    "    if result[1] <= 0.01:\n",
    "        conclusion = \"Estacionaria al 1% (evidencia muy fuerte)\"\n",
    "    elif result[1] <= 0.05:\n",
    "        conclusion = \"Estacionaria al 5% (evidencia fuerte)\"\n",
    "    elif result[1] <= 0.10:\n",
    "        conclusion = \"Estacionaria al 10% (evidencia débil)\"\n",
    "    else:\n",
    "        conclusion = \"No estacionaria (> 10%)\"\n",
    "    print(f\"Conclusión: {conclusion}\")\n",
    "    print(\"-\" * 50)\n",
    "    return result[1] <= 0.05"
   ]
  },
  {
   "cell_type": "code",
   "execution_count": null,
   "id": "850abfb8",
   "metadata": {},
   "outputs": [],
   "source": [
    "# Función para graficar la serie original y su transformación\n",
    "def plot_series(original, transformed, title=\"Comparación de Series\"):\n",
    "    plt.figure(figsize=(12, 6))\n",
    "    plt.subplot(2,1,1)\n",
    "    plt.plot(original)\n",
    "    plt.title(\"Serie Original\")\n",
    "    plt.subplot(2,1,2)\n",
    "    plt.plot(transformed, color='red')\n",
    "    plt.title(title)\n",
    "    plt.tight_layout()\n",
    "    plt.show()"
   ]
  },
  {
   "cell_type": "code",
   "execution_count": null,
   "id": "823eaf45",
   "metadata": {},
   "outputs": [],
   "source": [
    "# Serie original\n",
    "serie_original = df['Capacidad']\n",
    "resultado_original = check_stationarity(serie_original, name=\"Capacidad\")\n",
    "\n",
    "# Serie diferenciada\n",
    "serie_diff = serie_original.diff().dropna()\n",
    "resultado_diff = check_stationarity(serie_diff, name=\"Diferencia de Capacidad\")\n",
    "\n",
    "# Visualización comparativa\n",
    "plot_series(serie_original, serie_diff, title=\"Primera Diferencia\")"
   ]
  },
  {
   "cell_type": "markdown",
   "id": "3070ca3a",
   "metadata": {},
   "source": [
    "Aunque el test ADF sugiere que la serie original es estacionaria, la inspección visual, la presencia de eventos atípicos y la baja variabilidad en la mayoría del período nos interesa evaluar los efectos de aplicar una primera diferencia. La serie diferenciada muestra estacionariedad clara, lo que podría validar el uso de modelos ARIMA con parámetro d=1.\n",
    "\n",
    "Como criterio complementario, seguimos por graficar la media y varianza móviles."
   ]
  },
  {
   "cell_type": "code",
   "execution_count": null,
   "id": "c7e069d2",
   "metadata": {},
   "outputs": [],
   "source": [
    "fig, axes = plt.subplots(nrows=2, ncols=1, figsize=(14, 8))\n",
    "ventana = 30  # ventana suavizado 30 días\n",
    "\n",
    "# Media y desvío estándar móviles de serie original\n",
    "media_movil_orig = df['Capacidad'].rolling(window=ventana).mean()\n",
    "std_movil_orig = df['Capacidad'].rolling(window=ventana).std()\n",
    "\n",
    "# Media y desvío estándar móviles de diferencia\n",
    "media_movil_diff = serie_diff.rolling(window=ventana).mean()\n",
    "std_movil_diff = serie_diff.rolling(window=ventana).std()\n",
    "\n",
    "# Original\n",
    "axes[0].plot(df['Capacidad'], label='Serie original', alpha=0.5)\n",
    "axes[0].plot(media_movil_orig, label='Media móvil (30 días)', color='red')\n",
    "axes[0].plot(std_movil_orig, label='Desvío estándar móvil', color='green')\n",
    "axes[0].set_title(\"Serie original - Media y desvío estándar móviles\")\n",
    "axes[0].legend()\n",
    "axes[0].grid(True)\n",
    "\n",
    "# Diferenciada\n",
    "axes[1].plot(serie_diff, label='Primera diferencia', alpha=0.5)\n",
    "axes[1].plot(media_movil_diff, label='Media móvil (30 días)', color='red')\n",
    "axes[1].plot(std_movil_diff, label='Desvío estándar móvil', color='green')\n",
    "axes[1].set_title(\"Primera diferencia - Media y desvío estándar móviles\")\n",
    "axes[1].legend()\n",
    "axes[1].grid(True)\n",
    "plt.tight_layout()\n",
    "plt.show()"
   ]
  },
  {
   "cell_type": "markdown",
   "id": "db61db8a",
   "metadata": {},
   "source": [
    "En la serie original (gráfico superior), la <span style=\"color:red\">media móvil</span> no se mantiene constante: hay tramos planos, pero también cambios bruscos (aun sin tener en cuenta el outlier de 2020). La varianza móvil también se ve afectada por eventos anómalos.\n",
    "\n",
    "En la serie diferenciada (gráfico inferior), tanto la media como la varianza móviles son mucho más estables a lo largo del tiempo."
   ]
  },
  {
   "cell_type": "markdown",
   "id": "bb30d792",
   "metadata": {},
   "source": [
    "A continuación, se grafican las funciones ACF y PACF para estimar los órdenes adecuados de los componentes autorregresivos (AR) y de media móvil (MA), necesarios para modelar con ARIMA."
   ]
  },
  {
   "cell_type": "markdown",
   "id": "6014bdeb",
   "metadata": {},
   "source": [
    "#### Gráficos ACF (Autocorrelation Function) y PACG (Partial Autocorrelation Function)\n",
    "\n",
    "Las funciones ACF y PACF permiten analizar la dependencia temporal en una serie. La ACF mide la correlación entre observaciones separadas por distintos rezagos (lags), incluyendo la influencia indirecta de otros lags. En cambio, la PACF mide la correlación entre una observación y su rezago excluyendo las influencias intermedias, es decir, la correlación “pura” entre $X(t)$ y $X(t-k)$. Estas herramientas son fundamentales para elegir los órdenes adecuados de los componentes AR (autoregresivos) y MA (media móvil) en modelos ARIMA."
   ]
  },
  {
   "cell_type": "code",
   "execution_count": null,
   "id": "2ca7ab6f",
   "metadata": {},
   "outputs": [],
   "source": [
    "fig, axes = plt.subplots(nrows=2, ncols=2, figsize=(14, 10))\n",
    "\n",
    "# PACF serie original\n",
    "sgt.plot_pacf(serie_original.dropna(), ax=axes[0, 0], zero=False, lags=20, method='ywm')\n",
    "axes[0, 0].set_title(\"PACF - Serie original\")\n",
    "\n",
    "# ACF serie original\n",
    "sgt.plot_acf(serie_original.dropna(), ax=axes[0, 1], zero=False, lags=20)\n",
    "axes[0, 1].set_title(\"ACF - Serie original\")\n",
    "\n",
    "# PACF primera diferencia\n",
    "sgt.plot_pacf(serie_diff, ax=axes[1, 0], zero=False, lags=20, method='ywm')\n",
    "axes[1, 0].set_title(\"PACF - Primera diferencia\")\n",
    "\n",
    "# ACF primera diferencia\n",
    "sgt.plot_acf(serie_diff, ax=axes[1, 1], zero=False, lags=20)\n",
    "axes[1, 1].set_title(\"ACF - Primera diferencia\")\n",
    "\n",
    "plt.tight_layout()\n",
    "plt.show()"
   ]
  },
  {
   "cell_type": "markdown",
   "id": "35fdadff",
   "metadata": {},
   "source": [
    "**Serie original:**\n",
    "\n",
    "- El PACF muestra un pico fuerte en el lag 1 y picos menores en lags 6 y 11.\n",
    "- El ACF decae lentamente, lo que es típico de una serie con estructura autoregresiva (no MA).\n",
    "- Ambos sugieren que un modelo AR(p) puede ser más apropiado que un MA puro.\n",
    "- Modelos candidatos: (se deberián probar y comparar los siguientes modelos)\n",
    "    * AR(1): Para comparar la estructura básica.\n",
    "    * AR(6): Para incluir el segundo pico significativo.\n",
    "    * AR(11): Para incluir todos los picos significativos.\n",
    "    * ARMA(1,1): Aunque el ACF no muestra un patrón de decaimiento característico de un MA puro, incluir este modelo permite capturar posibles componentes residuales que un AR puro podría no modelar completamente. También puede ayudar a comparar ajustes y evaluar mejoras en los errores de predicción.\n",
    "\n",
    "**Primera diferencia:**\n",
    "\n",
    "- El PACF muestra un pico negativo fuerte en el lag 5 y valores relevantes en los lags 10 y 15, lo que sugiere una posible estructura periódica cada 5 unidades.\n",
    "- El ACF presenta un valor positivo leve en el lag 1 y un pico negativo significativo en el lag 5, pero luego se estabiliza cerca de cero, sin decaimiento progresivo.\n",
    "- Ambos indican que un modelo ARIMA con lags múltiples o un SARIMA con componente estacional s=5 podría capturar mejor la dinámica de la serie que un ARIMA simple.\n",
    "- Modelos candidatos: (se deberián probar y comparar los siguientes modelos)\n",
    "    * ARIMA(1,1,0): Para capturar una estructura autoregresiva básica con la primera diferencia.\n",
    "    * ARIMA([5],1,0): Para incluir directamente el lag 5, que muestra un efecto fuerte y repetitivo.\n",
    "    * ARIMA([5,10],1,0) o ARIMA([5,10,15],1,0): Para considerar explícitamente la posible periodicidad de 5 unidades detectada en el PACF.\n",
    "    * ARIMA(0,1,1): Para testear si un modelo con solo componente MA podría ser suficiente, dada la forma del ACF.\n",
    "    * ARIMA(1,1,1): Como modelo balanceado básico para comparar con otros, aunque los gráficos no lo sugieren fuertemente.\n",
    "    * SARIMA(0,1,0)(1,0,0,5): Para modelar directamente la estacionalidad cada 5 pasos como un componente estructural estacional AR.\n",
    "    * SARIMA(0,1,0)(0,0,1,5): Variante alternativa si se sospecha un componente estacional MA.\n",
    "    * SARIMA(0,1,0)(1,0,1,5): Modelo mixto estacional simple para capturar ambas dinámicas con estacionalidad s=5."
   ]
  },
  {
   "cell_type": "markdown",
   "id": "04ace0d9",
   "metadata": {},
   "source": [
    "#### Tratamiento de outliers\n",
    "\n",
    "Antes de proceder con el modelado, se realiza un tratamiento puntual de los valores atípicos detectados en noviembre de 2020 mediante interpolación lineal, con el fin de evitar que afecten negativamente el ajuste de los modelos."
   ]
  },
  {
   "cell_type": "code",
   "execution_count": null,
   "id": "09d90cd3",
   "metadata": {},
   "outputs": [],
   "source": [
    "df_clean = df.copy()\n",
    "outlier_dates = pd.date_range(start='2020-11-07', end='2020-11-12')\n",
    "df_clean.loc[outlier_dates, 'Capacidad'] = np.nan\n",
    "df_clean['Capacidad'] = df_clean['Capacidad'].interpolate()\n",
    "\n",
    "# Zoom para noviembre\n",
    "df_zoom = df_clean[(df_clean.index >= '2020-10-20') & (df_clean.index <= '2020-11-25')]\n",
    "\n",
    "fig, axes = plt.subplots(ncols=2, figsize=(16, 5), sharey=True)\n",
    "\n",
    "# Gráfico general con comparación\n",
    "axes[0].plot(df.index, df['Capacidad'], label='Original', color='lightgray', linewidth=1.5)\n",
    "axes[0].plot(df_clean.index, df_clean['Capacidad'], label='Interpolada', color='darkblue', linewidth=1)\n",
    "axes[0].set_title('Capacidad nuclear en EE.UU. (2007–2021)')\n",
    "axes[0].set_xlabel('Fecha')\n",
    "axes[0].set_ylabel('Capacidad (MW)')\n",
    "axes[0].legend()\n",
    "axes[0].grid(True)\n",
    "\n",
    "# Gráfico con zoom\n",
    "axes[1].plot(df_zoom.index, df.loc[df_zoom.index, 'Capacidad'], label='Original', color='lightgray', marker='o')\n",
    "axes[1].plot(df_zoom.index, df_zoom['Capacidad'], label='Interpolada', color='crimson', marker='o')\n",
    "axes[1].set_title('Zoom: Caída abrupta (noviembre 2020)')\n",
    "axes[1].set_xlabel('Fecha')\n",
    "axes[1].legend()\n",
    "axes[1].grid(True)\n",
    "\n",
    "for label in axes[1].get_xticklabels():\n",
    "    label.set_rotation(45)\n",
    "plt.tight_layout()\n",
    "plt.show()"
   ]
  },
  {
   "cell_type": "markdown",
   "id": "ac7e2e0d",
   "metadata": {},
   "source": [
    "Con el objetivo de validar la robustez de los resultados, se repitieron las pruebas ADF, ACF y PACF sobre la serie limpia para comparar la estructura estadística sin la influencia de los valores atípicos en noviembre 2020:"
   ]
  },
  {
   "cell_type": "markdown",
   "id": "c9aa4efd",
   "metadata": {},
   "source": [
    "##### Prueba de ADF"
   ]
  },
  {
   "cell_type": "code",
   "execution_count": null,
   "id": "a105f893",
   "metadata": {},
   "outputs": [],
   "source": [
    "# Serie original\n",
    "serie_original_limpia = df_clean['Capacidad']\n",
    "resultado_original = check_stationarity(serie_original, name=\"Capacidad\")\n",
    "\n",
    "# Serie diferenciada\n",
    "serie_diff_limpia = serie_original_limpia.diff().dropna()\n",
    "resultado_diff = check_stationarity(serie_diff_limpia, name=\"Diferencia de Capacidad\")\n",
    "\n",
    "# Visualización comparativa\n",
    "plot_series(serie_original_limpia, serie_diff_limpia, title=\"Primera Diferencia\")"
   ]
  },
  {
   "cell_type": "markdown",
   "id": "bb5261ce",
   "metadata": {},
   "source": [
    "La serie original limpia (sin outliers) resulta claramente estacionaria según el test ADF, con un estadístico de -5.63 y un p-valor < 0.01. Esto implica que no es necesario aplicar una diferencia para modelarla con un ARMA(p,q), aunque se puede hacer por comparación. "
   ]
  },
  {
   "cell_type": "markdown",
   "id": "4139d775",
   "metadata": {},
   "source": [
    "#### Gráficos ACF (Autocorrelation Function) y PACG (Partial Autocorrelation Function)"
   ]
  },
  {
   "cell_type": "code",
   "execution_count": null,
   "id": "0a901a0f",
   "metadata": {},
   "outputs": [],
   "source": [
    "fig, axes = plt.subplots(nrows=2, ncols=2, figsize=(14, 10))\n",
    "\n",
    "# PACF serie original\n",
    "sgt.plot_pacf(serie_original_limpia.dropna(), ax=axes[0, 0], zero=False, lags=20, method='ywm')\n",
    "axes[0, 0].set_title(\"PACF - Serie original sin outliers\")\n",
    "\n",
    "# ACF serie original\n",
    "sgt.plot_acf(serie_original_limpia.dropna(), ax=axes[0, 1], zero=False, lags=20)\n",
    "axes[0, 1].set_title(\"ACF - Serie original sin outliers\")\n",
    "\n",
    "# PACF primera diferencia\n",
    "sgt.plot_pacf(serie_diff_limpia, ax=axes[1, 0], zero=False, lags=20, method='ywm')\n",
    "axes[1, 0].set_title(\"PACF - Primera diferencia sin outliers\")\n",
    "\n",
    "# ACF primera diferencia\n",
    "sgt.plot_acf(serie_diff_limpia, ax=axes[1, 1], zero=False, lags=20)\n",
    "axes[1, 1].set_title(\"ACF - Primera diferencia sin outliers\")\n",
    "\n",
    "plt.tight_layout()\n",
    "plt.show()"
   ]
  },
  {
   "cell_type": "markdown",
   "id": "762f730d",
   "metadata": {},
   "source": [
    "**Serie original (sin outliers)**:\n",
    "- El PACF sigue mostrando un pico fuerte en lag 1, pero los picos en lags 6 y 11 son mucho menos relevantes. Esto sugiere que aquellos valores eran probablemente inducidos por los outliers de noviembre de 2020, y no reflejaban una dependencia real.\n",
    "- El ACF mantiene un decaimiento lento, lo cual sigue siendo característico de un proceso autoregresivo, aunque ahora se ve muy limpio y menos errático.\n",
    "- La serie original sin outliers mantiene una estructura compatible con un modelo AR, pero con menos ruido. Se justifican como modelos candidatos:\n",
    "    * AR(1): por el pico fuerte en lag 1. \n",
    "    * ARIMA(1,1): para capturar potenciales componentes de ruido no explicados por AR(1).\n",
    "\n",
    "**Primera diferencia (sin outliers)**:\n",
    "- El PACF ya no muestra un pico claro en lag 5, y los valores en lags 10 y 15 son más suaves y cercanos a cero. Esto indica que la aparente estructura periódica de múltiplos de 5 se podría deber en gran parte a los outliers.\n",
    "- El ACF no muestra ningún patrón fuerte: solo pequeños picos aislados (por ejemplo, en lag 7 o 13), pero sin estructura clara ni decaimiento.\n",
    "- La primera diferencia de la serie limpia se comporta más como un proceso ruido blanco leve, sin indicios claros de estacionalidad ni de autocorrelaciones fuertes. \n",
    "    * ARIMA(1,1,0) o ARIMA(0,1,1): siguen siendo opciones razonables, aunque ya no hay evidencia clara de estructura en lags múltiples.\n",
    "    * Modelos con lags específicos como ARIMA([5,10],1,0) o SARIMA con s=5 pierden justificación, dado que la periodicidad aparente desapareció."
   ]
  },
  {
   "cell_type": "markdown",
   "id": "1009f25b",
   "metadata": {},
   "source": [
    "### 1. b y c) Modelos de Análisis de Series de Tiempo y Generación de Pronósticos"
   ]
  },
  {
   "cell_type": "code",
   "execution_count": null,
   "id": "3dd267d4",
   "metadata": {},
   "outputs": [],
   "source": [
    "# Split: train hasta fin de 2020, test son 4 meses de 2021\n",
    "train = serie_original_limpia[:'2020-12-31']\n",
    "test = serie_original_limpia['2021-01-01':]"
   ]
  },
  {
   "cell_type": "code",
   "execution_count": null,
   "id": "23993e27",
   "metadata": {},
   "outputs": [],
   "source": [
    "# Función de evaluación con resumen de coeficientes\n",
    "def evaluar_modelo_con_significancia(modelo, train, test, nombre=\"modelo\"):\n",
    "    resultado = modelo.fit()\n",
    "    pred = resultado.forecast(steps=len(test))\n",
    "    rmse = np.sqrt(mean_squared_error(test, pred))\n",
    "    print(f\"\\n📘 {nombre} → AIC: {resultado.aic:.2f} | RMSE: {rmse:.2f}\")\n",
    "    print(\"Resumen de coeficientes:\")\n",
    "    print(resultado.summary())\n",
    "    return resultado, pred"
   ]
  },
  {
   "cell_type": "markdown",
   "id": "7e490b9e",
   "metadata": {},
   "source": [
    "#### Modelos clásicos"
   ]
  },
  {
   "cell_type": "markdown",
   "id": "618dd31f",
   "metadata": {},
   "source": [
    "#### 1. ARIMA"
   ]
  },
  {
   "cell_type": "markdown",
   "id": "0f16810d",
   "metadata": {},
   "source": [
    "**Modelos sobre la serie original limpia**"
   ]
  },
  {
   "cell_type": "code",
   "execution_count": null,
   "id": "2d352fe7",
   "metadata": {},
   "outputs": [],
   "source": [
    "# AR(1): ARIMA(1,0,0)\n",
    "modelo_ar1 = ARIMA(train, order=(1, 0, 0))\n",
    "res_ar1, pred_ar1 = evaluar_modelo_con_significancia(modelo_ar1, train, test, nombre=\"AR(1)\")\n",
    "ajuste_ar1 = res_ar1.fittedvalues\n",
    "\n",
    "# ARIMA(1,1,0): estructura más flexible sobre original\n",
    "modelo_arima110 = ARIMA(train, order=(1, 1, 0))\n",
    "res_arima110, pred_arima110 = evaluar_modelo_con_significancia(modelo_arima110, train, test, nombre=\"ARIMA(1,1,0)\")\n",
    "ajuste_arima110 = res_arima110.fittedvalues"
   ]
  },
  {
   "cell_type": "markdown",
   "id": "ff53577f",
   "metadata": {},
   "source": [
    "**Modelos sobre la serie diferenciada limpia (ARIMA con d=1)**"
   ]
  },
  {
   "cell_type": "code",
   "execution_count": null,
   "id": "06616717",
   "metadata": {},
   "outputs": [],
   "source": [
    "# ARIMA(0,1,1)\n",
    "modelo_011 = ARIMA(train, order=(0, 1, 1))\n",
    "res_011, pred_011 = evaluar_modelo_con_significancia(modelo_011, train, test, nombre=\"ARIMA(0,1,1)\")\n",
    "ajuste_011 = res_011.fittedvalues\n",
    "\n",
    "# ARIMA(1,1,1)\n",
    "modelo_111 = ARIMA(train, order=(1, 1, 1))\n",
    "res_111, pred_111 = evaluar_modelo_con_significancia(modelo_111, train, test, nombre=\"ARIMA(1,1,1)\")\n",
    "ajuste_111 = res_111.fittedvalues\n",
    "ajuste_111 = ajuste_111.iloc[1:]\n",
    "ajuste_111.index = train.index[1:] \n",
    "\n",
    "# ARIMA(0,1,0)\n",
    "modelo_010 = ARIMA(train, order=(0, 1, 0))\n",
    "res_010, pred_010 = evaluar_modelo_con_significancia(modelo_010, train, test, nombre=\"ARIMA(0,1,0)\")\n",
    "ajuste_010 = res_010.fittedvalues"
   ]
  },
  {
   "cell_type": "code",
   "execution_count": null,
   "id": "39a06455",
   "metadata": {},
   "outputs": [],
   "source": [
    "colors = {\n",
    "    'AR(1)': '#0072B2',        # Azul oscuro\n",
    "    'ARIMA(1,1,1)': '#FF0000'  # Rojo\n",
    "}\n",
    "\n",
    "plt.figure(figsize=(16, 6))\n",
    "\n",
    "# Datos observados\n",
    "plt.plot(train.index, train, label=\"Entrenamiento\", color='gray', linewidth=1)\n",
    "plt.plot(test.index, test, label=\"Observado (Test)\", color='black', linewidth=2)\n",
    "\n",
    "# Predicción AR(1)\n",
    "plt.plot(test.index, pred_ar1, label=\"Pronóstico AR(1)\", color=colors['AR(1)'], linestyle='--', linewidth=2)\n",
    "\n",
    "# Predicción ARIMA(1,1,1)\n",
    "plt.plot(test.index, pred_111, label=\"Pronóstico ARIMA(1,1,1)\", color=colors['ARIMA(1,1,1)'], linestyle='--', linewidth=2)\n",
    "\n",
    "plt.title(\"Pronóstico comparativo: entrenamiento, observaciones y predicciones\", fontsize=14)\n",
    "plt.xlabel(\"Fecha\")\n",
    "plt.ylabel(\"Capacidad nuclear (MW)\")\n",
    "\n",
    "# Crear leyenda personalizada\n",
    "legend_elements = [\n",
    "    # Datos observados\n",
    "    mpatches.Patch(facecolor='gray', label='Entrenamiento'),\n",
    "    mpatches.Patch(facecolor='black', label='Observado (Test)'),\n",
    "    \n",
    "    # Modelos\n",
    "    mpatches.Patch(facecolor=colors['AR(1)'], label='Pronóstico AR(1)'),\n",
    "    mpatches.Patch(facecolor=colors['ARIMA(1,1,1)'], label='Pronóstico ARIMA(1,1,1)'),\n",
    "]\n",
    "\n",
    "# Agregar leyenda personalizada\n",
    "plt.legend(handles=legend_elements, loc='best')\n",
    "\n",
    "plt.grid(True, alpha=0.3)\n",
    "plt.tight_layout()\n",
    "plt.savefig('comparacion_ar1_arima.png', dpi=300, bbox_inches='tight')\n",
    "plt.show()"
   ]
  },
  {
   "cell_type": "markdown",
   "id": "989ac796",
   "metadata": {},
   "source": [
    "#### 2. SARIMA\n",
    "\n",
    "Se decidió probar un modelo SARIMA (ARIMA estacional), que permite capturar posibles patrones repetitivos en la serie, como fluctuaciones semanales o mensuales. Esto es especialmente relevante en series diarias como la capacidad nuclear, donde pueden existir ciclos operativos o estacionales que un modelo no estacional no podría detectar ni aprovechar.\n",
    "\n",
    "Se seleccionaron estacionalidades de 7 días (s=7) para representar un ciclo semanal típico —por ejemplo, diferencias entre fines de semana y días hábiles—, y de 30 días (s=30) para capturar posibles variaciones mensuales vinculadas a mantenimiento, planificación o consumo energético."
   ]
  },
  {
   "cell_type": "code",
   "execution_count": null,
   "id": "6209d6fd",
   "metadata": {},
   "outputs": [],
   "source": [
    "# Entrenar SARIMA con estacionalidad semanal (s=7)\n",
    "modelo_sarimax_7 = SARIMAX(train, order=(1,1,1), seasonal_order=(1,0,1,7))\n",
    "res_sarimax_7, pred_sarimax_7 = evaluar_modelo_con_significancia(modelo_sarimax_7, train, test, nombre=\"SARIMAX(1,1,1)(1,0,1,7)\")\n",
    "pred_sarimax_7 = res_sarimax_7.forecast(steps=len(test))\n",
    "ajuste_sarimax_7 = res_sarimax_7.fittedvalues.iloc[1:]\n",
    "ajuste_sarimax_7.index = train.index[1:]\n",
    "\n",
    "# Entrenar SARIMA con estacionalidad mensual (s=30)\n",
    "modelo_sarimax_30 = SARIMAX(train, order=(1,1,1), seasonal_order=(1,0,1,30))\n",
    "res_sarimax_30, pred_sarimax_30 = evaluar_modelo_con_significancia(modelo_sarimax_30, train, test, nombre=\"SARIMAX(1,1,1)(1,0,1,30)\")\n",
    "pred_sarimax_30 = res_sarimax_30.forecast(steps=len(test))\n",
    "ajuste_sarimax_30 = res_sarimax_30.fittedvalues.iloc[1:]\n",
    "ajuste_sarimax_30.index = train.index[1:]"
   ]
  },
  {
   "cell_type": "code",
   "execution_count": null,
   "id": "1f1ec351",
   "metadata": {},
   "outputs": [],
   "source": [
    "colors = {\n",
    "    'AR(1)': '#0072B2',             # Azul oscuro\n",
    "    'ARIMA(1,1,1)': '#FF0000',      # Rojo\n",
    "    'SARIMAX(1,0,1,7)': '#E69F00',  # Amarillo-ámbar\n",
    "    'SARIMAX(1,0,1,30)': '#009E73', # Verde oscuro\n",
    "}\n",
    "\n",
    "plt.figure(figsize=(16, 6))\n",
    "\n",
    "# Datos observados\n",
    "plt.plot(train.index, train, label=\"Entrenamiento\", color='gray', linewidth=1)\n",
    "plt.plot(test.index, test, label=\"Observado (Test)\", color='black', linewidth=2)\n",
    "\n",
    "# Predicciones con colores consistentes\n",
    "plt.plot(test.index, pred_ar1, label=\"AR(1)\", color=colors['AR(1)'], linestyle='--', linewidth=2)\n",
    "plt.plot(test.index, pred_111, label=\"ARIMA(1,1,1)\", color=colors['ARIMA(1,1,1)'], linestyle='--', linewidth=2)\n",
    "plt.plot(test.index, pred_sarimax_7, label=\"SARIMAX(1,0,1,7)\", color=colors['SARIMAX(1,0,1,7)'], linestyle='--', linewidth=2)\n",
    "plt.plot(test.index, pred_sarimax_30, label=\"SARIMAX(1,0,1,30)\", color=colors['SARIMAX(1,0,1,30)'], linestyle='--', linewidth=2)\n",
    "\n",
    "plt.title(\"Comparación de modelos sobre test (2021)\", fontsize=14)\n",
    "plt.xlabel(\"Fecha\")\n",
    "plt.ylabel(\"Capacidad nuclear (MW)\")\n",
    "\n",
    "# Crear leyenda personalizada con patches\n",
    "legend_elements = [\n",
    "    # Datos observados\n",
    "    mpatches.Patch(facecolor='gray', label='Entrenamiento'),\n",
    "    mpatches.Patch(facecolor='black', label='Observado (Test)'),\n",
    "    \n",
    "    # Modelos\n",
    "    mpatches.Patch(facecolor=colors['AR(1)'], label='AR(1)'),\n",
    "    mpatches.Patch(facecolor=colors['ARIMA(1,1,1)'], label='ARIMA(1,1,1)'),\n",
    "    mpatches.Patch(facecolor=colors['SARIMAX(1,0,1,7)'], label='SARIMAX(1,0,1,7)'),\n",
    "    mpatches.Patch(facecolor=colors['SARIMAX(1,0,1,30)'], label='SARIMAX(1,0,1,30)'),\n",
    "]\n",
    "\n",
    "# Agregar leyenda con la configuración personalizada\n",
    "plt.legend(handles=legend_elements, loc='best', ncol=3)\n",
    "\n",
    "plt.grid(True, alpha=0.3)\n",
    "plt.tight_layout()\n",
    "plt.savefig('comparacion_modelos_test.png', dpi=300, bbox_inches='tight')\n",
    "plt.show()"
   ]
  },
  {
   "cell_type": "markdown",
   "id": "8a95c6d8",
   "metadata": {},
   "source": [
    "#### 3. PROPHET\n",
    "\n",
    "Se eligió incluir Prophet como modelo alternativo debido a su capacidad para detectar tendencias y estacionalidades de forma automática, sin necesidad de definir manualmente los parámetros como en ARIMA o SARIMA. Prophet fue desarrollado por Facebook para ser fácil de usar, interpretable y robusto a outliers o datos faltantes, lo que lo convierte en una excelente opción cuando se trabaja con series temporales complejas."
   ]
  },
  {
   "cell_type": "code",
   "execution_count": null,
   "id": "ac27ab0f",
   "metadata": {},
   "outputs": [],
   "source": [
    "from prophet import Prophet\n",
    "df_prophet = df_clean.reset_index()[['fecha', 'Capacidad']].rename(columns={'fecha': 'ds', 'Capacidad': 'y'})\n",
    "\n",
    "modelo_prophet = Prophet(daily_seasonality=True)\n",
    "modelo_prophet.fit(df_prophet)\n",
    "\n",
    "# Crear marco de predicción a 30 días\n",
    "future = modelo_prophet.make_future_dataframe(periods=30)\n",
    "forecast = modelo_prophet.predict(future)\n",
    "\n",
    "fig = modelo_prophet.plot(forecast)\n",
    "plt.title(\"Pronóstico de capacidad nuclear con Prophet (30 días hacia adelante)\")\n",
    "plt.xlabel(\"Fecha\")\n",
    "plt.ylabel(\"Capacidad (MW)\")\n",
    "plt.grid(True)\n",
    "plt.tight_layout()\n",
    "plt.show()"
   ]
  },
  {
   "cell_type": "code",
   "execution_count": null,
   "id": "7c968da3",
   "metadata": {},
   "outputs": [],
   "source": [
    "# Prophet\n",
    "forecast_full = modelo_prophet.predict(df_prophet[['ds']])\n",
    "forecast_train = forecast_full[forecast_full['ds'] <= '2020-12-31']\n",
    "forecast_test = forecast_full[forecast_full['ds'] >= '2021-01-01']\n",
    "\n",
    "# Alinear predicciones de Prophet con los valores reales del test\n",
    "# forecast_test ya contiene 'ds' como fecha y 'yhat' como predicción\n",
    "y_pred_prophet = forecast_test.set_index('ds').loc[test.index]['yhat']\n",
    "y_true_prophet = test\n",
    "\n",
    "# Calcular métricas\n",
    "rmse_prophet = np.sqrt(mean_squared_error(y_true_prophet, y_pred_prophet))\n",
    "mae_prophet = mean_absolute_error(y_true_prophet, y_pred_prophet)\n",
    "\n",
    "print(f\"RMSE Prophet: {rmse_prophet:.2f}\")\n",
    "print(f\"MAE  Prophet: {mae_prophet:.2f}\")"
   ]
  },
  {
   "cell_type": "code",
   "execution_count": null,
   "id": "ea8cf1c6",
   "metadata": {},
   "outputs": [],
   "source": [
    "plt.figure(figsize=(16, 10))\n",
    "\n",
    "# 1. Panel principal para datos de entrenamiento\n",
    "ax1 = plt.subplot2grid((3, 1), (0, 0), rowspan=2)\n",
    "\n",
    "# Datos observados\n",
    "ax1.plot(train.index, train, label=\"Entrenamiento\", color='gray', linewidth=1)\n",
    "ax1.plot(test.index, test, label=\"Observado (Test)\", color='black', linewidth=2.5)\n",
    "\n",
    "# Colores más distinguibles y mejoras en la visualización\n",
    "colors = {\n",
    "    'AR(1)': '#0072B2',             # Azul oscuro\n",
    "    #'ARIMA(1,1,1)': '#D55E00',      # Naranja-rojo\n",
    "    'ARIMA(1,1,1)': '#FF0000',      # Rojo\n",
    "    'SARIMAX(1,0,1,7)': '#E69F00',  # Amarillo-ámbar\n",
    "    'SARIMAX(1,0,1,30)': '#009E73', # Verde oscuro\n",
    "    'Prophet': '#CC79A7'            # Rosa\n",
    "}\n",
    "\n",
    "# Ajuste de cada modelo\n",
    "# Datos de ajuste con transparencia y líneas más delgadas\n",
    "# AR(1)\n",
    "ax1.plot(ajuste_ar1.index, ajuste_ar1, label=\"Ajuste AR(1)\", \n",
    "         color=colors['AR(1)'], alpha=0.4, linewidth=1)\n",
    "# ARIMA(1,1,1)\n",
    "ax1.plot(ajuste_111.index, ajuste_111, label=\"Ajuste ARIMA(1,1,1)\", \n",
    "         color=colors['ARIMA(1,1,1)'], alpha=0.4, linewidth=1)\n",
    "# SARIMAX (1,0,1,7)\n",
    "ax1.plot(ajuste_sarimax_7.index, ajuste_sarimax_7, label=\"Ajuste SARIMAX(1,0,1,7)\", \n",
    "         color=colors['SARIMAX(1,0,1,7)'], alpha=0.4, linewidth=1)\n",
    "# SARIMAX (1,0,1,30)\n",
    "ax1.plot(ajuste_sarimax_30.index, ajuste_sarimax_30, label=\"Ajuste SARIMAX(1,0,1,30)\", \n",
    "         color=colors['SARIMAX(1,0,1,30)'], alpha=0.4, linewidth=1)\n",
    "# Prophet\n",
    "ax1.plot(forecast_train['ds'], forecast_train['yhat'], label=\"Ajuste Prophet\", \n",
    "         color=colors['Prophet'], alpha=0.4, linewidth=1)\n",
    "\n",
    "# Pronóstico de cada modelo\n",
    "# Destacar las predicciones con líneas más gruesas y estilos más distinguibles\n",
    "# AR(1)\n",
    "ax1.plot(test.index, pred_ar1, label=\"Pronóstico AR(1)\", \n",
    "         color=colors['AR(1)'], linestyle='-', linewidth=2)\n",
    "# ARIMA(1,1,1)\n",
    "ax1.plot(test.index, pred_111, label=\"Pronóstico ARIMA(1,1,1)\", \n",
    "         color=colors['ARIMA(1,1,1)'], linestyle='-', linewidth=2)\n",
    "# SARIMAX (1,0,1,7)\n",
    "ax1.plot(test.index, pred_sarimax_7, label=\"Pronóstico SARIMAX(1,0,1,7)\", \n",
    "         color=colors['SARIMAX(1,0,1,7)'], linestyle='-', linewidth=2)\n",
    "# SARIMAX (1,0,1,30)\n",
    "ax1.plot(test.index, pred_sarimax_30, label=\"Pronóstico SARIMAX(1,0,1,30)\", \n",
    "         color=colors['SARIMAX(1,0,1,30)'], linestyle='-', linewidth=2)\n",
    "# Prophet\n",
    "ax1.plot(forecast_test['ds'], forecast_test['yhat'], label=\"Pronóstico Prophet\", \n",
    "         color=colors['Prophet'], linestyle='-', linewidth=2)\n",
    "\n",
    "# Mejoras estéticas\n",
    "ax1.set_title(\"Comparación de modelos: ajuste en entrenamiento y predicción en test\", fontsize=16, pad=15)\n",
    "ax1.set_ylabel(\"Capacidad nuclear (MW)\", fontsize=12)\n",
    "ax1.grid(True, alpha=0.3)\n",
    "ax1.tick_params(axis='both', which='major', labelsize=10)\n",
    "\n",
    "# Marcar visualmente la separación entre entrenamiento y test\n",
    "max_train_date = train.index[-1]\n",
    "min_test_date = test.index[0]\n",
    "ax1.axvline(x=max_train_date, color='black', linestyle='--', alpha=0.7, linewidth=1)\n",
    "ax1.text(max_train_date, ax1.get_ylim()[0] + 500, 'Fin entrenamiento', \n",
    "         rotation=90, verticalalignment='bottom')\n",
    "\n",
    "# 2. Panel para visualizar el error de predicción en test\n",
    "ax2 = plt.subplot2grid((3, 1), (2, 0), rowspan=1)\n",
    "\n",
    "# Calcular errores\n",
    "error_ar1 = test - pred_ar1\n",
    "error_111 = test - pred_111\n",
    "error_sarimax_7 = test - pred_sarimax_7\n",
    "error_sarimax_30 = test - pred_sarimax_30\n",
    "error_prophet = test - forecast_test['yhat'].values\n",
    "\n",
    "# Graficar errores\n",
    "ax2.plot(test.index, error_ar1, color=colors['AR(1)'], label='Error AR(1)')\n",
    "ax2.plot(test.index, error_111, color=colors['ARIMA(1,1,1)'], label='Error ARIMA(1,1,1)')\n",
    "ax2.plot(test.index, error_sarimax_7, color=colors['SARIMAX(1,0,1,7)'], label='Error SARIMAX(1,0,1,7)')\n",
    "ax2.plot(test.index, error_sarimax_30, color=colors['SARIMAX(1,0,1,30)'], label='Error SARIMAX(1,0,1,30)')\n",
    "ax2.plot(test.index, error_prophet, color=colors['Prophet'], label='Error Prophet')\n",
    "\n",
    "ax2.axhline(y=0, color='black', linestyle='-', alpha=0.3)\n",
    "ax2.set_ylabel('Error de predicción', fontsize=12)\n",
    "ax2.set_xlabel(\"Fecha\", fontsize=12)\n",
    "ax2.grid(True, alpha=0.3)\n",
    "ax2.tick_params(axis='both', which='major', labelsize=10)\n",
    "\n",
    "# Crear leyenda personalizada para cada modelo con mejor organización\n",
    "# Agrupando ajuste y pronóstico por modelo\n",
    "handles = []\n",
    "labels = []\n",
    "\n",
    "# Datos observados\n",
    "train_patch = mpatches.Patch(color='gray', label='Entrenamiento')\n",
    "test_patch = mpatches.Patch(color='black', label='Observado (Test)')\n",
    "handles.extend([train_patch, test_patch])\n",
    "labels.extend(['Entrenamiento', 'Observado (Test)'])\n",
    "\n",
    "# Para cada modelo, crear par de líneas: ajuste y pronóstico\n",
    "models = ['AR(1)', 'ARIMA(1,1,1)', 'SARIMAX(1,0,1,7)', 'SARIMAX(1,0,1,30)', 'Prophet']\n",
    "for model in models:\n",
    "    # Línea de ajuste\n",
    "    ajuste = mpatches.Patch(color=colors[model], alpha=0.4, label=f'Ajuste {model}')\n",
    "    # Línea de pronóstico\n",
    "    pronostico = mpatches.Patch(color=colors[model], label=f'Pronóstico {model}')\n",
    "    \n",
    "    handles.extend([ajuste, pronostico])\n",
    "    labels.extend([f'Ajuste {model}', f'Pronóstico {model}'])\n",
    "\n",
    "# Colocar leyenda debajo del gráfico con varias columnas\n",
    "plt.figlegend(handles, labels, loc='lower center', ncol=4, bbox_to_anchor=(0.5, 0), \n",
    "              frameon=True, fontsize=10)\n",
    "\n",
    "plt.tight_layout()\n",
    "plt.subplots_adjust(bottom=0.18)  # Ajustar espacio para la leyenda\n",
    "plt.savefig('comparacion_modelos_mejorada_prophet.png', dpi=300, bbox_inches='tight')\n",
    "plt.show()"
   ]
  },
  {
   "cell_type": "markdown",
   "id": "7b4d293f",
   "metadata": {},
   "source": [
    "### Modelo de deep learning"
   ]
  },
  {
   "cell_type": "markdown",
   "id": "7449cf0e",
   "metadata": {},
   "source": [
    "#### 1. LSTM\n",
    "\n",
    "Para incorporar un enfoque basado en aprendizaje profundo, se decidió probar una red neuronal del tipo LSTM (Long Short-Term Memory), especializada en modelar secuencias temporales con dependencias de largo plazo. Se utilizó una estructura sencilla con una sola capa LSTM de 50 unidades, seguida por una capa densa de salida. El modelo fue entrenado utilizando una ventana deslizante de 30 días como entrada (lookback) para predecir el valor del día siguiente, sobre datos previamente escalados."
   ]
  },
  {
   "cell_type": "code",
   "execution_count": null,
   "id": "6eb0abb2",
   "metadata": {},
   "outputs": [],
   "source": [
    "from sklearn.preprocessing import MinMaxScaler\n",
    "scaler = MinMaxScaler()\n",
    "\n",
    "# Escalar train y test por separado\n",
    "train_scaled = scaler.fit_transform(train.values.reshape(-1, 1))\n",
    "test_scaled = scaler.transform(test.values.reshape(-1, 1))\n",
    "\n",
    "# Parámetro de ventana\n",
    "lookback = 30\n",
    "\n",
    "# --- CREAR VENTANAS PARA TRAIN ---\n",
    "X_train, y_train = [], []\n",
    "for i in range(lookback, len(train_scaled)):\n",
    "    X_train.append(train_scaled[i - lookback:i, 0])\n",
    "    y_train.append(train_scaled[i, 0])\n",
    "X_train = np.array(X_train).reshape(-1, lookback, 1)\n",
    "y_train = np.array(y_train)\n",
    "\n",
    "# --- CREAR VENTANAS PARA TEST ---\n",
    "X_test, y_test = [], []\n",
    "test_input = np.concatenate([train_scaled[-lookback:], test_scaled])\n",
    "for i in range(lookback, len(test_input)):\n",
    "    X_test.append(test_input[i - lookback:i, 0])\n",
    "    y_test.append(test_input[i, 0])\n",
    "X_test = np.array(X_test).reshape(-1, lookback, 1)\n",
    "y_test = np.array(y_test)"
   ]
  },
  {
   "cell_type": "code",
   "execution_count": null,
   "id": "0d56402e",
   "metadata": {},
   "outputs": [],
   "source": [
    "from tensorflow.keras.models import Sequential\n",
    "from tensorflow.keras.layers import LSTM, Dense\n",
    "from sklearn.metrics import mean_squared_error, mean_absolute_error\n",
    "import pandas as pd\n",
    "\n",
    "# Modelo LSTM\n",
    "model = Sequential()\n",
    "model.add(LSTM(50, activation='relu', input_shape=(X_train.shape[1], 1)))\n",
    "model.add(Dense(1))\n",
    "model.compile(optimizer='adam', loss='mse')\n",
    "\n",
    "# Entrenamiento\n",
    "model.fit(X_train, y_train, epochs=20, batch_size=32, verbose=1)\n",
    "\n",
    "# Predicción sobre test\n",
    "pred_lstm_scaled = model.predict(X_test)\n",
    "pred_lstm = scaler.inverse_transform(pred_lstm_scaled)\n",
    "y_test_actual = scaler.inverse_transform(y_test.reshape(-1, 1))\n",
    "\n",
    "# Evaluación\n",
    "rmse_lstm = np.sqrt(mean_squared_error(y_test_actual, pred_lstm))\n",
    "mae_lstm = mean_absolute_error(y_test_actual, pred_lstm)\n",
    "\n",
    "print(f\"RMSE LSTM: {rmse_lstm:.2f}\")\n",
    "print(f\"MAE  LSTM: {mae_lstm:.2f}\")\n",
    "\n",
    "# Ajuste sobre entrenamiento\n",
    "pred_lstm_train_scaled = model.predict(X_train)\n",
    "pred_lstm_train = scaler.inverse_transform(pred_lstm_train_scaled)\n",
    "\n",
    "# Crear Series para graficar\n",
    "ajuste_lstm_index = train.index[lookback:]  # salteo los primeros 30 días no predichos\n",
    "ajuste_lstm = pd.Series(pred_lstm_train.flatten(), index=ajuste_lstm_index)\n",
    "\n",
    "# Crear Series para predicción sobre test\n",
    "pred_lstm_series = pd.Series(pred_lstm.flatten(), index=test.index[-len(pred_lstm):])\n"
   ]
  },
  {
   "cell_type": "code",
   "execution_count": null,
   "id": "421f28ce",
   "metadata": {},
   "outputs": [],
   "source": [
    "plt.figure(figsize=(16, 10))\n",
    "\n",
    "# 1. Panel principal para datos de entrenamiento\n",
    "ax1 = plt.subplot2grid((3, 1), (0, 0), rowspan=2)\n",
    "\n",
    "# Datos observados\n",
    "ax1.plot(train.index, train, label=\"Entrenamiento\", color='gray', linewidth=1)\n",
    "ax1.plot(test.index, test, label=\"Observado (Test)\", color='black', linewidth=2.5)\n",
    "\n",
    "# Colores más distinguibles y mejoras en la visualización\n",
    "colors = {\n",
    "    'AR(1)': '#0072B2',             # Azul oscuro\n",
    "    'ARIMA(1,1,1)': '#FF0000',      # Rojo\n",
    "    'SARIMAX(1,0,1,7)': '#E69F00',  # Amarillo-ámbar\n",
    "    'SARIMAX(1,0,1,30)': '#009E73', # Verde oscuro\n",
    "    'Prophet': '#CC79A7',           # Rosa\n",
    "    'LSTM': '#9467BD'               # Púrpura\n",
    "}\n",
    "\n",
    "# Ajuste de cada modelo\n",
    "# Datos de ajuste con transparencia y líneas más delgadas\n",
    "# AR(1)\n",
    "ax1.plot(ajuste_ar1.index, ajuste_ar1, label=\"Ajuste AR(1)\", \n",
    "         color=colors['AR(1)'], alpha=0.4, linewidth=1)\n",
    "# ARIMA(1,1,1)\n",
    "ax1.plot(ajuste_111.index, ajuste_111, label=\"Ajuste ARIMA(1,1,1)\", \n",
    "         color=colors['ARIMA(1,1,1)'], alpha=0.4, linewidth=1)\n",
    "# SARIMAX (1,0,1,7)\n",
    "ax1.plot(ajuste_sarimax_7.index, ajuste_sarimax_7, label=\"Ajuste SARIMAX(1,0,1,7)\", \n",
    "         color=colors['SARIMAX(1,0,1,7)'], alpha=0.4, linewidth=1)\n",
    "# SARIMAX (1,0,1,30)\n",
    "ax1.plot(ajuste_sarimax_30.index, ajuste_sarimax_30, label=\"Ajuste SARIMAX(1,0,1,30)\", \n",
    "         color=colors['SARIMAX(1,0,1,30)'], alpha=0.4, linewidth=1)\n",
    "# Prophet\n",
    "ax1.plot(forecast_train['ds'], forecast_train['yhat'], label=\"Ajuste Prophet\", \n",
    "         color=colors['Prophet'], alpha=0.4, linewidth=1)\n",
    "ax1.plot(ajuste_lstm.index, ajuste_lstm, label=\"Ajuste LSTM\", \n",
    "         color=colors['LSTM'], alpha=0.4, linewidth=1)\n",
    "\n",
    "# Pronóstico de cada modelo\n",
    "# Destacar las predicciones con líneas más gruesas y estilos más distinguibles\n",
    "# AR(1)\n",
    "ax1.plot(test.index, pred_ar1, label=\"Pronóstico AR(1)\", \n",
    "         color=colors['AR(1)'], linestyle='--', linewidth=2)\n",
    "# ARIMA(1,1,1)\n",
    "ax1.plot(test.index, pred_111, label=\"Pronóstico ARIMA(1,1,1)\", \n",
    "         color=colors['ARIMA(1,1,1)'], linestyle='--', linewidth=2)\n",
    "# SARIMAX (1,0,1,7)\n",
    "ax1.plot(test.index, pred_sarimax_7, label=\"Pronóstico SARIMAX(1,0,1,7)\", \n",
    "         color=colors['SARIMAX(1,0,1,7)'], linestyle='--', linewidth=2)\n",
    "# SARIMAX (1,0,1,30)\n",
    "ax1.plot(test.index, pred_sarimax_30, label=\"Pronóstico SARIMAX(1,0,1,30)\", \n",
    "         color=colors['SARIMAX(1,0,1,30)'], linestyle='--', linewidth=2)\n",
    "# Prophet\n",
    "ax1.plot(forecast_test['ds'], forecast_test['yhat'], label=\"Pronóstico Prophet\", \n",
    "         color=colors['Prophet'], linestyle='--', linewidth=2)\n",
    "# LSTM\n",
    "ax1.plot(pred_lstm_series.index, pred_lstm_series, label=\"Pronóstico LSTM\", \n",
    "         color=colors['LSTM'], linestyle='--', linewidth=2)\n",
    "\n",
    "# Mejoras estéticas\n",
    "ax1.set_title(\"Comparación de modelos: ajuste en entrenamiento y predicción en test\", fontsize=16, pad=15)\n",
    "ax1.set_ylabel(\"Capacidad nuclear (MW)\", fontsize=12)\n",
    "ax1.grid(True, alpha=0.3)\n",
    "ax1.tick_params(axis='both', which='major', labelsize=10)\n",
    "\n",
    "# Marcar visualmente la separación entre entrenamiento y test\n",
    "max_train_date = train.index[-1]\n",
    "min_test_date = test.index[0]\n",
    "ax1.axvline(x=max_train_date, color='black', linestyle='--', alpha=0.7, linewidth=1)\n",
    "ax1.text(max_train_date, ax1.get_ylim()[0] + 500, 'Fin entrenamiento', \n",
    "         rotation=90, verticalalignment='bottom')\n",
    "\n",
    "# 2. Panel para visualizar el error de predicción en test\n",
    "ax2 = plt.subplot2grid((3, 1), (2, 0), rowspan=1)\n",
    "\n",
    "# Calcular errores\n",
    "error_ar1 = test - pred_ar1\n",
    "error_111 = test - pred_111\n",
    "error_sarimax_7 = test - pred_sarimax_7\n",
    "error_sarimax_30 = test - pred_sarimax_30\n",
    "error_prophet = test - forecast_test['yhat'].values\n",
    "error_lstm = test - pred_lstm_series\n",
    "\n",
    "# Graficar errores\n",
    "ax2.plot(test.index, error_ar1, color=colors['AR(1)'], label='Error AR(1)')\n",
    "ax2.plot(test.index, error_111, color=colors['ARIMA(1,1,1)'], label='Error ARIMA(1,1,1)')\n",
    "ax2.plot(test.index, error_sarimax_7, color=colors['SARIMAX(1,0,1,7)'], label='Error SARIMAX(1,0,1,7)')\n",
    "ax2.plot(test.index, error_sarimax_30, color=colors['SARIMAX(1,0,1,30)'], label='Error SARIMAX(1,0,1,30)')\n",
    "ax2.plot(test.index, error_prophet, color=colors['Prophet'], label='Error Prophet')\n",
    "ax2.plot(test.index, error_lstm, color=colors['LSTM'], label='Error LSTM')\n",
    "\n",
    "ax2.axhline(y=0, color='black', linestyle='-', alpha=0.3)\n",
    "ax2.set_ylabel('Error de predicción', fontsize=12)\n",
    "ax2.set_xlabel(\"Fecha\", fontsize=12)\n",
    "ax2.grid(True, alpha=0.3)\n",
    "ax2.tick_params(axis='both', which='major', labelsize=10)\n",
    "\n",
    "# Crear leyenda personalizada para cada modelo con mejor organización\n",
    "# Agrupando ajuste y pronóstico por modelo\n",
    "handles = []\n",
    "labels = []\n",
    "\n",
    "# Datos observados\n",
    "train_patch = mpatches.Patch(color='gray', label='Entrenamiento')\n",
    "test_patch = mpatches.Patch(color='black', label='Observado (Test)')\n",
    "handles.extend([train_patch, test_patch])\n",
    "labels.extend(['Entrenamiento', 'Observado (Test)'])\n",
    "\n",
    "# Para cada modelo, crear par de líneas: ajuste y pronóstico\n",
    "models = ['AR(1)', 'ARIMA(1,1,1)', 'SARIMAX(1,0,1,7)', 'SARIMAX(1,0,1,30)', 'Prophet', 'LSTM']\n",
    "for model in models:\n",
    "    # Línea de ajuste\n",
    "    ajuste = mpatches.Patch(color=colors[model], alpha=0.4, label=f'Ajuste {model}')\n",
    "    # Línea de pronóstico\n",
    "    pronostico = mpatches.Patch(color=colors[model], label=f'Pronóstico {model}')\n",
    "    \n",
    "    handles.extend([ajuste, pronostico])\n",
    "    labels.extend([f'Ajuste {model}', f'Pronóstico {model}'])\n",
    "\n",
    "# Colocar leyenda debajo del gráfico con varias columnas\n",
    "plt.figlegend(handles, labels, loc='lower center', ncol=4, bbox_to_anchor=(0.5, 0), \n",
    "              frameon=True, fontsize=10)\n",
    "\n",
    "plt.tight_layout()\n",
    "plt.subplots_adjust(bottom=0.22)  # Ajustar espacio para la leyenda\n",
    "plt.savefig('comparacion_modelos_mejorada_lstm.png', dpi=300, bbox_inches='tight')\n",
    "plt.show()"
   ]
  },
  {
   "cell_type": "markdown",
   "id": "4a9f6af1",
   "metadata": {},
   "source": [
    "### Resultados"
   ]
  },
  {
   "cell_type": "markdown",
   "id": "6b6e0728",
   "metadata": {},
   "source": [
    "<table style=\"border-collapse: collapse; width: 100%;\">\n",
    "  <thead>\n",
    "    <tr style=\"background-color: rgb(100, 104, 195);\">\n",
    "      <th style=\"border: 1px solid #ddd; padding: 8px;\">Modelo</th>\n",
    "      <th style=\"border: 1px solid #ddd; padding: 8px;\">AIC</th>\n",
    "      <th style=\"border: 1px solid #ddd; padding: 8px;\">BIC</th>\n",
    "      <th style=\"border: 1px solid #ddd; padding: 8px;\">Log Likelihood</th>\n",
    "      <th style=\"border: 1px solid #ddd; padding: 8px;\">RMSE</th>\n",
    "      <th style=\"border: 1px solid #ddd; padding: 8px;\">MAE</th>\n",
    "      <th style=\"border: 1px solid #ddd; padding: 8px;\">Prob(Q)</th>\n",
    "    </tr>\n",
    "  </thead>\n",
    "  <tbody>\n",
    "    <tr>\n",
    "      <td style=\"border: 1px solid #ddd; padding: 8px;\">AR(1)</td>\n",
    "      <td style=\"border: 1px solid #ddd; padding: 8px;\">70122.30</td>\n",
    "      <td style=\"border: 1px solid #ddd; padding: 8px;\">70141.92</td>\n",
    "      <td style=\"border: 1px solid #ddd; padding: 8px;\">-35058.15</td>\n",
    "      <td style=\"border: 1px solid #ddd; padding: 8px;\">1650.33</td>\n",
    "      <td style=\"border: 1px solid #ddd; padding: 8px;\">—</td>\n",
    "      <td style=\"border: 1px solid #ddd; padding: 8px;\">0.71</td>\n",
    "    </tr>\n",
    "    <tr>\n",
    "      <td style=\"border: 1px solid #ddd; padding: 8px;\">ARIMA(1,1,1)</td>\n",
    "      <td style=\"border: 1px solid #ddd; padding: 8px;\">70028.18</td>\n",
    "      <td style=\"border: 1px solid #ddd; padding: 8px;\">70047.80</td>\n",
    "      <td style=\"border: 1px solid #ddd; padding: 8px;\">-35011.09</td>\n",
    "      <td style=\"border: 1px solid #ddd; padding: 8px;\">916.87</td>\n",
    "      <td style=\"border: 1px solid #ddd; padding: 8px;\">—</td>\n",
    "      <td style=\"border: 1px solid #ddd; padding: 8px;\">0.00</td>\n",
    "    </tr>\n",
    "    <tr>\n",
    "      <td style=\"border: 1px solid #ddd; padding: 8px;\">SARIMAX(1,1,1)(1,0,1,7)</td>\n",
    "      <td style=\"border: 1px solid #ddd; padding: 8px;\">69006.04</td>\n",
    "      <td style=\"border: 1px solid #ddd; padding: 8px;\">69038.74</td>\n",
    "      <td style=\"border: 1px solid #ddd; padding: 8px;\">-34498.02</td>\n",
    "      <td style=\"border: 1px solid #ddd; padding: 8px;\">1030.69</td>\n",
    "      <td style=\"border: 1px solid #ddd; padding: 8px;\">—</td>\n",
    "      <td style=\"border: 1px solid #ddd; padding: 8px;\">0.00</td>\n",
    "    </tr>\n",
    "    <tr>\n",
    "      <td style=\"border: 1px solid #ddd; padding: 8px;\">SARIMAX(1,1,1)(1,0,1,30)</td>\n",
    "      <td style=\"border: 1px solid #ddd; padding: 8px;\">69933.03</td>\n",
    "      <td style=\"border: 1px solid #ddd; padding: 8px;\">69965.72</td>\n",
    "      <td style=\"border: 1px solid #ddd; padding: 8px;\">-34961.51</td>\n",
    "      <td style=\"border: 1px solid #ddd; padding: 8px;\">908.10</td>\n",
    "      <td style=\"border: 1px solid #ddd; padding: 8px;\">—</td>\n",
    "      <td style=\"border: 1px solid #ddd; padding: 8px;\">0.00</td>\n",
    "    </tr>\n",
    "    <tr>\n",
    "      <td style=\"border: 1px solid #ddd; padding: 8px;\">Prophet</td>\n",
    "      <td style=\"border: 1px solid #ddd; padding: 8px;\">—</td>\n",
    "      <td style=\"border: 1px solid #ddd; padding: 8px;\">—</td>\n",
    "      <td style=\"border: 1px solid #ddd; padding: 8px;\">—</td>\n",
    "      <td style=\"border: 1px solid #ddd; padding: 8px;\">549.38</td>\n",
    "      <td style=\"border: 1px solid #ddd; padding: 8px;\">498.57</td>\n",
    "      <td style=\"border: 1px solid #ddd; padding: 8px;\">—</td>\n",
    "    </tr>\n",
    "    <tr>\n",
    "      <td style=\"border: 1px solid #ddd; padding: 8px;\">LSTM</td>\n",
    "      <td style=\"border: 1px solid #ddd; padding: 8px;\">—</td>\n",
    "      <td style=\"border: 1px solid #ddd; padding: 8px;\">—</td>\n",
    "      <td style=\"border: 1px solid #ddd; padding: 8px;\">—</td>\n",
    "      <td style=\"border: 1px solid #ddd; padding: 8px;\">221.72</td>\n",
    "      <td style=\"border: 1px solid #ddd; padding: 8px;\">60.10</td>\n",
    "      <td style=\"border: 1px solid #ddd; padding: 8px;\">—</td>\n",
    "    </tr>\n",
    "  </tbody>\n",
    "</table>\n"
   ]
  },
  {
   "cell_type": "markdown",
   "id": "9c1c3e10",
   "metadata": {},
   "source": [
    "Modelos Clásicos: ARIMA / SARIMAX\n",
    "\n",
    "- **SARIMAX(1,1,1)(1,0,1,7)** tuvo el mejor desempeño entre los modelos estadísticos: tuvo el AIC más bajo (69006.04), un RMSE competitivo (1030.69). Además, tuvo coeficientes altamente significativos. Consideramos que este modelo es capaz de capturar una estacionalidad semanal clara, lo cual es coherente con series diarias.\n",
    "\n",
    "- **SARIMAX(1,1,1)(1,0,1,30)** mostró también buen rendimiento (RMSE:908.10), aunque con mayor AIC. Esto nos puede sugerir una estacionalidad mensual, pero menos fuerte que la semanal.\n",
    "\n",
    "- **ARIMA(1,1,1)** superó a AR(1) en RMSE, pero sin capturar estacionalidad. Es un modelo base sólido si se busca simplicidad sin incorporar estacionalidad explícita.\n",
    "\n",
    "- **AR(1)** mostró el peor desempeño (RMSE: 1650.33, AIC: 70122.30). No es adecuado para esta serie, al no capturar su complejidad.\n",
    "\n",
    "Modelos Modernos: Prophet y LSTM\n",
    "\n",
    "- **Prophet**: obtuvo un muy buen RMSE (549.38) y MAE (498.57). Es ideal para modelado rápido con mínimo tuning manual, capturando estacionalidades y tendencias automáticamente. Lo negativo sería que no permite análisis estadístico tradicional (sin AIC/BIC) para comparar con los modelos previos.\n",
    "\n",
    "- **LSTM**: obtuvo la mejor precisión en test: RMSE de 221.72 y MAE de 60.10. Permite captura patrones complejos y no lineales. Si bien equiere mayor capacidad de cómputo, con esta serie de tiempo se pudo usar un modelo bastante simple que corre rápido. Algo negativo es que al ser un modelo de deep learning, es una caja negra no interpretable. En nuestro caso es útil, ya que el objetivo es únicamente la **predicción precisa**."
   ]
  }
 ],
 "metadata": {
  "kernelspec": {
   "display_name": "ast-env",
   "language": "python",
   "name": "python3"
  },
  "language_info": {
   "codemirror_mode": {
    "name": "ipython",
    "version": 3
   },
   "file_extension": ".py",
   "mimetype": "text/x-python",
   "name": "python",
   "nbconvert_exporter": "python",
   "pygments_lexer": "ipython3",
   "version": "3.10.16"
  }
 },
 "nbformat": 4,
 "nbformat_minor": 5
}
