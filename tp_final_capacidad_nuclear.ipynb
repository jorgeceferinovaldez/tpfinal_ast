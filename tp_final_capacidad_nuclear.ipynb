{
 "cells": [
  {
   "cell_type": "code",
   "execution_count": 1,
   "id": "c21faa2c",
   "metadata": {},
   "outputs": [],
   "source": [
    "import numpy as np\n",
    "import pandas as pd\n",
    "import matplotlib.pyplot as plt\n",
    "import seaborn as sns\n",
    "\n",
    "import statsmodels.graphics.tsaplots as sgt \n",
    "import statsmodels.tsa.stattools as sts \n",
    "from statsmodels.tsa.seasonal import seasonal_decompose\n",
    "\n",
    "import statsmodels.graphics.tsaplots as sgt\n",
    "from statsmodels.tsa.arima_model import ARIMA\n",
    "from statsmodels.tsa.arima.model import ARIMA\n",
    "from statsmodels.tsa.statespace.sarimax import SARIMAX\n",
    "from scipy.stats.distributions import chi2\n",
    "import statsmodels.tsa.stattools as sts \n",
    "from sklearn.metrics import mean_squared_error, mean_absolute_error\n",
    "\n"
   ]
  },
  {
   "cell_type": "markdown",
   "id": "50675bc4",
   "metadata": {},
   "source": []
  },
  {
   "cell_type": "code",
   "execution_count": 2,
   "id": "18c5a0a8",
   "metadata": {},
   "outputs": [],
   "source": [
    "df=pd.read_csv('data/Nuclear_Capacity.csv')\n"
   ]
  },
  {
   "cell_type": "code",
   "execution_count": 3,
   "id": "718afc69",
   "metadata": {},
   "outputs": [],
   "source": [
    "# Extraigo solo la parte de la fecha (ignorando el número de fila)\n",
    "df['fecha_str'] = df.iloc[:, 0].str.split(' ').str[:2].str.join(' ')"
   ]
  },
  {
   "cell_type": "code",
   "execution_count": 4,
   "id": "ff678f3b",
   "metadata": {},
   "outputs": [],
   "source": [
    "# Convierto a datetime\n",
    "df['fecha'] = pd.to_datetime(df['fecha_str'], format='%Y %m%d')"
   ]
  },
  {
   "cell_type": "code",
   "execution_count": 5,
   "id": "dc8cd591",
   "metadata": {},
   "outputs": [],
   "source": [
    "# Ordenar por fecha\n",
    "df = df.sort_values('fecha')"
   ]
  },
  {
   "cell_type": "code",
   "execution_count": 6,
   "id": "5662e71b",
   "metadata": {},
   "outputs": [
    {
     "data": {
      "application/vnd.microsoft.datawrangler.viewer.v0+json": {
       "columns": [
        {
         "name": "index",
         "rawType": "int64",
         "type": "integer"
        },
        {
         "name": "Unnamed: 0",
         "rawType": "object",
         "type": "string"
        },
        {
         "name": "U.S. nuclear capacity, daily (Megawatts)",
         "rawType": "float64",
         "type": "float"
        },
        {
         "name": "fecha_str",
         "rawType": "object",
         "type": "string"
        },
        {
         "name": "fecha",
         "rawType": "datetime64[ns]",
         "type": "datetime"
        }
       ],
       "conversionMethod": "pd.DataFrame",
       "ref": "e43d0431-dbb8-4818-85af-01db05dc717f",
       "rows": [
        [
         "0",
         "2007 0101 01",
         "101764.9",
         "2007 0101",
         "2007-01-01 00:00:00"
        ],
        [
         "1",
         "2007 0102 02",
         "101764.9",
         "2007 0102",
         "2007-01-02 00:00:00"
        ],
        [
         "2",
         "2007 0103 03",
         "101764.9",
         "2007 0103",
         "2007-01-03 00:00:00"
        ],
        [
         "3",
         "2007 0104 04",
         "101764.9",
         "2007 0104",
         "2007-01-04 00:00:00"
        ],
        [
         "4",
         "2007 0105 05",
         "101764.9",
         "2007 0105",
         "2007-01-05 00:00:00"
        ]
       ],
       "shape": {
        "columns": 4,
        "rows": 5
       }
      },
      "text/html": [
       "<div>\n",
       "<style scoped>\n",
       "    .dataframe tbody tr th:only-of-type {\n",
       "        vertical-align: middle;\n",
       "    }\n",
       "\n",
       "    .dataframe tbody tr th {\n",
       "        vertical-align: top;\n",
       "    }\n",
       "\n",
       "    .dataframe thead th {\n",
       "        text-align: right;\n",
       "    }\n",
       "</style>\n",
       "<table border=\"1\" class=\"dataframe\">\n",
       "  <thead>\n",
       "    <tr style=\"text-align: right;\">\n",
       "      <th></th>\n",
       "      <th>Unnamed: 0</th>\n",
       "      <th>U.S. nuclear capacity, daily (Megawatts)</th>\n",
       "      <th>fecha_str</th>\n",
       "      <th>fecha</th>\n",
       "    </tr>\n",
       "  </thead>\n",
       "  <tbody>\n",
       "    <tr>\n",
       "      <th>0</th>\n",
       "      <td>2007 0101 01</td>\n",
       "      <td>101764.9</td>\n",
       "      <td>2007 0101</td>\n",
       "      <td>2007-01-01</td>\n",
       "    </tr>\n",
       "    <tr>\n",
       "      <th>1</th>\n",
       "      <td>2007 0102 02</td>\n",
       "      <td>101764.9</td>\n",
       "      <td>2007 0102</td>\n",
       "      <td>2007-01-02</td>\n",
       "    </tr>\n",
       "    <tr>\n",
       "      <th>2</th>\n",
       "      <td>2007 0103 03</td>\n",
       "      <td>101764.9</td>\n",
       "      <td>2007 0103</td>\n",
       "      <td>2007-01-03</td>\n",
       "    </tr>\n",
       "    <tr>\n",
       "      <th>3</th>\n",
       "      <td>2007 0104 04</td>\n",
       "      <td>101764.9</td>\n",
       "      <td>2007 0104</td>\n",
       "      <td>2007-01-04</td>\n",
       "    </tr>\n",
       "    <tr>\n",
       "      <th>4</th>\n",
       "      <td>2007 0105 05</td>\n",
       "      <td>101764.9</td>\n",
       "      <td>2007 0105</td>\n",
       "      <td>2007-01-05</td>\n",
       "    </tr>\n",
       "  </tbody>\n",
       "</table>\n",
       "</div>"
      ],
      "text/plain": [
       "     Unnamed: 0  U.S. nuclear capacity, daily (Megawatts)  fecha_str  \\\n",
       "0  2007 0101 01                                  101764.9  2007 0101   \n",
       "1  2007 0102 02                                  101764.9  2007 0102   \n",
       "2  2007 0103 03                                  101764.9  2007 0103   \n",
       "3  2007 0104 04                                  101764.9  2007 0104   \n",
       "4  2007 0105 05                                  101764.9  2007 0105   \n",
       "\n",
       "       fecha  \n",
       "0 2007-01-01  \n",
       "1 2007-01-02  \n",
       "2 2007-01-03  \n",
       "3 2007-01-04  \n",
       "4 2007-01-05  "
      ]
     },
     "execution_count": 6,
     "metadata": {},
     "output_type": "execute_result"
    }
   ],
   "source": [
    "df.head()"
   ]
  },
  {
   "cell_type": "code",
   "execution_count": 7,
   "id": "5636b2cf",
   "metadata": {},
   "outputs": [],
   "source": [
    "# Crear rango completo de fechas\n",
    "fecha_min = df['fecha'].min()\n",
    "fecha_max = df['fecha'].max()\n",
    "rango_completo = pd.date_range(start=fecha_min, end=fecha_max, freq='D')"
   ]
  },
  {
   "cell_type": "code",
   "execution_count": 8,
   "id": "efb0ce0a",
   "metadata": {},
   "outputs": [
    {
     "name": "stdout",
     "output_type": "stream",
     "text": [
      "Fecha de inicio: 2007-01-01 00:00:00\n",
      "Fecha de fin: 2021-04-21 00:00:00\n",
      "Cantidad de fechas: 5225\n"
     ]
    }
   ],
   "source": [
    "print(f'Fecha de inicio: {fecha_min}')\n",
    "print(f'Fecha de fin: {fecha_max}')\n",
    "print(f'Cantidad de fechas: {len(rango_completo)}')"
   ]
  },
  {
   "cell_type": "code",
   "execution_count": 9,
   "id": "a43f5705",
   "metadata": {},
   "outputs": [],
   "source": [
    "# Identificar fechas faltantes\n",
    "fechas_disponibles = set(df['fecha'].dt.date)\n",
    "fechas_faltantes = [fecha.date() for fecha in rango_completo if fecha.date() not in fechas_disponibles]"
   ]
  },
  {
   "cell_type": "code",
   "execution_count": 10,
   "id": "3b0aadef",
   "metadata": {},
   "outputs": [
    {
     "name": "stdout",
     "output_type": "stream",
     "text": [
      "Se encontraron 0 fechas faltantes\n"
     ]
    }
   ],
   "source": [
    "print(f\"Se encontraron {len(fechas_faltantes)} fechas faltantes\")\n",
    "if fechas_faltantes:\n",
    "    print(\"Primeras 10 fechas faltantes:\", fechas_faltantes[:10])"
   ]
  },
  {
   "cell_type": "code",
   "execution_count": 11,
   "id": "42a7acc5",
   "metadata": {},
   "outputs": [
    {
     "data": {
      "application/vnd.microsoft.datawrangler.viewer.v0+json": {
       "columns": [
        {
         "name": "index",
         "rawType": "int64",
         "type": "integer"
        },
        {
         "name": "Unnamed: 0",
         "rawType": "object",
         "type": "string"
        },
        {
         "name": "U.S. nuclear capacity, daily (Megawatts)",
         "rawType": "float64",
         "type": "float"
        },
        {
         "name": "fecha_str",
         "rawType": "object",
         "type": "string"
        },
        {
         "name": "fecha",
         "rawType": "datetime64[ns]",
         "type": "datetime"
        }
       ],
       "conversionMethod": "pd.DataFrame",
       "ref": "7d3ca083-6671-4d62-b339-ac68c923f80d",
       "rows": [
        [
         "0",
         "2007 0101 01",
         "101764.9",
         "2007 0101",
         "2007-01-01 00:00:00"
        ],
        [
         "1",
         "2007 0102 02",
         "101764.9",
         "2007 0102",
         "2007-01-02 00:00:00"
        ],
        [
         "2",
         "2007 0103 03",
         "101764.9",
         "2007 0103",
         "2007-01-03 00:00:00"
        ],
        [
         "3",
         "2007 0104 04",
         "101764.9",
         "2007 0104",
         "2007-01-04 00:00:00"
        ],
        [
         "4",
         "2007 0105 05",
         "101764.9",
         "2007 0105",
         "2007-01-05 00:00:00"
        ]
       ],
       "shape": {
        "columns": 4,
        "rows": 5
       }
      },
      "text/html": [
       "<div>\n",
       "<style scoped>\n",
       "    .dataframe tbody tr th:only-of-type {\n",
       "        vertical-align: middle;\n",
       "    }\n",
       "\n",
       "    .dataframe tbody tr th {\n",
       "        vertical-align: top;\n",
       "    }\n",
       "\n",
       "    .dataframe thead th {\n",
       "        text-align: right;\n",
       "    }\n",
       "</style>\n",
       "<table border=\"1\" class=\"dataframe\">\n",
       "  <thead>\n",
       "    <tr style=\"text-align: right;\">\n",
       "      <th></th>\n",
       "      <th>Unnamed: 0</th>\n",
       "      <th>U.S. nuclear capacity, daily (Megawatts)</th>\n",
       "      <th>fecha_str</th>\n",
       "      <th>fecha</th>\n",
       "    </tr>\n",
       "  </thead>\n",
       "  <tbody>\n",
       "    <tr>\n",
       "      <th>0</th>\n",
       "      <td>2007 0101 01</td>\n",
       "      <td>101764.9</td>\n",
       "      <td>2007 0101</td>\n",
       "      <td>2007-01-01</td>\n",
       "    </tr>\n",
       "    <tr>\n",
       "      <th>1</th>\n",
       "      <td>2007 0102 02</td>\n",
       "      <td>101764.9</td>\n",
       "      <td>2007 0102</td>\n",
       "      <td>2007-01-02</td>\n",
       "    </tr>\n",
       "    <tr>\n",
       "      <th>2</th>\n",
       "      <td>2007 0103 03</td>\n",
       "      <td>101764.9</td>\n",
       "      <td>2007 0103</td>\n",
       "      <td>2007-01-03</td>\n",
       "    </tr>\n",
       "    <tr>\n",
       "      <th>3</th>\n",
       "      <td>2007 0104 04</td>\n",
       "      <td>101764.9</td>\n",
       "      <td>2007 0104</td>\n",
       "      <td>2007-01-04</td>\n",
       "    </tr>\n",
       "    <tr>\n",
       "      <th>4</th>\n",
       "      <td>2007 0105 05</td>\n",
       "      <td>101764.9</td>\n",
       "      <td>2007 0105</td>\n",
       "      <td>2007-01-05</td>\n",
       "    </tr>\n",
       "  </tbody>\n",
       "</table>\n",
       "</div>"
      ],
      "text/plain": [
       "     Unnamed: 0  U.S. nuclear capacity, daily (Megawatts)  fecha_str  \\\n",
       "0  2007 0101 01                                  101764.9  2007 0101   \n",
       "1  2007 0102 02                                  101764.9  2007 0102   \n",
       "2  2007 0103 03                                  101764.9  2007 0103   \n",
       "3  2007 0104 04                                  101764.9  2007 0104   \n",
       "4  2007 0105 05                                  101764.9  2007 0105   \n",
       "\n",
       "       fecha  \n",
       "0 2007-01-01  \n",
       "1 2007-01-02  \n",
       "2 2007-01-03  \n",
       "3 2007-01-04  \n",
       "4 2007-01-05  "
      ]
     },
     "execution_count": 11,
     "metadata": {},
     "output_type": "execute_result"
    }
   ],
   "source": [
    "df.head()"
   ]
  },
  {
   "cell_type": "code",
   "execution_count": 12,
   "id": "4d586a2e",
   "metadata": {},
   "outputs": [
    {
     "data": {
      "text/plain": [
       "Index(['Unnamed: 0', 'U.S. nuclear capacity, daily (Megawatts)', 'fecha_str',\n",
       "       'fecha'],\n",
       "      dtype='object')"
      ]
     },
     "execution_count": 12,
     "metadata": {},
     "output_type": "execute_result"
    }
   ],
   "source": [
    "df.columns"
   ]
  },
  {
   "cell_type": "code",
   "execution_count": 13,
   "id": "7821ad64",
   "metadata": {},
   "outputs": [],
   "source": [
    "# Reordeno las columnas, primero fecha y luego U.S. nuclear capacity, daily (Megawatts)\n",
    "df = df[['fecha', 'U.S. nuclear capacity, daily (Megawatts)']]"
   ]
  },
  {
   "cell_type": "code",
   "execution_count": 14,
   "id": "a2d1cd31",
   "metadata": {},
   "outputs": [
    {
     "data": {
      "application/vnd.microsoft.datawrangler.viewer.v0+json": {
       "columns": [
        {
         "name": "index",
         "rawType": "int64",
         "type": "integer"
        },
        {
         "name": "fecha",
         "rawType": "datetime64[ns]",
         "type": "datetime"
        },
        {
         "name": "U.S. nuclear capacity, daily (Megawatts)",
         "rawType": "float64",
         "type": "float"
        }
       ],
       "conversionMethod": "pd.DataFrame",
       "ref": "3467522e-f395-41f5-acea-62af61732fd9",
       "rows": [
        [
         "0",
         "2007-01-01 00:00:00",
         "101764.9"
        ],
        [
         "1",
         "2007-01-02 00:00:00",
         "101764.9"
        ],
        [
         "2",
         "2007-01-03 00:00:00",
         "101764.9"
        ],
        [
         "3",
         "2007-01-04 00:00:00",
         "101764.9"
        ],
        [
         "4",
         "2007-01-05 00:00:00",
         "101764.9"
        ]
       ],
       "shape": {
        "columns": 2,
        "rows": 5
       }
      },
      "text/html": [
       "<div>\n",
       "<style scoped>\n",
       "    .dataframe tbody tr th:only-of-type {\n",
       "        vertical-align: middle;\n",
       "    }\n",
       "\n",
       "    .dataframe tbody tr th {\n",
       "        vertical-align: top;\n",
       "    }\n",
       "\n",
       "    .dataframe thead th {\n",
       "        text-align: right;\n",
       "    }\n",
       "</style>\n",
       "<table border=\"1\" class=\"dataframe\">\n",
       "  <thead>\n",
       "    <tr style=\"text-align: right;\">\n",
       "      <th></th>\n",
       "      <th>fecha</th>\n",
       "      <th>U.S. nuclear capacity, daily (Megawatts)</th>\n",
       "    </tr>\n",
       "  </thead>\n",
       "  <tbody>\n",
       "    <tr>\n",
       "      <th>0</th>\n",
       "      <td>2007-01-01</td>\n",
       "      <td>101764.9</td>\n",
       "    </tr>\n",
       "    <tr>\n",
       "      <th>1</th>\n",
       "      <td>2007-01-02</td>\n",
       "      <td>101764.9</td>\n",
       "    </tr>\n",
       "    <tr>\n",
       "      <th>2</th>\n",
       "      <td>2007-01-03</td>\n",
       "      <td>101764.9</td>\n",
       "    </tr>\n",
       "    <tr>\n",
       "      <th>3</th>\n",
       "      <td>2007-01-04</td>\n",
       "      <td>101764.9</td>\n",
       "    </tr>\n",
       "    <tr>\n",
       "      <th>4</th>\n",
       "      <td>2007-01-05</td>\n",
       "      <td>101764.9</td>\n",
       "    </tr>\n",
       "  </tbody>\n",
       "</table>\n",
       "</div>"
      ],
      "text/plain": [
       "       fecha  U.S. nuclear capacity, daily (Megawatts)\n",
       "0 2007-01-01                                  101764.9\n",
       "1 2007-01-02                                  101764.9\n",
       "2 2007-01-03                                  101764.9\n",
       "3 2007-01-04                                  101764.9\n",
       "4 2007-01-05                                  101764.9"
      ]
     },
     "execution_count": 14,
     "metadata": {},
     "output_type": "execute_result"
    }
   ],
   "source": [
    "df.head()"
   ]
  },
  {
   "cell_type": "code",
   "execution_count": 15,
   "id": "38e8928a",
   "metadata": {},
   "outputs": [],
   "source": [
    "# Renombro la columna U.S. nuclear capacity, daily (Megawatts) a Capacidad\n",
    "df = df.rename(columns={'U.S. nuclear capacity, daily (Megawatts)': 'Capacidad'})"
   ]
  },
  {
   "cell_type": "code",
   "execution_count": 16,
   "id": "4f4cf6a1",
   "metadata": {},
   "outputs": [
    {
     "data": {
      "application/vnd.microsoft.datawrangler.viewer.v0+json": {
       "columns": [
        {
         "name": "index",
         "rawType": "int64",
         "type": "integer"
        },
        {
         "name": "fecha",
         "rawType": "datetime64[ns]",
         "type": "datetime"
        },
        {
         "name": "Capacidad",
         "rawType": "float64",
         "type": "float"
        }
       ],
       "conversionMethod": "pd.DataFrame",
       "ref": "cf02f196-30e1-4b96-b52a-c9a7d239f6d0",
       "rows": [
        [
         "0",
         "2007-01-01 00:00:00",
         "101764.9"
        ],
        [
         "1",
         "2007-01-02 00:00:00",
         "101764.9"
        ],
        [
         "2",
         "2007-01-03 00:00:00",
         "101764.9"
        ],
        [
         "3",
         "2007-01-04 00:00:00",
         "101764.9"
        ],
        [
         "4",
         "2007-01-05 00:00:00",
         "101764.9"
        ]
       ],
       "shape": {
        "columns": 2,
        "rows": 5
       }
      },
      "text/html": [
       "<div>\n",
       "<style scoped>\n",
       "    .dataframe tbody tr th:only-of-type {\n",
       "        vertical-align: middle;\n",
       "    }\n",
       "\n",
       "    .dataframe tbody tr th {\n",
       "        vertical-align: top;\n",
       "    }\n",
       "\n",
       "    .dataframe thead th {\n",
       "        text-align: right;\n",
       "    }\n",
       "</style>\n",
       "<table border=\"1\" class=\"dataframe\">\n",
       "  <thead>\n",
       "    <tr style=\"text-align: right;\">\n",
       "      <th></th>\n",
       "      <th>fecha</th>\n",
       "      <th>Capacidad</th>\n",
       "    </tr>\n",
       "  </thead>\n",
       "  <tbody>\n",
       "    <tr>\n",
       "      <th>0</th>\n",
       "      <td>2007-01-01</td>\n",
       "      <td>101764.9</td>\n",
       "    </tr>\n",
       "    <tr>\n",
       "      <th>1</th>\n",
       "      <td>2007-01-02</td>\n",
       "      <td>101764.9</td>\n",
       "    </tr>\n",
       "    <tr>\n",
       "      <th>2</th>\n",
       "      <td>2007-01-03</td>\n",
       "      <td>101764.9</td>\n",
       "    </tr>\n",
       "    <tr>\n",
       "      <th>3</th>\n",
       "      <td>2007-01-04</td>\n",
       "      <td>101764.9</td>\n",
       "    </tr>\n",
       "    <tr>\n",
       "      <th>4</th>\n",
       "      <td>2007-01-05</td>\n",
       "      <td>101764.9</td>\n",
       "    </tr>\n",
       "  </tbody>\n",
       "</table>\n",
       "</div>"
      ],
      "text/plain": [
       "       fecha  Capacidad\n",
       "0 2007-01-01   101764.9\n",
       "1 2007-01-02   101764.9\n",
       "2 2007-01-03   101764.9\n",
       "3 2007-01-04   101764.9\n",
       "4 2007-01-05   101764.9"
      ]
     },
     "execution_count": 16,
     "metadata": {},
     "output_type": "execute_result"
    }
   ],
   "source": [
    "df.head()"
   ]
  },
  {
   "cell_type": "code",
   "execution_count": 17,
   "id": "cf57765f",
   "metadata": {},
   "outputs": [
    {
     "data": {
      "text/plain": [
       "(5225, 2)"
      ]
     },
     "execution_count": 17,
     "metadata": {},
     "output_type": "execute_result"
    }
   ],
   "source": [
    "df.shape"
   ]
  },
  {
   "cell_type": "code",
   "execution_count": 18,
   "id": "206dbaec",
   "metadata": {},
   "outputs": [
    {
     "name": "stdout",
     "output_type": "stream",
     "text": [
      "<class 'pandas.core.frame.DataFrame'>\n",
      "RangeIndex: 5225 entries, 0 to 5224\n",
      "Data columns (total 2 columns):\n",
      " #   Column     Non-Null Count  Dtype         \n",
      "---  ------     --------------  -----         \n",
      " 0   fecha      5225 non-null   datetime64[ns]\n",
      " 1   Capacidad  5225 non-null   float64       \n",
      "dtypes: datetime64[ns](1), float64(1)\n",
      "memory usage: 81.8 KB\n"
     ]
    }
   ],
   "source": [
    "df.info()"
   ]
  },
  {
   "cell_type": "code",
   "execution_count": 19,
   "id": "44e38caa",
   "metadata": {},
   "outputs": [
    {
     "data": {
      "application/vnd.microsoft.datawrangler.viewer.v0+json": {
       "columns": [
        {
         "name": "index",
         "rawType": "object",
         "type": "string"
        },
        {
         "name": "fecha",
         "rawType": "object",
         "type": "unknown"
        },
        {
         "name": "Capacidad",
         "rawType": "float64",
         "type": "float"
        }
       ],
       "conversionMethod": "pd.DataFrame",
       "ref": "222fa015-2ce7-4a44-8c0e-86dbfef7a819",
       "rows": [
        [
         "count",
         "5225",
         "5225.0"
        ],
        [
         "mean",
         "2014-02-25 00:00:00.000000256",
         "100610.96028708134"
        ],
        [
         "min",
         "2007-01-01 00:00:00",
         "27239.6"
        ],
        [
         "25%",
         "2010-07-30 00:00:00",
         "99277.9"
        ],
        [
         "50%",
         "2014-02-25 00:00:00",
         "101001.4"
        ],
        [
         "75%",
         "2017-09-23 00:00:00",
         "101764.9"
        ],
        [
         "max",
         "2021-04-21 00:00:00",
         "104182.0"
        ],
        [
         "std",
         null,
         "2825.4456094604598"
        ]
       ],
       "shape": {
        "columns": 2,
        "rows": 8
       }
      },
      "text/html": [
       "<div>\n",
       "<style scoped>\n",
       "    .dataframe tbody tr th:only-of-type {\n",
       "        vertical-align: middle;\n",
       "    }\n",
       "\n",
       "    .dataframe tbody tr th {\n",
       "        vertical-align: top;\n",
       "    }\n",
       "\n",
       "    .dataframe thead th {\n",
       "        text-align: right;\n",
       "    }\n",
       "</style>\n",
       "<table border=\"1\" class=\"dataframe\">\n",
       "  <thead>\n",
       "    <tr style=\"text-align: right;\">\n",
       "      <th></th>\n",
       "      <th>fecha</th>\n",
       "      <th>Capacidad</th>\n",
       "    </tr>\n",
       "  </thead>\n",
       "  <tbody>\n",
       "    <tr>\n",
       "      <th>count</th>\n",
       "      <td>5225</td>\n",
       "      <td>5225.000000</td>\n",
       "    </tr>\n",
       "    <tr>\n",
       "      <th>mean</th>\n",
       "      <td>2014-02-25 00:00:00.000000256</td>\n",
       "      <td>100610.960287</td>\n",
       "    </tr>\n",
       "    <tr>\n",
       "      <th>min</th>\n",
       "      <td>2007-01-01 00:00:00</td>\n",
       "      <td>27239.600000</td>\n",
       "    </tr>\n",
       "    <tr>\n",
       "      <th>25%</th>\n",
       "      <td>2010-07-30 00:00:00</td>\n",
       "      <td>99277.900000</td>\n",
       "    </tr>\n",
       "    <tr>\n",
       "      <th>50%</th>\n",
       "      <td>2014-02-25 00:00:00</td>\n",
       "      <td>101001.400000</td>\n",
       "    </tr>\n",
       "    <tr>\n",
       "      <th>75%</th>\n",
       "      <td>2017-09-23 00:00:00</td>\n",
       "      <td>101764.900000</td>\n",
       "    </tr>\n",
       "    <tr>\n",
       "      <th>max</th>\n",
       "      <td>2021-04-21 00:00:00</td>\n",
       "      <td>104182.000000</td>\n",
       "    </tr>\n",
       "    <tr>\n",
       "      <th>std</th>\n",
       "      <td>NaN</td>\n",
       "      <td>2825.445609</td>\n",
       "    </tr>\n",
       "  </tbody>\n",
       "</table>\n",
       "</div>"
      ],
      "text/plain": [
       "                               fecha      Capacidad\n",
       "count                           5225    5225.000000\n",
       "mean   2014-02-25 00:00:00.000000256  100610.960287\n",
       "min              2007-01-01 00:00:00   27239.600000\n",
       "25%              2010-07-30 00:00:00   99277.900000\n",
       "50%              2014-02-25 00:00:00  101001.400000\n",
       "75%              2017-09-23 00:00:00  101764.900000\n",
       "max              2021-04-21 00:00:00  104182.000000\n",
       "std                              NaN    2825.445609"
      ]
     },
     "execution_count": 19,
     "metadata": {},
     "output_type": "execute_result"
    }
   ],
   "source": [
    "df.describe()"
   ]
  },
  {
   "cell_type": "code",
   "execution_count": 20,
   "id": "38167f29",
   "metadata": {},
   "outputs": [],
   "source": [
    "# Defino el indice como fecha\n",
    "df.set_index('fecha', inplace=True)"
   ]
  },
  {
   "cell_type": "code",
   "execution_count": 21,
   "id": "c9cb74cb",
   "metadata": {},
   "outputs": [
    {
     "data": {
      "image/png": "[encoded data removed]",
      "text/plain": [
       "<Figure size 1600x600 with 1 Axes>"
      ]
     },
     "metadata": {},
     "output_type": "display_data"
    }
   ],
   "source": [
    "# Calculo el promedio anual de la capacidad en Megawatts\n",
    "titulo = \"Capacidad Promedio Anual\"\n",
    "promedio_anual = df.resample('YE').mean()\n",
    "\n",
    "# Grafico\n",
    "promedio_anual.plot.bar(figsize=(16,6), title=titulo, color='#1f77b4')\n",
    "\n",
    "anios = ['2007', '2008', '2008', '2009', '2010', '2011', '2012', '2013', '2014', '2015', '2016', '2017', '2018', '2019', '2020', '2021']\n",
    "\n",
    "plt.xticks(range(len(promedio_anual)), anios[:len(promedio_anual)], rotation=45)\n",
    "\n",
    "plt.xlabel('Mes')\n",
    "plt.ylabel('Capacidad Promedio (MW)')\n",
    "plt.tight_layout()\n",
    "plt.show()"
   ]
  },
  {
   "cell_type": "code",
   "execution_count": 22,
   "id": "be11a6e2",
   "metadata": {},
   "outputs": [
    {
     "data": {
      "image/png": "[encoded data removed]",
      "text/plain": [
       "<Figure size 1600x600 with 1 Axes>"
      ]
     },
     "metadata": {},
     "output_type": "display_data"
    }
   ],
   "source": [
    "# Calculo el promedio mensual de la capacidad en Megawatts para el año 2007\n",
    "\n",
    "# Filtro solo los datos del año 2007\n",
    "df_2007 = df[df.index.year == 2007]\n",
    "\n",
    "# Calcular promedio mensual de capacidad en 2007\n",
    "titulo = \"Capacidad Mensual 2007\"\n",
    "promedio_mensual_2007 = df_2007.resample('ME').mean()\n",
    "\n",
    "# Grafico\n",
    "promedio_mensual_2007.plot.bar(figsize=(16,6), title=titulo, color='#1f77b4')\n",
    "\n",
    "meses = ['Enero', 'Febrero', 'Marzo', 'Abril', 'Mayo', 'Junio', \n",
    "         'Julio', 'Agosto', 'Septiembre', 'Octubre', 'Noviembre', 'Diciembre']\n",
    "plt.xticks(range(len(promedio_mensual_2007)), meses[:len(promedio_mensual_2007)], rotation=45)\n",
    "\n",
    "plt.xlabel('Mes')\n",
    "plt.ylabel('Capacidad Promedio (MW)')\n",
    "plt.tight_layout()\n",
    "plt.show()"
   ]
  },
  {
   "cell_type": "code",
   "execution_count": 23,
   "id": "27e86976",
   "metadata": {},
   "outputs": [
    {
     "data": {
      "image/png": "[encoded data removed]",
      "text/plain": [
       "<Figure size 1600x600 with 1 Axes>"
      ]
     },
     "metadata": {},
     "output_type": "display_data"
    }
   ],
   "source": [
    "# Calculo el promedio mensual de la capacidad en Megawatts para el año 2019\n",
    "\n",
    "# Filtro solo los datos del año 2019\n",
    "df_2019 = df[df.index.year == 2019]\n",
    "\n",
    "# Calcular promedio mensual de capacidad en 2007\n",
    "titulo = \"Capacidad Mensual 2019\"\n",
    "promedio_mensual_2019 = df_2019.resample('ME').mean()\n",
    "\n",
    "# Grafico\n",
    "promedio_mensual_2019.plot.bar(figsize=(16,6), title=titulo, color='#1f33b4')\n",
    "\n",
    "meses = ['Enero', 'Febrero', 'Marzo', 'Abril', 'Mayo', 'Junio', \n",
    "         'Julio', 'Agosto', 'Septiembre', 'Octubre', 'Noviembre', 'Diciembre']\n",
    "plt.xticks(range(len(promedio_mensual_2007)), meses[:len(promedio_mensual_2019)], rotation=45)\n",
    "\n",
    "plt.xlabel('Mes')\n",
    "plt.ylabel('Capacidad Promedio (MW)')\n",
    "plt.tight_layout()\n",
    "plt.show()"
   ]
  },
  {
   "cell_type": "code",
   "execution_count": 24,
   "id": "405cdbe0",
   "metadata": {},
   "outputs": [
    {
     "data": {
      "image/png": "[encoded data removed]",
      "text/plain": [
       "<Figure size 1500x600 with 1 Axes>"
      ]
     },
     "metadata": {},
     "output_type": "display_data"
    }
   ],
   "source": [
    "plt.figure(figsize=(15,6))\n",
    "plt.plot(df)\n",
    "plt.xlabel(\"Año\")\n",
    "plt.xticks(rotation=30)\n",
    "plt.show()"
   ]
  },
  {
   "cell_type": "code",
   "execution_count": 25,
   "id": "31d6ec43",
   "metadata": {},
   "outputs": [
    {
     "data": {
      "text/plain": [
       "<function matplotlib.pyplot.show(close=None, block=None)>"
      ]
     },
     "execution_count": 25,
     "metadata": {},
     "output_type": "execute_result"
    },
    {
     "data": {
      "image/png": "[encoded data removed]",
      "text/plain": [
       "<Figure size 640x480 with 1 Axes>"
      ]
     },
     "metadata": {},
     "output_type": "display_data"
    }
   ],
   "source": [
    "import scipy.stats\n",
    "import pylab\n",
    "\n",
    "# Grafico el qqplot\n",
    "scipy.stats.probplot(df['Capacidad'], plot=pylab)\n",
    "plt.title(\"QQ Plot\", size = 24)\n",
    "plt.show"
   ]
  },
  {
   "cell_type": "markdown",
   "id": "60c2cfe4",
   "metadata": {},
   "source": [
    "### Prueba de estacionariedad\n",
    "\n",
    "#### Prueba de Dickey-Fuller aumentada (ADF)"
   ]
  },
  {
   "cell_type": "code",
   "execution_count": 26,
   "id": "9d83c097",
   "metadata": {},
   "outputs": [],
   "source": [
    "def check_stationarity(series, name=\"\"):\n",
    "    result = sts.adfuller(series.dropna())\n",
    "    print(f'Prueba ADF para {name}:')\n",
    "    print(f'Estadístico: {result[0]:.4f}')\n",
    "    print(f'p-valor: {result[1]:.4f}')\n",
    "    print(f'Valores críticos:')\n",
    "    for key, value in result[4].items():\n",
    "        print(f'   {key}: {value:.4f}')\n",
    "    \n",
    "    # Interpretar resultado\n",
    "    if result[1] <= 0.05:\n",
    "        print(f\"Conclusión: La serie {name} es estacionaria (p-valor <= 0.05)\")\n",
    "    else:\n",
    "        print(f\"Conclusión: La serie {name} no es estacionaria (p-valor > 0.05)\")\n",
    "    print(\"-\" * 50)\n",
    "    return result[1] <= 0.05"
   ]
  },
  {
   "cell_type": "code",
   "execution_count": 27,
   "id": "850abfb8",
   "metadata": {},
   "outputs": [],
   "source": [
    "# Función para graficar series\n",
    "def plot_series(original, transformed, title=\"Comparación de Series\"):\n",
    "    plt.figure(figsize=(12, 6))\n",
    "    plt.subplot(211)\n",
    "    plt.plot(original)\n",
    "    plt.title(\"Serie Original\")\n",
    "    plt.subplot(212)\n",
    "    plt.plot(transformed, color='red')\n",
    "    plt.title(title)\n",
    "    plt.tight_layout()\n",
    "    plt.show()"
   ]
  },
  {
   "cell_type": "code",
   "execution_count": 28,
   "id": "1c5a435d",
   "metadata": {},
   "outputs": [
    {
     "name": "stdout",
     "output_type": "stream",
     "text": [
      "ANÁLISIS DE LA SERIE ORIGINAL\n",
      "Prueba ADF para original:\n",
      "Estadístico: -5.6329\n",
      "p-valor: 0.0000\n",
      "Valores críticos:\n",
      "   1%: -3.4316\n",
      "   5%: -2.8621\n",
      "   10%: -2.5671\n",
      "Conclusión: La serie original es estacionaria (p-valor <= 0.05)\n",
      "--------------------------------------------------\n"
     ]
    }
   ],
   "source": [
    "# Verificar la serie original\n",
    "print(\"ANÁLISIS DE LA SERIE ORIGINAL\")\n",
    "is_stationary = check_stationarity(df['Capacidad'], \"original\")\n"
   ]
  },
  {
   "cell_type": "markdown",
   "id": "6014bdeb",
   "metadata": {},
   "source": [
    "## Gráfico PACG"
   ]
  },
  {
   "cell_type": "code",
   "execution_count": 29,
   "id": "0cf16658",
   "metadata": {},
   "outputs": [
    {
     "data": {
      "image/png": "[encoded data removed]",
      "text/plain": [
       "<Figure size 640x480 with 1 Axes>"
      ]
     },
     "metadata": {},
     "output_type": "display_data"
    }
   ],
   "source": [
    "# Grafico de PACF\n",
    "sgt.plot_pacf(df, zero = False, lags = 14)\n",
    "plt.title(\"PACF para Capacidad (MegaWatts)for Consumption\", size = 20)\n",
    "plt.show()"
   ]
  },
  {
   "cell_type": "markdown",
   "id": "7e8b240a",
   "metadata": {},
   "source": [
    "### Análisis del PACF\n",
    "\n",
    "El gráfico muestra:\n",
    "1. Un pico significativo en el lag1 (cerano a 0.9).\n",
    "2. Picos significativos pero menores en los lags 6 y 11.\n",
    "3. Los demas lags estan dentro de la banda de significancia (cercanos a cero).\n",
    "\n",
    "#### Consideraciones\n",
    "\n",
    "1. Modelado ARIMA.\n",
    "    - Ya que la serie es estacionaria, no requiere diferenciaión, se podría considerar un modelo ARMA(p,q) o simplemente AR(p).\n",
    "    - El grafico PACF sugiere un modelo AR(1) como punto de partida debido al pico significativo en el primer lag.\n",
    "    - Se poria intentar un AR(11) para capturar los picos en los lags 6 y 11, pero no sería parsimonioso.\n",
    "\n",
    "2. Modelos candidatos.\n",
    "    - Se deberián probar y comparar los siguientes modelos:\n",
    "        * AR(1): Para comparar la estructura básica.\n",
    "        * AR(6): Para incluir el segundo pico significativo.\n",
    "        * AR(11): Para incluir todos los picos significativos.\n",
    "        * ARMA(1,1): Como alternativa para capturar posibles efectos de media móvil"
   ]
  },
  {
   "cell_type": "markdown",
   "id": "d6d43879",
   "metadata": {},
   "source": [
    "## Gráfico ACF\n",
    "\n",
    "Para calcular el termino q de ARMA(p,q)"
   ]
  },
  {
   "cell_type": "code",
   "execution_count": 30,
   "id": "034192f8",
   "metadata": {},
   "outputs": [
    {
     "data": {
      "image/png": "[encoded data removed]",
      "text/plain": [
       "<Figure size 640x480 with 1 Axes>"
      ]
     },
     "metadata": {},
     "output_type": "display_data"
    }
   ],
   "source": [
    "\n",
    "# Grafico de ACF\n",
    "sgt.plot_acf(df, zero = False, lags = 14)\n",
    "plt.title(\"ACF para Capacidad (MegaWatts)\", size = 20)\n",
    "plt.show()"
   ]
  },
  {
   "cell_type": "markdown",
   "id": "b4627617",
   "metadata": {},
   "source": [
    "#### Análisis gráfico ACF\n",
    "\n",
    "- El decaimiento exponencial es caracateristico de procesos autorregresivos, no de media mǘil\n",
    "\n",
    "O sea si se consideraría una modelo ARMA(p,q) el q sería 0 o muy pequeño q=1.\n",
    "\n",
    "### Conclusión\n",
    "\n",
    "El uso de un modelo AR(p) puroi sería más que un ARMA(p,q) o si se insiste en un componente MA, se limitaría q a 1 (ARMA(p,1))"
   ]
  },
  {
   "cell_type": "markdown",
   "id": "aee081c7",
   "metadata": {},
   "source": [
    "## Modelado"
   ]
  },
  {
   "cell_type": "markdown",
   "id": "5519b283",
   "metadata": {},
   "source": [
    "### Modelo AR(1)"
   ]
  },
  {
   "cell_type": "code",
   "execution_count": 31,
   "id": "522a95c4",
   "metadata": {},
   "outputs": [
    {
     "name": "stdout",
     "output_type": "stream",
     "text": [
      "                               SARIMAX Results                                \n",
      "==============================================================================\n",
      "Dep. Variable:              Capacidad   No. Observations:                 5225\n",
      "Model:                 ARIMA(1, 0, 0)   Log Likelihood              -44747.532\n",
      "Date:                Sun, 20 Apr 2025   AIC                          89501.064\n",
      "Time:                        17:25:06   BIC                          89520.747\n",
      "Sample:                    01-01-2007   HQIC                         89507.947\n",
      "                         - 04-21-2021                                         \n",
      "Covariance Type:                  opg                                         \n",
      "==============================================================================\n",
      "                 coef    std err          z      P>|z|      [0.025      0.975]\n",
      "------------------------------------------------------------------------------\n",
      "const       1.006e+05    586.038    171.680      0.000    9.95e+04    1.02e+05\n",
      "ar.L1          0.8937      0.001    621.722      0.000       0.891       0.897\n",
      "sigma2      1.608e+06   2394.637    671.310      0.000     1.6e+06    1.61e+06\n",
      "===================================================================================\n",
      "Ljung-Box (L1) (Q):                  93.40   Jarque-Bera (JB):         980669864.78\n",
      "Prob(Q):                              0.00   Prob(JB):                         0.00\n",
      "Heteroskedasticity (H):             122.11   Skew:                             3.98\n",
      "Prob(H) (two-sided):                  0.00   Kurtosis:                      2125.37\n",
      "===================================================================================\n",
      "\n",
      "Warnings:\n",
      "[1] Covariance matrix calculated using the outer product of gradients (complex-step).\n"
     ]
    },
    {
     "name": "stderr",
     "output_type": "stream",
     "text": [
      "/home/jorge/miniconda3/envs/ast-env/lib/python3.10/site-packages/statsmodels/tsa/base/tsa_model.py:473: ValueWarning: No frequency information was provided, so inferred frequency D will be used.\n",
      "  self._init_dates(dates, freq)\n",
      "/home/jorge/miniconda3/envs/ast-env/lib/python3.10/site-packages/statsmodels/tsa/base/tsa_model.py:473: ValueWarning: No frequency information was provided, so inferred frequency D will be used.\n",
      "  self._init_dates(dates, freq)\n",
      "/home/jorge/miniconda3/envs/ast-env/lib/python3.10/site-packages/statsmodels/tsa/base/tsa_model.py:473: ValueWarning: No frequency information was provided, so inferred frequency D will be used.\n",
      "  self._init_dates(dates, freq)\n"
     ]
    }
   ],
   "source": [
    "# probemos el modelo ARIMA(1)\n",
    "capacidad_modelo_ar_1 = ARIMA(df, order=(1, 0, 0))\n",
    "capacidad_modelo_ar_1_resultados = capacidad_modelo_ar_1.fit()\n",
    "print(capacidad_modelo_ar_1_resultados.summary())"
   ]
  },
  {
   "cell_type": "markdown",
   "id": "07127139",
   "metadata": {},
   "source": [
    "### Modelo AR(2)"
   ]
  },
  {
   "cell_type": "code",
   "execution_count": 32,
   "id": "cf7ad9dc",
   "metadata": {},
   "outputs": [
    {
     "name": "stderr",
     "output_type": "stream",
     "text": [
      "/home/jorge/miniconda3/envs/ast-env/lib/python3.10/site-packages/statsmodels/tsa/base/tsa_model.py:473: ValueWarning: No frequency information was provided, so inferred frequency D will be used.\n",
      "  self._init_dates(dates, freq)\n",
      "/home/jorge/miniconda3/envs/ast-env/lib/python3.10/site-packages/statsmodels/tsa/base/tsa_model.py:473: ValueWarning: No frequency information was provided, so inferred frequency D will be used.\n",
      "  self._init_dates(dates, freq)\n",
      "/home/jorge/miniconda3/envs/ast-env/lib/python3.10/site-packages/statsmodels/tsa/base/tsa_model.py:473: ValueWarning: No frequency information was provided, so inferred frequency D will be used.\n",
      "  self._init_dates(dates, freq)\n"
     ]
    },
    {
     "name": "stdout",
     "output_type": "stream",
     "text": [
      "                               SARIMAX Results                                \n",
      "==============================================================================\n",
      "Dep. Variable:              Capacidad   No. Observations:                 5225\n",
      "Model:                 ARIMA(2, 0, 0)   Log Likelihood              -44688.550\n",
      "Date:                Sun, 20 Apr 2025   AIC                          89385.100\n",
      "Time:                        17:25:06   BIC                          89411.345\n",
      "Sample:                    01-01-2007   HQIC                         89394.278\n",
      "                         - 04-21-2021                                         \n",
      "Covariance Type:                  opg                                         \n",
      "==============================================================================\n",
      "                 coef    std err          z      P>|z|      [0.025      0.975]\n",
      "------------------------------------------------------------------------------\n",
      "const       1.006e+05    467.332    215.288      0.000    9.97e+04    1.02e+05\n",
      "ar.L1          1.0273      0.002    541.653      0.000       1.024       1.031\n",
      "ar.L2         -0.1494      0.002    -76.469      0.000      -0.153      -0.146\n",
      "sigma2      1.572e+06   2689.812    584.405      0.000    1.57e+06    1.58e+06\n",
      "===================================================================================\n",
      "Ljung-Box (L1) (Q):                   0.37   Jarque-Bera (JB):         890069159.90\n",
      "Prob(Q):                              0.54   Prob(JB):                         0.00\n",
      "Heteroskedasticity (H):             100.90   Skew:                             4.41\n",
      "Prob(H) (two-sided):                  0.00   Kurtosis:                      2024.95\n",
      "===================================================================================\n",
      "\n",
      "Warnings:\n",
      "[1] Covariance matrix calculated using the outer product of gradients (complex-step).\n"
     ]
    }
   ],
   "source": [
    "# probemos el modelo ARIMA(2)\n",
    "capacidad_modelo_ar_2 = ARIMA(df, order=(2, 0, 0))\n",
    "capacidad_modelo_ar_2_resultados = capacidad_modelo_ar_2.fit()\n",
    "print(capacidad_modelo_ar_2_resultados.summary())"
   ]
  },
  {
   "cell_type": "markdown",
   "id": "cded6011",
   "metadata": {},
   "source": [
    "### Modelo AR(3)"
   ]
  },
  {
   "cell_type": "code",
   "execution_count": 33,
   "id": "c1bd6252",
   "metadata": {},
   "outputs": [
    {
     "name": "stderr",
     "output_type": "stream",
     "text": [
      "/home/jorge/miniconda3/envs/ast-env/lib/python3.10/site-packages/statsmodels/tsa/base/tsa_model.py:473: ValueWarning: No frequency information was provided, so inferred frequency D will be used.\n",
      "  self._init_dates(dates, freq)\n",
      "/home/jorge/miniconda3/envs/ast-env/lib/python3.10/site-packages/statsmodels/tsa/base/tsa_model.py:473: ValueWarning: No frequency information was provided, so inferred frequency D will be used.\n",
      "  self._init_dates(dates, freq)\n",
      "/home/jorge/miniconda3/envs/ast-env/lib/python3.10/site-packages/statsmodels/tsa/base/tsa_model.py:473: ValueWarning: No frequency information was provided, so inferred frequency D will be used.\n",
      "  self._init_dates(dates, freq)\n"
     ]
    },
    {
     "name": "stdout",
     "output_type": "stream",
     "text": [
      "                               SARIMAX Results                                \n",
      "==============================================================================\n",
      "Dep. Variable:              Capacidad   No. Observations:                 5225\n",
      "Model:                 ARIMA(3, 0, 0)   Log Likelihood              -44679.985\n",
      "Date:                Sun, 20 Apr 2025   AIC                          89369.971\n",
      "Time:                        17:25:07   BIC                          89402.777\n",
      "Sample:                    01-01-2007   HQIC                         89381.443\n",
      "                         - 04-21-2021                                         \n",
      "Covariance Type:                  opg                                         \n",
      "==============================================================================\n",
      "                 coef    std err          z      P>|z|      [0.025      0.975]\n",
      "------------------------------------------------------------------------------\n",
      "const       1.006e+05    444.971    226.107      0.000    9.97e+04    1.01e+05\n",
      "ar.L1          1.0188      0.002    537.145      0.000       1.015       1.022\n",
      "ar.L2         -0.0907      0.004    -24.137      0.000      -0.098      -0.083\n",
      "ar.L3         -0.0572      0.003    -16.693      0.000      -0.064      -0.050\n",
      "sigma2      1.567e+06   2747.787    570.309      0.000    1.56e+06    1.57e+06\n",
      "===================================================================================\n",
      "Ljung-Box (L1) (Q):                   0.10   Jarque-Bera (JB):         874825951.33\n",
      "Prob(Q):                              0.76   Prob(JB):                         0.00\n",
      "Heteroskedasticity (H):              93.68   Skew:                             3.74\n",
      "Prob(H) (two-sided):                  0.00   Kurtosis:                      2007.57\n",
      "===================================================================================\n",
      "\n",
      "Warnings:\n",
      "[1] Covariance matrix calculated using the outer product of gradients (complex-step).\n"
     ]
    }
   ],
   "source": [
    "# probemos el modelo ARIMA(3)\n",
    "capacidad_modelo_ar_3 = ARIMA(df, order=(3, 0, 0))\n",
    "capacidad_modelo_ar_3_resultados = capacidad_modelo_ar_3.fit()\n",
    "print(capacidad_modelo_ar_3_resultados.summary())"
   ]
  },
  {
   "cell_type": "markdown",
   "id": "c8ed6946",
   "metadata": {},
   "source": [
    "### Modelo AR(4)"
   ]
  },
  {
   "cell_type": "code",
   "execution_count": 34,
   "id": "4cc82514",
   "metadata": {},
   "outputs": [
    {
     "name": "stderr",
     "output_type": "stream",
     "text": [
      "/home/jorge/miniconda3/envs/ast-env/lib/python3.10/site-packages/statsmodels/tsa/base/tsa_model.py:473: ValueWarning: No frequency information was provided, so inferred frequency D will be used.\n",
      "  self._init_dates(dates, freq)\n",
      "/home/jorge/miniconda3/envs/ast-env/lib/python3.10/site-packages/statsmodels/tsa/base/tsa_model.py:473: ValueWarning: No frequency information was provided, so inferred frequency D will be used.\n",
      "  self._init_dates(dates, freq)\n",
      "/home/jorge/miniconda3/envs/ast-env/lib/python3.10/site-packages/statsmodels/tsa/base/tsa_model.py:473: ValueWarning: No frequency information was provided, so inferred frequency D will be used.\n",
      "  self._init_dates(dates, freq)\n"
     ]
    },
    {
     "name": "stdout",
     "output_type": "stream",
     "text": [
      "                               SARIMAX Results                                \n",
      "==============================================================================\n",
      "Dep. Variable:              Capacidad   No. Observations:                 5225\n",
      "Model:                 ARIMA(4, 0, 0)   Log Likelihood              -44664.897\n",
      "Date:                Sun, 20 Apr 2025   AIC                          89341.793\n",
      "Time:                        17:25:07   BIC                          89381.160\n",
      "Sample:                    01-01-2007   HQIC                         89355.560\n",
      "                         - 04-21-2021                                         \n",
      "Covariance Type:                  opg                                         \n",
      "==============================================================================\n",
      "                 coef    std err          z      P>|z|      [0.025      0.975]\n",
      "------------------------------------------------------------------------------\n",
      "const       1.006e+05    417.473    241.000      0.000    9.98e+04    1.01e+05\n",
      "ar.L1          1.0144      0.002    555.737      0.000       1.011       1.018\n",
      "ar.L2         -0.0976      0.004    -25.533      0.000      -0.105      -0.090\n",
      "ar.L3          0.0201      0.005      4.215      0.000       0.011       0.029\n",
      "ar.L4         -0.0759      0.003    -24.865      0.000      -0.082      -0.070\n",
      "sigma2      1.558e+06   2808.825    554.805      0.000    1.55e+06    1.56e+06\n",
      "===================================================================================\n",
      "Ljung-Box (L1) (Q):                   0.19   Jarque-Bera (JB):         853339146.27\n",
      "Prob(Q):                              0.66   Prob(JB):                         0.00\n",
      "Heteroskedasticity (H):              84.42   Skew:                             2.90\n",
      "Prob(H) (two-sided):                  0.00   Kurtosis:                      1982.80\n",
      "===================================================================================\n",
      "\n",
      "Warnings:\n",
      "[1] Covariance matrix calculated using the outer product of gradients (complex-step).\n"
     ]
    }
   ],
   "source": [
    "# probemos el modelo ARIMA(4)\n",
    "capacidad_modelo_ar_4 = ARIMA(df, order=(4, 0, 0))\n",
    "capacidad_modelo_ar_4_resultados = capacidad_modelo_ar_4.fit()\n",
    "print(capacidad_modelo_ar_4_resultados.summary())"
   ]
  },
  {
   "cell_type": "markdown",
   "id": "cf4ea3fc",
   "metadata": {},
   "source": [
    "### Modelo AR(5)"
   ]
  },
  {
   "cell_type": "code",
   "execution_count": 35,
   "id": "8ca26c87",
   "metadata": {},
   "outputs": [
    {
     "name": "stderr",
     "output_type": "stream",
     "text": [
      "/home/jorge/miniconda3/envs/ast-env/lib/python3.10/site-packages/statsmodels/tsa/base/tsa_model.py:473: ValueWarning: No frequency information was provided, so inferred frequency D will be used.\n",
      "  self._init_dates(dates, freq)\n",
      "/home/jorge/miniconda3/envs/ast-env/lib/python3.10/site-packages/statsmodels/tsa/base/tsa_model.py:473: ValueWarning: No frequency information was provided, so inferred frequency D will be used.\n",
      "  self._init_dates(dates, freq)\n",
      "/home/jorge/miniconda3/envs/ast-env/lib/python3.10/site-packages/statsmodels/tsa/base/tsa_model.py:473: ValueWarning: No frequency information was provided, so inferred frequency D will be used.\n",
      "  self._init_dates(dates, freq)\n"
     ]
    },
    {
     "name": "stdout",
     "output_type": "stream",
     "text": [
      "                               SARIMAX Results                                \n",
      "==============================================================================\n",
      "Dep. Variable:              Capacidad   No. Observations:                 5225\n",
      "Model:                 ARIMA(5, 0, 0)   Log Likelihood              -44647.892\n",
      "Date:                Sun, 20 Apr 2025   AIC                          89309.783\n",
      "Time:                        17:25:07   BIC                          89355.712\n",
      "Sample:                    01-01-2007   HQIC                         89325.845\n",
      "                         - 04-21-2021                                         \n",
      "Covariance Type:                  opg                                         \n",
      "==============================================================================\n",
      "                 coef    std err          z      P>|z|      [0.025      0.975]\n",
      "------------------------------------------------------------------------------\n",
      "const       1.006e+05    396.599    253.684      0.000    9.98e+04    1.01e+05\n",
      "ar.L1          1.0083      0.002    572.572      0.000       1.005       1.012\n",
      "ar.L2         -0.0959      0.004    -27.261      0.000      -0.103      -0.089\n",
      "ar.L3          0.0122      0.005      2.669      0.008       0.003       0.021\n",
      "ar.L4          0.0058      0.004      1.371      0.170      -0.002       0.014\n",
      "ar.L5         -0.0805      0.003    -28.249      0.000      -0.086      -0.075\n",
      "sigma2      1.549e+06   2936.413    527.352      0.000    1.54e+06    1.55e+06\n",
      "===================================================================================\n",
      "Ljung-Box (L1) (Q):                   6.16   Jarque-Bera (JB):         830565771.50\n",
      "Prob(Q):                              0.01   Prob(JB):                         0.00\n",
      "Heteroskedasticity (H):              75.16   Skew:                             1.95\n",
      "Prob(H) (two-sided):                  0.00   Kurtosis:                      1956.21\n",
      "===================================================================================\n",
      "\n",
      "Warnings:\n",
      "[1] Covariance matrix calculated using the outer product of gradients (complex-step).\n"
     ]
    }
   ],
   "source": [
    "# probemos el modelo ARIMA(5)\n",
    "capacidad_modelo_ar_5 = ARIMA(df, order=(5, 0, 0))\n",
    "capacidad_modelo_ar_5_resultados = capacidad_modelo_ar_5.fit()\n",
    "print(capacidad_modelo_ar_5_resultados.summary())"
   ]
  },
  {
   "cell_type": "markdown",
   "id": "cec9c18c",
   "metadata": {},
   "source": [
    "### Modelo AR(6)"
   ]
  },
  {
   "cell_type": "code",
   "execution_count": 36,
   "id": "e8059682",
   "metadata": {},
   "outputs": [
    {
     "name": "stderr",
     "output_type": "stream",
     "text": [
      "/home/jorge/miniconda3/envs/ast-env/lib/python3.10/site-packages/statsmodels/tsa/base/tsa_model.py:473: ValueWarning: No frequency information was provided, so inferred frequency D will be used.\n",
      "  self._init_dates(dates, freq)\n",
      "/home/jorge/miniconda3/envs/ast-env/lib/python3.10/site-packages/statsmodels/tsa/base/tsa_model.py:473: ValueWarning: No frequency information was provided, so inferred frequency D will be used.\n",
      "  self._init_dates(dates, freq)\n",
      "/home/jorge/miniconda3/envs/ast-env/lib/python3.10/site-packages/statsmodels/tsa/base/tsa_model.py:473: ValueWarning: No frequency information was provided, so inferred frequency D will be used.\n",
      "  self._init_dates(dates, freq)\n"
     ]
    },
    {
     "name": "stdout",
     "output_type": "stream",
     "text": [
      "                               SARIMAX Results                                \n",
      "==============================================================================\n",
      "Dep. Variable:              Capacidad   No. Observations:                 5225\n",
      "Model:                 ARIMA(6, 0, 0)   Log Likelihood              -44126.159\n",
      "Date:                Sun, 20 Apr 2025   AIC                          88268.318\n",
      "Time:                        17:25:07   BIC                          88320.808\n",
      "Sample:                    01-01-2007   HQIC                         88286.674\n",
      "                         - 04-21-2021                                         \n",
      "Covariance Type:                  opg                                         \n",
      "==============================================================================\n",
      "                 coef    std err          z      P>|z|      [0.025      0.975]\n",
      "------------------------------------------------------------------------------\n",
      "const       1.006e+05    650.378    154.696      0.000    9.93e+04    1.02e+05\n",
      "ar.L1          1.0425      0.002    514.893      0.000       1.039       1.047\n",
      "ar.L2         -0.0983      0.005    -20.568      0.000      -0.108      -0.089\n",
      "ar.L3          0.0070      0.007      1.002      0.317      -0.007       0.021\n",
      "ar.L4          0.0465      0.005      8.882      0.000       0.036       0.057\n",
      "ar.L5         -0.5092      0.002   -238.485      0.000      -0.513      -0.505\n",
      "ar.L6          0.4253      0.001    374.698      0.000       0.423       0.428\n",
      "sigma2      1.268e+06   2008.648    631.341      0.000    1.26e+06    1.27e+06\n",
      "===================================================================================\n",
      "Ljung-Box (L1) (Q):                   0.00   Jarque-Bera (JB):         631105316.15\n",
      "Prob(Q):                              0.99   Prob(JB):                         0.00\n",
      "Heteroskedasticity (H):             105.07   Skew:                           -13.22\n",
      "Prob(H) (two-sided):                  0.00   Kurtosis:                      1705.40\n",
      "===================================================================================\n",
      "\n",
      "Warnings:\n",
      "[1] Covariance matrix calculated using the outer product of gradients (complex-step).\n"
     ]
    }
   ],
   "source": [
    "# probemos el modelo ARIMA(1)\n",
    "capacidad_modelo_ar_6 = ARIMA(df, order=(6, 0, 0))\n",
    "capacidad_modelo_ar_6_resultados = capacidad_modelo_ar_6.fit()\n",
    "print(capacidad_modelo_ar_6_resultados.summary())"
   ]
  },
  {
   "cell_type": "markdown",
   "id": "6a7b91ec",
   "metadata": {},
   "source": [
    "### Modelo AR(11)"
   ]
  },
  {
   "cell_type": "code",
   "execution_count": 37,
   "id": "34232a6b",
   "metadata": {},
   "outputs": [
    {
     "name": "stderr",
     "output_type": "stream",
     "text": [
      "/home/jorge/miniconda3/envs/ast-env/lib/python3.10/site-packages/statsmodels/tsa/base/tsa_model.py:473: ValueWarning: No frequency information was provided, so inferred frequency D will be used.\n",
      "  self._init_dates(dates, freq)\n",
      "/home/jorge/miniconda3/envs/ast-env/lib/python3.10/site-packages/statsmodels/tsa/base/tsa_model.py:473: ValueWarning: No frequency information was provided, so inferred frequency D will be used.\n",
      "  self._init_dates(dates, freq)\n",
      "/home/jorge/miniconda3/envs/ast-env/lib/python3.10/site-packages/statsmodels/tsa/base/tsa_model.py:473: ValueWarning: No frequency information was provided, so inferred frequency D will be used.\n",
      "  self._init_dates(dates, freq)\n"
     ]
    },
    {
     "name": "stdout",
     "output_type": "stream",
     "text": [
      "                               SARIMAX Results                                \n",
      "==============================================================================\n",
      "Dep. Variable:              Capacidad   No. Observations:                 5225\n",
      "Model:                ARIMA(11, 0, 0)   Log Likelihood              -43934.948\n",
      "Date:                Sun, 20 Apr 2025   AIC                          87895.896\n",
      "Time:                        17:25:08   BIC                          87981.192\n",
      "Sample:                    01-01-2007   HQIC                         87925.725\n",
      "                         - 04-21-2021                                         \n",
      "Covariance Type:                  opg                                         \n",
      "==============================================================================\n",
      "                 coef    std err          z      P>|z|      [0.025      0.975]\n",
      "------------------------------------------------------------------------------\n",
      "const       1.006e+05    725.400    138.697      0.000    9.92e+04    1.02e+05\n",
      "ar.L1          1.0535      0.005    215.838      0.000       1.044       1.063\n",
      "ar.L2         -0.0852      0.010     -8.492      0.000      -0.105      -0.066\n",
      "ar.L3          0.0027      0.014      0.193      0.847      -0.025       0.030\n",
      "ar.L4          0.0454      0.010      4.535      0.000       0.026       0.065\n",
      "ar.L5         -0.6425      0.003   -225.369      0.000      -0.648      -0.637\n",
      "ar.L6          0.5587      0.009     62.056      0.000       0.541       0.576\n",
      "ar.L7          0.0323      0.011      2.813      0.005       0.010       0.055\n",
      "ar.L8         -0.0224      0.013     -1.757      0.079      -0.047       0.003\n",
      "ar.L9          0.0482      0.012      4.145      0.000       0.025       0.071\n",
      "ar.L10        -0.3183      0.003    -99.502      0.000      -0.325      -0.312\n",
      "ar.L11         0.2551      0.001    210.207      0.000       0.253       0.257\n",
      "sigma2       1.18e+06   3008.612    392.068      0.000    1.17e+06    1.19e+06\n",
      "===================================================================================\n",
      "Ljung-Box (L1) (Q):                   0.90   Jarque-Bera (JB):         645942720.20\n",
      "Prob(Q):                              0.34   Prob(JB):                         0.00\n",
      "Heteroskedasticity (H):              98.56   Skew:                           -19.43\n",
      "Prob(H) (two-sided):                  0.00   Kurtosis:                      1725.06\n",
      "===================================================================================\n",
      "\n",
      "Warnings:\n",
      "[1] Covariance matrix calculated using the outer product of gradients (complex-step).\n"
     ]
    }
   ],
   "source": [
    "# probemos el modelo ARIMA(11)\n",
    "capacidad_modelo_ar_11 = ARIMA(df, order=(11, 0, 0))\n",
    "capacidad_modelo_ar_11_resultados = capacidad_modelo_ar_11.fit()\n",
    "print(capacidad_modelo_ar_11_resultados.summary())"
   ]
  },
  {
   "cell_type": "markdown",
   "id": "e2cdddfe",
   "metadata": {},
   "source": [
    "### Resultados\n",
    "\n",
    "### Tabla comparativa de métricas clave.\n",
    "\n",
    "<html>\n",
    "<table style=\"width:100%; border-collapse: collapse; text-align: center;\">\n",
    "  <thead>\n",
    "    <tr style=\"background-color:rgb(100, 104, 195);\">\n",
    "      <th style=\"border: 1px solid #ddd; padding: 8px;\">Modelo</th>\n",
    "      <th style=\"border: 1px solid #ddd; padding: 8px;\">Log Likelihood</th>\n",
    "      <th style=\"border: 1px solid #ddd; padding: 8px;\">AIC</th>\n",
    "      <th style=\"border: 1px solid #ddd; padding: 8px;\">BIC</th>\n",
    "      <th style=\"border: 1px solid #ddd; padding: 8px;\">HQIC</th>\n",
    "      <th style=\"border: 1px solid #ddd; padding: 8px;\">Ljung-Box (Q)</th>\n",
    "      <th style=\"border: 1px solid #ddd; padding: 8px;\">Prob(Q)</th>\n",
    "    </tr>\n",
    "  </thead>\n",
    "  <tbody>\n",
    "    <tr>\n",
    "      <td style=\"border: 1px solid #ddd; padding: 8px;\">AR(1)</td>\n",
    "      <td style=\"border: 1px solid #ddd; padding: 8px;\">-44747.532</td>\n",
    "      <td style=\"border: 1px solid #ddd; padding: 8px;\">89501.064</td>\n",
    "      <td style=\"border: 1px solid #ddd; padding: 8px;\">89520.747</td>\n",
    "      <td style=\"border: 1px solid #ddd; padding: 8px;\">89507.947</td>\n",
    "      <td style=\"border: 1px solid #ddd; padding: 8px;\">93.40</td>\n",
    "      <td style=\"border: 1px solid #ddd; padding: 8px; color: red;\">0.00</td>\n",
    "    </tr>\n",
    "    <tr>\n",
    "      <td style=\"border: 1px solid #ddd; padding: 8px;\">AR(2)</td>\n",
    "      <td style=\"border: 1px solid #ddd; padding: 8px;\">-44688.550</td>\n",
    "      <td style=\"border: 1px solid #ddd; padding: 8px;\">89385.100</td>\n",
    "      <td style=\"border: 1px solid #ddd; padding: 8px;\">89411.345</td>\n",
    "      <td style=\"border: 1px solid #ddd; padding: 8px;\">89394.278</td>\n",
    "      <td style=\"border: 1px solid #ddd; padding: 8px;\">0.37</td>\n",
    "      <td style=\"border: 1px solid #ddd; padding: 8px; color: green;\">0.54</td>\n",
    "    </tr>\n",
    "    <tr>\n",
    "      <td style=\"border: 1px solid #ddd; padding: 8px;\">AR(3)</td>\n",
    "      <td style=\"border: 1px solid #ddd; padding: 8px;\">-44679.985</td>\n",
    "      <td style=\"border: 1px solid #ddd; padding: 8px;\">89369.971</td>\n",
    "      <td style=\"border: 1px solid #ddd; padding: 8px;\">89402.777</td>\n",
    "      <td style=\"border: 1px solid #ddd; padding: 8px;\">89381.443</td>\n",
    "      <td style=\"border: 1px solid #ddd; padding: 8px;\">0.10</td>\n",
    "      <td style=\"border: 1px solid #ddd; padding: 8px; color: green;\">0.76</td>\n",
    "    </tr>\n",
    "    <tr>\n",
    "      <td style=\"border: 1px solid #ddd; padding: 8px; background-color: #3f8db1;\">AR(4)</td>\n",
    "      <td style=\"border: 1px solid #ddd; padding: 8px; background-color: #3f8db1;\">-44664.897</td>\n",
    "      <td style=\"border: 1px solid #ddd; padding: 8px; background-color: #3f8db1;\">89341.793</td>\n",
    "      <td style=\"border: 1px solid #ddd; padding: 8px; background-color: #3f8db1;\">89381.160</td>\n",
    "      <td style=\"border: 1px solid #ddd; padding: 8px; background-color: #3f8db1;\">89355.560</td>\n",
    "      <td style=\"border: 1px solid #ddd; padding: 8px; background-color: #3f8db1;\">0.19</td>\n",
    "      <td style=\"border: 1px solid #ddd; padding: 8px; background-color: #3f8db1; color: green;\">0.66</td>\n",
    "    </tr>\n",
    "    <tr>\n",
    "      <td style=\"border: 1px solid #ddd; padding: 8px;\">AR(5)</td>\n",
    "      <td style=\"border: 1px solid #ddd; padding: 8px;\">-44647.892</td>\n",
    "      <td style=\"border: 1px solid #ddd; padding: 8px;\">89309.783</td>\n",
    "      <td style=\"border: 1px solid #ddd; padding: 8px;\">89355.712</td>\n",
    "      <td style=\"border: 1px solid #ddd; padding: 8px;\">89325.845</td>\n",
    "      <td style=\"border: 1px solid #ddd; padding: 8px;\">6.16</td>\n",
    "      <td style=\"border: 1px solid #ddd; padding: 8px; color: red;\">0.01</td>\n",
    "    </tr>\n",
    "    <tr>\n",
    "      <td style=\"border: 1px solid #ddd; padding: 8px; background-color: #3f8db1;\">AR(6)</td>\n",
    "      <td style=\"border: 1px solid #ddd; padding: 8px; background-color: #3f8db1;\">-44126.159</td>\n",
    "      <td style=\"border: 1px solid #ddd; padding: 8px; background-color: #3f8db1;\">88268.318</td>\n",
    "      <td style=\"border: 1px solid #ddd; padding: 8px; background-color: #3f8db1;\">88320.808</td>\n",
    "      <td style=\"border: 1px solid #ddd; padding: 8px; background-color: #3f8db1;\">88286.674</td>\n",
    "      <td style=\"border: 1px solid #ddd; padding: 8px; background-color: #3f8db1;\">0.00</td>\n",
    "      <td style=\"border: 1px solid #ddd; padding: 8px; background-color: #3f8db1; color: green;\">0.99</td>\n",
    "    </tr>\n",
    "    <tr>\n",
    "      <td style=\"border: 1px solid #ddd; padding: 8px;\">AR(11)</td>\n",
    "      <td style=\"border: 1px solid #ddd; padding: 8px;\">-43934.948</td>\n",
    "      <td style=\"border: 1px solid #ddd; padding: 8px;\">87895.896</td>\n",
    "      <td style=\"border: 1px solid #ddd; padding: 8px;\">87981.192</td>\n",
    "      <td style=\"border: 1px solid #ddd; padding: 8px;\">87925.725</td>\n",
    "      <td style=\"border: 1px solid #ddd; padding: 8px;\">0.90</td>\n",
    "      <td style=\"border: 1px solid #ddd; padding: 8px; color: green;\">0.34</td>\n",
    "    </tr>\n",
    "  </tbody>\n",
    "</table>\n",
    "</html>\n"
   ]
  },
  {
   "cell_type": "markdown",
   "id": "a98c0a56",
   "metadata": {},
   "source": [
    "### Conclusión\n",
    "\n",
    "#### Resumen de selección de modelos AR(4) y AR(6)\n",
    "\n",
    "Los dos modelos ARIMA marcados en la tabla comparativa representan opciones óptimas pero con diferentes fortalezas:\n",
    "\n",
    "#### Modelo AR(4)\n",
    "- **Significancia estadística completa**: Todos sus coeficientes son estadísticamente significativos (p<0.05)\n",
    "- **Parsimonia**: Utiliza menos parámetros, reduciendo el riesgo de sobreajuste\n",
    "- **Diagnóstico adecuado**: Presenta buenos resultados en la prueba Ljung-Box (Q=0.19, p=0.66), indicando que los residuales no tienen autocorrelación significativa\n",
    "- **Ideal para contextos académicos**: Donde la significancia de todos los parámetros es habitualmente exigida\n",
    "\n",
    "#### Modelo AR(6)\n",
    "- **Ajuste superior**: Muestra una mejora dramática en todos los criterios de información (AIC, BIC, HQIC)\n",
    "- **Diagnóstico excepcional**: Con un p-valor de 0.99 en la prueba Ljung-Box, es prácticamente perfecto en la eliminación de autocorrelación residual\n",
    "- **Un coeficiente no significativo**: El parámetro ar.L3 (p=0.317) no es estadísticamente significativo\n",
    "- **Ideal para predicciones prácticas**: Donde el rendimiento predictivo podría superar consideraciones de significancia estadística\n",
    "\n",
    "### Selección\n",
    "Nuestra elección final radica en utilizar un modelo lo mas simple y completo. El AR(4) satisface criterios estadísticos estrictos."
   ]
  },
  {
   "cell_type": "code",
   "execution_count": null,
   "id": "712d45f3",
   "metadata": {},
   "outputs": [],
   "source": []
  }
 ],
 "metadata": {
  "kernelspec": {
   "display_name": "ast-env",
   "language": "python",
   "name": "python3"
  },
  "language_info": {
   "codemirror_mode": {
    "name": "ipython",
    "version": 3
   },
   "file_extension": ".py",
   "mimetype": "text/x-python",
   "name": "python",
   "nbconvert_exporter": "python",
   "pygments_lexer": "ipython3",
   "version": "3.10.16"
  }
 },
 "nbformat": 4,
 "nbformat_minor": 5
}
